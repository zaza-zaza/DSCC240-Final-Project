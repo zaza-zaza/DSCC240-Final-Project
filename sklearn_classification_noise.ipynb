{
 "cells": [
  {
   "cell_type": "code",
   "execution_count": null,
   "metadata": {
    "ExecuteTime": {
     "end_time": "2024-04-18T02:08:47.876519Z",
     "start_time": "2024-04-18T02:08:43.211107Z"
    }
   },
   "outputs": [],
   "source": [
    "!pip install gower\n",
    "!pip install xgboost"
   ]
  },
  {
   "cell_type": "code",
   "execution_count": 121,
   "metadata": {
    "ExecuteTime": {
     "end_time": "2024-04-18T02:08:47.884375Z",
     "start_time": "2024-04-18T02:08:47.878641Z"
    }
   },
   "outputs": [],
   "source": [
    "import pandas as pd\n",
    "import numpy as np\n",
    "# visual\n",
    "import matplotlib.pyplot as plt\n",
    "import seaborn as sns\n",
    "\n",
    "# sklearn\n",
    "from sklearn.metrics import confusion_matrix, rand_score, accuracy_score\n",
    "from sklearn.model_selection import train_test_split\n",
    "from sklearn.tree import DecisionTreeClassifier\n",
    "from sklearn.ensemble import RandomForestClassifier\n",
    "from sklearn.naive_bayes import CategoricalNB, GaussianNB, MultinomialNB\n",
    "from sklearn import metrics\n",
    "from sklearn.model_selection import GridSearchCV\n",
    "from sklearn.experimental import enable_halving_search_cv\n",
    "from sklearn.model_selection import HalvingGridSearchCV\n",
    "from sklearn.metrics import classification_report\n",
    "from sklearn.svm import SVC\n",
    "from sklearn.svm import NuSVC\n",
    "\n"
   ]
  },
  {
   "cell_type": "markdown",
   "metadata": {},
   "source": [
    "## Import Data"
   ]
  },
  {
   "cell_type": "code",
   "execution_count": 122,
   "metadata": {
    "ExecuteTime": {
     "end_time": "2024-04-18T02:23:27.782462Z",
     "start_time": "2024-04-18T02:23:27.763011Z"
    }
   },
   "outputs": [],
   "source": [
    "lst_str_cols = ['move']\n",
    "dict_dtypes = {x: 'str' for x in lst_str_cols}\n",
    "data = pd.read_csv('preprocessed_encoded_rocket_league_skillshots.csv', dtype=dict_dtypes)\n",
    "df = pd.DataFrame(data = data)\n",
    "df = df.drop(['Unnamed: 0', 'goal'], axis = 1)"
   ]
  },
  {
   "cell_type": "code",
   "execution_count": 123,
   "metadata": {
    "ExecuteTime": {
     "end_time": "2024-04-18T02:23:38.739115Z",
     "start_time": "2024-04-18T02:23:38.724589Z"
    }
   },
   "outputs": [
    {
     "data": {
      "text/html": [
       "<div>\n",
       "<style scoped>\n",
       "    .dataframe tbody tr th:only-of-type {\n",
       "        vertical-align: middle;\n",
       "    }\n",
       "\n",
       "    .dataframe tbody tr th {\n",
       "        vertical-align: top;\n",
       "    }\n",
       "\n",
       "    .dataframe thead th {\n",
       "        text-align: right;\n",
       "    }\n",
       "</style>\n",
       "<table border=\"1\" class=\"dataframe\">\n",
       "  <thead>\n",
       "    <tr style=\"text-align: right;\">\n",
       "      <th></th>\n",
       "      <th>BallAcceleration</th>\n",
       "      <th>Time</th>\n",
       "      <th>DistanceWall</th>\n",
       "      <th>DistanceCeil</th>\n",
       "      <th>DistanceBall</th>\n",
       "      <th>PlayerSpeed</th>\n",
       "      <th>BallSpeed</th>\n",
       "      <th>Class</th>\n",
       "      <th>move</th>\n",
       "    </tr>\n",
       "  </thead>\n",
       "  <tbody>\n",
       "    <tr>\n",
       "      <th>0</th>\n",
       "      <td>0.522863</td>\n",
       "      <td>0.000000</td>\n",
       "      <td>0.012304</td>\n",
       "      <td>0.498257</td>\n",
       "      <td>0.025869</td>\n",
       "      <td>0.453272</td>\n",
       "      <td>0.300277</td>\n",
       "      <td>5</td>\n",
       "      <td>3</td>\n",
       "    </tr>\n",
       "    <tr>\n",
       "      <th>1</th>\n",
       "      <td>0.525408</td>\n",
       "      <td>0.010311</td>\n",
       "      <td>0.012290</td>\n",
       "      <td>0.498257</td>\n",
       "      <td>0.018490</td>\n",
       "      <td>0.540155</td>\n",
       "      <td>0.309974</td>\n",
       "      <td>5</td>\n",
       "      <td>22</td>\n",
       "    </tr>\n",
       "    <tr>\n",
       "      <th>2</th>\n",
       "      <td>0.520195</td>\n",
       "      <td>0.012889</td>\n",
       "      <td>0.012290</td>\n",
       "      <td>0.498257</td>\n",
       "      <td>0.019278</td>\n",
       "      <td>0.540155</td>\n",
       "      <td>0.312201</td>\n",
       "      <td>5</td>\n",
       "      <td>18</td>\n",
       "    </tr>\n",
       "    <tr>\n",
       "      <th>3</th>\n",
       "      <td>0.536357</td>\n",
       "      <td>0.023200</td>\n",
       "      <td>0.012311</td>\n",
       "      <td>0.498257</td>\n",
       "      <td>0.010238</td>\n",
       "      <td>0.501020</td>\n",
       "      <td>0.342262</td>\n",
       "      <td>5</td>\n",
       "      <td>2</td>\n",
       "    </tr>\n",
       "    <tr>\n",
       "      <th>4</th>\n",
       "      <td>0.529825</td>\n",
       "      <td>0.046400</td>\n",
       "      <td>0.012387</td>\n",
       "      <td>0.498262</td>\n",
       "      <td>0.010521</td>\n",
       "      <td>0.543821</td>\n",
       "      <td>0.360175</td>\n",
       "      <td>5</td>\n",
       "      <td>3</td>\n",
       "    </tr>\n",
       "  </tbody>\n",
       "</table>\n",
       "</div>"
      ],
      "text/plain": [
       "   BallAcceleration      Time  DistanceWall  DistanceCeil  DistanceBall  \\\n",
       "0          0.522863  0.000000      0.012304      0.498257      0.025869   \n",
       "1          0.525408  0.010311      0.012290      0.498257      0.018490   \n",
       "2          0.520195  0.012889      0.012290      0.498257      0.019278   \n",
       "3          0.536357  0.023200      0.012311      0.498257      0.010238   \n",
       "4          0.529825  0.046400      0.012387      0.498262      0.010521   \n",
       "\n",
       "   PlayerSpeed  BallSpeed  Class move  \n",
       "0     0.453272   0.300277      5    3  \n",
       "1     0.540155   0.309974      5   22  \n",
       "2     0.540155   0.312201      5   18  \n",
       "3     0.501020   0.342262      5    2  \n",
       "4     0.543821   0.360175      5    3  "
      ]
     },
     "execution_count": 123,
     "metadata": {},
     "output_type": "execute_result"
    }
   ],
   "source": [
    "df.head()"
   ]
  },
  {
   "cell_type": "code",
   "execution_count": 124,
   "metadata": {
    "ExecuteTime": {
     "end_time": "2024-04-18T02:23:39.740028Z",
     "start_time": "2024-04-18T02:23:39.733458Z"
    }
   },
   "outputs": [
    {
     "data": {
      "text/plain": [
       "dtype('int64')"
      ]
     },
     "execution_count": 124,
     "metadata": {},
     "output_type": "execute_result"
    }
   ],
   "source": [
    "df['move'] = df[\"move\"].astype(\"int\")\n",
    "df['move'].dtypes"
   ]
  },
  {
   "cell_type": "code",
   "execution_count": 125,
   "metadata": {
    "ExecuteTime": {
     "end_time": "2024-04-18T02:23:42.341863Z",
     "start_time": "2024-04-18T02:23:42.038939Z"
    }
   },
   "outputs": [
    {
     "data": {
      "image/png": "[encoded data removed]",
      "text/plain": [
       "<Figure size 720x432 with 1 Axes>"
      ]
     },
     "metadata": {},
     "output_type": "display_data"
    }
   ],
   "source": [
    "# Plotting the histogram of the frequency of each class including -1\n",
    "plt.figure(figsize=(10, 6))\n",
    "df['Class'].value_counts().sort_index().plot(kind='bar', color='skyblue')\n",
    "plt.title('Frequency of Each Class')\n",
    "plt.xlabel('Class')\n",
    "plt.ylabel('Frequency')\n",
    "plt.xticks(rotation=0)  # Keep the class labels horizontal for better readability\n",
    "plt.grid(axis='y', linestyle='--', alpha=0.7)\n",
    "plt.show()\n"
   ]
  },
  {
   "cell_type": "code",
   "execution_count": 126,
   "metadata": {
    "ExecuteTime": {
     "end_time": "2024-04-18T02:23:43.878733Z",
     "start_time": "2024-04-18T02:23:43.874998Z"
    }
   },
   "outputs": [],
   "source": [
    "df_no_target = df.drop(columns=['Class'])"
   ]
  },
  {
   "cell_type": "markdown",
   "metadata": {},
   "source": [
    "# Classification with outliers"
   ]
  },
  {
   "cell_type": "code",
   "execution_count": 127,
   "metadata": {
    "ExecuteTime": {
     "end_time": "2024-04-18T02:23:45.257483Z",
     "start_time": "2024-04-18T02:23:45.242640Z"
    }
   },
   "outputs": [
    {
     "data": {
      "text/html": [
       "<div>\n",
       "<style scoped>\n",
       "    .dataframe tbody tr th:only-of-type {\n",
       "        vertical-align: middle;\n",
       "    }\n",
       "\n",
       "    .dataframe tbody tr th {\n",
       "        vertical-align: top;\n",
       "    }\n",
       "\n",
       "    .dataframe thead th {\n",
       "        text-align: right;\n",
       "    }\n",
       "</style>\n",
       "<table border=\"1\" class=\"dataframe\">\n",
       "  <thead>\n",
       "    <tr style=\"text-align: right;\">\n",
       "      <th></th>\n",
       "      <th>BallAcceleration</th>\n",
       "      <th>Time</th>\n",
       "      <th>DistanceWall</th>\n",
       "      <th>DistanceCeil</th>\n",
       "      <th>DistanceBall</th>\n",
       "      <th>PlayerSpeed</th>\n",
       "      <th>BallSpeed</th>\n",
       "      <th>move</th>\n",
       "    </tr>\n",
       "  </thead>\n",
       "  <tbody>\n",
       "    <tr>\n",
       "      <th>0</th>\n",
       "      <td>0.522863</td>\n",
       "      <td>0.000000</td>\n",
       "      <td>0.012304</td>\n",
       "      <td>0.498257</td>\n",
       "      <td>0.025869</td>\n",
       "      <td>0.453272</td>\n",
       "      <td>0.300277</td>\n",
       "      <td>3</td>\n",
       "    </tr>\n",
       "    <tr>\n",
       "      <th>1</th>\n",
       "      <td>0.525408</td>\n",
       "      <td>0.010311</td>\n",
       "      <td>0.012290</td>\n",
       "      <td>0.498257</td>\n",
       "      <td>0.018490</td>\n",
       "      <td>0.540155</td>\n",
       "      <td>0.309974</td>\n",
       "      <td>22</td>\n",
       "    </tr>\n",
       "    <tr>\n",
       "      <th>2</th>\n",
       "      <td>0.520195</td>\n",
       "      <td>0.012889</td>\n",
       "      <td>0.012290</td>\n",
       "      <td>0.498257</td>\n",
       "      <td>0.019278</td>\n",
       "      <td>0.540155</td>\n",
       "      <td>0.312201</td>\n",
       "      <td>18</td>\n",
       "    </tr>\n",
       "    <tr>\n",
       "      <th>3</th>\n",
       "      <td>0.536357</td>\n",
       "      <td>0.023200</td>\n",
       "      <td>0.012311</td>\n",
       "      <td>0.498257</td>\n",
       "      <td>0.010238</td>\n",
       "      <td>0.501020</td>\n",
       "      <td>0.342262</td>\n",
       "      <td>2</td>\n",
       "    </tr>\n",
       "    <tr>\n",
       "      <th>4</th>\n",
       "      <td>0.529825</td>\n",
       "      <td>0.046400</td>\n",
       "      <td>0.012387</td>\n",
       "      <td>0.498262</td>\n",
       "      <td>0.010521</td>\n",
       "      <td>0.543821</td>\n",
       "      <td>0.360175</td>\n",
       "      <td>3</td>\n",
       "    </tr>\n",
       "  </tbody>\n",
       "</table>\n",
       "</div>"
      ],
      "text/plain": [
       "   BallAcceleration      Time  DistanceWall  DistanceCeil  DistanceBall  \\\n",
       "0          0.522863  0.000000      0.012304      0.498257      0.025869   \n",
       "1          0.525408  0.010311      0.012290      0.498257      0.018490   \n",
       "2          0.520195  0.012889      0.012290      0.498257      0.019278   \n",
       "3          0.536357  0.023200      0.012311      0.498257      0.010238   \n",
       "4          0.529825  0.046400      0.012387      0.498262      0.010521   \n",
       "\n",
       "   PlayerSpeed  BallSpeed  move  \n",
       "0     0.453272   0.300277     3  \n",
       "1     0.540155   0.309974    22  \n",
       "2     0.540155   0.312201    18  \n",
       "3     0.501020   0.342262     2  \n",
       "4     0.543821   0.360175     3  "
      ]
     },
     "execution_count": 127,
     "metadata": {},
     "output_type": "execute_result"
    }
   ],
   "source": [
    "df_target = df[['Class']]\n",
    "df_no_target.head()"
   ]
  },
  {
   "cell_type": "code",
   "execution_count": 128,
   "metadata": {
    "ExecuteTime": {
     "end_time": "2024-04-18T02:23:46.738263Z",
     "start_time": "2024-04-18T02:23:46.735614Z"
    }
   },
   "outputs": [],
   "source": [
    "# train test split data 80%-20%\n",
    "\n",
    "X = df_no_target\n",
    "y = df['Class']"
   ]
  },
  {
   "cell_type": "code",
   "execution_count": 129,
   "metadata": {
    "ExecuteTime": {
     "end_time": "2024-04-18T02:23:48.063866Z",
     "start_time": "2024-04-18T02:23:48.057750Z"
    }
   },
   "outputs": [],
   "source": [
    "X_train, X_test, y_train, y_test = train_test_split(X, y, test_size=0.2, random_state=0)"
   ]
  },
  {
   "cell_type": "markdown",
   "metadata": {},
   "source": [
    "## Decision Tree Classifier"
   ]
  },
  {
   "cell_type": "markdown",
   "metadata": {},
   "source": [
    "### Testing parameters for DTC"
   ]
  },
  {
   "cell_type": "code",
   "execution_count": 130,
   "metadata": {
    "ExecuteTime": {
     "end_time": "2024-04-18T02:23:57.889239Z",
     "start_time": "2024-04-18T02:23:49.919020Z"
    }
   },
   "outputs": [
    {
     "name": "stdout",
     "output_type": "stream",
     "text": [
      "Fitting 3 folds for each of 432 candidates, totalling 1296 fits\n"
     ]
    },
    {
     "data": {
      "text/plain": [
       "GridSearchCV(cv=3, error_score='raise', estimator=DecisionTreeClassifier(),\n",
       "             n_jobs=-1,\n",
       "             param_grid={'criterion': ['gini', 'entropy'],\n",
       "                         'max_depth': [1, 10, 100, 300, 500, 1000],\n",
       "                         'min_samples_leaf': [1, 10, 100, 300, 500, 1000],\n",
       "                         'min_samples_split': [1.0, 10, 100, 300, 500, 1000]},\n",
       "             verbose=3)"
      ]
     },
     "execution_count": 130,
     "metadata": {},
     "output_type": "execute_result"
    }
   ],
   "source": [
    "param_grid = {\n",
    "    'criterion': ['gini', 'entropy'],\n",
    "    'max_depth': [1, 10, 100, 300, 500, 1000],\n",
    "    'min_samples_split': [1.0, 10, 100, 300, 500, 1000],\n",
    "    'min_samples_leaf': [1, 10, 100, 300, 500, 1000]\n",
    "}\n",
    "\n",
    "grid = GridSearchCV(DecisionTreeClassifier(), param_grid, refit = True, verbose = 3, cv=3, n_jobs = -1, error_score='raise')\n",
    "\n",
    "# fitting the model for grid search \n",
    "grid.fit(X_train, y_train)"
   ]
  },
  {
   "cell_type": "code",
   "execution_count": 132,
   "metadata": {
    "ExecuteTime": {
     "end_time": "2024-04-18T02:24:14.682623Z",
     "start_time": "2024-04-18T02:24:14.656048Z"
    }
   },
   "outputs": [
    {
     "data": {
      "text/html": [
       "<div>\n",
       "<style scoped>\n",
       "    .dataframe tbody tr th:only-of-type {\n",
       "        vertical-align: middle;\n",
       "    }\n",
       "\n",
       "    .dataframe tbody tr th {\n",
       "        vertical-align: top;\n",
       "    }\n",
       "\n",
       "    .dataframe thead th {\n",
       "        text-align: right;\n",
       "    }\n",
       "</style>\n",
       "<table border=\"1\" class=\"dataframe\">\n",
       "  <thead>\n",
       "    <tr style=\"text-align: right;\">\n",
       "      <th></th>\n",
       "      <th>mean_fit_time</th>\n",
       "      <th>std_fit_time</th>\n",
       "      <th>mean_score_time</th>\n",
       "      <th>std_score_time</th>\n",
       "      <th>param_criterion</th>\n",
       "      <th>param_max_depth</th>\n",
       "      <th>param_min_samples_leaf</th>\n",
       "      <th>param_min_samples_split</th>\n",
       "      <th>params</th>\n",
       "      <th>split0_test_score</th>\n",
       "      <th>split1_test_score</th>\n",
       "      <th>split2_test_score</th>\n",
       "      <th>mean_test_score</th>\n",
       "      <th>std_test_score</th>\n",
       "      <th>rank_test_score</th>\n",
       "    </tr>\n",
       "  </thead>\n",
       "  <tbody>\n",
       "    <tr>\n",
       "      <th>216</th>\n",
       "      <td>0.030516</td>\n",
       "      <td>0.012329</td>\n",
       "      <td>0.003153</td>\n",
       "      <td>0.000124</td>\n",
       "      <td>entropy</td>\n",
       "      <td>1</td>\n",
       "      <td>1</td>\n",
       "      <td>1</td>\n",
       "      <td>{'criterion': 'entropy', 'max_depth': 1, 'min_...</td>\n",
       "      <td>0.347661</td>\n",
       "      <td>0.348205</td>\n",
       "      <td>0.340229</td>\n",
       "      <td>0.345365</td>\n",
       "      <td>0.003638</td>\n",
       "      <td>367</td>\n",
       "    </tr>\n",
       "    <tr>\n",
       "      <th>217</th>\n",
       "      <td>0.021451</td>\n",
       "      <td>0.000052</td>\n",
       "      <td>0.003223</td>\n",
       "      <td>0.000090</td>\n",
       "      <td>entropy</td>\n",
       "      <td>1</td>\n",
       "      <td>1</td>\n",
       "      <td>10</td>\n",
       "      <td>{'criterion': 'entropy', 'max_depth': 1, 'min_...</td>\n",
       "      <td>0.347661</td>\n",
       "      <td>0.348205</td>\n",
       "      <td>0.340229</td>\n",
       "      <td>0.345365</td>\n",
       "      <td>0.003638</td>\n",
       "      <td>367</td>\n",
       "    </tr>\n",
       "    <tr>\n",
       "      <th>218</th>\n",
       "      <td>0.021681</td>\n",
       "      <td>0.000114</td>\n",
       "      <td>0.003205</td>\n",
       "      <td>0.000140</td>\n",
       "      <td>entropy</td>\n",
       "      <td>1</td>\n",
       "      <td>1</td>\n",
       "      <td>100</td>\n",
       "      <td>{'criterion': 'entropy', 'max_depth': 1, 'min_...</td>\n",
       "      <td>0.347661</td>\n",
       "      <td>0.348205</td>\n",
       "      <td>0.340229</td>\n",
       "      <td>0.345365</td>\n",
       "      <td>0.003638</td>\n",
       "      <td>367</td>\n",
       "    </tr>\n",
       "    <tr>\n",
       "      <th>219</th>\n",
       "      <td>0.021250</td>\n",
       "      <td>0.000015</td>\n",
       "      <td>0.003152</td>\n",
       "      <td>0.000126</td>\n",
       "      <td>entropy</td>\n",
       "      <td>1</td>\n",
       "      <td>1</td>\n",
       "      <td>300</td>\n",
       "      <td>{'criterion': 'entropy', 'max_depth': 1, 'min_...</td>\n",
       "      <td>0.347661</td>\n",
       "      <td>0.348205</td>\n",
       "      <td>0.340229</td>\n",
       "      <td>0.345365</td>\n",
       "      <td>0.003638</td>\n",
       "      <td>367</td>\n",
       "    </tr>\n",
       "    <tr>\n",
       "      <th>220</th>\n",
       "      <td>0.021348</td>\n",
       "      <td>0.000100</td>\n",
       "      <td>0.003176</td>\n",
       "      <td>0.000033</td>\n",
       "      <td>entropy</td>\n",
       "      <td>1</td>\n",
       "      <td>1</td>\n",
       "      <td>500</td>\n",
       "      <td>{'criterion': 'entropy', 'max_depth': 1, 'min_...</td>\n",
       "      <td>0.347661</td>\n",
       "      <td>0.348205</td>\n",
       "      <td>0.340229</td>\n",
       "      <td>0.345365</td>\n",
       "      <td>0.003638</td>\n",
       "      <td>367</td>\n",
       "    </tr>\n",
       "  </tbody>\n",
       "</table>\n",
       "</div>"
      ],
      "text/plain": [
       "     mean_fit_time  std_fit_time  mean_score_time  std_score_time  \\\n",
       "216       0.030516      0.012329         0.003153        0.000124   \n",
       "217       0.021451      0.000052         0.003223        0.000090   \n",
       "218       0.021681      0.000114         0.003205        0.000140   \n",
       "219       0.021250      0.000015         0.003152        0.000126   \n",
       "220       0.021348      0.000100         0.003176        0.000033   \n",
       "\n",
       "    param_criterion param_max_depth param_min_samples_leaf  \\\n",
       "216         entropy               1                      1   \n",
       "217         entropy               1                      1   \n",
       "218         entropy               1                      1   \n",
       "219         entropy               1                      1   \n",
       "220         entropy               1                      1   \n",
       "\n",
       "    param_min_samples_split  \\\n",
       "216                       1   \n",
       "217                      10   \n",
       "218                     100   \n",
       "219                     300   \n",
       "220                     500   \n",
       "\n",
       "                                                params  split0_test_score  \\\n",
       "216  {'criterion': 'entropy', 'max_depth': 1, 'min_...           0.347661   \n",
       "217  {'criterion': 'entropy', 'max_depth': 1, 'min_...           0.347661   \n",
       "218  {'criterion': 'entropy', 'max_depth': 1, 'min_...           0.347661   \n",
       "219  {'criterion': 'entropy', 'max_depth': 1, 'min_...           0.347661   \n",
       "220  {'criterion': 'entropy', 'max_depth': 1, 'min_...           0.347661   \n",
       "\n",
       "     split1_test_score  split2_test_score  mean_test_score  std_test_score  \\\n",
       "216           0.348205           0.340229         0.345365        0.003638   \n",
       "217           0.348205           0.340229         0.345365        0.003638   \n",
       "218           0.348205           0.340229         0.345365        0.003638   \n",
       "219           0.348205           0.340229         0.345365        0.003638   \n",
       "220           0.348205           0.340229         0.345365        0.003638   \n",
       "\n",
       "     rank_test_score  \n",
       "216              367  \n",
       "217              367  \n",
       "218              367  \n",
       "219              367  \n",
       "220              367  "
      ]
     },
     "execution_count": 132,
     "metadata": {},
     "output_type": "execute_result"
    }
   ],
   "source": [
    "df_grid_dt = pd.DataFrame(grid.cv_results_)\n",
    "df_grid_dt.nlargest(5, ['rank_test_score'])"
   ]
  },
  {
   "cell_type": "code",
   "execution_count": 133,
   "metadata": {
    "ExecuteTime": {
     "end_time": "2024-04-18T02:24:16.074308Z",
     "start_time": "2024-04-18T02:24:16.070842Z"
    }
   },
   "outputs": [
    {
     "name": "stdout",
     "output_type": "stream",
     "text": [
      "{'criterion': 'gini', 'max_depth': 1000, 'min_samples_leaf': 1, 'min_samples_split': 10}\n",
      "DecisionTreeClassifier(max_depth=1000, min_samples_split=10)\n"
     ]
    }
   ],
   "source": [
    "print(grid.best_params_)\n",
    "print(grid.best_estimator_)"
   ]
  },
  {
   "cell_type": "code",
   "execution_count": 134,
   "metadata": {
    "ExecuteTime": {
     "end_time": "2024-04-18T02:24:20.669827Z",
     "start_time": "2024-04-18T02:24:20.651929Z"
    }
   },
   "outputs": [
    {
     "name": "stdout",
     "output_type": "stream",
     "text": [
      "              precision    recall  f1-score   support\n",
      "\n",
      "           0       0.51      0.54      0.52       213\n",
      "           1       0.75      0.76      0.75       209\n",
      "           2       0.77      0.73      0.75       221\n",
      "           3       0.78      0.81      0.80        96\n",
      "           4       0.80      0.76      0.78       327\n",
      "           5       0.55      0.60      0.57       173\n",
      "           6       0.52      0.51      0.51       140\n",
      "\n",
      "    accuracy                           0.68      1379\n",
      "   macro avg       0.67      0.67      0.67      1379\n",
      "weighted avg       0.68      0.68      0.68      1379\n",
      "\n"
     ]
    }
   ],
   "source": [
    "grid_predictions = grid.predict(X_test)\n",
    "print(classification_report(y_test, grid_predictions))"
   ]
  },
  {
   "cell_type": "code",
   "execution_count": 135,
   "metadata": {
    "ExecuteTime": {
     "end_time": "2024-04-18T02:24:24.655037Z",
     "start_time": "2024-04-18T02:24:24.649731Z"
    }
   },
   "outputs": [],
   "source": [
    "cm = confusion_matrix(y_test, grid_predictions)"
   ]
  },
  {
   "cell_type": "code",
   "execution_count": 136,
   "metadata": {
    "ExecuteTime": {
     "end_time": "2024-04-18T02:24:25.523837Z",
     "start_time": "2024-04-18T02:24:25.520677Z"
    }
   },
   "outputs": [],
   "source": [
    "cm_graph = metrics.ConfusionMatrixDisplay(confusion_matrix = cm)"
   ]
  },
  {
   "cell_type": "code",
   "execution_count": 137,
   "metadata": {
    "ExecuteTime": {
     "end_time": "2024-04-18T02:24:27.346539Z",
     "start_time": "2024-04-18T02:24:26.413374Z"
    }
   },
   "outputs": [
    {
     "data": {
      "image/png": "[encoded data removed]",
      "text/plain": [
       "<Figure size 432x288 with 2 Axes>"
      ]
     },
     "metadata": {},
     "output_type": "display_data"
    }
   ],
   "source": [
    "cm_graph.plot()\n",
    "plt.show()"
   ]
  },
  {
   "cell_type": "markdown",
   "metadata": {},
   "source": [
    "## Random Forest Classifier"
   ]
  },
  {
   "cell_type": "markdown",
   "metadata": {},
   "source": [
    "### Testing parameters"
   ]
  },
  {
   "cell_type": "code",
   "execution_count": 140,
   "metadata": {
    "ExecuteTime": {
     "end_time": "2024-04-18T02:24:35.233141Z",
     "start_time": "2024-04-18T02:24:35.229036Z"
    }
   },
   "outputs": [],
   "source": [
    "### Testing parameters for RFC\n",
    "param_grid = {\n",
    "    'criterion': ['gini', 'entropy'],\n",
    "    'max_depth': [1, 10, 100, 1000],\n",
    "    'min_samples_split': [1.0, 10, 100, 1000],\n",
    "    'min_samples_leaf': [1, 10, 100, 1000]\n",
    "}"
   ]
  },
  {
   "cell_type": "code",
   "execution_count": 141,
   "metadata": {
    "ExecuteTime": {
     "end_time": "2024-04-18T02:24:55.237695Z",
     "start_time": "2024-04-18T02:24:36.391611Z"
    }
   },
   "outputs": [
    {
     "name": "stdout",
     "output_type": "stream",
     "text": [
      "n_iterations: 5\n",
      "n_required_iterations: 5\n",
      "n_possible_iterations: 5\n",
      "min_resources_: 68\n",
      "max_resources_: 5513\n",
      "aggressive_elimination: False\n",
      "factor: 3\n",
      "----------\n",
      "iter: 0\n",
      "n_candidates: 128\n",
      "n_resources: 68\n",
      "Fitting 3 folds for each of 128 candidates, totalling 384 fits\n",
      "----------\n",
      "iter: 1\n",
      "n_candidates: 43\n",
      "n_resources: 204\n",
      "Fitting 3 folds for each of 43 candidates, totalling 129 fits\n",
      "----------\n",
      "iter: 2\n",
      "n_candidates: 15\n",
      "n_resources: 612\n",
      "Fitting 3 folds for each of 15 candidates, totalling 45 fits\n",
      "----------\n",
      "iter: 3\n",
      "n_candidates: 5\n",
      "n_resources: 1836\n",
      "Fitting 3 folds for each of 5 candidates, totalling 15 fits\n",
      "----------\n",
      "iter: 4\n",
      "n_candidates: 2\n",
      "n_resources: 5508\n",
      "Fitting 3 folds for each of 2 candidates, totalling 6 fits\n",
      "CPU times: user 6.2 s, sys: 266 ms, total: 6.47 s\n",
      "Wall time: 20 s\n"
     ]
    },
    {
     "data": {
      "text/plain": [
       "HalvingGridSearchCV(cv=3, error_score='raise',\n",
       "                    estimator=RandomForestClassifier(), n_jobs=-1,\n",
       "                    param_grid={'criterion': ['gini', 'entropy'],\n",
       "                                'max_depth': [1, 10, 100, 1000],\n",
       "                                'min_samples_leaf': [1, 10, 100, 1000],\n",
       "                                'min_samples_split': [1.0, 10, 100, 1000]},\n",
       "                    refit=<function _refit_callable at 0x2b04a9533048>,\n",
       "                    scoring='accuracy', verbose=3)"
      ]
     },
     "execution_count": 141,
     "metadata": {},
     "output_type": "execute_result"
    }
   ],
   "source": [
    "grid = HalvingGridSearchCV(RandomForestClassifier(), param_grid, refit=True, verbose=3, cv=3, n_jobs=-1, scoring='accuracy', error_score='raise')\n",
    "%time grid.fit(X_train, y_train)"
   ]
  },
  {
   "cell_type": "code",
   "execution_count": 142,
   "metadata": {
    "ExecuteTime": {
     "end_time": "2024-04-18T02:25:19.581454Z",
     "start_time": "2024-04-18T02:25:19.555611Z"
    }
   },
   "outputs": [
    {
     "data": {
      "text/html": [
       "<div>\n",
       "<style scoped>\n",
       "    .dataframe tbody tr th:only-of-type {\n",
       "        vertical-align: middle;\n",
       "    }\n",
       "\n",
       "    .dataframe tbody tr th {\n",
       "        vertical-align: top;\n",
       "    }\n",
       "\n",
       "    .dataframe thead th {\n",
       "        text-align: right;\n",
       "    }\n",
       "</style>\n",
       "<table border=\"1\" class=\"dataframe\">\n",
       "  <thead>\n",
       "    <tr style=\"text-align: right;\">\n",
       "      <th></th>\n",
       "      <th>iter</th>\n",
       "      <th>n_resources</th>\n",
       "      <th>mean_fit_time</th>\n",
       "      <th>std_fit_time</th>\n",
       "      <th>mean_score_time</th>\n",
       "      <th>std_score_time</th>\n",
       "      <th>param_criterion</th>\n",
       "      <th>param_max_depth</th>\n",
       "      <th>param_min_samples_leaf</th>\n",
       "      <th>param_min_samples_split</th>\n",
       "      <th>...</th>\n",
       "      <th>split1_test_score</th>\n",
       "      <th>split2_test_score</th>\n",
       "      <th>mean_test_score</th>\n",
       "      <th>std_test_score</th>\n",
       "      <th>rank_test_score</th>\n",
       "      <th>split0_train_score</th>\n",
       "      <th>split1_train_score</th>\n",
       "      <th>split2_train_score</th>\n",
       "      <th>mean_train_score</th>\n",
       "      <th>std_train_score</th>\n",
       "    </tr>\n",
       "  </thead>\n",
       "  <tbody>\n",
       "    <tr>\n",
       "      <th>0</th>\n",
       "      <td>0</td>\n",
       "      <td>68</td>\n",
       "      <td>0.170381</td>\n",
       "      <td>0.000589</td>\n",
       "      <td>0.021257</td>\n",
       "      <td>0.002629</td>\n",
       "      <td>gini</td>\n",
       "      <td>1</td>\n",
       "      <td>1</td>\n",
       "      <td>1</td>\n",
       "      <td>...</td>\n",
       "      <td>0.136364</td>\n",
       "      <td>0.090909</td>\n",
       "      <td>0.151515</td>\n",
       "      <td>0.056692</td>\n",
       "      <td>84</td>\n",
       "      <td>0.288889</td>\n",
       "      <td>0.244444</td>\n",
       "      <td>0.222222</td>\n",
       "      <td>0.251852</td>\n",
       "      <td>0.027716</td>\n",
       "    </tr>\n",
       "    <tr>\n",
       "      <th>2</th>\n",
       "      <td>0</td>\n",
       "      <td>68</td>\n",
       "      <td>0.169145</td>\n",
       "      <td>0.000560</td>\n",
       "      <td>0.019422</td>\n",
       "      <td>0.000097</td>\n",
       "      <td>gini</td>\n",
       "      <td>1</td>\n",
       "      <td>1</td>\n",
       "      <td>100</td>\n",
       "      <td>...</td>\n",
       "      <td>0.136364</td>\n",
       "      <td>0.090909</td>\n",
       "      <td>0.151515</td>\n",
       "      <td>0.056692</td>\n",
       "      <td>84</td>\n",
       "      <td>0.288889</td>\n",
       "      <td>0.244444</td>\n",
       "      <td>0.222222</td>\n",
       "      <td>0.251852</td>\n",
       "      <td>0.027716</td>\n",
       "    </tr>\n",
       "    <tr>\n",
       "      <th>3</th>\n",
       "      <td>0</td>\n",
       "      <td>68</td>\n",
       "      <td>0.176201</td>\n",
       "      <td>0.007777</td>\n",
       "      <td>0.019490</td>\n",
       "      <td>0.000206</td>\n",
       "      <td>gini</td>\n",
       "      <td>1</td>\n",
       "      <td>1</td>\n",
       "      <td>1000</td>\n",
       "      <td>...</td>\n",
       "      <td>0.136364</td>\n",
       "      <td>0.090909</td>\n",
       "      <td>0.151515</td>\n",
       "      <td>0.056692</td>\n",
       "      <td>84</td>\n",
       "      <td>0.288889</td>\n",
       "      <td>0.244444</td>\n",
       "      <td>0.222222</td>\n",
       "      <td>0.251852</td>\n",
       "      <td>0.027716</td>\n",
       "    </tr>\n",
       "    <tr>\n",
       "      <th>4</th>\n",
       "      <td>0</td>\n",
       "      <td>68</td>\n",
       "      <td>0.171156</td>\n",
       "      <td>0.000806</td>\n",
       "      <td>0.019712</td>\n",
       "      <td>0.000274</td>\n",
       "      <td>gini</td>\n",
       "      <td>1</td>\n",
       "      <td>10</td>\n",
       "      <td>1</td>\n",
       "      <td>...</td>\n",
       "      <td>0.136364</td>\n",
       "      <td>0.090909</td>\n",
       "      <td>0.151515</td>\n",
       "      <td>0.056692</td>\n",
       "      <td>84</td>\n",
       "      <td>0.288889</td>\n",
       "      <td>0.244444</td>\n",
       "      <td>0.222222</td>\n",
       "      <td>0.251852</td>\n",
       "      <td>0.027716</td>\n",
       "    </tr>\n",
       "    <tr>\n",
       "      <th>6</th>\n",
       "      <td>0</td>\n",
       "      <td>68</td>\n",
       "      <td>0.177416</td>\n",
       "      <td>0.010567</td>\n",
       "      <td>0.019572</td>\n",
       "      <td>0.000127</td>\n",
       "      <td>gini</td>\n",
       "      <td>1</td>\n",
       "      <td>10</td>\n",
       "      <td>100</td>\n",
       "      <td>...</td>\n",
       "      <td>0.136364</td>\n",
       "      <td>0.090909</td>\n",
       "      <td>0.151515</td>\n",
       "      <td>0.056692</td>\n",
       "      <td>84</td>\n",
       "      <td>0.288889</td>\n",
       "      <td>0.244444</td>\n",
       "      <td>0.222222</td>\n",
       "      <td>0.251852</td>\n",
       "      <td>0.027716</td>\n",
       "    </tr>\n",
       "  </tbody>\n",
       "</table>\n",
       "<p>5 rows × 22 columns</p>\n",
       "</div>"
      ],
      "text/plain": [
       "   iter  n_resources  mean_fit_time  std_fit_time  mean_score_time  \\\n",
       "0     0           68       0.170381      0.000589         0.021257   \n",
       "2     0           68       0.169145      0.000560         0.019422   \n",
       "3     0           68       0.176201      0.007777         0.019490   \n",
       "4     0           68       0.171156      0.000806         0.019712   \n",
       "6     0           68       0.177416      0.010567         0.019572   \n",
       "\n",
       "   std_score_time param_criterion param_max_depth param_min_samples_leaf  \\\n",
       "0        0.002629            gini               1                      1   \n",
       "2        0.000097            gini               1                      1   \n",
       "3        0.000206            gini               1                      1   \n",
       "4        0.000274            gini               1                     10   \n",
       "6        0.000127            gini               1                     10   \n",
       "\n",
       "  param_min_samples_split  ... split1_test_score  split2_test_score  \\\n",
       "0                       1  ...          0.136364           0.090909   \n",
       "2                     100  ...          0.136364           0.090909   \n",
       "3                    1000  ...          0.136364           0.090909   \n",
       "4                       1  ...          0.136364           0.090909   \n",
       "6                     100  ...          0.136364           0.090909   \n",
       "\n",
       "   mean_test_score  std_test_score  rank_test_score  split0_train_score  \\\n",
       "0         0.151515        0.056692               84            0.288889   \n",
       "2         0.151515        0.056692               84            0.288889   \n",
       "3         0.151515        0.056692               84            0.288889   \n",
       "4         0.151515        0.056692               84            0.288889   \n",
       "6         0.151515        0.056692               84            0.288889   \n",
       "\n",
       "   split1_train_score  split2_train_score  mean_train_score  std_train_score  \n",
       "0            0.244444            0.222222          0.251852         0.027716  \n",
       "2            0.244444            0.222222          0.251852         0.027716  \n",
       "3            0.244444            0.222222          0.251852         0.027716  \n",
       "4            0.244444            0.222222          0.251852         0.027716  \n",
       "6            0.244444            0.222222          0.251852         0.027716  \n",
       "\n",
       "[5 rows x 22 columns]"
      ]
     },
     "execution_count": 142,
     "metadata": {},
     "output_type": "execute_result"
    }
   ],
   "source": [
    "df_grid_rf = pd.DataFrame(grid.cv_results_)\n",
    "df_grid_rf.nlargest(5, ['rank_test_score'])"
   ]
  },
  {
   "cell_type": "code",
   "execution_count": 143,
   "metadata": {
    "ExecuteTime": {
     "end_time": "2024-04-18T02:25:21.416757Z",
     "start_time": "2024-04-18T02:25:21.412997Z"
    }
   },
   "outputs": [
    {
     "name": "stdout",
     "output_type": "stream",
     "text": [
      "{'criterion': 'entropy', 'max_depth': 1000, 'min_samples_leaf': 1, 'min_samples_split': 10}\n",
      "RandomForestClassifier(criterion='entropy', max_depth=1000,\n",
      "                       min_samples_split=10)\n"
     ]
    }
   ],
   "source": [
    "print(grid.best_params_)\n",
    "print(grid.best_estimator_)"
   ]
  },
  {
   "cell_type": "code",
   "execution_count": 144,
   "metadata": {
    "ExecuteTime": {
     "end_time": "2024-04-18T02:25:24.122701Z",
     "start_time": "2024-04-18T02:25:24.057558Z"
    }
   },
   "outputs": [
    {
     "name": "stdout",
     "output_type": "stream",
     "text": [
      "              precision    recall  f1-score   support\n",
      "\n",
      "           0       0.84      0.48      0.61       213\n",
      "           1       0.82      0.86      0.84       209\n",
      "           2       0.80      0.91      0.85       221\n",
      "           3       0.94      0.83      0.88        96\n",
      "           4       0.86      0.88      0.87       327\n",
      "           5       0.60      0.78      0.68       173\n",
      "           6       0.61      0.61      0.61       140\n",
      "\n",
      "    accuracy                           0.78      1379\n",
      "   macro avg       0.78      0.76      0.76      1379\n",
      "weighted avg       0.79      0.78      0.77      1379\n",
      "\n"
     ]
    }
   ],
   "source": [
    "grid_predictions = grid.predict(X_test)\n",
    "print(classification_report(y_test, grid_predictions))"
   ]
  },
  {
   "cell_type": "code",
   "execution_count": 145,
   "metadata": {
    "ExecuteTime": {
     "end_time": "2024-04-18T02:25:28.347633Z",
     "start_time": "2024-04-18T02:25:27.403159Z"
    }
   },
   "outputs": [
    {
     "data": {
      "image/png": "[encoded data removed]",
      "text/plain": [
       "<Figure size 432x288 with 2 Axes>"
      ]
     },
     "metadata": {},
     "output_type": "display_data"
    }
   ],
   "source": [
    "cm = confusion_matrix(y_test, grid_predictions)\n",
    "cm_graph = metrics.ConfusionMatrixDisplay(confusion_matrix=cm)\n",
    "cm_graph.plot()\n",
    "plt.show()"
   ]
  },
  {
   "cell_type": "markdown",
   "metadata": {},
   "source": [
    "## Support Vector Machine (SVM)"
   ]
  },
  {
   "cell_type": "markdown",
   "metadata": {},
   "source": [
    "### Support Vector Classification (SVC)"
   ]
  },
  {
   "cell_type": "code",
   "execution_count": 146,
   "metadata": {
    "ExecuteTime": {
     "end_time": "2024-04-18T02:25:33.216840Z",
     "start_time": "2024-04-18T02:25:33.213522Z"
    }
   },
   "outputs": [],
   "source": [
    "param_grid = {'C': [0.1, 1, 10, 100, 1000],\n",
    "              'gamma': [1, 0.1, 0.01, 0.001, 0.0001],\n",
    "              'kernel': ['rbf']}"
   ]
  },
  {
   "cell_type": "code",
   "execution_count": 147,
   "metadata": {
    "ExecuteTime": {
     "end_time": "2024-04-18T02:25:45.842306Z",
     "start_time": "2024-04-18T02:25:34.185918Z"
    }
   },
   "outputs": [
    {
     "name": "stdout",
     "output_type": "stream",
     "text": [
      "n_iterations: 3\n",
      "n_required_iterations: 3\n",
      "n_possible_iterations: 3\n",
      "min_resources_: 612\n",
      "max_resources_: 5513\n",
      "aggressive_elimination: False\n",
      "factor: 3\n",
      "----------\n",
      "iter: 0\n",
      "n_candidates: 25\n",
      "n_resources: 612\n",
      "Fitting 3 folds for each of 25 candidates, totalling 75 fits\n",
      "----------\n",
      "iter: 1\n",
      "n_candidates: 9\n",
      "n_resources: 1836\n",
      "Fitting 3 folds for each of 9 candidates, totalling 27 fits\n",
      "----------\n",
      "iter: 2\n",
      "n_candidates: 3\n",
      "n_resources: 5508\n",
      "Fitting 3 folds for each of 3 candidates, totalling 9 fits\n",
      "CPU times: user 5.9 s, sys: 50.2 ms, total: 5.95 s\n",
      "Wall time: 11.8 s\n"
     ]
    },
    {
     "data": {
      "text/plain": [
       "HalvingGridSearchCV(cv=3, estimator=SVC(), n_jobs=-1,\n",
       "                    param_grid={'C': [0.1, 1, 10, 100, 1000],\n",
       "                                'gamma': [1, 0.1, 0.01, 0.001, 0.0001],\n",
       "                                'kernel': ['rbf']},\n",
       "                    refit=<function _refit_callable at 0x2b04a9533048>,\n",
       "                    scoring='accuracy', verbose=3)"
      ]
     },
     "execution_count": 147,
     "metadata": {},
     "output_type": "execute_result"
    }
   ],
   "source": [
    "grid = HalvingGridSearchCV(SVC(), param_grid, refit=True, verbose=3, cv=3, scoring='accuracy', n_jobs = -1)\n",
    "\n",
    "%time grid.fit(X_train, y_train)"
   ]
  },
  {
   "cell_type": "code",
   "execution_count": 148,
   "metadata": {
    "ExecuteTime": {
     "end_time": "2024-04-18T02:25:49.514046Z",
     "start_time": "2024-04-18T02:25:49.476277Z"
    }
   },
   "outputs": [
    {
     "data": {
      "text/html": [
       "<div>\n",
       "<style scoped>\n",
       "    .dataframe tbody tr th:only-of-type {\n",
       "        vertical-align: middle;\n",
       "    }\n",
       "\n",
       "    .dataframe tbody tr th {\n",
       "        vertical-align: top;\n",
       "    }\n",
       "\n",
       "    .dataframe thead th {\n",
       "        text-align: right;\n",
       "    }\n",
       "</style>\n",
       "<table border=\"1\" class=\"dataframe\">\n",
       "  <thead>\n",
       "    <tr style=\"text-align: right;\">\n",
       "      <th></th>\n",
       "      <th>iter</th>\n",
       "      <th>n_resources</th>\n",
       "      <th>mean_fit_time</th>\n",
       "      <th>std_fit_time</th>\n",
       "      <th>mean_score_time</th>\n",
       "      <th>std_score_time</th>\n",
       "      <th>param_C</th>\n",
       "      <th>param_gamma</th>\n",
       "      <th>param_kernel</th>\n",
       "      <th>params</th>\n",
       "      <th>...</th>\n",
       "      <th>split1_test_score</th>\n",
       "      <th>split2_test_score</th>\n",
       "      <th>mean_test_score</th>\n",
       "      <th>std_test_score</th>\n",
       "      <th>rank_test_score</th>\n",
       "      <th>split0_train_score</th>\n",
       "      <th>split1_train_score</th>\n",
       "      <th>split2_train_score</th>\n",
       "      <th>mean_train_score</th>\n",
       "      <th>std_train_score</th>\n",
       "    </tr>\n",
       "  </thead>\n",
       "  <tbody>\n",
       "    <tr>\n",
       "      <th>0</th>\n",
       "      <td>0</td>\n",
       "      <td>612</td>\n",
       "      <td>0.025406</td>\n",
       "      <td>0.001154</td>\n",
       "      <td>0.011697</td>\n",
       "      <td>0.001137</td>\n",
       "      <td>0.1</td>\n",
       "      <td>1</td>\n",
       "      <td>rbf</td>\n",
       "      <td>{'C': 0.1, 'gamma': 1, 'kernel': 'rbf'}</td>\n",
       "      <td>...</td>\n",
       "      <td>0.235294</td>\n",
       "      <td>0.216749</td>\n",
       "      <td>0.238916</td>\n",
       "      <td>0.019745</td>\n",
       "      <td>36</td>\n",
       "      <td>0.253071</td>\n",
       "      <td>0.265356</td>\n",
       "      <td>0.235294</td>\n",
       "      <td>0.251241</td>\n",
       "      <td>0.012341</td>\n",
       "    </tr>\n",
       "    <tr>\n",
       "      <th>4</th>\n",
       "      <td>0</td>\n",
       "      <td>612</td>\n",
       "      <td>0.027260</td>\n",
       "      <td>0.000727</td>\n",
       "      <td>0.011611</td>\n",
       "      <td>0.000880</td>\n",
       "      <td>0.1</td>\n",
       "      <td>0.0001</td>\n",
       "      <td>rbf</td>\n",
       "      <td>{'C': 0.1, 'gamma': 0.0001, 'kernel': 'rbf'}</td>\n",
       "      <td>...</td>\n",
       "      <td>0.235294</td>\n",
       "      <td>0.216749</td>\n",
       "      <td>0.238916</td>\n",
       "      <td>0.019745</td>\n",
       "      <td>36</td>\n",
       "      <td>0.253071</td>\n",
       "      <td>0.265356</td>\n",
       "      <td>0.235294</td>\n",
       "      <td>0.251241</td>\n",
       "      <td>0.012341</td>\n",
       "    </tr>\n",
       "    <tr>\n",
       "      <th>3</th>\n",
       "      <td>0</td>\n",
       "      <td>612</td>\n",
       "      <td>0.027025</td>\n",
       "      <td>0.000566</td>\n",
       "      <td>0.011405</td>\n",
       "      <td>0.000396</td>\n",
       "      <td>0.1</td>\n",
       "      <td>0.001</td>\n",
       "      <td>rbf</td>\n",
       "      <td>{'C': 0.1, 'gamma': 0.001, 'kernel': 'rbf'}</td>\n",
       "      <td>...</td>\n",
       "      <td>0.235294</td>\n",
       "      <td>0.236453</td>\n",
       "      <td>0.245484</td>\n",
       "      <td>0.013600</td>\n",
       "      <td>35</td>\n",
       "      <td>0.253071</td>\n",
       "      <td>0.265356</td>\n",
       "      <td>0.274510</td>\n",
       "      <td>0.264312</td>\n",
       "      <td>0.008783</td>\n",
       "    </tr>\n",
       "    <tr>\n",
       "      <th>9</th>\n",
       "      <td>0</td>\n",
       "      <td>612</td>\n",
       "      <td>0.026499</td>\n",
       "      <td>0.000389</td>\n",
       "      <td>0.010738</td>\n",
       "      <td>0.000445</td>\n",
       "      <td>1</td>\n",
       "      <td>0.0001</td>\n",
       "      <td>rbf</td>\n",
       "      <td>{'C': 1, 'gamma': 0.0001, 'kernel': 'rbf'}</td>\n",
       "      <td>...</td>\n",
       "      <td>0.235294</td>\n",
       "      <td>0.241379</td>\n",
       "      <td>0.245492</td>\n",
       "      <td>0.010420</td>\n",
       "      <td>34</td>\n",
       "      <td>0.257985</td>\n",
       "      <td>0.270270</td>\n",
       "      <td>0.286765</td>\n",
       "      <td>0.271673</td>\n",
       "      <td>0.011791</td>\n",
       "    </tr>\n",
       "    <tr>\n",
       "      <th>1</th>\n",
       "      <td>0</td>\n",
       "      <td>612</td>\n",
       "      <td>0.028194</td>\n",
       "      <td>0.000250</td>\n",
       "      <td>0.012006</td>\n",
       "      <td>0.000589</td>\n",
       "      <td>0.1</td>\n",
       "      <td>0.1</td>\n",
       "      <td>rbf</td>\n",
       "      <td>{'C': 0.1, 'gamma': 0.1, 'kernel': 'rbf'}</td>\n",
       "      <td>...</td>\n",
       "      <td>0.235294</td>\n",
       "      <td>0.241379</td>\n",
       "      <td>0.248760</td>\n",
       "      <td>0.014949</td>\n",
       "      <td>33</td>\n",
       "      <td>0.260442</td>\n",
       "      <td>0.265356</td>\n",
       "      <td>0.281863</td>\n",
       "      <td>0.269220</td>\n",
       "      <td>0.009162</td>\n",
       "    </tr>\n",
       "  </tbody>\n",
       "</table>\n",
       "<p>5 rows × 21 columns</p>\n",
       "</div>"
      ],
      "text/plain": [
       "   iter  n_resources  mean_fit_time  std_fit_time  mean_score_time  \\\n",
       "0     0          612       0.025406      0.001154         0.011697   \n",
       "4     0          612       0.027260      0.000727         0.011611   \n",
       "3     0          612       0.027025      0.000566         0.011405   \n",
       "9     0          612       0.026499      0.000389         0.010738   \n",
       "1     0          612       0.028194      0.000250         0.012006   \n",
       "\n",
       "   std_score_time param_C param_gamma param_kernel  \\\n",
       "0        0.001137     0.1           1          rbf   \n",
       "4        0.000880     0.1      0.0001          rbf   \n",
       "3        0.000396     0.1       0.001          rbf   \n",
       "9        0.000445       1      0.0001          rbf   \n",
       "1        0.000589     0.1         0.1          rbf   \n",
       "\n",
       "                                         params  ...  split1_test_score  \\\n",
       "0       {'C': 0.1, 'gamma': 1, 'kernel': 'rbf'}  ...           0.235294   \n",
       "4  {'C': 0.1, 'gamma': 0.0001, 'kernel': 'rbf'}  ...           0.235294   \n",
       "3   {'C': 0.1, 'gamma': 0.001, 'kernel': 'rbf'}  ...           0.235294   \n",
       "9    {'C': 1, 'gamma': 0.0001, 'kernel': 'rbf'}  ...           0.235294   \n",
       "1     {'C': 0.1, 'gamma': 0.1, 'kernel': 'rbf'}  ...           0.235294   \n",
       "\n",
       "   split2_test_score  mean_test_score  std_test_score  rank_test_score  \\\n",
       "0           0.216749         0.238916        0.019745               36   \n",
       "4           0.216749         0.238916        0.019745               36   \n",
       "3           0.236453         0.245484        0.013600               35   \n",
       "9           0.241379         0.245492        0.010420               34   \n",
       "1           0.241379         0.248760        0.014949               33   \n",
       "\n",
       "   split0_train_score  split1_train_score  split2_train_score  \\\n",
       "0            0.253071            0.265356            0.235294   \n",
       "4            0.253071            0.265356            0.235294   \n",
       "3            0.253071            0.265356            0.274510   \n",
       "9            0.257985            0.270270            0.286765   \n",
       "1            0.260442            0.265356            0.281863   \n",
       "\n",
       "   mean_train_score  std_train_score  \n",
       "0          0.251241         0.012341  \n",
       "4          0.251241         0.012341  \n",
       "3          0.264312         0.008783  \n",
       "9          0.271673         0.011791  \n",
       "1          0.269220         0.009162  \n",
       "\n",
       "[5 rows x 21 columns]"
      ]
     },
     "execution_count": 148,
     "metadata": {},
     "output_type": "execute_result"
    }
   ],
   "source": [
    "df_grid_svc_rbf = pd.DataFrame(grid.cv_results_)\n",
    "df_grid_svc_rbf.nlargest(5, ['rank_test_score'])"
   ]
  },
  {
   "cell_type": "code",
   "execution_count": 149,
   "metadata": {
    "ExecuteTime": {
     "end_time": "2024-04-18T02:25:54.271416Z",
     "start_time": "2024-04-18T02:25:54.267526Z"
    }
   },
   "outputs": [
    {
     "name": "stdout",
     "output_type": "stream",
     "text": [
      "{'C': 1000, 'gamma': 1, 'kernel': 'rbf'}\n",
      "SVC(C=1000, gamma=1)\n"
     ]
    }
   ],
   "source": [
    "print(grid.best_params_)\n",
    "print(grid.best_estimator_)"
   ]
  },
  {
   "cell_type": "code",
   "execution_count": 150,
   "metadata": {
    "ExecuteTime": {
     "end_time": "2024-04-18T02:26:01.533040Z",
     "start_time": "2024-04-18T02:26:00.875568Z"
    }
   },
   "outputs": [
    {
     "name": "stdout",
     "output_type": "stream",
     "text": [
      "              precision    recall  f1-score   support\n",
      "\n",
      "           0       0.41      0.35      0.38       213\n",
      "           1       0.67      0.64      0.65       209\n",
      "           2       0.62      0.67      0.65       221\n",
      "           3       0.75      0.55      0.63        96\n",
      "           4       0.74      0.76      0.75       327\n",
      "           5       0.53      0.68      0.60       173\n",
      "           6       0.39      0.36      0.38       140\n",
      "\n",
      "    accuracy                           0.60      1379\n",
      "   macro avg       0.59      0.57      0.58      1379\n",
      "weighted avg       0.60      0.60      0.60      1379\n",
      "\n"
     ]
    }
   ],
   "source": [
    "grid_predictions = grid.predict(X_test)\n",
    "print(classification_report(y_test, grid_predictions))"
   ]
  },
  {
   "cell_type": "code",
   "execution_count": 151,
   "metadata": {
    "ExecuteTime": {
     "end_time": "2024-04-18T02:26:10.728714Z",
     "start_time": "2024-04-18T02:26:09.786943Z"
    }
   },
   "outputs": [
    {
     "data": {
      "image/png": "[encoded data removed]",
      "text/plain": [
       "<Figure size 432x288 with 2 Axes>"
      ]
     },
     "metadata": {},
     "output_type": "display_data"
    }
   ],
   "source": [
    "cm = confusion_matrix(y_test, grid_predictions)\n",
    "cm_graph = metrics.ConfusionMatrixDisplay(confusion_matrix = cm)\n",
    "cm_graph.plot()\n",
    "plt.show()"
   ]
  },
  {
   "cell_type": "code",
   "execution_count": 152,
   "metadata": {
    "ExecuteTime": {
     "end_time": "2024-04-18T02:26:13.804015Z",
     "start_time": "2024-04-18T02:26:13.801069Z"
    }
   },
   "outputs": [],
   "source": [
    "param_grid = {'C': [1, 5],\n",
    "              'gamma': [2],\n",
    "              'kernel': ['linear']}"
   ]
  },
  {
   "cell_type": "code",
   "execution_count": 153,
   "metadata": {
    "ExecuteTime": {
     "end_time": "2024-04-18T02:27:52.462445Z",
     "start_time": "2024-04-18T02:26:19.610659Z"
    }
   },
   "outputs": [
    {
     "name": "stdout",
     "output_type": "stream",
     "text": [
      "n_iterations: 1\n",
      "n_required_iterations: 1\n",
      "n_possible_iterations: 1\n",
      "min_resources_: 5513\n",
      "max_resources_: 5513\n",
      "aggressive_elimination: False\n",
      "factor: 3\n",
      "----------\n",
      "iter: 0\n",
      "n_candidates: 2\n",
      "n_resources: 5513\n",
      "Fitting 3 folds for each of 2 candidates, totalling 6 fits\n",
      "CPU times: user 50.9 s, sys: 27.6 ms, total: 51 s\n",
      "Wall time: 1min 33s\n"
     ]
    },
    {
     "data": {
      "text/plain": [
       "HalvingGridSearchCV(cv=3, estimator=SVC(), n_jobs=-1,\n",
       "                    param_grid={'C': [1, 5], 'gamma': [2],\n",
       "                                'kernel': ['linear']},\n",
       "                    refit=<function _refit_callable at 0x2b04a9533048>,\n",
       "                    scoring='accuracy', verbose=3)"
      ]
     },
     "execution_count": 153,
     "metadata": {},
     "output_type": "execute_result"
    }
   ],
   "source": [
    "grid = HalvingGridSearchCV(SVC(), param_grid, refit=True, verbose=3, cv=3, scoring='accuracy', n_jobs = -1)\n",
    "\n",
    "%time grid.fit(X_train, y_train)"
   ]
  },
  {
   "cell_type": "code",
   "execution_count": 154,
   "metadata": {
    "ExecuteTime": {
     "end_time": "2024-04-18T02:28:33.057977Z",
     "start_time": "2024-04-18T02:28:33.024364Z"
    }
   },
   "outputs": [
    {
     "data": {
      "text/html": [
       "<div>\n",
       "<style scoped>\n",
       "    .dataframe tbody tr th:only-of-type {\n",
       "        vertical-align: middle;\n",
       "    }\n",
       "\n",
       "    .dataframe tbody tr th {\n",
       "        vertical-align: top;\n",
       "    }\n",
       "\n",
       "    .dataframe thead th {\n",
       "        text-align: right;\n",
       "    }\n",
       "</style>\n",
       "<table border=\"1\" class=\"dataframe\">\n",
       "  <thead>\n",
       "    <tr style=\"text-align: right;\">\n",
       "      <th></th>\n",
       "      <th>iter</th>\n",
       "      <th>n_resources</th>\n",
       "      <th>mean_fit_time</th>\n",
       "      <th>std_fit_time</th>\n",
       "      <th>mean_score_time</th>\n",
       "      <th>std_score_time</th>\n",
       "      <th>param_C</th>\n",
       "      <th>param_gamma</th>\n",
       "      <th>param_kernel</th>\n",
       "      <th>params</th>\n",
       "      <th>...</th>\n",
       "      <th>split1_test_score</th>\n",
       "      <th>split2_test_score</th>\n",
       "      <th>mean_test_score</th>\n",
       "      <th>std_test_score</th>\n",
       "      <th>rank_test_score</th>\n",
       "      <th>split0_train_score</th>\n",
       "      <th>split1_train_score</th>\n",
       "      <th>split2_train_score</th>\n",
       "      <th>mean_train_score</th>\n",
       "      <th>std_train_score</th>\n",
       "    </tr>\n",
       "  </thead>\n",
       "  <tbody>\n",
       "    <tr>\n",
       "      <th>0</th>\n",
       "      <td>0</td>\n",
       "      <td>5513</td>\n",
       "      <td>17.986430</td>\n",
       "      <td>2.937904</td>\n",
       "      <td>0.204145</td>\n",
       "      <td>0.006497</td>\n",
       "      <td>1</td>\n",
       "      <td>2</td>\n",
       "      <td>linear</td>\n",
       "      <td>{'C': 1, 'gamma': 2, 'kernel': 'linear'}</td>\n",
       "      <td>...</td>\n",
       "      <td>0.373776</td>\n",
       "      <td>0.394665</td>\n",
       "      <td>0.380739</td>\n",
       "      <td>0.009847</td>\n",
       "      <td>2</td>\n",
       "      <td>0.385578</td>\n",
       "      <td>0.362721</td>\n",
       "      <td>0.408868</td>\n",
       "      <td>0.385723</td>\n",
       "      <td>0.018840</td>\n",
       "    </tr>\n",
       "    <tr>\n",
       "      <th>1</th>\n",
       "      <td>0</td>\n",
       "      <td>5513</td>\n",
       "      <td>38.959391</td>\n",
       "      <td>2.639190</td>\n",
       "      <td>0.186999</td>\n",
       "      <td>0.007545</td>\n",
       "      <td>5</td>\n",
       "      <td>2</td>\n",
       "      <td>linear</td>\n",
       "      <td>{'C': 5, 'gamma': 2, 'kernel': 'linear'}</td>\n",
       "      <td>...</td>\n",
       "      <td>0.383025</td>\n",
       "      <td>0.414807</td>\n",
       "      <td>0.394707</td>\n",
       "      <td>0.014275</td>\n",
       "      <td>1</td>\n",
       "      <td>0.401361</td>\n",
       "      <td>0.379320</td>\n",
       "      <td>0.437976</td>\n",
       "      <td>0.406219</td>\n",
       "      <td>0.024192</td>\n",
       "    </tr>\n",
       "  </tbody>\n",
       "</table>\n",
       "<p>2 rows × 21 columns</p>\n",
       "</div>"
      ],
      "text/plain": [
       "   iter  n_resources  mean_fit_time  std_fit_time  mean_score_time  \\\n",
       "0     0         5513      17.986430      2.937904         0.204145   \n",
       "1     0         5513      38.959391      2.639190         0.186999   \n",
       "\n",
       "   std_score_time param_C param_gamma param_kernel  \\\n",
       "0        0.006497       1           2       linear   \n",
       "1        0.007545       5           2       linear   \n",
       "\n",
       "                                     params  ...  split1_test_score  \\\n",
       "0  {'C': 1, 'gamma': 2, 'kernel': 'linear'}  ...           0.373776   \n",
       "1  {'C': 5, 'gamma': 2, 'kernel': 'linear'}  ...           0.383025   \n",
       "\n",
       "   split2_test_score  mean_test_score  std_test_score  rank_test_score  \\\n",
       "0           0.394665         0.380739        0.009847                2   \n",
       "1           0.414807         0.394707        0.014275                1   \n",
       "\n",
       "   split0_train_score  split1_train_score  split2_train_score  \\\n",
       "0            0.385578            0.362721            0.408868   \n",
       "1            0.401361            0.379320            0.437976   \n",
       "\n",
       "   mean_train_score  std_train_score  \n",
       "0          0.385723         0.018840  \n",
       "1          0.406219         0.024192  \n",
       "\n",
       "[2 rows x 21 columns]"
      ]
     },
     "execution_count": 154,
     "metadata": {},
     "output_type": "execute_result"
    }
   ],
   "source": [
    "df_grid_svc_linear = pd.DataFrame(grid.cv_results_)\n",
    "df_grid_svc_linear.nlargest(5, ['rank_test_score'])"
   ]
  },
  {
   "cell_type": "code",
   "execution_count": 155,
   "metadata": {
    "ExecuteTime": {
     "end_time": "2024-04-18T02:28:33.639678Z",
     "start_time": "2024-04-18T02:28:33.636328Z"
    }
   },
   "outputs": [
    {
     "name": "stdout",
     "output_type": "stream",
     "text": [
      "{'C': 5, 'gamma': 2, 'kernel': 'linear'}\n",
      "SVC(C=5, gamma=2, kernel='linear')\n"
     ]
    }
   ],
   "source": [
    "print(grid.best_params_)\n",
    "print(grid.best_estimator_)"
   ]
  },
  {
   "cell_type": "code",
   "execution_count": 156,
   "metadata": {
    "ExecuteTime": {
     "end_time": "2024-04-18T02:28:34.465734Z",
     "start_time": "2024-04-18T02:28:34.249806Z"
    }
   },
   "outputs": [
    {
     "name": "stdout",
     "output_type": "stream",
     "text": [
      "              precision    recall  f1-score   support\n",
      "\n",
      "           0       0.59      0.08      0.13       213\n",
      "           1       0.44      0.13      0.21       209\n",
      "           2       0.29      0.72      0.41       221\n",
      "           3       0.62      0.43      0.51        96\n",
      "           4       0.53      0.72      0.61       327\n",
      "           5       0.25      0.32      0.28       173\n",
      "           6       0.00      0.00      0.00       140\n",
      "\n",
      "    accuracy                           0.39      1379\n",
      "   macro avg       0.39      0.34      0.31      1379\n",
      "weighted avg       0.40      0.39      0.33      1379\n",
      "\n"
     ]
    },
    {
     "name": "stderr",
     "output_type": "stream",
     "text": [
      "/software/python3/3.6.5/lib/python3.6/site-packages/sklearn/metrics/_classification.py:1245: UndefinedMetricWarning: Precision and F-score are ill-defined and being set to 0.0 in labels with no predicted samples. Use `zero_division` parameter to control this behavior.\n",
      "  _warn_prf(average, modifier, msg_start, len(result))\n",
      "/software/python3/3.6.5/lib/python3.6/site-packages/sklearn/metrics/_classification.py:1245: UndefinedMetricWarning: Precision and F-score are ill-defined and being set to 0.0 in labels with no predicted samples. Use `zero_division` parameter to control this behavior.\n",
      "  _warn_prf(average, modifier, msg_start, len(result))\n",
      "/software/python3/3.6.5/lib/python3.6/site-packages/sklearn/metrics/_classification.py:1245: UndefinedMetricWarning: Precision and F-score are ill-defined and being set to 0.0 in labels with no predicted samples. Use `zero_division` parameter to control this behavior.\n",
      "  _warn_prf(average, modifier, msg_start, len(result))\n"
     ]
    }
   ],
   "source": [
    "grid_predictions = grid.predict(X_test)\n",
    "print(classification_report(y_test, grid_predictions))"
   ]
  },
  {
   "cell_type": "code",
   "execution_count": 157,
   "metadata": {
    "ExecuteTime": {
     "end_time": "2024-04-18T02:28:39.854560Z",
     "start_time": "2024-04-18T02:28:38.936085Z"
    }
   },
   "outputs": [
    {
     "data": {
      "image/png": "[encoded data removed]",
      "text/plain": [
       "<Figure size 432x288 with 2 Axes>"
      ]
     },
     "metadata": {},
     "output_type": "display_data"
    }
   ],
   "source": [
    "cm = confusion_matrix(y_test, grid_predictions)\n",
    "cm_graph = metrics.ConfusionMatrixDisplay(confusion_matrix = cm)\n",
    "cm_graph.plot()\n",
    "plt.show()"
   ]
  },
  {
   "cell_type": "markdown",
   "metadata": {},
   "source": [
    "### Nu-Support Vector Classification (NuSVC)"
   ]
  },
  {
   "cell_type": "code",
   "execution_count": 158,
   "metadata": {
    "ExecuteTime": {
     "end_time": "2024-04-18T02:28:43.493079Z",
     "start_time": "2024-04-18T02:28:43.489720Z"
    }
   },
   "outputs": [],
   "source": [
    "param_grid = {'nu': [0.1, 0.2, 0.3, 0.4],\n",
    "              'gamma': ['auto', 'scale'],\n",
    "              'kernel': ['rbf']}"
   ]
  },
  {
   "cell_type": "code",
   "execution_count": 159,
   "metadata": {
    "ExecuteTime": {
     "end_time": "2024-04-18T02:28:54.834637Z",
     "start_time": "2024-04-18T02:28:44.249164Z"
    }
   },
   "outputs": [
    {
     "name": "stdout",
     "output_type": "stream",
     "text": [
      "n_iterations: 2\n",
      "n_required_iterations: 2\n",
      "n_possible_iterations: 2\n",
      "min_resources_: 1837\n",
      "max_resources_: 5513\n",
      "aggressive_elimination: False\n",
      "factor: 3\n",
      "----------\n",
      "iter: 0\n",
      "n_candidates: 8\n",
      "n_resources: 1837\n",
      "Fitting 3 folds for each of 8 candidates, totalling 24 fits\n",
      "----------\n",
      "iter: 1\n",
      "n_candidates: 3\n",
      "n_resources: 5511\n",
      "Fitting 3 folds for each of 3 candidates, totalling 9 fits\n",
      "CPU times: user 5.58 s, sys: 12.1 ms, total: 5.59 s\n",
      "Wall time: 11.4 s\n"
     ]
    },
    {
     "data": {
      "text/plain": [
       "HalvingGridSearchCV(cv=3, estimator=NuSVC(), n_jobs=-1,\n",
       "                    param_grid={'gamma': ['auto', 'scale'], 'kernel': ['rbf'],\n",
       "                                'nu': [0.1, 0.2, 0.3, 0.4]},\n",
       "                    refit=<function _refit_callable at 0x2b04a9533048>,\n",
       "                    scoring='accuracy', verbose=3)"
      ]
     },
     "execution_count": 159,
     "metadata": {},
     "output_type": "execute_result"
    }
   ],
   "source": [
    "grid = HalvingGridSearchCV(NuSVC(), param_grid, refit=True, verbose=3, cv=3, n_jobs=-1, scoring='accuracy')\n",
    "\n",
    "# fitting the model for grid search \n",
    "%time grid.fit(X_train, y_train)"
   ]
  },
  {
   "cell_type": "code",
   "execution_count": 160,
   "metadata": {
    "ExecuteTime": {
     "end_time": "2024-04-18T02:28:59.251805Z",
     "start_time": "2024-04-18T02:28:59.215810Z"
    }
   },
   "outputs": [
    {
     "data": {
      "text/html": [
       "<div>\n",
       "<style scoped>\n",
       "    .dataframe tbody tr th:only-of-type {\n",
       "        vertical-align: middle;\n",
       "    }\n",
       "\n",
       "    .dataframe tbody tr th {\n",
       "        vertical-align: top;\n",
       "    }\n",
       "\n",
       "    .dataframe thead th {\n",
       "        text-align: right;\n",
       "    }\n",
       "</style>\n",
       "<table border=\"1\" class=\"dataframe\">\n",
       "  <thead>\n",
       "    <tr style=\"text-align: right;\">\n",
       "      <th></th>\n",
       "      <th>iter</th>\n",
       "      <th>n_resources</th>\n",
       "      <th>mean_fit_time</th>\n",
       "      <th>std_fit_time</th>\n",
       "      <th>mean_score_time</th>\n",
       "      <th>std_score_time</th>\n",
       "      <th>param_gamma</th>\n",
       "      <th>param_kernel</th>\n",
       "      <th>param_nu</th>\n",
       "      <th>params</th>\n",
       "      <th>...</th>\n",
       "      <th>split1_test_score</th>\n",
       "      <th>split2_test_score</th>\n",
       "      <th>mean_test_score</th>\n",
       "      <th>std_test_score</th>\n",
       "      <th>rank_test_score</th>\n",
       "      <th>split0_train_score</th>\n",
       "      <th>split1_train_score</th>\n",
       "      <th>split2_train_score</th>\n",
       "      <th>mean_train_score</th>\n",
       "      <th>std_train_score</th>\n",
       "    </tr>\n",
       "  </thead>\n",
       "  <tbody>\n",
       "    <tr>\n",
       "      <th>4</th>\n",
       "      <td>0</td>\n",
       "      <td>1837</td>\n",
       "      <td>0.076488</td>\n",
       "      <td>0.006448</td>\n",
       "      <td>0.040534</td>\n",
       "      <td>0.004949</td>\n",
       "      <td>scale</td>\n",
       "      <td>rbf</td>\n",
       "      <td>0.1</td>\n",
       "      <td>{'gamma': 'scale', 'kernel': 'rbf', 'nu': 0.1}</td>\n",
       "      <td>...</td>\n",
       "      <td>0.178105</td>\n",
       "      <td>0.156863</td>\n",
       "      <td>0.159041</td>\n",
       "      <td>0.014756</td>\n",
       "      <td>11</td>\n",
       "      <td>0.159314</td>\n",
       "      <td>0.156046</td>\n",
       "      <td>0.166667</td>\n",
       "      <td>0.160675</td>\n",
       "      <td>0.004442</td>\n",
       "    </tr>\n",
       "    <tr>\n",
       "      <th>5</th>\n",
       "      <td>0</td>\n",
       "      <td>1837</td>\n",
       "      <td>0.113642</td>\n",
       "      <td>0.002620</td>\n",
       "      <td>0.054762</td>\n",
       "      <td>0.006083</td>\n",
       "      <td>scale</td>\n",
       "      <td>rbf</td>\n",
       "      <td>0.2</td>\n",
       "      <td>{'gamma': 'scale', 'kernel': 'rbf', 'nu': 0.2}</td>\n",
       "      <td>...</td>\n",
       "      <td>0.248366</td>\n",
       "      <td>0.233660</td>\n",
       "      <td>0.241285</td>\n",
       "      <td>0.006016</td>\n",
       "      <td>10</td>\n",
       "      <td>0.240196</td>\n",
       "      <td>0.251634</td>\n",
       "      <td>0.236111</td>\n",
       "      <td>0.242647</td>\n",
       "      <td>0.006570</td>\n",
       "    </tr>\n",
       "    <tr>\n",
       "      <th>6</th>\n",
       "      <td>0</td>\n",
       "      <td>1837</td>\n",
       "      <td>0.147966</td>\n",
       "      <td>0.006160</td>\n",
       "      <td>0.061542</td>\n",
       "      <td>0.005851</td>\n",
       "      <td>scale</td>\n",
       "      <td>rbf</td>\n",
       "      <td>0.3</td>\n",
       "      <td>{'gamma': 'scale', 'kernel': 'rbf', 'nu': 0.3}</td>\n",
       "      <td>...</td>\n",
       "      <td>0.294118</td>\n",
       "      <td>0.297386</td>\n",
       "      <td>0.275599</td>\n",
       "      <td>0.028531</td>\n",
       "      <td>9</td>\n",
       "      <td>0.259804</td>\n",
       "      <td>0.275327</td>\n",
       "      <td>0.321078</td>\n",
       "      <td>0.285403</td>\n",
       "      <td>0.026010</td>\n",
       "    </tr>\n",
       "    <tr>\n",
       "      <th>7</th>\n",
       "      <td>0</td>\n",
       "      <td>1837</td>\n",
       "      <td>0.169313</td>\n",
       "      <td>0.002494</td>\n",
       "      <td>0.066164</td>\n",
       "      <td>0.004429</td>\n",
       "      <td>scale</td>\n",
       "      <td>rbf</td>\n",
       "      <td>0.4</td>\n",
       "      <td>{'gamma': 'scale', 'kernel': 'rbf', 'nu': 0.4}</td>\n",
       "      <td>...</td>\n",
       "      <td>0.300654</td>\n",
       "      <td>0.285948</td>\n",
       "      <td>0.302832</td>\n",
       "      <td>0.014756</td>\n",
       "      <td>8</td>\n",
       "      <td>0.315359</td>\n",
       "      <td>0.310458</td>\n",
       "      <td>0.314542</td>\n",
       "      <td>0.313453</td>\n",
       "      <td>0.002144</td>\n",
       "    </tr>\n",
       "    <tr>\n",
       "      <th>0</th>\n",
       "      <td>0</td>\n",
       "      <td>1837</td>\n",
       "      <td>0.276347</td>\n",
       "      <td>0.010402</td>\n",
       "      <td>0.068104</td>\n",
       "      <td>0.004364</td>\n",
       "      <td>auto</td>\n",
       "      <td>rbf</td>\n",
       "      <td>0.1</td>\n",
       "      <td>{'gamma': 'auto', 'kernel': 'rbf', 'nu': 0.1}</td>\n",
       "      <td>...</td>\n",
       "      <td>0.415033</td>\n",
       "      <td>0.392157</td>\n",
       "      <td>0.418301</td>\n",
       "      <td>0.022798</td>\n",
       "      <td>7</td>\n",
       "      <td>0.609477</td>\n",
       "      <td>0.644608</td>\n",
       "      <td>0.635621</td>\n",
       "      <td>0.629902</td>\n",
       "      <td>0.014901</td>\n",
       "    </tr>\n",
       "  </tbody>\n",
       "</table>\n",
       "<p>5 rows × 21 columns</p>\n",
       "</div>"
      ],
      "text/plain": [
       "   iter  n_resources  mean_fit_time  std_fit_time  mean_score_time  \\\n",
       "4     0         1837       0.076488      0.006448         0.040534   \n",
       "5     0         1837       0.113642      0.002620         0.054762   \n",
       "6     0         1837       0.147966      0.006160         0.061542   \n",
       "7     0         1837       0.169313      0.002494         0.066164   \n",
       "0     0         1837       0.276347      0.010402         0.068104   \n",
       "\n",
       "   std_score_time param_gamma param_kernel param_nu  \\\n",
       "4        0.004949       scale          rbf      0.1   \n",
       "5        0.006083       scale          rbf      0.2   \n",
       "6        0.005851       scale          rbf      0.3   \n",
       "7        0.004429       scale          rbf      0.4   \n",
       "0        0.004364        auto          rbf      0.1   \n",
       "\n",
       "                                           params  ...  split1_test_score  \\\n",
       "4  {'gamma': 'scale', 'kernel': 'rbf', 'nu': 0.1}  ...           0.178105   \n",
       "5  {'gamma': 'scale', 'kernel': 'rbf', 'nu': 0.2}  ...           0.248366   \n",
       "6  {'gamma': 'scale', 'kernel': 'rbf', 'nu': 0.3}  ...           0.294118   \n",
       "7  {'gamma': 'scale', 'kernel': 'rbf', 'nu': 0.4}  ...           0.300654   \n",
       "0   {'gamma': 'auto', 'kernel': 'rbf', 'nu': 0.1}  ...           0.415033   \n",
       "\n",
       "   split2_test_score  mean_test_score  std_test_score  rank_test_score  \\\n",
       "4           0.156863         0.159041        0.014756               11   \n",
       "5           0.233660         0.241285        0.006016               10   \n",
       "6           0.297386         0.275599        0.028531                9   \n",
       "7           0.285948         0.302832        0.014756                8   \n",
       "0           0.392157         0.418301        0.022798                7   \n",
       "\n",
       "   split0_train_score  split1_train_score  split2_train_score  \\\n",
       "4            0.159314            0.156046            0.166667   \n",
       "5            0.240196            0.251634            0.236111   \n",
       "6            0.259804            0.275327            0.321078   \n",
       "7            0.315359            0.310458            0.314542   \n",
       "0            0.609477            0.644608            0.635621   \n",
       "\n",
       "   mean_train_score  std_train_score  \n",
       "4          0.160675         0.004442  \n",
       "5          0.242647         0.006570  \n",
       "6          0.285403         0.026010  \n",
       "7          0.313453         0.002144  \n",
       "0          0.629902         0.014901  \n",
       "\n",
       "[5 rows x 21 columns]"
      ]
     },
     "execution_count": 160,
     "metadata": {},
     "output_type": "execute_result"
    }
   ],
   "source": [
    "df_grid_nusvc_rbf = pd.DataFrame(grid.cv_results_)\n",
    "df_grid_nusvc_rbf.nlargest(5, ['rank_test_score'])"
   ]
  },
  {
   "cell_type": "code",
   "execution_count": 161,
   "metadata": {
    "ExecuteTime": {
     "end_time": "2024-04-18T02:29:04.625713Z",
     "start_time": "2024-04-18T02:29:04.622025Z"
    }
   },
   "outputs": [
    {
     "name": "stdout",
     "output_type": "stream",
     "text": [
      "{'gamma': 'auto', 'kernel': 'rbf', 'nu': 0.3}\n",
      "NuSVC(gamma='auto', nu=0.3)\n"
     ]
    }
   ],
   "source": [
    "print(grid.best_params_)\n",
    "print(grid.best_estimator_)"
   ]
  },
  {
   "cell_type": "code",
   "execution_count": 162,
   "metadata": {
    "ExecuteTime": {
     "end_time": "2024-04-18T02:29:07.383772Z",
     "start_time": "2024-04-18T02:29:06.552565Z"
    }
   },
   "outputs": [
    {
     "name": "stdout",
     "output_type": "stream",
     "text": [
      "              precision    recall  f1-score   support\n",
      "\n",
      "           0       0.39      0.34      0.37       213\n",
      "           1       0.69      0.49      0.57       209\n",
      "           2       0.49      0.74      0.59       221\n",
      "           3       0.73      0.46      0.56        96\n",
      "           4       0.71      0.74      0.72       327\n",
      "           5       0.46      0.50      0.48       173\n",
      "           6       0.33      0.29      0.30       140\n",
      "\n",
      "    accuracy                           0.54      1379\n",
      "   macro avg       0.54      0.51      0.51      1379\n",
      "weighted avg       0.55      0.54      0.54      1379\n",
      "\n"
     ]
    }
   ],
   "source": [
    "grid_predictions = grid.predict(X_test)\n",
    "print(classification_report(y_test, grid_predictions))"
   ]
  },
  {
   "cell_type": "code",
   "execution_count": 45,
   "metadata": {
    "ExecuteTime": {
     "end_time": "2024-04-18T02:29:11.732755Z",
     "start_time": "2024-04-18T02:29:10.810453Z"
    }
   },
   "outputs": [
    {
     "data": {
      "image/png": "[encoded data removed]",
      "text/plain": [
       "<Figure size 432x288 with 2 Axes>"
      ]
     },
     "metadata": {},
     "output_type": "display_data"
    }
   ],
   "source": [
    "cm = confusion_matrix(y_test, grid_predictions)\n",
    "cm_graph = metrics.ConfusionMatrixDisplay(confusion_matrix = cm)\n",
    "cm_graph.plot()\n",
    "plt.show()"
   ]
  },
  {
   "cell_type": "markdown",
   "metadata": {},
   "source": [
    "### Naive Bayes Classification"
   ]
  },
  {
   "cell_type": "code",
   "execution_count": 77,
   "metadata": {
    "ExecuteTime": {
     "end_time": "2024-04-18T02:29:14.268875Z",
     "start_time": "2024-04-18T02:29:14.266193Z"
    }
   },
   "outputs": [],
   "source": [
    "param_grid = {\n",
    "    'alpha' : [1, 10, 100, 1000],\n",
    "}\n",
    "\n",
    "param_grid_gaussian = {\n",
    "    'priors' : [6]\n",
    "}\n",
    "param_grid_multi = {\n",
    "    'alpha' : [.01, 0.1, 1],\n",
    "    'class_prior' : [7]\n",
    "}"
   ]
  },
  {
   "cell_type": "code",
   "execution_count": 111,
   "metadata": {},
   "outputs": [
    {
     "name": "stdout",
     "output_type": "stream",
     "text": [
      "Fitting 5 folds for each of 100 candidates, totalling 500 fits\n"
     ]
    },
    {
     "data": {
      "text/plain": [
       "GridSearchCV(cv=5, estimator=GaussianNB(),\n",
       "             param_grid={'var_smoothing': array([1.00000000e+00, 8.11130831e-01, 6.57933225e-01, 5.33669923e-01,\n",
       "       4.32876128e-01, 3.51119173e-01, 2.84803587e-01, 2.31012970e-01,\n",
       "       1.87381742e-01, 1.51991108e-01, 1.23284674e-01, 1.00000000e-01,\n",
       "       8.11130831e-02, 6.57933225e-02, 5.33669923e-02, 4.32876128e-02,\n",
       "       3.51119173e-02, 2.84803587e-02, 2.31...\n",
       "       1.23284674e-07, 1.00000000e-07, 8.11130831e-08, 6.57933225e-08,\n",
       "       5.33669923e-08, 4.32876128e-08, 3.51119173e-08, 2.84803587e-08,\n",
       "       2.31012970e-08, 1.87381742e-08, 1.51991108e-08, 1.23284674e-08,\n",
       "       1.00000000e-08, 8.11130831e-09, 6.57933225e-09, 5.33669923e-09,\n",
       "       4.32876128e-09, 3.51119173e-09, 2.84803587e-09, 2.31012970e-09,\n",
       "       1.87381742e-09, 1.51991108e-09, 1.23284674e-09, 1.00000000e-09])},\n",
       "             scoring='accuracy', verbose=1)"
      ]
     },
     "execution_count": 111,
     "metadata": {},
     "output_type": "execute_result"
    }
   ],
   "source": [
    "from sklearn.preprocessing import PowerTransformer\n",
    "params_NB = {'var_smoothing': np.logspace(0,-9, num=100)}\n",
    "\n",
    "grid = GridSearchCV(GaussianNB(), \n",
    "                     param_grid=params_NB, \n",
    "                     cv=5,\n",
    "                     verbose=1, \n",
    "                     scoring='accuracy')\n",
    "\n",
    "Data_transformed = PowerTransformer().fit_transform(X_test)\n",
    "\n",
    "grid.fit(X_train, y_train)"
   ]
  },
  {
   "cell_type": "code",
   "execution_count": 112,
   "metadata": {},
   "outputs": [
    {
     "name": "stdout",
     "output_type": "stream",
     "text": [
      "              precision    recall  f1-score   support\n",
      "\n",
      "           0       1.00      0.08      0.16       213\n",
      "           1       0.64      0.36      0.46       209\n",
      "           2       0.38      0.48      0.42       221\n",
      "           3       0.50      0.71      0.59        96\n",
      "           4       0.60      0.68      0.64       327\n",
      "           5       0.33      0.75      0.46       173\n",
      "           6       0.39      0.18      0.25       140\n",
      "\n",
      "    accuracy                           0.47      1379\n",
      "   macro avg       0.55      0.46      0.42      1379\n",
      "weighted avg       0.57      0.47      0.44      1379\n",
      "\n"
     ]
    }
   ],
   "source": [
    "gauss_nb_prediction = grid.predict(X_test)\n",
    "print(classification_report(y_test, gauss_nb_prediction))"
   ]
  },
  {
   "cell_type": "code",
   "execution_count": 113,
   "metadata": {},
   "outputs": [
    {
     "data": {
      "image/png": "[encoded data removed]",
      "text/plain": [
       "<Figure size 432x288 with 2 Axes>"
      ]
     },
     "metadata": {},
     "output_type": "display_data"
    }
   ],
   "source": [
    "cm = confusion_matrix(y_test, multi_nb_prediction)\n",
    "cm_graph = metrics.ConfusionMatrixDisplay(confusion_matrix = cm)\n",
    "cm_graph.plot()\n",
    "plt.show()"
   ]
  },
  {
   "cell_type": "code",
   "execution_count": 107,
   "metadata": {},
   "outputs": [
    {
     "name": "stdout",
     "output_type": "stream",
     "text": [
      "Fitting 5 folds for each of 8 candidates, totalling 40 fits\n"
     ]
    },
    {
     "data": {
      "text/plain": [
       "GridSearchCV(cv=5, estimator=MultinomialNB(),\n",
       "             param_grid={'alpha': [0.01, 0.1, 1, 10],\n",
       "                         'fit_prior': ['True', 'False']},\n",
       "             scoring='accuracy', verbose=1)"
      ]
     },
     "execution_count": 107,
     "metadata": {},
     "output_type": "execute_result"
    }
   ],
   "source": [
    "params_NB = {'alpha': [0.01,0.1, 1, 10], \n",
    "            'fit_prior' : ['True', 'False'],\n",
    "            }\n",
    "\n",
    "grid = GridSearchCV(MultinomialNB(), \n",
    "                     param_grid=params_NB, \n",
    "                     cv=5,\n",
    "                     verbose=1, \n",
    "                     scoring='accuracy')\n",
    "\n",
    "Data_transformed = PowerTransformer().fit_transform(X_test)\n",
    "\n",
    "grid.fit(X_train, y_train)"
   ]
  },
  {
   "cell_type": "code",
   "execution_count": null,
   "metadata": {},
   "outputs": [],
   "source": []
  },
  {
   "cell_type": "code",
   "execution_count": null,
   "metadata": {},
   "outputs": [],
   "source": []
  },
  {
   "cell_type": "code",
   "execution_count": 103,
   "metadata": {
    "ExecuteTime": {
     "end_time": "2024-04-18T02:29:14.945446Z",
     "start_time": "2024-04-18T02:29:14.767785Z"
    }
   },
   "outputs": [
    {
     "name": "stdout",
     "output_type": "stream",
     "text": [
      "n_iterations: 2\n",
      "n_required_iterations: 2\n",
      "n_possible_iterations: 2\n",
      "min_resources_: 1837\n",
      "max_resources_: 5513\n",
      "aggressive_elimination: False\n",
      "factor: 3\n",
      "----------\n",
      "iter: 0\n",
      "n_candidates: 3\n",
      "n_resources: 1837\n",
      "Fitting 3 folds for each of 3 candidates, totalling 9 fits\n"
     ]
    },
    {
     "name": "stderr",
     "output_type": "stream",
     "text": [
      "/software/python3/3.6.5/lib/python3.6/site-packages/sklearn/model_selection/_search.py:921: UserWarning: One or more of the test scores are non-finite: [nan nan nan]\n",
      "  category=UserWarning\n",
      "/software/python3/3.6.5/lib/python3.6/site-packages/sklearn/model_selection/_search.py:921: UserWarning: One or more of the train scores are non-finite: [nan nan nan]\n",
      "  category=UserWarning\n"
     ]
    },
    {
     "name": "stdout",
     "output_type": "stream",
     "text": [
      "----------\n",
      "iter: 1\n",
      "n_candidates: 1\n",
      "n_resources: 5511\n",
      "Fitting 3 folds for each of 1 candidates, totalling 3 fits\n"
     ]
    },
    {
     "name": "stderr",
     "output_type": "stream",
     "text": [
      "/software/python3/3.6.5/lib/python3.6/site-packages/sklearn/model_selection/_search.py:921: UserWarning: One or more of the test scores are non-finite: [nan nan nan nan]\n",
      "  category=UserWarning\n",
      "/software/python3/3.6.5/lib/python3.6/site-packages/sklearn/model_selection/_search.py:921: UserWarning: One or more of the train scores are non-finite: [nan nan nan nan]\n",
      "  category=UserWarning\n"
     ]
    },
    {
     "ename": "TypeError",
     "evalue": "object of type 'int' has no len()",
     "output_type": "error",
     "traceback": [
      "\u001b[0;31m---------------------------------------------------------------------------\u001b[0m",
      "\u001b[0;31mTypeError\u001b[0m                                 Traceback (most recent call last)",
      "\u001b[0;32m<timed eval>\u001b[0m in \u001b[0;36m<module>\u001b[0;34m()\u001b[0m\n",
      "\u001b[0;32m/software/python3/3.6.5/lib/python3.6/site-packages/sklearn/model_selection/_search_successive_halving.py\u001b[0m in \u001b[0;36mfit\u001b[0;34m(self, X, y, groups, **fit_params)\u001b[0m\n\u001b[1;32m    211\u001b[0m         \u001b[0mself\u001b[0m\u001b[0;34m.\u001b[0m\u001b[0m_n_samples_orig\u001b[0m \u001b[0;34m=\u001b[0m \u001b[0m_num_samples\u001b[0m\u001b[0;34m(\u001b[0m\u001b[0mX\u001b[0m\u001b[0;34m)\u001b[0m\u001b[0;34m\u001b[0m\u001b[0m\n\u001b[1;32m    212\u001b[0m \u001b[0;34m\u001b[0m\u001b[0m\n\u001b[0;32m--> 213\u001b[0;31m         \u001b[0msuper\u001b[0m\u001b[0;34m(\u001b[0m\u001b[0;34m)\u001b[0m\u001b[0;34m.\u001b[0m\u001b[0mfit\u001b[0m\u001b[0;34m(\u001b[0m\u001b[0mX\u001b[0m\u001b[0;34m,\u001b[0m \u001b[0my\u001b[0m\u001b[0;34m=\u001b[0m\u001b[0my\u001b[0m\u001b[0;34m,\u001b[0m \u001b[0mgroups\u001b[0m\u001b[0;34m=\u001b[0m\u001b[0;32mNone\u001b[0m\u001b[0;34m,\u001b[0m \u001b[0;34m**\u001b[0m\u001b[0mfit_params\u001b[0m\u001b[0;34m)\u001b[0m\u001b[0;34m\u001b[0m\u001b[0m\n\u001b[0m\u001b[1;32m    214\u001b[0m \u001b[0;34m\u001b[0m\u001b[0m\n\u001b[1;32m    215\u001b[0m         \u001b[0;31m# Set best_score_: BaseSearchCV does not set it, as refit is a callable\u001b[0m\u001b[0;34m\u001b[0m\u001b[0;34m\u001b[0m\u001b[0m\n",
      "\u001b[0;32m/software/python3/3.6.5/lib/python3.6/site-packages/sklearn/utils/validation.py\u001b[0m in \u001b[0;36minner_f\u001b[0;34m(*args, **kwargs)\u001b[0m\n\u001b[1;32m     61\u001b[0m             \u001b[0mextra_args\u001b[0m \u001b[0;34m=\u001b[0m \u001b[0mlen\u001b[0m\u001b[0;34m(\u001b[0m\u001b[0margs\u001b[0m\u001b[0;34m)\u001b[0m \u001b[0;34m-\u001b[0m \u001b[0mlen\u001b[0m\u001b[0;34m(\u001b[0m\u001b[0mall_args\u001b[0m\u001b[0;34m)\u001b[0m\u001b[0;34m\u001b[0m\u001b[0m\n\u001b[1;32m     62\u001b[0m             \u001b[0;32mif\u001b[0m \u001b[0mextra_args\u001b[0m \u001b[0;34m<=\u001b[0m \u001b[0;36m0\u001b[0m\u001b[0;34m:\u001b[0m\u001b[0;34m\u001b[0m\u001b[0m\n\u001b[0;32m---> 63\u001b[0;31m                 \u001b[0;32mreturn\u001b[0m \u001b[0mf\u001b[0m\u001b[0;34m(\u001b[0m\u001b[0;34m*\u001b[0m\u001b[0margs\u001b[0m\u001b[0;34m,\u001b[0m \u001b[0;34m**\u001b[0m\u001b[0mkwargs\u001b[0m\u001b[0;34m)\u001b[0m\u001b[0;34m\u001b[0m\u001b[0m\n\u001b[0m\u001b[1;32m     64\u001b[0m \u001b[0;34m\u001b[0m\u001b[0m\n\u001b[1;32m     65\u001b[0m             \u001b[0;31m# extra_args > 0\u001b[0m\u001b[0;34m\u001b[0m\u001b[0;34m\u001b[0m\u001b[0m\n",
      "\u001b[0;32m/software/python3/3.6.5/lib/python3.6/site-packages/sklearn/model_selection/_search.py\u001b[0m in \u001b[0;36mfit\u001b[0;34m(self, X, y, groups, **fit_params)\u001b[0m\n\u001b[1;32m    878\u001b[0m             \u001b[0mrefit_start_time\u001b[0m \u001b[0;34m=\u001b[0m \u001b[0mtime\u001b[0m\u001b[0;34m.\u001b[0m\u001b[0mtime\u001b[0m\u001b[0;34m(\u001b[0m\u001b[0;34m)\u001b[0m\u001b[0;34m\u001b[0m\u001b[0m\n\u001b[1;32m    879\u001b[0m             \u001b[0;32mif\u001b[0m \u001b[0my\u001b[0m \u001b[0;32mis\u001b[0m \u001b[0;32mnot\u001b[0m \u001b[0;32mNone\u001b[0m\u001b[0;34m:\u001b[0m\u001b[0;34m\u001b[0m\u001b[0m\n\u001b[0;32m--> 880\u001b[0;31m                 \u001b[0mself\u001b[0m\u001b[0;34m.\u001b[0m\u001b[0mbest_estimator_\u001b[0m\u001b[0;34m.\u001b[0m\u001b[0mfit\u001b[0m\u001b[0;34m(\u001b[0m\u001b[0mX\u001b[0m\u001b[0;34m,\u001b[0m \u001b[0my\u001b[0m\u001b[0;34m,\u001b[0m \u001b[0;34m**\u001b[0m\u001b[0mfit_params\u001b[0m\u001b[0;34m)\u001b[0m\u001b[0;34m\u001b[0m\u001b[0m\n\u001b[0m\u001b[1;32m    881\u001b[0m             \u001b[0;32melse\u001b[0m\u001b[0;34m:\u001b[0m\u001b[0;34m\u001b[0m\u001b[0m\n\u001b[1;32m    882\u001b[0m                 \u001b[0mself\u001b[0m\u001b[0;34m.\u001b[0m\u001b[0mbest_estimator_\u001b[0m\u001b[0;34m.\u001b[0m\u001b[0mfit\u001b[0m\u001b[0;34m(\u001b[0m\u001b[0mX\u001b[0m\u001b[0;34m,\u001b[0m \u001b[0;34m**\u001b[0m\u001b[0mfit_params\u001b[0m\u001b[0;34m)\u001b[0m\u001b[0;34m\u001b[0m\u001b[0m\n",
      "\u001b[0;32m/software/python3/3.6.5/lib/python3.6/site-packages/sklearn/naive_bayes.py\u001b[0m in \u001b[0;36mfit\u001b[0;34m(self, X, y, sample_weight)\u001b[0m\n\u001b[1;32m    639\u001b[0m         \u001b[0malpha\u001b[0m \u001b[0;34m=\u001b[0m \u001b[0mself\u001b[0m\u001b[0;34m.\u001b[0m\u001b[0m_check_alpha\u001b[0m\u001b[0;34m(\u001b[0m\u001b[0;34m)\u001b[0m\u001b[0;34m\u001b[0m\u001b[0m\n\u001b[1;32m    640\u001b[0m         \u001b[0mself\u001b[0m\u001b[0;34m.\u001b[0m\u001b[0m_update_feature_log_prob\u001b[0m\u001b[0;34m(\u001b[0m\u001b[0malpha\u001b[0m\u001b[0;34m)\u001b[0m\u001b[0;34m\u001b[0m\u001b[0m\n\u001b[0;32m--> 641\u001b[0;31m         \u001b[0mself\u001b[0m\u001b[0;34m.\u001b[0m\u001b[0m_update_class_log_prior\u001b[0m\u001b[0;34m(\u001b[0m\u001b[0mclass_prior\u001b[0m\u001b[0;34m=\u001b[0m\u001b[0mclass_prior\u001b[0m\u001b[0;34m)\u001b[0m\u001b[0;34m\u001b[0m\u001b[0m\n\u001b[0m\u001b[1;32m    642\u001b[0m         \u001b[0;32mreturn\u001b[0m \u001b[0mself\u001b[0m\u001b[0;34m\u001b[0m\u001b[0m\n\u001b[1;32m    643\u001b[0m \u001b[0;34m\u001b[0m\u001b[0m\n",
      "\u001b[0;32m/software/python3/3.6.5/lib/python3.6/site-packages/sklearn/naive_bayes.py\u001b[0m in \u001b[0;36m_update_class_log_prior\u001b[0;34m(self, class_prior)\u001b[0m\n\u001b[1;32m    480\u001b[0m         \u001b[0mn_classes\u001b[0m \u001b[0;34m=\u001b[0m \u001b[0mlen\u001b[0m\u001b[0;34m(\u001b[0m\u001b[0mself\u001b[0m\u001b[0;34m.\u001b[0m\u001b[0mclasses_\u001b[0m\u001b[0;34m)\u001b[0m\u001b[0;34m\u001b[0m\u001b[0m\n\u001b[1;32m    481\u001b[0m         \u001b[0;32mif\u001b[0m \u001b[0mclass_prior\u001b[0m \u001b[0;32mis\u001b[0m \u001b[0;32mnot\u001b[0m \u001b[0;32mNone\u001b[0m\u001b[0;34m:\u001b[0m\u001b[0;34m\u001b[0m\u001b[0m\n\u001b[0;32m--> 482\u001b[0;31m             \u001b[0;32mif\u001b[0m \u001b[0mlen\u001b[0m\u001b[0;34m(\u001b[0m\u001b[0mclass_prior\u001b[0m\u001b[0;34m)\u001b[0m \u001b[0;34m!=\u001b[0m \u001b[0mn_classes\u001b[0m\u001b[0;34m:\u001b[0m\u001b[0;34m\u001b[0m\u001b[0m\n\u001b[0m\u001b[1;32m    483\u001b[0m                 raise ValueError(\"Number of priors must match number of\"\n\u001b[1;32m    484\u001b[0m                                  \" classes.\")\n",
      "\u001b[0;31mTypeError\u001b[0m: object of type 'int' has no len()"
     ]
    }
   ],
   "source": [
    "grid = HalvingGridSearchCV(MultinomialNB(), param_grid_multi, verbose = 3, cv = 3, n_jobs = -1, scoring = 'accuracy')\n",
    "%time grid.fit(X_train, y_train)"
   ]
  },
  {
   "cell_type": "code",
   "execution_count": 48,
   "metadata": {
    "ExecuteTime": {
     "end_time": "2024-04-18T02:29:23.269862Z",
     "start_time": "2024-04-18T02:29:23.252180Z"
    }
   },
   "outputs": [
    {
     "ename": "IndexError",
     "evalue": "index 1 is out of bounds for axis 1 with size 1",
     "output_type": "error",
     "traceback": [
      "\u001b[0;31m---------------------------------------------------------------------------\u001b[0m",
      "\u001b[0;31mIndexError\u001b[0m                                Traceback (most recent call last)",
      "\u001b[0;32m<ipython-input-48-9ff1565db5e7>\u001b[0m in \u001b[0;36m<module>\u001b[0;34m()\u001b[0m\n\u001b[0;32m----> 1\u001b[0;31m \u001b[0mgrid_predictions\u001b[0m \u001b[0;34m=\u001b[0m \u001b[0mgrid\u001b[0m\u001b[0;34m.\u001b[0m\u001b[0mpredict\u001b[0m\u001b[0;34m(\u001b[0m\u001b[0mX_test\u001b[0m\u001b[0;34m)\u001b[0m\u001b[0;34m\u001b[0m\u001b[0m\n\u001b[0m\u001b[1;32m      2\u001b[0m \u001b[0mprint\u001b[0m\u001b[0;34m(\u001b[0m\u001b[0mclassification_report\u001b[0m\u001b[0;34m(\u001b[0m\u001b[0my_test\u001b[0m\u001b[0;34m,\u001b[0m \u001b[0mgrid_predictions\u001b[0m\u001b[0;34m)\u001b[0m\u001b[0;34m)\u001b[0m\u001b[0;34m\u001b[0m\u001b[0m\n",
      "\u001b[0;32m/software/python3/3.6.5/lib/python3.6/site-packages/sklearn/utils/metaestimators.py\u001b[0m in \u001b[0;36m<lambda>\u001b[0;34m(*args, **kwargs)\u001b[0m\n\u001b[1;32m    118\u001b[0m \u001b[0;34m\u001b[0m\u001b[0m\n\u001b[1;32m    119\u001b[0m         \u001b[0;31m# lambda, but not partial, allows help() to work with update_wrapper\u001b[0m\u001b[0;34m\u001b[0m\u001b[0;34m\u001b[0m\u001b[0m\n\u001b[0;32m--> 120\u001b[0;31m         \u001b[0mout\u001b[0m \u001b[0;34m=\u001b[0m \u001b[0;32mlambda\u001b[0m \u001b[0;34m*\u001b[0m\u001b[0margs\u001b[0m\u001b[0;34m,\u001b[0m \u001b[0;34m**\u001b[0m\u001b[0mkwargs\u001b[0m\u001b[0;34m:\u001b[0m \u001b[0mself\u001b[0m\u001b[0;34m.\u001b[0m\u001b[0mfn\u001b[0m\u001b[0;34m(\u001b[0m\u001b[0mobj\u001b[0m\u001b[0;34m,\u001b[0m \u001b[0;34m*\u001b[0m\u001b[0margs\u001b[0m\u001b[0;34m,\u001b[0m \u001b[0;34m**\u001b[0m\u001b[0mkwargs\u001b[0m\u001b[0;34m)\u001b[0m\u001b[0;34m\u001b[0m\u001b[0m\n\u001b[0m\u001b[1;32m    121\u001b[0m         \u001b[0;31m# update the docstring of the returned function\u001b[0m\u001b[0;34m\u001b[0m\u001b[0;34m\u001b[0m\u001b[0m\n\u001b[1;32m    122\u001b[0m         \u001b[0mupdate_wrapper\u001b[0m\u001b[0;34m(\u001b[0m\u001b[0mout\u001b[0m\u001b[0;34m,\u001b[0m \u001b[0mself\u001b[0m\u001b[0;34m.\u001b[0m\u001b[0mfn\u001b[0m\u001b[0;34m)\u001b[0m\u001b[0;34m\u001b[0m\u001b[0m\n",
      "\u001b[0;32m/software/python3/3.6.5/lib/python3.6/site-packages/sklearn/model_selection/_search.py\u001b[0m in \u001b[0;36mpredict\u001b[0;34m(self, X)\u001b[0m\n\u001b[1;32m    538\u001b[0m         \"\"\"\n\u001b[1;32m    539\u001b[0m         \u001b[0mself\u001b[0m\u001b[0;34m.\u001b[0m\u001b[0m_check_is_fitted\u001b[0m\u001b[0;34m(\u001b[0m\u001b[0;34m'predict'\u001b[0m\u001b[0;34m)\u001b[0m\u001b[0;34m\u001b[0m\u001b[0m\n\u001b[0;32m--> 540\u001b[0;31m         \u001b[0;32mreturn\u001b[0m \u001b[0mself\u001b[0m\u001b[0;34m.\u001b[0m\u001b[0mbest_estimator_\u001b[0m\u001b[0;34m.\u001b[0m\u001b[0mpredict\u001b[0m\u001b[0;34m(\u001b[0m\u001b[0mX\u001b[0m\u001b[0;34m)\u001b[0m\u001b[0;34m\u001b[0m\u001b[0m\n\u001b[0m\u001b[1;32m    541\u001b[0m \u001b[0;34m\u001b[0m\u001b[0m\n\u001b[1;32m    542\u001b[0m     \u001b[0;34m@\u001b[0m\u001b[0mif_delegate_has_method\u001b[0m\u001b[0;34m(\u001b[0m\u001b[0mdelegate\u001b[0m\u001b[0;34m=\u001b[0m\u001b[0;34m(\u001b[0m\u001b[0;34m'best_estimator_'\u001b[0m\u001b[0;34m,\u001b[0m \u001b[0;34m'estimator'\u001b[0m\u001b[0;34m)\u001b[0m\u001b[0;34m)\u001b[0m\u001b[0;34m\u001b[0m\u001b[0m\n",
      "\u001b[0;32m/software/python3/3.6.5/lib/python3.6/site-packages/sklearn/naive_bayes.py\u001b[0m in \u001b[0;36mpredict\u001b[0;34m(self, X)\u001b[0m\n\u001b[1;32m     73\u001b[0m         \u001b[0mcheck_is_fitted\u001b[0m\u001b[0;34m(\u001b[0m\u001b[0mself\u001b[0m\u001b[0;34m)\u001b[0m\u001b[0;34m\u001b[0m\u001b[0m\n\u001b[1;32m     74\u001b[0m         \u001b[0mX\u001b[0m \u001b[0;34m=\u001b[0m \u001b[0mself\u001b[0m\u001b[0;34m.\u001b[0m\u001b[0m_check_X\u001b[0m\u001b[0;34m(\u001b[0m\u001b[0mX\u001b[0m\u001b[0;34m)\u001b[0m\u001b[0;34m\u001b[0m\u001b[0m\n\u001b[0;32m---> 75\u001b[0;31m         \u001b[0mjll\u001b[0m \u001b[0;34m=\u001b[0m \u001b[0mself\u001b[0m\u001b[0;34m.\u001b[0m\u001b[0m_joint_log_likelihood\u001b[0m\u001b[0;34m(\u001b[0m\u001b[0mX\u001b[0m\u001b[0;34m)\u001b[0m\u001b[0;34m\u001b[0m\u001b[0m\n\u001b[0m\u001b[1;32m     76\u001b[0m         \u001b[0;32mreturn\u001b[0m \u001b[0mself\u001b[0m\u001b[0;34m.\u001b[0m\u001b[0mclasses_\u001b[0m\u001b[0;34m[\u001b[0m\u001b[0mnp\u001b[0m\u001b[0;34m.\u001b[0m\u001b[0margmax\u001b[0m\u001b[0;34m(\u001b[0m\u001b[0mjll\u001b[0m\u001b[0;34m,\u001b[0m \u001b[0maxis\u001b[0m\u001b[0;34m=\u001b[0m\u001b[0;36m1\u001b[0m\u001b[0;34m)\u001b[0m\u001b[0;34m]\u001b[0m\u001b[0;34m\u001b[0m\u001b[0m\n\u001b[1;32m     77\u001b[0m \u001b[0;34m\u001b[0m\u001b[0m\n",
      "\u001b[0;32m/software/python3/3.6.5/lib/python3.6/site-packages/sklearn/naive_bayes.py\u001b[0m in \u001b[0;36m_joint_log_likelihood\u001b[0;34m(self, X)\u001b[0m\n\u001b[1;32m   1301\u001b[0m         \u001b[0;32mfor\u001b[0m \u001b[0mi\u001b[0m \u001b[0;32min\u001b[0m \u001b[0mrange\u001b[0m\u001b[0;34m(\u001b[0m\u001b[0mself\u001b[0m\u001b[0;34m.\u001b[0m\u001b[0mn_features_\u001b[0m\u001b[0;34m)\u001b[0m\u001b[0;34m:\u001b[0m\u001b[0;34m\u001b[0m\u001b[0m\n\u001b[1;32m   1302\u001b[0m             \u001b[0mindices\u001b[0m \u001b[0;34m=\u001b[0m \u001b[0mX\u001b[0m\u001b[0;34m[\u001b[0m\u001b[0;34m:\u001b[0m\u001b[0;34m,\u001b[0m \u001b[0mi\u001b[0m\u001b[0;34m]\u001b[0m\u001b[0;34m\u001b[0m\u001b[0m\n\u001b[0;32m-> 1303\u001b[0;31m             \u001b[0mjll\u001b[0m \u001b[0;34m+=\u001b[0m \u001b[0mself\u001b[0m\u001b[0;34m.\u001b[0m\u001b[0mfeature_log_prob_\u001b[0m\u001b[0;34m[\u001b[0m\u001b[0mi\u001b[0m\u001b[0;34m]\u001b[0m\u001b[0;34m[\u001b[0m\u001b[0;34m:\u001b[0m\u001b[0;34m,\u001b[0m \u001b[0mindices\u001b[0m\u001b[0;34m]\u001b[0m\u001b[0;34m.\u001b[0m\u001b[0mT\u001b[0m\u001b[0;34m\u001b[0m\u001b[0m\n\u001b[0m\u001b[1;32m   1304\u001b[0m         \u001b[0mtotal_ll\u001b[0m \u001b[0;34m=\u001b[0m \u001b[0mjll\u001b[0m \u001b[0;34m+\u001b[0m \u001b[0mself\u001b[0m\u001b[0;34m.\u001b[0m\u001b[0mclass_log_prior_\u001b[0m\u001b[0;34m\u001b[0m\u001b[0m\n\u001b[1;32m   1305\u001b[0m         \u001b[0;32mreturn\u001b[0m \u001b[0mtotal_ll\u001b[0m\u001b[0;34m\u001b[0m\u001b[0m\n",
      "\u001b[0;31mIndexError\u001b[0m: index 1 is out of bounds for axis 1 with size 1"
     ]
    }
   ],
   "source": [
    "grid_predictions = grid.predict(X_test)\n",
    "print(classification_report(y_test, grid_predictions))"
   ]
  },
  {
   "cell_type": "code",
   "execution_count": null,
   "metadata": {
    "ExecuteTime": {
     "end_time": "2024-04-18T02:29:18.606310Z",
     "start_time": "2024-04-18T02:29:18.578108Z"
    }
   },
   "outputs": [],
   "source": [
    "df_grid_nb = pd.DataFrame(grid.cv_results_)\n",
    "df_grid_nb.nlargest(5, ['rank_test_score'])"
   ]
  },
  {
   "cell_type": "code",
   "execution_count": null,
   "metadata": {
    "ExecuteTime": {
     "end_time": "2024-04-18T02:29:22.068674Z",
     "start_time": "2024-04-18T02:29:22.065464Z"
    }
   },
   "outputs": [],
   "source": [
    "print(grid.best_params_)\n",
    "print(grid.best_estimator_)"
   ]
  },
  {
   "cell_type": "code",
   "execution_count": null,
   "metadata": {
    "ExecuteTime": {
     "end_time": "2024-04-18T02:29:30.290617Z",
     "start_time": "2024-04-18T02:29:29.371596Z"
    }
   },
   "outputs": [],
   "source": [
    "cm = confusion_matrix(y_test, grid_predictions)\n",
    "cm_graph = metrics.ConfusionMatrixDisplay(confusion_matrix = cm)\n",
    "cm_graph.plot()\n",
    "plt.show()"
   ]
  },
  {
   "cell_type": "code",
   "execution_count": null,
   "metadata": {},
   "outputs": [],
   "source": []
  }
 ],
 "metadata": {
  "kernelspec": {
   "display_name": "Python 3 (3.6.5)",
   "language": "python",
   "name": "python3"
  },
  "language_info": {
   "codemirror_mode": {
    "name": "ipython",
    "version": 3
   },
   "file_extension": ".py",
   "mimetype": "text/x-python",
   "name": "python",
   "nbconvert_exporter": "python",
   "pygments_lexer": "ipython3",
   "version": "3.6.5"
  }
 },
 "nbformat": 4,
 "nbformat_minor": 5
}
