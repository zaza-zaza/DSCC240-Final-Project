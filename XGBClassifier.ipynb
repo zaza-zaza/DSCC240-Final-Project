{
 "cells": [
  {
   "cell_type": "markdown",
   "metadata": {},
   "source": [
    "# XGBoost"
   ]
  },
  {
   "cell_type": "code",
   "execution_count": 318,
   "metadata": {
    "ExecuteTime": {
     "end_time": "2024-04-21T23:49:01.935952Z",
     "start_time": "2024-04-21T23:48:59.519273Z"
    }
   },
   "outputs": [
    {
     "name": "stdout",
     "output_type": "stream",
     "text": [
      "Defaulting to user installation because normal site-packages is not writeable\r\n",
      "Requirement already satisfied: xgboost in /gpfs/fs1/home/zgarson/.local/lib/python3.6/site-packages (1.5.2)\r\n",
      "Requirement already satisfied: scipy in /gpfs/fs1/sfw2/python3/3.6.5/lib/python3.6/site-packages (from xgboost) (1.5.4)\r\n",
      "Requirement already satisfied: numpy in /gpfs/fs1/sfw2/python3/3.6.5/lib/python3.6/site-packages (from xgboost) (1.18.4)\r\n"
     ]
    }
   ],
   "source": [
    "!pip install xgboost"
   ]
  },
  {
   "cell_type": "code",
   "execution_count": 319,
   "metadata": {
    "ExecuteTime": {
     "end_time": "2024-04-21T23:49:01.942390Z",
     "start_time": "2024-04-21T23:49:01.937842Z"
    }
   },
   "outputs": [],
   "source": [
    "import pandas as pd\n",
    "import numpy as np\n",
    "\n",
    "# visual\n",
    "import matplotlib.pyplot as plt\n",
    "\n",
    "# sklearn\n",
    "from sklearn.metrics import confusion_matrix, rand_score, accuracy_score\n",
    "from sklearn.experimental import enable_halving_search_cv\n",
    "from sklearn.model_selection import train_test_split, HalvingGridSearchCV\n",
    "from sklearn.preprocessing import LabelEncoder\n",
    "from sklearn import metrics\n",
    "\n",
    "# xgboost\n",
    "\n",
    "import xgboost as xgb\n",
    "from xgboost import XGBClassifier"
   ]
  },
  {
   "cell_type": "markdown",
   "metadata": {},
   "source": [
    "## Data step"
   ]
  },
  {
   "cell_type": "markdown",
   "metadata": {},
   "source": [
    "### Noise"
   ]
  },
  {
   "cell_type": "code",
   "execution_count": 320,
   "metadata": {
    "ExecuteTime": {
     "end_time": "2024-04-21T23:49:01.970109Z",
     "start_time": "2024-04-21T23:49:01.943928Z"
    }
   },
   "outputs": [],
   "source": [
    "lst_str_cols = ['move']\n",
    "dict_dtypes = {x: 'str' for x in lst_str_cols}\n",
    "data = pd.read_csv('data_noise.csv', dtype=dict_dtypes)\n",
    "df_noise = pd.DataFrame(data = data)\n",
    "df_noise = df_noise.drop(['Unnamed: 0'], axis = 1)"
   ]
  },
  {
   "cell_type": "code",
   "execution_count": 321,
   "metadata": {
    "ExecuteTime": {
     "end_time": "2024-04-21T23:49:01.987439Z",
     "start_time": "2024-04-21T23:49:01.971672Z"
    }
   },
   "outputs": [
    {
     "data": {
      "text/html": [
       "<div>\n",
       "<style scoped>\n",
       "    .dataframe tbody tr th:only-of-type {\n",
       "        vertical-align: middle;\n",
       "    }\n",
       "\n",
       "    .dataframe tbody tr th {\n",
       "        vertical-align: top;\n",
       "    }\n",
       "\n",
       "    .dataframe thead th {\n",
       "        text-align: right;\n",
       "    }\n",
       "</style>\n",
       "<table border=\"1\" class=\"dataframe\">\n",
       "  <thead>\n",
       "    <tr style=\"text-align: right;\">\n",
       "      <th></th>\n",
       "      <th>BallAcceleration</th>\n",
       "      <th>Time</th>\n",
       "      <th>DistanceWall</th>\n",
       "      <th>DistanceCeil</th>\n",
       "      <th>DistanceBall</th>\n",
       "      <th>PlayerSpeed</th>\n",
       "      <th>BallSpeed</th>\n",
       "      <th>goal</th>\n",
       "      <th>Class</th>\n",
       "      <th>move</th>\n",
       "    </tr>\n",
       "  </thead>\n",
       "  <tbody>\n",
       "    <tr>\n",
       "      <th>0</th>\n",
       "      <td>0.522863</td>\n",
       "      <td>0.000000</td>\n",
       "      <td>0.012304</td>\n",
       "      <td>0.498257</td>\n",
       "      <td>0.025869</td>\n",
       "      <td>0.453272</td>\n",
       "      <td>0.300277</td>\n",
       "      <td>0</td>\n",
       "      <td>Front Flick</td>\n",
       "      <td>3</td>\n",
       "    </tr>\n",
       "    <tr>\n",
       "      <th>1</th>\n",
       "      <td>0.525408</td>\n",
       "      <td>0.010311</td>\n",
       "      <td>0.012290</td>\n",
       "      <td>0.498257</td>\n",
       "      <td>0.018490</td>\n",
       "      <td>0.540155</td>\n",
       "      <td>0.309974</td>\n",
       "      <td>0</td>\n",
       "      <td>Front Flick</td>\n",
       "      <td>22</td>\n",
       "    </tr>\n",
       "    <tr>\n",
       "      <th>2</th>\n",
       "      <td>0.520195</td>\n",
       "      <td>0.012889</td>\n",
       "      <td>0.012290</td>\n",
       "      <td>0.498257</td>\n",
       "      <td>0.019278</td>\n",
       "      <td>0.540155</td>\n",
       "      <td>0.312201</td>\n",
       "      <td>0</td>\n",
       "      <td>Front Flick</td>\n",
       "      <td>18</td>\n",
       "    </tr>\n",
       "    <tr>\n",
       "      <th>3</th>\n",
       "      <td>0.536357</td>\n",
       "      <td>0.023200</td>\n",
       "      <td>0.012311</td>\n",
       "      <td>0.498257</td>\n",
       "      <td>0.010238</td>\n",
       "      <td>0.501020</td>\n",
       "      <td>0.342262</td>\n",
       "      <td>0</td>\n",
       "      <td>Front Flick</td>\n",
       "      <td>2</td>\n",
       "    </tr>\n",
       "    <tr>\n",
       "      <th>4</th>\n",
       "      <td>0.529825</td>\n",
       "      <td>0.046400</td>\n",
       "      <td>0.012387</td>\n",
       "      <td>0.498262</td>\n",
       "      <td>0.010521</td>\n",
       "      <td>0.543821</td>\n",
       "      <td>0.360175</td>\n",
       "      <td>0</td>\n",
       "      <td>Front Flick</td>\n",
       "      <td>3</td>\n",
       "    </tr>\n",
       "  </tbody>\n",
       "</table>\n",
       "</div>"
      ],
      "text/plain": [
       "   BallAcceleration      Time  DistanceWall  DistanceCeil  DistanceBall  \\\n",
       "0          0.522863  0.000000      0.012304      0.498257      0.025869   \n",
       "1          0.525408  0.010311      0.012290      0.498257      0.018490   \n",
       "2          0.520195  0.012889      0.012290      0.498257      0.019278   \n",
       "3          0.536357  0.023200      0.012311      0.498257      0.010238   \n",
       "4          0.529825  0.046400      0.012387      0.498262      0.010521   \n",
       "\n",
       "   PlayerSpeed  BallSpeed  goal        Class move  \n",
       "0     0.453272   0.300277     0  Front Flick    3  \n",
       "1     0.540155   0.309974     0  Front Flick   22  \n",
       "2     0.540155   0.312201     0  Front Flick   18  \n",
       "3     0.501020   0.342262     0  Front Flick    2  \n",
       "4     0.543821   0.360175     0  Front Flick    3  "
      ]
     },
     "execution_count": 321,
     "metadata": {},
     "output_type": "execute_result"
    }
   ],
   "source": [
    "df_noise.head()"
   ]
  },
  {
   "cell_type": "code",
   "execution_count": 322,
   "metadata": {
    "ExecuteTime": {
     "end_time": "2024-04-21T23:49:01.999426Z",
     "start_time": "2024-04-21T23:49:01.988900Z"
    }
   },
   "outputs": [
    {
     "data": {
      "text/plain": [
       "BallAcceleration    float64\n",
       "Time                float64\n",
       "DistanceWall        float64\n",
       "DistanceCeil        float64\n",
       "DistanceBall        float64\n",
       "PlayerSpeed         float64\n",
       "BallSpeed           float64\n",
       "goal                  int64\n",
       "Class                object\n",
       "move                 object\n",
       "dtype: object"
      ]
     },
     "execution_count": 322,
     "metadata": {},
     "output_type": "execute_result"
    }
   ],
   "source": [
    "df_noise.dtypes"
   ]
  },
  {
   "cell_type": "code",
   "execution_count": 323,
   "metadata": {
    "ExecuteTime": {
     "end_time": "2024-04-21T23:49:02.007376Z",
     "start_time": "2024-04-21T23:49:02.000896Z"
    }
   },
   "outputs": [
    {
     "data": {
      "text/plain": [
       "BallAcceleration    float64\n",
       "Time                float64\n",
       "DistanceWall        float64\n",
       "DistanceCeil        float64\n",
       "DistanceBall        float64\n",
       "PlayerSpeed         float64\n",
       "BallSpeed           float64\n",
       "goal                  int64\n",
       "Class                object\n",
       "move                 object\n",
       "dtype: object"
      ]
     },
     "execution_count": 323,
     "metadata": {},
     "output_type": "execute_result"
    }
   ],
   "source": [
    "df_noise.dtypes"
   ]
  },
  {
   "cell_type": "code",
   "execution_count": 324,
   "metadata": {
    "ExecuteTime": {
     "end_time": "2024-04-21T23:49:02.021028Z",
     "start_time": "2024-04-21T23:49:02.008787Z"
    }
   },
   "outputs": [
    {
     "name": "stdout",
     "output_type": "stream",
     "text": [
      "0    2\n",
      "1    2\n",
      "2    2\n",
      "3    2\n",
      "4    2\n",
      "Name: Class, dtype: int64\n",
      "['Air Dribble' 'Ceiling Shot' 'Front Flick' 'Musty Flick' 'Noise'\n",
      " 'Power Shot' 'Waving Dash']\n",
      "{0: array(['Air Dribble'], dtype=object), 1: array(['Ceiling Shot'], dtype=object), 2: array(['Front Flick'], dtype=object), 3: array(['Musty Flick'], dtype=object), 4: array(['Noise'], dtype=object), 5: array(['Power Shot'], dtype=object), 6: array(['Waving Dash'], dtype=object)}\n"
     ]
    }
   ],
   "source": [
    "# encoding the class labels\n",
    "\n",
    "le1 = LabelEncoder()\n",
    "df_noise['Class'] = le1.fit_transform(df_noise['Class']) \n",
    "print(df_noise['Class'].head())\n",
    "print(le1.inverse_transform([0, 1, 2, 3, 4, 5, 6]))\n",
    "\n",
    "label_dict = {\n",
    "    0 : le1.inverse_transform([0]),\n",
    "    1 : le1.inverse_transform([1]),\n",
    "    2 : le1.inverse_transform([2]),\n",
    "    3 : le1.inverse_transform([3]),\n",
    "    4 : le1.inverse_transform([4]),\n",
    "    5 : le1.inverse_transform([5]),\n",
    "    6 : le1.inverse_transform([6]),\n",
    "}\n",
    "print(label_dict)\n"
   ]
  },
  {
   "cell_type": "code",
   "execution_count": 325,
   "metadata": {
    "ExecuteTime": {
     "end_time": "2024-04-21T23:49:02.028936Z",
     "start_time": "2024-04-21T23:49:02.022516Z"
    }
   },
   "outputs": [],
   "source": [
    "# converting Class and move to type(int)\n",
    "\n",
    "df_noise['Class'] = df_noise['Class'].astype('int')\n",
    "df_noise['move'] = df_noise['move'].astype('int')"
   ]
  },
  {
   "cell_type": "markdown",
   "metadata": {},
   "source": [
    "### Clean"
   ]
  },
  {
   "cell_type": "code",
   "execution_count": 326,
   "metadata": {
    "ExecuteTime": {
     "end_time": "2024-04-21T23:49:02.051533Z",
     "start_time": "2024-04-21T23:49:02.030396Z"
    }
   },
   "outputs": [],
   "source": [
    "lst_str_cols = ['move']\n",
    "dict_dtypes = {x: 'str' for x in lst_str_cols}\n",
    "data = pd.read_csv('data_clean.csv', dtype=dict_dtypes)\n",
    "df_clean= pd.DataFrame(data = data)\n",
    "df_clean = df_clean.drop(['Unnamed: 0'], axis = 1)"
   ]
  },
  {
   "cell_type": "code",
   "execution_count": 327,
   "metadata": {
    "ExecuteTime": {
     "end_time": "2024-04-21T23:49:02.067887Z",
     "start_time": "2024-04-21T23:49:02.053046Z"
    }
   },
   "outputs": [
    {
     "data": {
      "text/html": [
       "<div>\n",
       "<style scoped>\n",
       "    .dataframe tbody tr th:only-of-type {\n",
       "        vertical-align: middle;\n",
       "    }\n",
       "\n",
       "    .dataframe tbody tr th {\n",
       "        vertical-align: top;\n",
       "    }\n",
       "\n",
       "    .dataframe thead th {\n",
       "        text-align: right;\n",
       "    }\n",
       "</style>\n",
       "<table border=\"1\" class=\"dataframe\">\n",
       "  <thead>\n",
       "    <tr style=\"text-align: right;\">\n",
       "      <th></th>\n",
       "      <th>BallAcceleration</th>\n",
       "      <th>Time</th>\n",
       "      <th>DistanceWall</th>\n",
       "      <th>DistanceCeil</th>\n",
       "      <th>DistanceBall</th>\n",
       "      <th>PlayerSpeed</th>\n",
       "      <th>BallSpeed</th>\n",
       "      <th>goal</th>\n",
       "      <th>Class</th>\n",
       "      <th>move</th>\n",
       "    </tr>\n",
       "  </thead>\n",
       "  <tbody>\n",
       "    <tr>\n",
       "      <th>0</th>\n",
       "      <td>0.522863</td>\n",
       "      <td>0.000000</td>\n",
       "      <td>0.012304</td>\n",
       "      <td>0.498257</td>\n",
       "      <td>0.025869</td>\n",
       "      <td>0.453272</td>\n",
       "      <td>0.300277</td>\n",
       "      <td>0</td>\n",
       "      <td>Front Flick</td>\n",
       "      <td>3</td>\n",
       "    </tr>\n",
       "    <tr>\n",
       "      <th>1</th>\n",
       "      <td>0.525408</td>\n",
       "      <td>0.010311</td>\n",
       "      <td>0.012290</td>\n",
       "      <td>0.498257</td>\n",
       "      <td>0.018490</td>\n",
       "      <td>0.540155</td>\n",
       "      <td>0.309974</td>\n",
       "      <td>0</td>\n",
       "      <td>Front Flick</td>\n",
       "      <td>22</td>\n",
       "    </tr>\n",
       "    <tr>\n",
       "      <th>2</th>\n",
       "      <td>0.520195</td>\n",
       "      <td>0.012889</td>\n",
       "      <td>0.012290</td>\n",
       "      <td>0.498257</td>\n",
       "      <td>0.019278</td>\n",
       "      <td>0.540155</td>\n",
       "      <td>0.312201</td>\n",
       "      <td>0</td>\n",
       "      <td>Front Flick</td>\n",
       "      <td>18</td>\n",
       "    </tr>\n",
       "    <tr>\n",
       "      <th>3</th>\n",
       "      <td>0.536357</td>\n",
       "      <td>0.023200</td>\n",
       "      <td>0.012311</td>\n",
       "      <td>0.498257</td>\n",
       "      <td>0.010238</td>\n",
       "      <td>0.501020</td>\n",
       "      <td>0.342262</td>\n",
       "      <td>0</td>\n",
       "      <td>Front Flick</td>\n",
       "      <td>2</td>\n",
       "    </tr>\n",
       "    <tr>\n",
       "      <th>4</th>\n",
       "      <td>0.529825</td>\n",
       "      <td>0.046400</td>\n",
       "      <td>0.012387</td>\n",
       "      <td>0.498262</td>\n",
       "      <td>0.010521</td>\n",
       "      <td>0.543821</td>\n",
       "      <td>0.360175</td>\n",
       "      <td>0</td>\n",
       "      <td>Front Flick</td>\n",
       "      <td>3</td>\n",
       "    </tr>\n",
       "  </tbody>\n",
       "</table>\n",
       "</div>"
      ],
      "text/plain": [
       "   BallAcceleration      Time  DistanceWall  DistanceCeil  DistanceBall  \\\n",
       "0          0.522863  0.000000      0.012304      0.498257      0.025869   \n",
       "1          0.525408  0.010311      0.012290      0.498257      0.018490   \n",
       "2          0.520195  0.012889      0.012290      0.498257      0.019278   \n",
       "3          0.536357  0.023200      0.012311      0.498257      0.010238   \n",
       "4          0.529825  0.046400      0.012387      0.498262      0.010521   \n",
       "\n",
       "   PlayerSpeed  BallSpeed  goal        Class move  \n",
       "0     0.453272   0.300277     0  Front Flick    3  \n",
       "1     0.540155   0.309974     0  Front Flick   22  \n",
       "2     0.540155   0.312201     0  Front Flick   18  \n",
       "3     0.501020   0.342262     0  Front Flick    2  \n",
       "4     0.543821   0.360175     0  Front Flick    3  "
      ]
     },
     "execution_count": 327,
     "metadata": {},
     "output_type": "execute_result"
    }
   ],
   "source": [
    "df_clean.head()"
   ]
  },
  {
   "cell_type": "code",
   "execution_count": 328,
   "metadata": {
    "ExecuteTime": {
     "end_time": "2024-04-21T23:49:02.080440Z",
     "start_time": "2024-04-21T23:49:02.069490Z"
    }
   },
   "outputs": [
    {
     "name": "stdout",
     "output_type": "stream",
     "text": [
      "0    2\n",
      "1    2\n",
      "2    2\n",
      "3    2\n",
      "4    2\n",
      "Name: Class, dtype: int64\n",
      "['Air Dribble' 'Ceiling Shot' 'Front Flick' 'Musty Flick' 'Power Shot'\n",
      " 'Waving Dash']\n",
      "{0: array(['Air Dribble'], dtype=object), 1: array(['Ceiling Shot'], dtype=object), 2: array(['Front Flick'], dtype=object), 3: array(['Musty Flick'], dtype=object), 4: array(['Noise'], dtype=object), 5: array(['Power Shot'], dtype=object)}\n"
     ]
    }
   ],
   "source": [
    "# encoding the class labels\n",
    "\n",
    "le2 = LabelEncoder()\n",
    "df_clean['Class'] = le2.fit_transform(df_clean['Class'])\n",
    "print(df_clean['Class'].head())\n",
    "print(le2.inverse_transform([0, 1, 2, 3, 4, 5]))\n",
    "\n",
    "label_dict = {\n",
    "    0 : le1.inverse_transform([0]),\n",
    "    1 : le1.inverse_transform([1]),\n",
    "    2 : le1.inverse_transform([2]),\n",
    "    3 : le1.inverse_transform([3]),\n",
    "    4 : le1.inverse_transform([4]),\n",
    "    5 : le1.inverse_transform([5]),\n",
    "}\n",
    "print(label_dict)"
   ]
  },
  {
   "cell_type": "code",
   "execution_count": 329,
   "metadata": {
    "ExecuteTime": {
     "end_time": "2024-04-21T23:49:02.087883Z",
     "start_time": "2024-04-21T23:49:02.081941Z"
    }
   },
   "outputs": [],
   "source": [
    "df_clean['Class'] = df_clean['Class'].astype('int')\n",
    "df_clean['move'] = df_clean['move'].astype('int')"
   ]
  },
  {
   "cell_type": "markdown",
   "metadata": {},
   "source": [
    "## Train test split"
   ]
  },
  {
   "cell_type": "code",
   "execution_count": 330,
   "metadata": {
    "ExecuteTime": {
     "end_time": "2024-04-21T23:49:02.099089Z",
     "start_time": "2024-04-21T23:49:02.089550Z"
    }
   },
   "outputs": [],
   "source": [
    "df_noise_no_target = df_noise.drop(columns = ['Class'])"
   ]
  },
  {
   "cell_type": "code",
   "execution_count": 331,
   "metadata": {
    "ExecuteTime": {
     "end_time": "2024-04-21T23:49:02.115569Z",
     "start_time": "2024-04-21T23:49:02.100585Z"
    }
   },
   "outputs": [
    {
     "data": {
      "text/html": [
       "<div>\n",
       "<style scoped>\n",
       "    .dataframe tbody tr th:only-of-type {\n",
       "        vertical-align: middle;\n",
       "    }\n",
       "\n",
       "    .dataframe tbody tr th {\n",
       "        vertical-align: top;\n",
       "    }\n",
       "\n",
       "    .dataframe thead th {\n",
       "        text-align: right;\n",
       "    }\n",
       "</style>\n",
       "<table border=\"1\" class=\"dataframe\">\n",
       "  <thead>\n",
       "    <tr style=\"text-align: right;\">\n",
       "      <th></th>\n",
       "      <th>BallAcceleration</th>\n",
       "      <th>Time</th>\n",
       "      <th>DistanceWall</th>\n",
       "      <th>DistanceCeil</th>\n",
       "      <th>DistanceBall</th>\n",
       "      <th>PlayerSpeed</th>\n",
       "      <th>BallSpeed</th>\n",
       "      <th>goal</th>\n",
       "      <th>move</th>\n",
       "    </tr>\n",
       "  </thead>\n",
       "  <tbody>\n",
       "    <tr>\n",
       "      <th>0</th>\n",
       "      <td>0.522863</td>\n",
       "      <td>0.000000</td>\n",
       "      <td>0.012304</td>\n",
       "      <td>0.498257</td>\n",
       "      <td>0.025869</td>\n",
       "      <td>0.453272</td>\n",
       "      <td>0.300277</td>\n",
       "      <td>0</td>\n",
       "      <td>3</td>\n",
       "    </tr>\n",
       "    <tr>\n",
       "      <th>1</th>\n",
       "      <td>0.525408</td>\n",
       "      <td>0.010311</td>\n",
       "      <td>0.012290</td>\n",
       "      <td>0.498257</td>\n",
       "      <td>0.018490</td>\n",
       "      <td>0.540155</td>\n",
       "      <td>0.309974</td>\n",
       "      <td>0</td>\n",
       "      <td>22</td>\n",
       "    </tr>\n",
       "    <tr>\n",
       "      <th>2</th>\n",
       "      <td>0.520195</td>\n",
       "      <td>0.012889</td>\n",
       "      <td>0.012290</td>\n",
       "      <td>0.498257</td>\n",
       "      <td>0.019278</td>\n",
       "      <td>0.540155</td>\n",
       "      <td>0.312201</td>\n",
       "      <td>0</td>\n",
       "      <td>18</td>\n",
       "    </tr>\n",
       "    <tr>\n",
       "      <th>3</th>\n",
       "      <td>0.536357</td>\n",
       "      <td>0.023200</td>\n",
       "      <td>0.012311</td>\n",
       "      <td>0.498257</td>\n",
       "      <td>0.010238</td>\n",
       "      <td>0.501020</td>\n",
       "      <td>0.342262</td>\n",
       "      <td>0</td>\n",
       "      <td>2</td>\n",
       "    </tr>\n",
       "    <tr>\n",
       "      <th>4</th>\n",
       "      <td>0.529825</td>\n",
       "      <td>0.046400</td>\n",
       "      <td>0.012387</td>\n",
       "      <td>0.498262</td>\n",
       "      <td>0.010521</td>\n",
       "      <td>0.543821</td>\n",
       "      <td>0.360175</td>\n",
       "      <td>0</td>\n",
       "      <td>3</td>\n",
       "    </tr>\n",
       "  </tbody>\n",
       "</table>\n",
       "</div>"
      ],
      "text/plain": [
       "   BallAcceleration      Time  DistanceWall  DistanceCeil  DistanceBall  \\\n",
       "0          0.522863  0.000000      0.012304      0.498257      0.025869   \n",
       "1          0.525408  0.010311      0.012290      0.498257      0.018490   \n",
       "2          0.520195  0.012889      0.012290      0.498257      0.019278   \n",
       "3          0.536357  0.023200      0.012311      0.498257      0.010238   \n",
       "4          0.529825  0.046400      0.012387      0.498262      0.010521   \n",
       "\n",
       "   PlayerSpeed  BallSpeed  goal  move  \n",
       "0     0.453272   0.300277     0     3  \n",
       "1     0.540155   0.309974     0    22  \n",
       "2     0.540155   0.312201     0    18  \n",
       "3     0.501020   0.342262     0     2  \n",
       "4     0.543821   0.360175     0     3  "
      ]
     },
     "execution_count": 331,
     "metadata": {},
     "output_type": "execute_result"
    }
   ],
   "source": [
    "df_noise_no_target.head()"
   ]
  },
  {
   "cell_type": "code",
   "execution_count": 332,
   "metadata": {
    "ExecuteTime": {
     "end_time": "2024-04-21T23:49:02.123582Z",
     "start_time": "2024-04-21T23:49:02.117093Z"
    }
   },
   "outputs": [],
   "source": [
    "# noisy data\n",
    "X = df_noise_no_target\n",
    "y = df_noise['Class']\n",
    "X_train, X_test, y_train, y_test = train_test_split(X, y, test_size=0.2, random_state=0)"
   ]
  },
  {
   "cell_type": "code",
   "execution_count": 333,
   "metadata": {
    "ExecuteTime": {
     "end_time": "2024-04-21T23:49:02.129522Z",
     "start_time": "2024-04-21T23:49:02.125243Z"
    }
   },
   "outputs": [],
   "source": [
    "df_clean_no_target = df_clean.drop(columns = ['Class'])"
   ]
  },
  {
   "cell_type": "code",
   "execution_count": 334,
   "metadata": {
    "ExecuteTime": {
     "end_time": "2024-04-21T23:49:02.146202Z",
     "start_time": "2024-04-21T23:49:02.130943Z"
    }
   },
   "outputs": [
    {
     "data": {
      "text/html": [
       "<div>\n",
       "<style scoped>\n",
       "    .dataframe tbody tr th:only-of-type {\n",
       "        vertical-align: middle;\n",
       "    }\n",
       "\n",
       "    .dataframe tbody tr th {\n",
       "        vertical-align: top;\n",
       "    }\n",
       "\n",
       "    .dataframe thead th {\n",
       "        text-align: right;\n",
       "    }\n",
       "</style>\n",
       "<table border=\"1\" class=\"dataframe\">\n",
       "  <thead>\n",
       "    <tr style=\"text-align: right;\">\n",
       "      <th></th>\n",
       "      <th>BallAcceleration</th>\n",
       "      <th>Time</th>\n",
       "      <th>DistanceWall</th>\n",
       "      <th>DistanceCeil</th>\n",
       "      <th>DistanceBall</th>\n",
       "      <th>PlayerSpeed</th>\n",
       "      <th>BallSpeed</th>\n",
       "      <th>goal</th>\n",
       "      <th>move</th>\n",
       "    </tr>\n",
       "  </thead>\n",
       "  <tbody>\n",
       "    <tr>\n",
       "      <th>0</th>\n",
       "      <td>0.522863</td>\n",
       "      <td>0.000000</td>\n",
       "      <td>0.012304</td>\n",
       "      <td>0.498257</td>\n",
       "      <td>0.025869</td>\n",
       "      <td>0.453272</td>\n",
       "      <td>0.300277</td>\n",
       "      <td>0</td>\n",
       "      <td>3</td>\n",
       "    </tr>\n",
       "    <tr>\n",
       "      <th>1</th>\n",
       "      <td>0.525408</td>\n",
       "      <td>0.010311</td>\n",
       "      <td>0.012290</td>\n",
       "      <td>0.498257</td>\n",
       "      <td>0.018490</td>\n",
       "      <td>0.540155</td>\n",
       "      <td>0.309974</td>\n",
       "      <td>0</td>\n",
       "      <td>22</td>\n",
       "    </tr>\n",
       "    <tr>\n",
       "      <th>2</th>\n",
       "      <td>0.520195</td>\n",
       "      <td>0.012889</td>\n",
       "      <td>0.012290</td>\n",
       "      <td>0.498257</td>\n",
       "      <td>0.019278</td>\n",
       "      <td>0.540155</td>\n",
       "      <td>0.312201</td>\n",
       "      <td>0</td>\n",
       "      <td>18</td>\n",
       "    </tr>\n",
       "    <tr>\n",
       "      <th>3</th>\n",
       "      <td>0.536357</td>\n",
       "      <td>0.023200</td>\n",
       "      <td>0.012311</td>\n",
       "      <td>0.498257</td>\n",
       "      <td>0.010238</td>\n",
       "      <td>0.501020</td>\n",
       "      <td>0.342262</td>\n",
       "      <td>0</td>\n",
       "      <td>2</td>\n",
       "    </tr>\n",
       "    <tr>\n",
       "      <th>4</th>\n",
       "      <td>0.529825</td>\n",
       "      <td>0.046400</td>\n",
       "      <td>0.012387</td>\n",
       "      <td>0.498262</td>\n",
       "      <td>0.010521</td>\n",
       "      <td>0.543821</td>\n",
       "      <td>0.360175</td>\n",
       "      <td>0</td>\n",
       "      <td>3</td>\n",
       "    </tr>\n",
       "  </tbody>\n",
       "</table>\n",
       "</div>"
      ],
      "text/plain": [
       "   BallAcceleration      Time  DistanceWall  DistanceCeil  DistanceBall  \\\n",
       "0          0.522863  0.000000      0.012304      0.498257      0.025869   \n",
       "1          0.525408  0.010311      0.012290      0.498257      0.018490   \n",
       "2          0.520195  0.012889      0.012290      0.498257      0.019278   \n",
       "3          0.536357  0.023200      0.012311      0.498257      0.010238   \n",
       "4          0.529825  0.046400      0.012387      0.498262      0.010521   \n",
       "\n",
       "   PlayerSpeed  BallSpeed  goal  move  \n",
       "0     0.453272   0.300277     0     3  \n",
       "1     0.540155   0.309974     0    22  \n",
       "2     0.540155   0.312201     0    18  \n",
       "3     0.501020   0.342262     0     2  \n",
       "4     0.543821   0.360175     0     3  "
      ]
     },
     "execution_count": 334,
     "metadata": {},
     "output_type": "execute_result"
    }
   ],
   "source": [
    "df_clean_no_target.head()"
   ]
  },
  {
   "cell_type": "code",
   "execution_count": 335,
   "metadata": {
    "ExecuteTime": {
     "end_time": "2024-04-21T23:49:02.154360Z",
     "start_time": "2024-04-21T23:49:02.147693Z"
    }
   },
   "outputs": [],
   "source": [
    "# clean data\n",
    "X = df_clean_no_target\n",
    "y = df_clean['Class']\n",
    "X_train2, X_test2, y_train2, y_test2 = train_test_split(X, y, test_size=0.2, random_state=0)"
   ]
  },
  {
   "cell_type": "markdown",
   "metadata": {},
   "source": [
    "## XGBoost Classifier"
   ]
  },
  {
   "cell_type": "markdown",
   "metadata": {},
   "source": [
    "### Classification with noise"
   ]
  },
  {
   "cell_type": "code",
   "execution_count": 340,
   "metadata": {
    "ExecuteTime": {
     "end_time": "2024-04-21T23:50:17.328949Z",
     "start_time": "2024-04-21T23:50:14.542304Z"
    }
   },
   "outputs": [
    {
     "name": "stderr",
     "output_type": "stream",
     "text": [
      "/home/zgarson/.local/lib/python3.6/site-packages/xgboost/sklearn.py:1224: UserWarning: The use of label encoder in XGBClassifier is deprecated and will be removed in a future release. To remove this warning, do the following: 1) Pass option use_label_encoder=False when constructing XGBClassifier object; and 2) Encode your labels (y) as integers starting with 0, i.e. 0, 1, 2, ..., [num_class - 1].\n",
      "  warnings.warn(label_encoder_deprecation_msg, UserWarning)\n"
     ]
    },
    {
     "name": "stdout",
     "output_type": "stream",
     "text": [
      "[19:50:14] WARNING: ../src/learner.cc:1115: Starting in XGBoost 1.3.0, the default evaluation metric used with the objective 'multi:softprob' was changed from 'merror' to 'mlogloss'. Explicitly set eval_metric if you'd like to restore the old behavior.\n"
     ]
    }
   ],
   "source": []
  },
  {
   "cell_type": "code",
   "execution_count": 336,
   "metadata": {
    "ExecuteTime": {
     "end_time": "2024-04-21T23:49:02.159588Z",
     "start_time": "2024-04-21T23:49:02.155813Z"
    }
   },
   "outputs": [],
   "source": [
    "param_grid = {\n",
    "    'min_child_weight': [1],\n",
    "    'gamma': [0.5],\n",
    "}"
   ]
  },
  {
   "cell_type": "code",
   "execution_count": 337,
   "metadata": {
    "ExecuteTime": {
     "end_time": "2024-04-21T23:49:54.985978Z",
     "start_time": "2024-04-21T23:49:02.160995Z"
    }
   },
   "outputs": [
    {
     "name": "stdout",
     "output_type": "stream",
     "text": [
      "n_iterations: 1\n",
      "n_required_iterations: 1\n",
      "n_possible_iterations: 1\n",
      "min_resources_: 5513\n",
      "max_resources_: 5513\n",
      "aggressive_elimination: False\n",
      "factor: 3\n",
      "----------\n",
      "iter: 0\n",
      "n_candidates: 1\n",
      "n_resources: 5513\n",
      "Fitting 3 folds for each of 1 candidates, totalling 3 fits\n"
     ]
    },
    {
     "ename": "KeyboardInterrupt",
     "evalue": "",
     "output_type": "error",
     "traceback": [
      "\u001b[0;31m---------------------------------------------------------------------------\u001b[0m",
      "\u001b[0;31mKeyboardInterrupt\u001b[0m                         Traceback (most recent call last)",
      "\u001b[0;32m<timed eval>\u001b[0m in \u001b[0;36m<module>\u001b[0;34m()\u001b[0m\n",
      "\u001b[0;32m/software/python3/3.6.5/lib/python3.6/site-packages/sklearn/model_selection/_search_successive_halving.py\u001b[0m in \u001b[0;36mfit\u001b[0;34m(self, X, y, groups, **fit_params)\u001b[0m\n\u001b[1;32m    211\u001b[0m         \u001b[0mself\u001b[0m\u001b[0;34m.\u001b[0m\u001b[0m_n_samples_orig\u001b[0m \u001b[0;34m=\u001b[0m \u001b[0m_num_samples\u001b[0m\u001b[0;34m(\u001b[0m\u001b[0mX\u001b[0m\u001b[0;34m)\u001b[0m\u001b[0;34m\u001b[0m\u001b[0m\n\u001b[1;32m    212\u001b[0m \u001b[0;34m\u001b[0m\u001b[0m\n\u001b[0;32m--> 213\u001b[0;31m         \u001b[0msuper\u001b[0m\u001b[0;34m(\u001b[0m\u001b[0;34m)\u001b[0m\u001b[0;34m.\u001b[0m\u001b[0mfit\u001b[0m\u001b[0;34m(\u001b[0m\u001b[0mX\u001b[0m\u001b[0;34m,\u001b[0m \u001b[0my\u001b[0m\u001b[0;34m=\u001b[0m\u001b[0my\u001b[0m\u001b[0;34m,\u001b[0m \u001b[0mgroups\u001b[0m\u001b[0;34m=\u001b[0m\u001b[0;32mNone\u001b[0m\u001b[0;34m,\u001b[0m \u001b[0;34m**\u001b[0m\u001b[0mfit_params\u001b[0m\u001b[0;34m)\u001b[0m\u001b[0;34m\u001b[0m\u001b[0m\n\u001b[0m\u001b[1;32m    214\u001b[0m \u001b[0;34m\u001b[0m\u001b[0m\n\u001b[1;32m    215\u001b[0m         \u001b[0;31m# Set best_score_: BaseSearchCV does not set it, as refit is a callable\u001b[0m\u001b[0;34m\u001b[0m\u001b[0;34m\u001b[0m\u001b[0m\n",
      "\u001b[0;32m/software/python3/3.6.5/lib/python3.6/site-packages/sklearn/utils/validation.py\u001b[0m in \u001b[0;36minner_f\u001b[0;34m(*args, **kwargs)\u001b[0m\n\u001b[1;32m     61\u001b[0m             \u001b[0mextra_args\u001b[0m \u001b[0;34m=\u001b[0m \u001b[0mlen\u001b[0m\u001b[0;34m(\u001b[0m\u001b[0margs\u001b[0m\u001b[0;34m)\u001b[0m \u001b[0;34m-\u001b[0m \u001b[0mlen\u001b[0m\u001b[0;34m(\u001b[0m\u001b[0mall_args\u001b[0m\u001b[0;34m)\u001b[0m\u001b[0;34m\u001b[0m\u001b[0m\n\u001b[1;32m     62\u001b[0m             \u001b[0;32mif\u001b[0m \u001b[0mextra_args\u001b[0m \u001b[0;34m<=\u001b[0m \u001b[0;36m0\u001b[0m\u001b[0;34m:\u001b[0m\u001b[0;34m\u001b[0m\u001b[0m\n\u001b[0;32m---> 63\u001b[0;31m                 \u001b[0;32mreturn\u001b[0m \u001b[0mf\u001b[0m\u001b[0;34m(\u001b[0m\u001b[0;34m*\u001b[0m\u001b[0margs\u001b[0m\u001b[0;34m,\u001b[0m \u001b[0;34m**\u001b[0m\u001b[0mkwargs\u001b[0m\u001b[0;34m)\u001b[0m\u001b[0;34m\u001b[0m\u001b[0m\n\u001b[0m\u001b[1;32m     64\u001b[0m \u001b[0;34m\u001b[0m\u001b[0m\n\u001b[1;32m     65\u001b[0m             \u001b[0;31m# extra_args > 0\u001b[0m\u001b[0;34m\u001b[0m\u001b[0;34m\u001b[0m\u001b[0m\n",
      "\u001b[0;32m/software/python3/3.6.5/lib/python3.6/site-packages/sklearn/model_selection/_search.py\u001b[0m in \u001b[0;36mfit\u001b[0;34m(self, X, y, groups, **fit_params)\u001b[0m\n\u001b[1;32m    839\u001b[0m                 \u001b[0;32mreturn\u001b[0m \u001b[0mresults\u001b[0m\u001b[0;34m\u001b[0m\u001b[0m\n\u001b[1;32m    840\u001b[0m \u001b[0;34m\u001b[0m\u001b[0m\n\u001b[0;32m--> 841\u001b[0;31m             \u001b[0mself\u001b[0m\u001b[0;34m.\u001b[0m\u001b[0m_run_search\u001b[0m\u001b[0;34m(\u001b[0m\u001b[0mevaluate_candidates\u001b[0m\u001b[0;34m)\u001b[0m\u001b[0;34m\u001b[0m\u001b[0m\n\u001b[0m\u001b[1;32m    842\u001b[0m \u001b[0;34m\u001b[0m\u001b[0m\n\u001b[1;32m    843\u001b[0m             \u001b[0;31m# multimetric is determined here because in the case of a callable\u001b[0m\u001b[0;34m\u001b[0m\u001b[0;34m\u001b[0m\u001b[0m\n",
      "\u001b[0;32m/software/python3/3.6.5/lib/python3.6/site-packages/sklearn/model_selection/_search_successive_halving.py\u001b[0m in \u001b[0;36m_run_search\u001b[0;34m(self, evaluate_candidates)\u001b[0m\n\u001b[1;32m    318\u001b[0m \u001b[0;34m\u001b[0m\u001b[0m\n\u001b[1;32m    319\u001b[0m             results = evaluate_candidates(candidate_params, cv,\n\u001b[0;32m--> 320\u001b[0;31m                                           more_results=more_results)\n\u001b[0m\u001b[1;32m    321\u001b[0m \u001b[0;34m\u001b[0m\u001b[0m\n\u001b[1;32m    322\u001b[0m             \u001b[0mn_candidates_to_keep\u001b[0m \u001b[0;34m=\u001b[0m \u001b[0mceil\u001b[0m\u001b[0;34m(\u001b[0m\u001b[0mn_candidates\u001b[0m \u001b[0;34m/\u001b[0m \u001b[0mself\u001b[0m\u001b[0;34m.\u001b[0m\u001b[0mfactor\u001b[0m\u001b[0;34m)\u001b[0m\u001b[0;34m\u001b[0m\u001b[0m\n",
      "\u001b[0;32m/software/python3/3.6.5/lib/python3.6/site-packages/sklearn/model_selection/_search.py\u001b[0m in \u001b[0;36mevaluate_candidates\u001b[0;34m(candidate_params, cv, more_results)\u001b[0m\n\u001b[1;32m    807\u001b[0m                                    (split_idx, (train, test)) in product(\n\u001b[1;32m    808\u001b[0m                                    \u001b[0menumerate\u001b[0m\u001b[0;34m(\u001b[0m\u001b[0mcandidate_params\u001b[0m\u001b[0;34m)\u001b[0m\u001b[0;34m,\u001b[0m\u001b[0;34m\u001b[0m\u001b[0m\n\u001b[0;32m--> 809\u001b[0;31m                                    enumerate(cv.split(X, y, groups))))\n\u001b[0m\u001b[1;32m    810\u001b[0m \u001b[0;34m\u001b[0m\u001b[0m\n\u001b[1;32m    811\u001b[0m                 \u001b[0;32mif\u001b[0m \u001b[0mlen\u001b[0m\u001b[0;34m(\u001b[0m\u001b[0mout\u001b[0m\u001b[0;34m)\u001b[0m \u001b[0;34m<\u001b[0m \u001b[0;36m1\u001b[0m\u001b[0;34m:\u001b[0m\u001b[0;34m\u001b[0m\u001b[0m\n",
      "\u001b[0;32m/software/python3/3.6.5/lib/python3.6/site-packages/joblib/parallel.py\u001b[0m in \u001b[0;36m__call__\u001b[0;34m(self, iterable)\u001b[0m\n\u001b[1;32m   1052\u001b[0m \u001b[0;34m\u001b[0m\u001b[0m\n\u001b[1;32m   1053\u001b[0m             \u001b[0;32mwith\u001b[0m \u001b[0mself\u001b[0m\u001b[0;34m.\u001b[0m\u001b[0m_backend\u001b[0m\u001b[0;34m.\u001b[0m\u001b[0mretrieval_context\u001b[0m\u001b[0;34m(\u001b[0m\u001b[0;34m)\u001b[0m\u001b[0;34m:\u001b[0m\u001b[0;34m\u001b[0m\u001b[0m\n\u001b[0;32m-> 1054\u001b[0;31m                 \u001b[0mself\u001b[0m\u001b[0;34m.\u001b[0m\u001b[0mretrieve\u001b[0m\u001b[0;34m(\u001b[0m\u001b[0;34m)\u001b[0m\u001b[0;34m\u001b[0m\u001b[0m\n\u001b[0m\u001b[1;32m   1055\u001b[0m             \u001b[0;31m# Make sure that we get a last message telling us we are done\u001b[0m\u001b[0;34m\u001b[0m\u001b[0;34m\u001b[0m\u001b[0m\n\u001b[1;32m   1056\u001b[0m             \u001b[0melapsed_time\u001b[0m \u001b[0;34m=\u001b[0m \u001b[0mtime\u001b[0m\u001b[0;34m.\u001b[0m\u001b[0mtime\u001b[0m\u001b[0;34m(\u001b[0m\u001b[0;34m)\u001b[0m \u001b[0;34m-\u001b[0m \u001b[0mself\u001b[0m\u001b[0;34m.\u001b[0m\u001b[0m_start_time\u001b[0m\u001b[0;34m\u001b[0m\u001b[0m\n",
      "\u001b[0;32m/software/python3/3.6.5/lib/python3.6/site-packages/joblib/parallel.py\u001b[0m in \u001b[0;36mretrieve\u001b[0;34m(self)\u001b[0m\n\u001b[1;32m    931\u001b[0m             \u001b[0;32mtry\u001b[0m\u001b[0;34m:\u001b[0m\u001b[0;34m\u001b[0m\u001b[0m\n\u001b[1;32m    932\u001b[0m                 \u001b[0;32mif\u001b[0m \u001b[0mgetattr\u001b[0m\u001b[0;34m(\u001b[0m\u001b[0mself\u001b[0m\u001b[0;34m.\u001b[0m\u001b[0m_backend\u001b[0m\u001b[0;34m,\u001b[0m \u001b[0;34m'supports_timeout'\u001b[0m\u001b[0;34m,\u001b[0m \u001b[0;32mFalse\u001b[0m\u001b[0;34m)\u001b[0m\u001b[0;34m:\u001b[0m\u001b[0;34m\u001b[0m\u001b[0m\n\u001b[0;32m--> 933\u001b[0;31m                     \u001b[0mself\u001b[0m\u001b[0;34m.\u001b[0m\u001b[0m_output\u001b[0m\u001b[0;34m.\u001b[0m\u001b[0mextend\u001b[0m\u001b[0;34m(\u001b[0m\u001b[0mjob\u001b[0m\u001b[0;34m.\u001b[0m\u001b[0mget\u001b[0m\u001b[0;34m(\u001b[0m\u001b[0mtimeout\u001b[0m\u001b[0;34m=\u001b[0m\u001b[0mself\u001b[0m\u001b[0;34m.\u001b[0m\u001b[0mtimeout\u001b[0m\u001b[0;34m)\u001b[0m\u001b[0;34m)\u001b[0m\u001b[0;34m\u001b[0m\u001b[0m\n\u001b[0m\u001b[1;32m    934\u001b[0m                 \u001b[0;32melse\u001b[0m\u001b[0;34m:\u001b[0m\u001b[0;34m\u001b[0m\u001b[0m\n\u001b[1;32m    935\u001b[0m                     \u001b[0mself\u001b[0m\u001b[0;34m.\u001b[0m\u001b[0m_output\u001b[0m\u001b[0;34m.\u001b[0m\u001b[0mextend\u001b[0m\u001b[0;34m(\u001b[0m\u001b[0mjob\u001b[0m\u001b[0;34m.\u001b[0m\u001b[0mget\u001b[0m\u001b[0;34m(\u001b[0m\u001b[0;34m)\u001b[0m\u001b[0;34m)\u001b[0m\u001b[0;34m\u001b[0m\u001b[0m\n",
      "\u001b[0;32m/software/python3/3.6.5/lib/python3.6/site-packages/joblib/_parallel_backends.py\u001b[0m in \u001b[0;36mwrap_future_result\u001b[0;34m(future, timeout)\u001b[0m\n\u001b[1;32m    540\u001b[0m         AsyncResults.get from multiprocessing.\"\"\"\n\u001b[1;32m    541\u001b[0m         \u001b[0;32mtry\u001b[0m\u001b[0;34m:\u001b[0m\u001b[0;34m\u001b[0m\u001b[0m\n\u001b[0;32m--> 542\u001b[0;31m             \u001b[0;32mreturn\u001b[0m \u001b[0mfuture\u001b[0m\u001b[0;34m.\u001b[0m\u001b[0mresult\u001b[0m\u001b[0;34m(\u001b[0m\u001b[0mtimeout\u001b[0m\u001b[0;34m=\u001b[0m\u001b[0mtimeout\u001b[0m\u001b[0;34m)\u001b[0m\u001b[0;34m\u001b[0m\u001b[0m\n\u001b[0m\u001b[1;32m    543\u001b[0m         \u001b[0;32mexcept\u001b[0m \u001b[0mCfTimeoutError\u001b[0m \u001b[0;32mas\u001b[0m \u001b[0me\u001b[0m\u001b[0;34m:\u001b[0m\u001b[0;34m\u001b[0m\u001b[0m\n\u001b[1;32m    544\u001b[0m             \u001b[0;32mraise\u001b[0m \u001b[0mTimeoutError\u001b[0m \u001b[0;32mfrom\u001b[0m \u001b[0me\u001b[0m\u001b[0;34m\u001b[0m\u001b[0m\n",
      "\u001b[0;32m/software/python3/3.6.5/lib/python3.6/concurrent/futures/_base.py\u001b[0m in \u001b[0;36mresult\u001b[0;34m(self, timeout)\u001b[0m\n\u001b[1;32m    425\u001b[0m                 \u001b[0;32mreturn\u001b[0m \u001b[0mself\u001b[0m\u001b[0;34m.\u001b[0m\u001b[0m__get_result\u001b[0m\u001b[0;34m(\u001b[0m\u001b[0;34m)\u001b[0m\u001b[0;34m\u001b[0m\u001b[0m\n\u001b[1;32m    426\u001b[0m \u001b[0;34m\u001b[0m\u001b[0m\n\u001b[0;32m--> 427\u001b[0;31m             \u001b[0mself\u001b[0m\u001b[0;34m.\u001b[0m\u001b[0m_condition\u001b[0m\u001b[0;34m.\u001b[0m\u001b[0mwait\u001b[0m\u001b[0;34m(\u001b[0m\u001b[0mtimeout\u001b[0m\u001b[0;34m)\u001b[0m\u001b[0;34m\u001b[0m\u001b[0m\n\u001b[0m\u001b[1;32m    428\u001b[0m \u001b[0;34m\u001b[0m\u001b[0m\n\u001b[1;32m    429\u001b[0m             \u001b[0;32mif\u001b[0m \u001b[0mself\u001b[0m\u001b[0;34m.\u001b[0m\u001b[0m_state\u001b[0m \u001b[0;32min\u001b[0m \u001b[0;34m[\u001b[0m\u001b[0mCANCELLED\u001b[0m\u001b[0;34m,\u001b[0m \u001b[0mCANCELLED_AND_NOTIFIED\u001b[0m\u001b[0;34m]\u001b[0m\u001b[0;34m:\u001b[0m\u001b[0;34m\u001b[0m\u001b[0m\n",
      "\u001b[0;32m/software/python3/3.6.5/lib/python3.6/threading.py\u001b[0m in \u001b[0;36mwait\u001b[0;34m(self, timeout)\u001b[0m\n\u001b[1;32m    293\u001b[0m         \u001b[0;32mtry\u001b[0m\u001b[0;34m:\u001b[0m    \u001b[0;31m# restore state no matter what (e.g., KeyboardInterrupt)\u001b[0m\u001b[0;34m\u001b[0m\u001b[0m\n\u001b[1;32m    294\u001b[0m             \u001b[0;32mif\u001b[0m \u001b[0mtimeout\u001b[0m \u001b[0;32mis\u001b[0m \u001b[0;32mNone\u001b[0m\u001b[0;34m:\u001b[0m\u001b[0;34m\u001b[0m\u001b[0m\n\u001b[0;32m--> 295\u001b[0;31m                 \u001b[0mwaiter\u001b[0m\u001b[0;34m.\u001b[0m\u001b[0macquire\u001b[0m\u001b[0;34m(\u001b[0m\u001b[0;34m)\u001b[0m\u001b[0;34m\u001b[0m\u001b[0m\n\u001b[0m\u001b[1;32m    296\u001b[0m                 \u001b[0mgotit\u001b[0m \u001b[0;34m=\u001b[0m \u001b[0;32mTrue\u001b[0m\u001b[0;34m\u001b[0m\u001b[0m\n\u001b[1;32m    297\u001b[0m             \u001b[0;32melse\u001b[0m\u001b[0;34m:\u001b[0m\u001b[0;34m\u001b[0m\u001b[0m\n",
      "\u001b[0;31mKeyboardInterrupt\u001b[0m: "
     ]
    }
   ],
   "source": [
    "xg = XGBClassifier()\n",
    "\n",
    "grid = HalvingGridSearchCV(xg, param_grid, refit=True, verbose=3, cv=3, scoring='accuracy', n_jobs = -1, error_score= 'raise')\n",
    "\n",
    "%time grid.fit(X_train, y_train)"
   ]
  },
  {
   "cell_type": "code",
   "execution_count": 343,
   "metadata": {
    "ExecuteTime": {
     "end_time": "2024-04-21T23:51:06.311364Z",
     "start_time": "2024-04-21T23:51:03.512542Z"
    }
   },
   "outputs": [
    {
     "name": "stdout",
     "output_type": "stream",
     "text": [
      "[19:51:03] WARNING: ../src/learner.cc:1115: Starting in XGBoost 1.3.0, the default evaluation metric used with the objective 'multi:softprob' was changed from 'merror' to 'mlogloss'. Explicitly set eval_metric if you'd like to restore the old behavior.\n"
     ]
    }
   ],
   "source": [
    "xg = XGBClassifier(use_label_encoder=False).fit(X_train, y_train)"
   ]
  },
  {
   "cell_type": "code",
   "execution_count": null,
   "metadata": {},
   "outputs": [],
   "source": []
  }
 ],
 "metadata": {
  "kernelspec": {
   "display_name": "Python 3 (3.6.5)",
   "language": "python",
   "name": "python3"
  },
  "language_info": {
   "codemirror_mode": {
    "name": "ipython",
    "version": 3
   },
   "file_extension": ".py",
   "mimetype": "text/x-python",
   "name": "python",
   "nbconvert_exporter": "python",
   "pygments_lexer": "ipython3",
   "version": "3.6.5"
  },
  "toc": {
   "base_numbering": 1,
   "nav_menu": {},
   "number_sections": true,
   "sideBar": true,
   "skip_h1_title": false,
   "title_cell": "Table of Contents",
   "title_sidebar": "Contents",
   "toc_cell": false,
   "toc_position": {},
   "toc_section_display": true,
   "toc_window_display": false
  }
 },
 "nbformat": 4,
 "nbformat_minor": 5
}
