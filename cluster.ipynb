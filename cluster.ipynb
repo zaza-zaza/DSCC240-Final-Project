{
 "cells": [
  {
   "cell_type": "code",
   "id": "initial_id",
   "metadata": {
    "collapsed": true,
    "ExecuteTime": {
     "end_time": "2024-04-16T01:25:39.445180Z",
     "start_time": "2024-04-16T01:25:12.176173Z"
    }
   },
   "source": [
    "!pip install gower\n",
    "!pip install xgboost"
   ],
   "outputs": [
    {
     "name": "stdout",
     "output_type": "stream",
     "text": [
      "Requirement already satisfied: gower in c:\\tools\\conda\\lib\\site-packages (0.1.2)\n",
      "Requirement already satisfied: numpy in c:\\tools\\conda\\lib\\site-packages (from gower) (1.24.3)\n",
      "Requirement already satisfied: scipy in c:\\tools\\conda\\lib\\site-packages (from gower) (1.11.1)\n",
      "Collecting xgboost\n",
      "  Downloading xgboost-2.0.3-py3-none-win_amd64.whl.metadata (2.0 kB)\n",
      "Requirement already satisfied: numpy in c:\\tools\\conda\\lib\\site-packages (from xgboost) (1.24.3)\n",
      "Requirement already satisfied: scipy in c:\\tools\\conda\\lib\\site-packages (from xgboost) (1.11.1)\n",
      "Downloading xgboost-2.0.3-py3-none-win_amd64.whl (99.8 MB)\n",
      "   ---------------------------------------- 0.0/99.8 MB ? eta -:--:--\n",
      "   ---------------------------------------- 0.0/99.8 MB ? eta -:--:--\n",
      "   ---------------------------------------- 0.0/99.8 MB ? eta -:--:--\n",
      "   ---------------------------------------- 0.0/99.8 MB 262.6 kB/s eta 0:06:20\n",
      "   ---------------------------------------- 0.1/99.8 MB 469.7 kB/s eta 0:03:33\n",
      "   ---------------------------------------- 0.1/99.8 MB 476.3 kB/s eta 0:03:30\n",
      "   ---------------------------------------- 0.2/99.8 MB 807.1 kB/s eta 0:02:04\n",
      "   ---------------------------------------- 0.3/99.8 MB 1.1 MB/s eta 0:01:34\n",
      "   ---------------------------------------- 0.4/99.8 MB 1.3 MB/s eta 0:01:18\n",
      "   ---------------------------------------- 0.5/99.8 MB 1.5 MB/s eta 0:01:07\n",
      "   ---------------------------------------- 0.6/99.8 MB 1.6 MB/s eta 0:01:02\n",
      "   ---------------------------------------- 0.7/99.8 MB 1.8 MB/s eta 0:00:57\n",
      "   ---------------------------------------- 0.9/99.8 MB 1.9 MB/s eta 0:00:53\n",
      "   ---------------------------------------- 1.0/99.8 MB 2.0 MB/s eta 0:00:50\n",
      "   ---------------------------------------- 1.2/99.8 MB 2.1 MB/s eta 0:00:48\n",
      "    --------------------------------------- 1.3/99.8 MB 2.2 MB/s eta 0:00:45\n",
      "    --------------------------------------- 1.5/99.8 MB 2.3 MB/s eta 0:00:43\n",
      "    --------------------------------------- 1.7/99.8 MB 2.4 MB/s eta 0:00:41\n",
      "    --------------------------------------- 1.9/99.8 MB 2.5 MB/s eta 0:00:39\n",
      "    --------------------------------------- 2.1/99.8 MB 2.7 MB/s eta 0:00:37\n",
      "    --------------------------------------- 2.3/99.8 MB 2.7 MB/s eta 0:00:36\n",
      "    --------------------------------------- 2.5/99.8 MB 2.9 MB/s eta 0:00:35\n",
      "   - -------------------------------------- 2.7/99.8 MB 3.0 MB/s eta 0:00:33\n",
      "   - -------------------------------------- 3.0/99.8 MB 3.1 MB/s eta 0:00:32\n",
      "   - -------------------------------------- 3.2/99.8 MB 3.2 MB/s eta 0:00:31\n",
      "   - -------------------------------------- 3.5/99.8 MB 3.3 MB/s eta 0:00:29\n",
      "   - -------------------------------------- 3.8/99.8 MB 3.5 MB/s eta 0:00:28\n",
      "   - -------------------------------------- 4.1/99.8 MB 3.6 MB/s eta 0:00:27\n",
      "   - -------------------------------------- 4.3/99.8 MB 3.7 MB/s eta 0:00:26\n",
      "   - -------------------------------------- 4.7/99.8 MB 3.8 MB/s eta 0:00:25\n",
      "   -- ------------------------------------- 5.0/99.8 MB 3.9 MB/s eta 0:00:25\n",
      "   -- ------------------------------------- 5.4/99.8 MB 4.1 MB/s eta 0:00:23\n",
      "   -- ------------------------------------- 5.8/99.8 MB 4.3 MB/s eta 0:00:23\n",
      "   -- ------------------------------------- 6.2/99.8 MB 4.5 MB/s eta 0:00:21\n",
      "   -- ------------------------------------- 6.6/99.8 MB 4.6 MB/s eta 0:00:21\n",
      "   -- ------------------------------------- 7.0/99.8 MB 4.7 MB/s eta 0:00:20\n",
      "   --- ------------------------------------ 7.5/99.8 MB 5.0 MB/s eta 0:00:19\n",
      "   --- ------------------------------------ 8.0/99.8 MB 5.1 MB/s eta 0:00:18\n",
      "   --- ------------------------------------ 8.6/99.8 MB 5.3 MB/s eta 0:00:18\n",
      "   --- ------------------------------------ 9.3/99.8 MB 5.6 MB/s eta 0:00:17\n",
      "   --- ------------------------------------ 9.9/99.8 MB 5.8 MB/s eta 0:00:16\n",
      "   ---- ----------------------------------- 10.4/99.8 MB 6.7 MB/s eta 0:00:14\n",
      "   ---- ----------------------------------- 11.0/99.8 MB 7.6 MB/s eta 0:00:12\n",
      "   ---- ----------------------------------- 11.6/99.8 MB 8.4 MB/s eta 0:00:11\n",
      "   ---- ----------------------------------- 12.2/99.8 MB 9.2 MB/s eta 0:00:10\n",
      "   ----- ---------------------------------- 12.6/99.8 MB 9.8 MB/s eta 0:00:09\n",
      "   ----- ---------------------------------- 12.6/99.8 MB 9.4 MB/s eta 0:00:10\n",
      "   ----- ---------------------------------- 13.1/99.8 MB 9.9 MB/s eta 0:00:09\n",
      "   ----- ---------------------------------- 13.9/99.8 MB 10.6 MB/s eta 0:00:09\n",
      "   ------ --------------------------------- 15.0/99.8 MB 11.9 MB/s eta 0:00:08\n",
      "   ------ --------------------------------- 15.5/99.8 MB 12.6 MB/s eta 0:00:07\n",
      "   ------ --------------------------------- 16.5/99.8 MB 13.6 MB/s eta 0:00:07\n",
      "   ------ --------------------------------- 17.4/99.8 MB 14.2 MB/s eta 0:00:06\n",
      "   ------- -------------------------------- 18.5/99.8 MB 14.9 MB/s eta 0:00:06\n",
      "   ------- -------------------------------- 19.1/99.8 MB 15.6 MB/s eta 0:00:06\n",
      "   ------- -------------------------------- 19.1/99.8 MB 15.6 MB/s eta 0:00:06\n",
      "   -------- ------------------------------- 20.2/99.8 MB 14.9 MB/s eta 0:00:06\n",
      "   -------- ------------------------------- 20.2/99.8 MB 14.9 MB/s eta 0:00:06\n",
      "   -------- ------------------------------- 20.2/99.8 MB 14.9 MB/s eta 0:00:06\n",
      "   -------- ------------------------------- 20.2/99.8 MB 14.9 MB/s eta 0:00:06\n",
      "   -------- ------------------------------- 20.3/99.8 MB 11.9 MB/s eta 0:00:07\n",
      "   -------- ------------------------------- 20.8/99.8 MB 11.5 MB/s eta 0:00:07\n",
      "   -------- ------------------------------- 21.8/99.8 MB 12.1 MB/s eta 0:00:07\n",
      "   --------- ------------------------------ 22.6/99.8 MB 12.4 MB/s eta 0:00:07\n",
      "   --------- ------------------------------ 23.7/99.8 MB 13.4 MB/s eta 0:00:06\n",
      "   --------- ------------------------------ 24.7/99.8 MB 13.6 MB/s eta 0:00:06\n",
      "   ---------- ----------------------------- 26.1/99.8 MB 14.2 MB/s eta 0:00:06\n",
      "   ---------- ----------------------------- 26.7/99.8 MB 13.9 MB/s eta 0:00:06\n",
      "   ----------- ---------------------------- 27.5/99.8 MB 13.6 MB/s eta 0:00:06\n",
      "   ----------- ---------------------------- 27.9/99.8 MB 13.6 MB/s eta 0:00:06\n",
      "   ----------- ---------------------------- 28.5/99.8 MB 13.4 MB/s eta 0:00:06\n",
      "   ----------- ---------------------------- 29.1/99.8 MB 13.1 MB/s eta 0:00:06\n",
      "   ------------ --------------------------- 30.2/99.8 MB 13.9 MB/s eta 0:00:05\n",
      "   ------------ --------------------------- 31.5/99.8 MB 20.5 MB/s eta 0:00:04\n",
      "   ------------- -------------------------- 32.6/99.8 MB 20.5 MB/s eta 0:00:04\n",
      "   ------------- -------------------------- 33.5/99.8 MB 20.5 MB/s eta 0:00:04\n",
      "   ------------- -------------------------- 34.4/99.8 MB 20.5 MB/s eta 0:00:04\n",
      "   -------------- ------------------------- 35.4/99.8 MB 19.9 MB/s eta 0:00:04\n",
      "   -------------- ------------------------- 36.3/99.8 MB 19.8 MB/s eta 0:00:04\n",
      "   --------------- ------------------------ 37.5/99.8 MB 20.5 MB/s eta 0:00:04\n",
      "   --------------- ------------------------ 38.1/99.8 MB 21.1 MB/s eta 0:00:03\n",
      "   --------------- ------------------------ 39.3/99.8 MB 24.2 MB/s eta 0:00:03\n",
      "   ---------------- ----------------------- 40.6/99.8 MB 24.2 MB/s eta 0:00:03\n",
      "   ---------------- ----------------------- 41.2/99.8 MB 22.6 MB/s eta 0:00:03\n",
      "   ----------------- ---------------------- 42.4/99.8 MB 24.2 MB/s eta 0:00:03\n",
      "   ----------------- ---------------------- 43.5/99.8 MB 23.4 MB/s eta 0:00:03\n",
      "   ----------------- ---------------------- 44.8/99.8 MB 24.2 MB/s eta 0:00:03\n",
      "   ------------------ --------------------- 45.8/99.8 MB 25.2 MB/s eta 0:00:03\n",
      "   ------------------ --------------------- 46.8/99.8 MB 24.2 MB/s eta 0:00:03\n",
      "   ------------------- -------------------- 48.2/99.8 MB 26.2 MB/s eta 0:00:02\n",
      "   ------------------- -------------------- 49.1/99.8 MB 26.2 MB/s eta 0:00:02\n",
      "   -------------------- ------------------- 50.3/99.8 MB 25.2 MB/s eta 0:00:02\n",
      "   -------------------- ------------------- 51.9/99.8 MB 27.3 MB/s eta 0:00:02\n",
      "   --------------------- ------------------ 53.0/99.8 MB 27.3 MB/s eta 0:00:02\n",
      "   --------------------- ------------------ 53.9/99.8 MB 27.3 MB/s eta 0:00:02\n",
      "   ---------------------- ----------------- 54.9/99.8 MB 26.2 MB/s eta 0:00:02\n",
      "   ---------------------- ----------------- 55.9/99.8 MB 26.2 MB/s eta 0:00:02\n",
      "   ---------------------- ----------------- 56.3/99.8 MB 28.5 MB/s eta 0:00:02\n",
      "   ---------------------- ----------------- 56.8/99.8 MB 23.4 MB/s eta 0:00:02\n",
      "   ----------------------- ---------------- 59.0/99.8 MB 24.2 MB/s eta 0:00:02\n",
      "   ------------------------ --------------- 60.0/99.8 MB 25.2 MB/s eta 0:00:02\n",
      "   ------------------------ --------------- 61.0/99.8 MB 24.2 MB/s eta 0:00:02\n",
      "   ------------------------ --------------- 62.3/99.8 MB 24.2 MB/s eta 0:00:02\n",
      "   ------------------------- -------------- 63.7/99.8 MB 24.3 MB/s eta 0:00:02\n",
      "   ------------------------- -------------- 64.5/99.8 MB 24.2 MB/s eta 0:00:02\n",
      "   -------------------------- ------------- 65.6/99.8 MB 24.2 MB/s eta 0:00:02\n",
      "   -------------------------- ------------- 66.7/99.8 MB 27.3 MB/s eta 0:00:02\n",
      "   --------------------------- ------------ 67.7/99.8 MB 26.2 MB/s eta 0:00:02\n",
      "   --------------------------- ------------ 68.7/99.8 MB 24.2 MB/s eta 0:00:02\n",
      "   ---------------------------- ----------- 70.1/99.8 MB 25.2 MB/s eta 0:00:02\n",
      "   ---------------------------- ----------- 71.1/99.8 MB 25.2 MB/s eta 0:00:02\n",
      "   ----------------------------- ---------- 72.3/99.8 MB 24.2 MB/s eta 0:00:02\n",
      "   ----------------------------- ---------- 73.3/99.8 MB 24.2 MB/s eta 0:00:02\n",
      "   ----------------------------- ---------- 74.4/99.8 MB 24.2 MB/s eta 0:00:02\n",
      "   ------------------------------ --------- 75.6/99.8 MB 25.2 MB/s eta 0:00:01\n",
      "   ------------------------------ --------- 76.6/99.8 MB 25.1 MB/s eta 0:00:01\n",
      "   ------------------------------- -------- 77.5/99.8 MB 24.2 MB/s eta 0:00:01\n",
      "   ------------------------------- -------- 78.7/99.8 MB 25.2 MB/s eta 0:00:01\n",
      "   ------------------------------- -------- 78.9/99.8 MB 23.4 MB/s eta 0:00:01\n",
      "   -------------------------------- ------- 79.9/99.8 MB 23.4 MB/s eta 0:00:01\n",
      "   -------------------------------- ------- 81.0/99.8 MB 21.8 MB/s eta 0:00:01\n",
      "   --------------------------------- ------ 82.5/99.8 MB 22.6 MB/s eta 0:00:01\n",
      "   --------------------------------- ------ 83.3/99.8 MB 23.4 MB/s eta 0:00:01\n",
      "   --------------------------------- ------ 83.9/99.8 MB 21.8 MB/s eta 0:00:01\n",
      "   ---------------------------------- ----- 85.0/99.8 MB 21.1 MB/s eta 0:00:01\n",
      "   ---------------------------------- ----- 86.4/99.8 MB 21.8 MB/s eta 0:00:01\n",
      "   ----------------------------------- ---- 87.7/99.8 MB 23.4 MB/s eta 0:00:01\n",
      "   ----------------------------------- ---- 88.7/99.8 MB 22.6 MB/s eta 0:00:01\n",
      "   ------------------------------------ --- 89.9/99.8 MB 25.2 MB/s eta 0:00:01\n",
      "   ------------------------------------ --- 90.9/99.8 MB 26.2 MB/s eta 0:00:01\n",
      "   ------------------------------------ --- 92.2/99.8 MB 25.2 MB/s eta 0:00:01\n",
      "   ------------------------------------- -- 93.5/99.8 MB 26.2 MB/s eta 0:00:01\n",
      "   ------------------------------------- -- 93.9/99.8 MB 26.2 MB/s eta 0:00:01\n",
      "   -------------------------------------- - 94.8/99.8 MB 26.2 MB/s eta 0:00:01\n",
      "   -------------------------------------- - 96.4/99.8 MB 26.2 MB/s eta 0:00:01\n",
      "   ---------------------------------------  97.7/99.8 MB 26.2 MB/s eta 0:00:01\n",
      "   ---------------------------------------  98.6/99.8 MB 26.2 MB/s eta 0:00:01\n",
      "   ---------------------------------------  99.7/99.8 MB 25.2 MB/s eta 0:00:01\n",
      "   ---------------------------------------  99.7/99.8 MB 25.2 MB/s eta 0:00:01\n",
      "   ---------------------------------------  99.7/99.8 MB 25.2 MB/s eta 0:00:01\n",
      "   ---------------------------------------  99.7/99.8 MB 25.2 MB/s eta 0:00:01\n",
      "   ---------------------------------------  99.7/99.8 MB 25.2 MB/s eta 0:00:01\n",
      "   ---------------------------------------  99.7/99.8 MB 25.2 MB/s eta 0:00:01\n",
      "   ---------------------------------------  99.7/99.8 MB 25.2 MB/s eta 0:00:01\n",
      "   ---------------------------------------  99.7/99.8 MB 25.2 MB/s eta 0:00:01\n",
      "   ---------------------------------------- 99.8/99.8 MB 14.5 MB/s eta 0:00:00\n",
      "Installing collected packages: xgboost\n",
      "Successfully installed xgboost-2.0.3\n"
     ]
    }
   ],
   "execution_count": 67
  },
  {
   "metadata": {
    "ExecuteTime": {
     "end_time": "2024-04-16T02:02:10.163382Z",
     "start_time": "2024-04-16T02:02:10.151734Z"
    }
   },
   "cell_type": "code",
   "source": [
    "import pandas as pd\n",
    "import numpy as np\n",
    "# visual\n",
    "import matplotlib.pyplot as plt\n",
    "import seaborn as sns\n",
    "# distance\n",
    "import gower\n",
    "# sklearn\n",
    "from sklearn.cluster import AgglomerativeClustering\n",
    "from sklearn.preprocessing import LabelEncoder\n",
    "from sklearn.metrics import confusion_matrix, rand_score, accuracy_score\n",
    "from sklearn.model_selection import train_test_split\n",
    "from sklearn.tree import DecisionTreeClassifier\n",
    "from sklearn import metrics\n"
   ],
   "id": "32b576af27778499",
   "outputs": [],
   "execution_count": 95
  },
  {
   "metadata": {
    "ExecuteTime": {
     "end_time": "2024-04-16T00:51:45.176830Z",
     "start_time": "2024-04-16T00:51:45.072676Z"
    }
   },
   "cell_type": "code",
   "source": [
    "# Adjusted function to read and parse the .data file, ensuring -1 class is correctly handled\n",
    "def load_data(file_path):\n",
    "    with open(file_path, 'r') as file:\n",
    "        lines = file.readlines()\n",
    "\n",
    "    data = []\n",
    "    current_class = None\n",
    "\n",
    "    # Columns from the first line (removing the last two characters \\n and space at the end)\n",
    "    columns = lines[0].strip().split()\n",
    "    columns.append('Class')  # Adding the 'Class' column for labels\n",
    "\n",
    "    # Parse each line\n",
    "    for line in lines[1:]:  # Start from the second line to skip header\n",
    "        stripped_line = line.strip()\n",
    "        if stripped_line.lstrip('-').isdigit():  # This is a class label, handles negative numbers\n",
    "            current_class = int(stripped_line)\n",
    "        else:\n",
    "            # This is a data line, split by spaces and convert to float\n",
    "            data_values = list(map(float, stripped_line.split()))\n",
    "            data_values.append(current_class)  # Append the current class\n",
    "            data.append(data_values)\n",
    "\n",
    "    # Create DataFrame\n",
    "    df = pd.DataFrame(data, columns=columns)\n",
    "    return df\n",
    "\n",
    "# Load and label the data including -1 correctly\n",
    "df = load_data('rocket_league_skillshots.data')\n",
    "\n"
   ],
   "id": "17ef2f6d0db25a7c",
   "outputs": [],
   "execution_count": 32
  },
  {
   "metadata": {},
   "cell_type": "markdown",
   "source": "# Normalize the Data!",
   "id": "37901c11a190a034"
  },
  {
   "metadata": {
    "ExecuteTime": {
     "end_time": "2024-04-16T00:51:45.277983Z",
     "start_time": "2024-04-16T00:51:45.176830Z"
    }
   },
   "cell_type": "code",
   "source": [
    "# export data frame to .csv file\n",
    "\n",
    "df.to_csv('rocket_league_with_classes.csv', sep = ',')"
   ],
   "id": "cd33b12fb1550f6a",
   "outputs": [],
   "execution_count": 33
  },
  {
   "metadata": {
    "ExecuteTime": {
     "end_time": "2024-04-16T00:51:45.286126Z",
     "start_time": "2024-04-16T00:51:45.277983Z"
    }
   },
   "cell_type": "code",
   "source": "df['Class'].nunique()",
   "id": "689448f604a3c308",
   "outputs": [
    {
     "data": {
      "text/plain": [
       "7"
      ]
     },
     "execution_count": 34,
     "metadata": {},
     "output_type": "execute_result"
    }
   ],
   "execution_count": 34
  },
  {
   "metadata": {
    "ExecuteTime": {
     "end_time": "2024-04-16T00:51:45.519184Z",
     "start_time": "2024-04-16T00:51:45.286126Z"
    }
   },
   "cell_type": "code",
   "source": [
    "# Plotting the histogram of the frequency of each class including -1\n",
    "plt.figure(figsize=(10, 6))\n",
    "df['Class'].value_counts().sort_index().plot(kind='bar', color='skyblue')\n",
    "plt.title('Frequency of Each Class')\n",
    "plt.xlabel('Class')\n",
    "plt.ylabel('Frequency')\n",
    "plt.xticks(rotation=0)  # Keep the class labels horizontal for better readability\n",
    "plt.grid(axis='y', linestyle='--', alpha=0.7)\n",
    "plt.show()\n"
   ],
   "id": "f8a4b6a337a1f4d7",
   "outputs": [
    {
     "data": {
      "text/plain": [
       "<Figure size 1000x600 with 1 Axes>"
      ],
      "image/png": "[encoded data removed]"
     },
     "metadata": {},
     "output_type": "display_data"
    }
   ],
   "execution_count": 35
  },
  {
   "metadata": {
    "ExecuteTime": {
     "end_time": "2024-04-16T00:51:45.527019Z",
     "start_time": "2024-04-16T00:51:45.519184Z"
    }
   },
   "cell_type": "code",
   "source": "df_no_target = df.drop(columns=['Class'])",
   "id": "3ccaff1d6ec196a4",
   "outputs": [],
   "execution_count": 36
  },
  {
   "metadata": {
    "ExecuteTime": {
     "end_time": "2024-04-16T00:51:49.962458Z",
     "start_time": "2024-04-16T00:51:45.527019Z"
    }
   },
   "cell_type": "code",
   "source": "gower_matrix = gower.gower_matrix(df_no_target)",
   "id": "39b7ade4ce936ab7",
   "outputs": [],
   "execution_count": 37
  },
  {
   "metadata": {
    "ExecuteTime": {
     "end_time": "2024-04-16T00:51:49.986388Z",
     "start_time": "2024-04-16T00:51:49.979454Z"
    }
   },
   "cell_type": "code",
   "source": "print(gower_matrix)",
   "id": "f2bd2e6d25824593",
   "outputs": [
    {
     "name": "stdout",
     "output_type": "stream",
     "text": [
      "[[0.         0.06204601 0.1733871  ... 0.2889611  0.34374708 0.23063426]\n",
      " [0.06204601 0.         0.11171145 ... 0.2290952  0.28388116 0.28187945]\n",
      " [0.1733871  0.11171145 0.         ... 0.22874232 0.28352827 0.28152657]\n",
      " ...\n",
      " [0.2889611  0.2290952  0.22874232 ... 0.         0.05718599 0.06063179]\n",
      " [0.34374708 0.28388116 0.28352827 ... 0.05718599 0.         0.11455691]\n",
      " [0.23063426 0.28187945 0.28152657 ... 0.06063179 0.11455691 0.        ]]\n"
     ]
    }
   ],
   "execution_count": 38
  },
  {
   "metadata": {},
   "cell_type": "markdown",
   "source": "# Agglomerative Clustering",
   "id": "1cd333cfb1bd9632"
  },
  {
   "metadata": {
    "ExecuteTime": {
     "end_time": "2024-04-16T00:51:49.997242Z",
     "start_time": "2024-04-16T00:51:49.989002Z"
    }
   },
   "cell_type": "code",
   "source": "model = AgglomerativeClustering(n_clusters = 7, affinity = 'precomputed')",
   "id": "e52a91bd9833d15",
   "outputs": [],
   "execution_count": 39
  },
  {
   "metadata": {
    "ExecuteTime": {
     "end_time": "2024-04-16T00:51:50.019085Z",
     "start_time": "2024-04-16T00:51:49.997242Z"
    }
   },
   "cell_type": "code",
   "source": [
    "target = df[['Class']]\n",
    "le = LabelEncoder()\n",
    "\n",
    "labeled_target = target.apply(le.fit_transform)\n",
    "\n",
    "labels = pd.DataFrame()\n",
    "labels['target'] = labeled_target.values.reshape(1, -1).tolist()[0]\n"
   ],
   "id": "8099d258b0f812ab",
   "outputs": [],
   "execution_count": 40
  },
  {
   "metadata": {},
   "cell_type": "markdown",
   "source": "## Trying three different kinds of linkages for agglomerative clustering",
   "id": "57bd08d18d65a647"
  },
  {
   "metadata": {},
   "cell_type": "markdown",
   "source": "### Single Linkage",
   "id": "9be0a9bfefe162c7"
  },
  {
   "metadata": {
    "ExecuteTime": {
     "end_time": "2024-04-16T00:51:51.191343Z",
     "start_time": "2024-04-16T00:51:50.019085Z"
    }
   },
   "cell_type": "code",
   "source": [
    "model_single_linkage = AgglomerativeClustering(n_clusters = 7, linkage= 'single', metric = 'precomputed')\n",
    "clusters_single_linkage = model_single_linkage.fit_predict(gower_matrix)"
   ],
   "id": "b52113a733fda248",
   "outputs": [],
   "execution_count": 41
  },
  {
   "metadata": {
    "ExecuteTime": {
     "end_time": "2024-04-16T00:51:51.198407Z",
     "start_time": "2024-04-16T00:51:51.191343Z"
    }
   },
   "cell_type": "code",
   "source": "labels['single_linkage_predictions'] = clusters_single_linkage",
   "id": "41cd7917cfbcb06b",
   "outputs": [],
   "execution_count": 42
  },
  {
   "metadata": {
    "ExecuteTime": {
     "end_time": "2024-04-16T00:51:51.213157Z",
     "start_time": "2024-04-16T00:51:51.199421Z"
    }
   },
   "cell_type": "code",
   "source": [
    "sri = rand_score(labeled_target.values.reshape(1, -1)[0], clusters_single_linkage)\n",
    "print(f'Rand Index: {sri}')"
   ],
   "id": "590194ca1b2b02f7",
   "outputs": [
    {
     "name": "stdout",
     "output_type": "stream",
     "text": [
      "Rand Index: 0.16064284476804175\n"
     ]
    }
   ],
   "execution_count": 43
  },
  {
   "metadata": {
    "ExecuteTime": {
     "end_time": "2024-04-16T00:51:51.379073Z",
     "start_time": "2024-04-16T00:51:51.213157Z"
    }
   },
   "cell_type": "code",
   "source": "labels[['single_linkage_predictions']].value_counts().plot.pie(autopct='%1.0f%%', pctdistance=0.7, labeldistance=1.1)",
   "id": "98c54a27902a85c9",
   "outputs": [
    {
     "data": {
      "text/plain": [
       "<Axes: ylabel='count'>"
      ]
     },
     "execution_count": 44,
     "metadata": {},
     "output_type": "execute_result"
    },
    {
     "data": {
      "text/plain": [
       "<Figure size 640x480 with 1 Axes>"
      ],
      "image/png": "[encoded data removed]"
     },
     "metadata": {},
     "output_type": "display_data"
    }
   ],
   "execution_count": 44
  },
  {
   "metadata": {},
   "cell_type": "markdown",
   "source": "",
   "id": "85988e69f153c79"
  },
  {
   "metadata": {},
   "cell_type": "markdown",
   "source": "This shows that all the data has fallen under one cluster. This is not a good representation of the data",
   "id": "97ab74923a128574"
  },
  {
   "metadata": {},
   "cell_type": "markdown",
   "source": "## Average Clustering",
   "id": "9873e7f6feb195c8"
  },
  {
   "metadata": {},
   "cell_type": "markdown",
   "source": "",
   "id": "71807a6487708514"
  },
  {
   "metadata": {
    "ExecuteTime": {
     "end_time": "2024-04-16T00:51:53.487616Z",
     "start_time": "2024-04-16T00:51:51.379073Z"
    }
   },
   "cell_type": "code",
   "source": [
    "model_average_linkage = AgglomerativeClustering(n_clusters = 7, linkage = 'average', affinity = 'precomputed')\n",
    "clusters_average_linkage = model_average_linkage.fit_predict(gower_matrix)"
   ],
   "id": "28404e26461b3d8e",
   "outputs": [
    {
     "name": "stderr",
     "output_type": "stream",
     "text": [
      "C:\\Tools\\conda\\Lib\\site-packages\\sklearn\\cluster\\_agglomerative.py:1005: FutureWarning: Attribute `affinity` was deprecated in version 1.2 and will be removed in 1.4. Use `metric` instead\n",
      "  warnings.warn(\n"
     ]
    }
   ],
   "execution_count": 45
  },
  {
   "metadata": {
    "ExecuteTime": {
     "end_time": "2024-04-16T00:51:53.494574Z",
     "start_time": "2024-04-16T00:51:53.487616Z"
    }
   },
   "cell_type": "code",
   "source": "labels['average_linkage_predictions'] = clusters_average_linkage",
   "id": "d694df466797af05",
   "outputs": [],
   "execution_count": 46
  },
  {
   "metadata": {
    "ExecuteTime": {
     "end_time": "2024-04-16T00:51:53.508812Z",
     "start_time": "2024-04-16T00:51:53.495938Z"
    }
   },
   "cell_type": "code",
   "source": [
    "ari = rand_score(labeled_target.values.reshape(1, -1)[0], clusters_average_linkage)\n",
    "print(f'Rand Index: {ari}')"
   ],
   "id": "52dc961845deb3b2",
   "outputs": [
    {
     "name": "stdout",
     "output_type": "stream",
     "text": [
      "Rand Index: 0.2866094234297379\n"
     ]
    }
   ],
   "execution_count": 47
  },
  {
   "metadata": {
    "ExecuteTime": {
     "end_time": "2024-04-16T00:51:53.669274Z",
     "start_time": "2024-04-16T00:51:53.511319Z"
    }
   },
   "cell_type": "code",
   "source": "labels[['average_linkage_predictions']].value_counts().plot.pie(autopct='%1.0f%%', pctdistance=0.7, labeldistance=1.1)",
   "id": "cdb8a3cc55452d67",
   "outputs": [
    {
     "data": {
      "text/plain": [
       "<Axes: ylabel='count'>"
      ]
     },
     "execution_count": 48,
     "metadata": {},
     "output_type": "execute_result"
    },
    {
     "data": {
      "text/plain": [
       "<Figure size 640x480 with 1 Axes>"
      ],
      "image/png": "[encoded data removed]"
     },
     "metadata": {},
     "output_type": "display_data"
    }
   ],
   "execution_count": 48
  },
  {
   "metadata": {},
   "cell_type": "markdown",
   "source": "The number of classes representing each type of data is diversifying but still the classes are being represented well.",
   "id": "a3e3bf47e576fa49"
  },
  {
   "metadata": {},
   "cell_type": "markdown",
   "source": "## Complete Linkage",
   "id": "162b405bff67ff47"
  },
  {
   "metadata": {
    "ExecuteTime": {
     "end_time": "2024-04-16T00:51:55.542106Z",
     "start_time": "2024-04-16T00:51:53.669777Z"
    }
   },
   "cell_type": "code",
   "source": [
    "model_complete_linkage = AgglomerativeClustering(n_clusters=7, linkage = 'complete', affinity= 'precomputed')\n",
    "clusters_complete_linkage = model_complete_linkage.fit_predict(gower_matrix)"
   ],
   "id": "68b8a1c01c29031d",
   "outputs": [
    {
     "name": "stderr",
     "output_type": "stream",
     "text": [
      "C:\\Tools\\conda\\Lib\\site-packages\\sklearn\\cluster\\_agglomerative.py:1005: FutureWarning: Attribute `affinity` was deprecated in version 1.2 and will be removed in 1.4. Use `metric` instead\n",
      "  warnings.warn(\n"
     ]
    }
   ],
   "execution_count": 49
  },
  {
   "metadata": {
    "ExecuteTime": {
     "end_time": "2024-04-16T00:51:55.548153Z",
     "start_time": "2024-04-16T00:51:55.542106Z"
    }
   },
   "cell_type": "code",
   "source": "labels['complete_linkage_predictions'] = clusters_complete_linkage",
   "id": "7bfca81a4be80b92",
   "outputs": [],
   "execution_count": 50
  },
  {
   "metadata": {
    "ExecuteTime": {
     "end_time": "2024-04-16T00:51:55.563075Z",
     "start_time": "2024-04-16T00:51:55.549840Z"
    }
   },
   "cell_type": "code",
   "source": [
    "cri = rand_score(labeled_target.values.reshape(1, -1)[0], clusters_complete_linkage)\n",
    "print(f'Rand Index: {cri}')"
   ],
   "id": "3babd1d382a54655",
   "outputs": [
    {
     "name": "stdout",
     "output_type": "stream",
     "text": [
      "Rand Index: 0.6514787555462124\n"
     ]
    }
   ],
   "execution_count": 51
  },
  {
   "metadata": {
    "ExecuteTime": {
     "end_time": "2024-04-16T01:22:05.507342Z",
     "start_time": "2024-04-16T01:22:05.290721Z"
    }
   },
   "cell_type": "code",
   "source": "labels[['complete_linkage_predictions']].value_counts().plot.pie(autopct='%1.0f%%', pctdistance=0.7, labeldistance=1.1)",
   "id": "22dfe540143f1c0b",
   "outputs": [
    {
     "data": {
      "text/plain": [
       "<Axes: ylabel='count'>"
      ]
     },
     "execution_count": 66,
     "metadata": {},
     "output_type": "execute_result"
    },
    {
     "data": {
      "text/plain": [
       "<Figure size 640x480 with 1 Axes>"
      ],
      "image/png": "[encoded data removed]"
     },
     "metadata": {},
     "output_type": "display_data"
    }
   ],
   "execution_count": 66
  },
  {
   "metadata": {
    "ExecuteTime": {
     "end_time": "2024-04-16T00:51:55.743216Z",
     "start_time": "2024-04-16T00:51:55.716369Z"
    }
   },
   "cell_type": "code",
   "source": "labels.value_counts([\"target\", \"complete_linkage_predictions\"])",
   "id": "26b362b2570f8351",
   "outputs": [
    {
     "data": {
      "text/plain": [
       "target  complete_linkage_predictions\n",
       "4       6                               605\n",
       "        0                               560\n",
       "1       6                               513\n",
       "2       6                               506\n",
       "        0                               443\n",
       "0       6                               440\n",
       "5       6                               374\n",
       "4       2                               358\n",
       "5       0                               335\n",
       "1       0                               325\n",
       "0       0                               277\n",
       "6       6                               257\n",
       "3       5                               175\n",
       "6       0                               171\n",
       "0       2                               149\n",
       "3       6                               148\n",
       "6       1                               140\n",
       "5       1                               112\n",
       "1       2                               105\n",
       "0       1                               100\n",
       "6       2                                82\n",
       "2       2                                76\n",
       "        3                                73\n",
       "3       2                                61\n",
       "5       3                                60\n",
       "4       3                                58\n",
       "5       2                                49\n",
       "3       0                                44\n",
       "6       3                                42\n",
       "1       3                                34\n",
       "2       5                                29\n",
       "0       3                                27\n",
       "2       4                                26\n",
       "3       1                                22\n",
       "0       4                                21\n",
       "2       1                                17\n",
       "1       4                                17\n",
       "3       3                                10\n",
       "4       1                                10\n",
       "6       5                                 9\n",
       "0       5                                 9\n",
       "4       5                                 9\n",
       "1       1                                 9\n",
       "5       5                                 2\n",
       "1       5                                 2\n",
       "4       4                                 1\n",
       "Name: count, dtype: int64"
      ]
     },
     "execution_count": 53,
     "metadata": {},
     "output_type": "execute_result"
    }
   ],
   "execution_count": 53
  },
  {
   "metadata": {
    "ExecuteTime": {
     "end_time": "2024-04-16T00:51:55.754302Z",
     "start_time": "2024-04-16T00:51:55.743216Z"
    }
   },
   "cell_type": "code",
   "source": "labels['aligned_clusters'] = labels['complete_linkage_predictions'].apply(lambda x: int(not x))",
   "id": "42ad63a634e3d1d",
   "outputs": [],
   "execution_count": 54
  },
  {
   "metadata": {
    "ExecuteTime": {
     "end_time": "2024-04-16T00:51:56.007103Z",
     "start_time": "2024-04-16T00:51:55.754302Z"
    }
   },
   "cell_type": "code",
   "source": [
    "cf_matrix = confusion_matrix(labeled_target.values, labels[[\"aligned_clusters\"]].values)\n",
    "cf_labels = ['True Neg','False Pos','False Neg','True Pos']\n",
    "fig, ax = plt.subplots(1, 1)\n",
    "sns.heatmap(cf_matrix/np.sum(cf_matrix), annot=cf_labels, fmt='', cmap='Blues')\n",
    "ax.set_ylabel('Target Labels')\n",
    "ax.set_xlabel('Predicted Labels')"
   ],
   "id": "1e360320940cdc8f",
   "outputs": [
    {
     "ename": "ValueError",
     "evalue": "`data` and `annot` must have same shape.",
     "output_type": "error",
     "traceback": [
      "\u001B[1;31m---------------------------------------------------------------------------\u001B[0m",
      "\u001B[1;31mValueError\u001B[0m                                Traceback (most recent call last)",
      "Cell \u001B[1;32mIn[55], line 4\u001B[0m\n\u001B[0;32m      2\u001B[0m cf_labels \u001B[38;5;241m=\u001B[39m [\u001B[38;5;124m'\u001B[39m\u001B[38;5;124mTrue Neg\u001B[39m\u001B[38;5;124m'\u001B[39m,\u001B[38;5;124m'\u001B[39m\u001B[38;5;124mFalse Pos\u001B[39m\u001B[38;5;124m'\u001B[39m,\u001B[38;5;124m'\u001B[39m\u001B[38;5;124mFalse Neg\u001B[39m\u001B[38;5;124m'\u001B[39m,\u001B[38;5;124m'\u001B[39m\u001B[38;5;124mTrue Pos\u001B[39m\u001B[38;5;124m'\u001B[39m]\n\u001B[0;32m      3\u001B[0m fig, ax \u001B[38;5;241m=\u001B[39m plt\u001B[38;5;241m.\u001B[39msubplots(\u001B[38;5;241m1\u001B[39m, \u001B[38;5;241m1\u001B[39m)\n\u001B[1;32m----> 4\u001B[0m sns\u001B[38;5;241m.\u001B[39mheatmap(cf_matrix\u001B[38;5;241m/\u001B[39mnp\u001B[38;5;241m.\u001B[39msum(cf_matrix), annot\u001B[38;5;241m=\u001B[39mcf_labels, fmt\u001B[38;5;241m=\u001B[39m\u001B[38;5;124m'\u001B[39m\u001B[38;5;124m'\u001B[39m, cmap\u001B[38;5;241m=\u001B[39m\u001B[38;5;124m'\u001B[39m\u001B[38;5;124mBlues\u001B[39m\u001B[38;5;124m'\u001B[39m)\n\u001B[0;32m      5\u001B[0m ax\u001B[38;5;241m.\u001B[39mset_ylabel(\u001B[38;5;124m'\u001B[39m\u001B[38;5;124mTarget Labels\u001B[39m\u001B[38;5;124m'\u001B[39m)\n\u001B[0;32m      6\u001B[0m ax\u001B[38;5;241m.\u001B[39mset_xlabel(\u001B[38;5;124m'\u001B[39m\u001B[38;5;124mPredicted Labels\u001B[39m\u001B[38;5;124m'\u001B[39m)\n",
      "File \u001B[1;32mC:\\Tools\\conda\\Lib\\site-packages\\seaborn\\matrix.py:446\u001B[0m, in \u001B[0;36mheatmap\u001B[1;34m(data, vmin, vmax, cmap, center, robust, annot, fmt, annot_kws, linewidths, linecolor, cbar, cbar_kws, cbar_ax, square, xticklabels, yticklabels, mask, ax, **kwargs)\u001B[0m\n\u001B[0;32m    365\u001B[0m \u001B[38;5;250m\u001B[39m\u001B[38;5;124;03m\"\"\"Plot rectangular data as a color-encoded matrix.\u001B[39;00m\n\u001B[0;32m    366\u001B[0m \n\u001B[0;32m    367\u001B[0m \u001B[38;5;124;03mThis is an Axes-level function and will draw the heatmap into the\u001B[39;00m\n\u001B[1;32m   (...)\u001B[0m\n\u001B[0;32m    443\u001B[0m \n\u001B[0;32m    444\u001B[0m \u001B[38;5;124;03m\"\"\"\u001B[39;00m\n\u001B[0;32m    445\u001B[0m \u001B[38;5;66;03m# Initialize the plotter object\u001B[39;00m\n\u001B[1;32m--> 446\u001B[0m plotter \u001B[38;5;241m=\u001B[39m _HeatMapper(data, vmin, vmax, cmap, center, robust, annot, fmt,\n\u001B[0;32m    447\u001B[0m                       annot_kws, cbar, cbar_kws, xticklabels,\n\u001B[0;32m    448\u001B[0m                       yticklabels, mask)\n\u001B[0;32m    450\u001B[0m \u001B[38;5;66;03m# Add the pcolormesh kwargs here\u001B[39;00m\n\u001B[0;32m    451\u001B[0m kwargs[\u001B[38;5;124m\"\u001B[39m\u001B[38;5;124mlinewidths\u001B[39m\u001B[38;5;124m\"\u001B[39m] \u001B[38;5;241m=\u001B[39m linewidths\n",
      "File \u001B[1;32mC:\\Tools\\conda\\Lib\\site-packages\\seaborn\\matrix.py:177\u001B[0m, in \u001B[0;36m_HeatMapper.__init__\u001B[1;34m(self, data, vmin, vmax, cmap, center, robust, annot, fmt, annot_kws, cbar, cbar_kws, xticklabels, yticklabels, mask)\u001B[0m\n\u001B[0;32m    175\u001B[0m         \u001B[38;5;28;01mif\u001B[39;00m annot_data\u001B[38;5;241m.\u001B[39mshape \u001B[38;5;241m!=\u001B[39m plot_data\u001B[38;5;241m.\u001B[39mshape:\n\u001B[0;32m    176\u001B[0m             err \u001B[38;5;241m=\u001B[39m \u001B[38;5;124m\"\u001B[39m\u001B[38;5;124m`data` and `annot` must have same shape.\u001B[39m\u001B[38;5;124m\"\u001B[39m\n\u001B[1;32m--> 177\u001B[0m             \u001B[38;5;28;01mraise\u001B[39;00m \u001B[38;5;167;01mValueError\u001B[39;00m(err)\n\u001B[0;32m    178\u001B[0m     annot \u001B[38;5;241m=\u001B[39m \u001B[38;5;28;01mTrue\u001B[39;00m\n\u001B[0;32m    180\u001B[0m \u001B[38;5;66;03m# Save other attributes to the object\u001B[39;00m\n",
      "\u001B[1;31mValueError\u001B[0m: `data` and `annot` must have same shape."
     ]
    },
    {
     "data": {
      "text/plain": [
       "<Figure size 640x480 with 1 Axes>"
      ],
      "image/png": "[encoded data removed]"
     },
     "metadata": {},
     "output_type": "display_data"
    }
   ],
   "execution_count": 55
  },
  {
   "metadata": {},
   "cell_type": "markdown",
   "source": "# Classification",
   "id": "a72487dd6f5ee943"
  },
  {
   "metadata": {
    "ExecuteTime": {
     "end_time": "2024-04-16T01:35:02.287605Z",
     "start_time": "2024-04-16T01:35:02.234086Z"
    }
   },
   "cell_type": "code",
   "source": [
    "df_target = df[['Class']]\n",
    "df_no_target.head()"
   ],
   "id": "9c32dadf28a043e2",
   "outputs": [
    {
     "data": {
      "text/plain": [
       "   BallAcceleration      Time  DistanceWall  DistanceCeil  DistanceBall  \\\n",
       "0       1636.798772  0.000000       3498.01       2012.98    299.668270   \n",
       "1       3198.029397  0.138893       3494.08       2012.98    229.896780   \n",
       "2          0.000000  0.173617       3494.08       2012.98    237.350599   \n",
       "3       9914.766242  0.312510       3500.08       2012.98    151.880921   \n",
       "4       5907.747166  0.625019       3521.65       2013.00    154.556104   \n",
       "\n",
       "     PlayerSpeed      BallSpeed   up  accelerate  slow  goal  left  boost  \\\n",
       "0  104267.426232   99035.849338  0.0         0.0   0.0   0.0   0.0    0.0   \n",
       "1  124248.031988  102233.878734  0.0         0.0   0.0   0.0   0.0    1.0   \n",
       "2  124248.031988  102968.358990  0.0         0.0   0.0   0.0   0.0    1.0   \n",
       "3  115248.016009  112883.125231  0.0         0.0   0.0   0.0   0.0    0.0   \n",
       "4  125091.256173  118790.872398  0.0         0.0   0.0   0.0   0.0    0.0   \n",
       "\n",
       "   camera  down  right  slide  jump  \n",
       "0     0.0   0.0    1.0    0.0   1.0  \n",
       "1     0.0   0.0    1.0    0.0   1.0  \n",
       "2     0.0   0.0    0.0    0.0   0.0  \n",
       "3     0.0   0.0    1.0    0.0   0.0  \n",
       "4     0.0   0.0    1.0    0.0   1.0  "
      ],
      "text/html": [
       "<div>\n",
       "<style scoped>\n",
       "    .dataframe tbody tr th:only-of-type {\n",
       "        vertical-align: middle;\n",
       "    }\n",
       "\n",
       "    .dataframe tbody tr th {\n",
       "        vertical-align: top;\n",
       "    }\n",
       "\n",
       "    .dataframe thead th {\n",
       "        text-align: right;\n",
       "    }\n",
       "</style>\n",
       "<table border=\"1\" class=\"dataframe\">\n",
       "  <thead>\n",
       "    <tr style=\"text-align: right;\">\n",
       "      <th></th>\n",
       "      <th>BallAcceleration</th>\n",
       "      <th>Time</th>\n",
       "      <th>DistanceWall</th>\n",
       "      <th>DistanceCeil</th>\n",
       "      <th>DistanceBall</th>\n",
       "      <th>PlayerSpeed</th>\n",
       "      <th>BallSpeed</th>\n",
       "      <th>up</th>\n",
       "      <th>accelerate</th>\n",
       "      <th>slow</th>\n",
       "      <th>goal</th>\n",
       "      <th>left</th>\n",
       "      <th>boost</th>\n",
       "      <th>camera</th>\n",
       "      <th>down</th>\n",
       "      <th>right</th>\n",
       "      <th>slide</th>\n",
       "      <th>jump</th>\n",
       "    </tr>\n",
       "  </thead>\n",
       "  <tbody>\n",
       "    <tr>\n",
       "      <th>0</th>\n",
       "      <td>1636.798772</td>\n",
       "      <td>0.000000</td>\n",
       "      <td>3498.01</td>\n",
       "      <td>2012.98</td>\n",
       "      <td>299.668270</td>\n",
       "      <td>104267.426232</td>\n",
       "      <td>99035.849338</td>\n",
       "      <td>0.0</td>\n",
       "      <td>0.0</td>\n",
       "      <td>0.0</td>\n",
       "      <td>0.0</td>\n",
       "      <td>0.0</td>\n",
       "      <td>0.0</td>\n",
       "      <td>0.0</td>\n",
       "      <td>0.0</td>\n",
       "      <td>1.0</td>\n",
       "      <td>0.0</td>\n",
       "      <td>1.0</td>\n",
       "    </tr>\n",
       "    <tr>\n",
       "      <th>1</th>\n",
       "      <td>3198.029397</td>\n",
       "      <td>0.138893</td>\n",
       "      <td>3494.08</td>\n",
       "      <td>2012.98</td>\n",
       "      <td>229.896780</td>\n",
       "      <td>124248.031988</td>\n",
       "      <td>102233.878734</td>\n",
       "      <td>0.0</td>\n",
       "      <td>0.0</td>\n",
       "      <td>0.0</td>\n",
       "      <td>0.0</td>\n",
       "      <td>0.0</td>\n",
       "      <td>1.0</td>\n",
       "      <td>0.0</td>\n",
       "      <td>0.0</td>\n",
       "      <td>1.0</td>\n",
       "      <td>0.0</td>\n",
       "      <td>1.0</td>\n",
       "    </tr>\n",
       "    <tr>\n",
       "      <th>2</th>\n",
       "      <td>0.000000</td>\n",
       "      <td>0.173617</td>\n",
       "      <td>3494.08</td>\n",
       "      <td>2012.98</td>\n",
       "      <td>237.350599</td>\n",
       "      <td>124248.031988</td>\n",
       "      <td>102968.358990</td>\n",
       "      <td>0.0</td>\n",
       "      <td>0.0</td>\n",
       "      <td>0.0</td>\n",
       "      <td>0.0</td>\n",
       "      <td>0.0</td>\n",
       "      <td>1.0</td>\n",
       "      <td>0.0</td>\n",
       "      <td>0.0</td>\n",
       "      <td>0.0</td>\n",
       "      <td>0.0</td>\n",
       "      <td>0.0</td>\n",
       "    </tr>\n",
       "    <tr>\n",
       "      <th>3</th>\n",
       "      <td>9914.766242</td>\n",
       "      <td>0.312510</td>\n",
       "      <td>3500.08</td>\n",
       "      <td>2012.98</td>\n",
       "      <td>151.880921</td>\n",
       "      <td>115248.016009</td>\n",
       "      <td>112883.125231</td>\n",
       "      <td>0.0</td>\n",
       "      <td>0.0</td>\n",
       "      <td>0.0</td>\n",
       "      <td>0.0</td>\n",
       "      <td>0.0</td>\n",
       "      <td>0.0</td>\n",
       "      <td>0.0</td>\n",
       "      <td>0.0</td>\n",
       "      <td>1.0</td>\n",
       "      <td>0.0</td>\n",
       "      <td>0.0</td>\n",
       "    </tr>\n",
       "    <tr>\n",
       "      <th>4</th>\n",
       "      <td>5907.747166</td>\n",
       "      <td>0.625019</td>\n",
       "      <td>3521.65</td>\n",
       "      <td>2013.00</td>\n",
       "      <td>154.556104</td>\n",
       "      <td>125091.256173</td>\n",
       "      <td>118790.872398</td>\n",
       "      <td>0.0</td>\n",
       "      <td>0.0</td>\n",
       "      <td>0.0</td>\n",
       "      <td>0.0</td>\n",
       "      <td>0.0</td>\n",
       "      <td>0.0</td>\n",
       "      <td>0.0</td>\n",
       "      <td>0.0</td>\n",
       "      <td>1.0</td>\n",
       "      <td>0.0</td>\n",
       "      <td>1.0</td>\n",
       "    </tr>\n",
       "  </tbody>\n",
       "</table>\n",
       "</div>"
      ]
     },
     "execution_count": 72,
     "metadata": {},
     "output_type": "execute_result"
    }
   ],
   "execution_count": 72
  },
  {
   "metadata": {
    "ExecuteTime": {
     "end_time": "2024-04-16T01:54:50.330165Z",
     "start_time": "2024-04-16T01:54:50.321779Z"
    }
   },
   "cell_type": "code",
   "source": [
    "# train test split data 80%-20%\n",
    "\n",
    "X = df_no_target\n",
    "y = df['Class']"
   ],
   "id": "74ca964fc61faa46",
   "outputs": [],
   "execution_count": 87
  },
  {
   "metadata": {
    "ExecuteTime": {
     "end_time": "2024-04-16T01:55:42.758260Z",
     "start_time": "2024-04-16T01:55:42.743787Z"
    }
   },
   "cell_type": "code",
   "source": "X_train, X_test, y_train, y_test = train_test_split(X, y, test_size=0.2, random_state=0)",
   "id": "647ec06cd2f3a937",
   "outputs": [],
   "execution_count": 88
  },
  {
   "metadata": {},
   "cell_type": "markdown",
   "source": "## Desicion Tree Classifier",
   "id": "51438693f4a0a2ad"
  },
  {
   "metadata": {
    "ExecuteTime": {
     "end_time": "2024-04-16T02:10:03.466103Z",
     "start_time": "2024-04-16T02:10:03.287245Z"
    }
   },
   "cell_type": "code",
   "source": [
    "dtree = DecisionTreeClassifier(max_depth = 10000).fit(X_train, y_train)\n",
    "dtree_prediction = dtree.predict(X_test)"
   ],
   "id": "5b1feb7e1c2e6a47",
   "outputs": [],
   "execution_count": 141
  },
  {
   "metadata": {
    "ExecuteTime": {
     "end_time": "2024-04-16T02:10:03.726799Z",
     "start_time": "2024-04-16T02:10:03.702257Z"
    }
   },
   "cell_type": "code",
   "source": "cm = confusion_matrix(y_test, dtree_prediction)",
   "id": "f5f036876c16b025",
   "outputs": [],
   "execution_count": 142
  },
  {
   "metadata": {
    "ExecuteTime": {
     "end_time": "2024-04-16T02:10:16.548775Z",
     "start_time": "2024-04-16T02:10:16.538929Z"
    }
   },
   "cell_type": "code",
   "source": "cm_graph = metrics.ConfusionMatrixDisplay(confusion_matrix = cm)",
   "id": "436ea7b13ff847bd",
   "outputs": [],
   "execution_count": 147
  },
  {
   "metadata": {
    "ExecuteTime": {
     "end_time": "2024-04-16T02:10:17.430445Z",
     "start_time": "2024-04-16T02:10:16.811797Z"
    }
   },
   "cell_type": "code",
   "source": [
    "cm_graph.plot()\n",
    "plt.show()"
   ],
   "id": "139c79755757b45d",
   "outputs": [
    {
     "data": {
      "text/plain": [
       "<Figure size 640x480 with 2 Axes>"
      ],
      "image/png": "[encoded data removed]"
     },
     "metadata": {},
     "output_type": "display_data"
    }
   ],
   "execution_count": 148
  },
  {
   "metadata": {
    "ExecuteTime": {
     "end_time": "2024-04-16T02:10:19.207052Z",
     "start_time": "2024-04-16T02:10:19.194194Z"
    }
   },
   "cell_type": "code",
   "source": [
    "accuracy = metrics.accuracy_score(y_test, dtree_prediction)\n",
    "print(accuracy)"
   ],
   "id": "685acd90872970c",
   "outputs": [
    {
     "name": "stdout",
     "output_type": "stream",
     "text": [
      "0.7135605511240029\n"
     ]
    }
   ],
   "execution_count": 149
  },
  {
   "metadata": {
    "ExecuteTime": {
     "end_time": "2024-04-16T02:11:31.500201Z",
     "start_time": "2024-04-16T02:11:31.488695Z"
    }
   },
   "cell_type": "code",
   "source": [
    "precision = metrics.precision_score(y_test, dtree_prediction, average='weighted')\n",
    "print(precision)"
   ],
   "id": "814fbcf925750f76",
   "outputs": [
    {
     "name": "stdout",
     "output_type": "stream",
     "text": [
      "0.7197241474629441\n"
     ]
    }
   ],
   "execution_count": 154
  },
  {
   "metadata": {
    "ExecuteTime": {
     "end_time": "2024-04-16T02:11:32.339176Z",
     "start_time": "2024-04-16T02:11:32.325489Z"
    }
   },
   "cell_type": "code",
   "source": [
    "sensitivity_recall = metrics.recall_score(y_test, dtree_prediction, average='weighted')\n",
    "print(sensitivity_recall)"
   ],
   "id": "656a0bee05f177d0",
   "outputs": [
    {
     "name": "stdout",
     "output_type": "stream",
     "text": [
      "0.7135605511240029\n"
     ]
    }
   ],
   "execution_count": 155
  },
  {
   "metadata": {},
   "cell_type": "code",
   "outputs": [],
   "execution_count": null,
   "source": "",
   "id": "38ad70d178bcb425"
  }
 ],
 "metadata": {
  "kernelspec": {
   "display_name": "Python 3",
   "language": "python",
   "name": "python3"
  },
  "language_info": {
   "codemirror_mode": {
    "name": "ipython",
    "version": 2
   },
   "file_extension": ".py",
   "mimetype": "text/x-python",
   "name": "python",
   "nbconvert_exporter": "python",
   "pygments_lexer": "ipython2",
   "version": "2.7.6"
  }
 },
 "nbformat": 4,
 "nbformat_minor": 5
}
