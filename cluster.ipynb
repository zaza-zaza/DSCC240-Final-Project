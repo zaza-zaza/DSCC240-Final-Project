{
 "cells": [
  {
   "cell_type": "code",
   "id": "initial_id",
   "metadata": {
    "collapsed": true,
    "ExecuteTime": {
     "end_time": "2024-04-16T21:24:01.162613100Z",
     "start_time": "2024-04-16T21:23:43.031980900Z"
    }
   },
   "source": [
    "!pip install gower\n",
    "!pip install xgboost"
   ],
   "outputs": [
    {
     "name": "stdout",
     "output_type": "stream",
     "text": [
      "Requirement already satisfied: gower in c:\\tools\\conda\\lib\\site-packages (0.1.2)\n",
      "Requirement already satisfied: numpy in c:\\tools\\conda\\lib\\site-packages (from gower) (1.24.3)\n",
      "Requirement already satisfied: scipy in c:\\tools\\conda\\lib\\site-packages (from gower) (1.11.1)\n",
      "Requirement already satisfied: xgboost in c:\\tools\\conda\\lib\\site-packages (2.0.3)\n",
      "Requirement already satisfied: numpy in c:\\tools\\conda\\lib\\site-packages (from xgboost) (1.24.3)\n",
      "Requirement already satisfied: scipy in c:\\tools\\conda\\lib\\site-packages (from xgboost) (1.11.1)\n"
     ]
    }
   ],
   "execution_count": 12
  },
  {
   "metadata": {
    "ExecuteTime": {
     "end_time": "2024-04-16T22:53:53.154259500Z",
     "start_time": "2024-04-16T22:53:53.145609300Z"
    }
   },
   "cell_type": "code",
   "source": [
    "import pandas as pd\n",
    "import numpy as np\n",
    "# visual\n",
    "import matplotlib.pyplot as plt\n",
    "import seaborn as sns\n",
    "# distance\n",
    "import gower\n",
    "# sklearn\n",
    "from sklearn.cluster import AgglomerativeClustering\n",
    "from sklearn.preprocessing import LabelEncoder, MaxAbsScaler\n",
    "from sklearn.metrics import confusion_matrix, rand_score, accuracy_score\n",
    "from sklearn.model_selection import train_test_split\n",
    "from sklearn.tree import DecisionTreeClassifier\n",
    "from sklearn.ensemble import RandomForestClassifier\n",
    "from sklearn import metrics\n",
    "from sklearn.model_selection import GridSearchCV\n",
    "from sklearn.metrics import classification_report\n",
    "from sklearn.svm import SVC"
   ],
   "id": "32b576af27778499",
   "outputs": [],
   "execution_count": 202
  },
  {
   "metadata": {},
   "cell_type": "markdown",
   "source": [
    "## Import Data"
   ],
   "id": "cd5c1ce27e37fca6"
  },
  {
   "metadata": {
    "ExecuteTime": {
     "end_time": "2024-04-16T21:24:01.247970800Z",
     "start_time": "2024-04-16T21:24:01.176192600Z"
    }
   },
   "cell_type": "code",
   "source": [
    "lst_str_cols = ['move']\n",
    "dict_dtypes = {x: 'str' for x in lst_str_cols}\n",
    "data = pd.read_csv('preprocessed_encoded_rocket_league_skillshots.csv', dtype=dict_dtypes)\n",
    "df = pd.DataFrame(data = data)\n",
    "df = df.drop(['Unnamed: 0'], axis = 1)"
   ],
   "id": "32eaef7cceed912a",
   "outputs": [],
   "execution_count": 14
  },
  {
   "metadata": {
    "ExecuteTime": {
     "end_time": "2024-04-16T21:24:01.252376800Z",
     "start_time": "2024-04-16T21:24:01.209853900Z"
    }
   },
   "cell_type": "code",
   "source": [
    "df.head()"
   ],
   "id": "616735dbef6a8135",
   "outputs": [
    {
     "data": {
      "text/plain": "   BallAcceleration      Time  DistanceWall  DistanceCeil  DistanceBall  \\\n0          0.005129  0.000000      0.012304      0.498266      0.031512   \n1          0.010021  0.010311      0.012290      0.498266      0.024175   \n2          0.000000  0.012889      0.012290      0.498266      0.024959   \n3          0.031069  0.023200      0.012311      0.498266      0.015971   \n4          0.018512  0.046400      0.012387      0.498271      0.016252   \n\n   PlayerSpeed  BallSpeed  goal  Class move  \n0     0.453337   0.300277     0      6    3  \n1     0.540209   0.309974     0      6   22  \n2     0.540209   0.312201     0      6   18  \n3     0.501078   0.342262     0      6    2  \n4     0.543875   0.360175     0      6    3  ",
      "text/html": "<div>\n<style scoped>\n    .dataframe tbody tr th:only-of-type {\n        vertical-align: middle;\n    }\n\n    .dataframe tbody tr th {\n        vertical-align: top;\n    }\n\n    .dataframe thead th {\n        text-align: right;\n    }\n</style>\n<table border=\"1\" class=\"dataframe\">\n  <thead>\n    <tr style=\"text-align: right;\">\n      <th></th>\n      <th>BallAcceleration</th>\n      <th>Time</th>\n      <th>DistanceWall</th>\n      <th>DistanceCeil</th>\n      <th>DistanceBall</th>\n      <th>PlayerSpeed</th>\n      <th>BallSpeed</th>\n      <th>goal</th>\n      <th>Class</th>\n      <th>move</th>\n    </tr>\n  </thead>\n  <tbody>\n    <tr>\n      <th>0</th>\n      <td>0.005129</td>\n      <td>0.000000</td>\n      <td>0.012304</td>\n      <td>0.498266</td>\n      <td>0.031512</td>\n      <td>0.453337</td>\n      <td>0.300277</td>\n      <td>0</td>\n      <td>6</td>\n      <td>3</td>\n    </tr>\n    <tr>\n      <th>1</th>\n      <td>0.010021</td>\n      <td>0.010311</td>\n      <td>0.012290</td>\n      <td>0.498266</td>\n      <td>0.024175</td>\n      <td>0.540209</td>\n      <td>0.309974</td>\n      <td>0</td>\n      <td>6</td>\n      <td>22</td>\n    </tr>\n    <tr>\n      <th>2</th>\n      <td>0.000000</td>\n      <td>0.012889</td>\n      <td>0.012290</td>\n      <td>0.498266</td>\n      <td>0.024959</td>\n      <td>0.540209</td>\n      <td>0.312201</td>\n      <td>0</td>\n      <td>6</td>\n      <td>18</td>\n    </tr>\n    <tr>\n      <th>3</th>\n      <td>0.031069</td>\n      <td>0.023200</td>\n      <td>0.012311</td>\n      <td>0.498266</td>\n      <td>0.015971</td>\n      <td>0.501078</td>\n      <td>0.342262</td>\n      <td>0</td>\n      <td>6</td>\n      <td>2</td>\n    </tr>\n    <tr>\n      <th>4</th>\n      <td>0.018512</td>\n      <td>0.046400</td>\n      <td>0.012387</td>\n      <td>0.498271</td>\n      <td>0.016252</td>\n      <td>0.543875</td>\n      <td>0.360175</td>\n      <td>0</td>\n      <td>6</td>\n      <td>3</td>\n    </tr>\n  </tbody>\n</table>\n</div>"
     },
     "execution_count": 15,
     "metadata": {},
     "output_type": "execute_result"
    }
   ],
   "execution_count": 15
  },
  {
   "metadata": {
    "ExecuteTime": {
     "end_time": "2024-04-16T21:24:01.273600Z",
     "start_time": "2024-04-16T21:24:01.231686500Z"
    }
   },
   "cell_type": "code",
   "source": [
    "df['move'].dtypes"
   ],
   "id": "b3f3e0667630d07c",
   "outputs": [
    {
     "data": {
      "text/plain": "dtype('O')"
     },
     "execution_count": 16,
     "metadata": {},
     "output_type": "execute_result"
    }
   ],
   "execution_count": 16
  },
  {
   "metadata": {
    "ExecuteTime": {
     "end_time": "2024-04-16T21:24:01.547790400Z",
     "start_time": "2024-04-16T21:24:01.241487900Z"
    }
   },
   "cell_type": "code",
   "source": [
    "# Plotting the histogram of the frequency of each class including -1\n",
    "plt.figure(figsize=(10, 6))\n",
    "df['Class'].value_counts().sort_index().plot(kind='bar', color='skyblue')\n",
    "plt.title('Frequency of Each Class')\n",
    "plt.xlabel('Class')\n",
    "plt.ylabel('Frequency')\n",
    "plt.xticks(rotation=0)  # Keep the class labels horizontal for better readability\n",
    "plt.grid(axis='y', linestyle='--', alpha=0.7)\n",
    "plt.show()\n"
   ],
   "id": "f8a4b6a337a1f4d7",
   "outputs": [
    {
     "data": {
      "text/plain": "<Figure size 1000x600 with 1 Axes>",
      "image/png": "[encoded data removed]"
     },
     "metadata": {},
     "output_type": "display_data"
    }
   ],
   "execution_count": 17
  },
  {
   "metadata": {
    "ExecuteTime": {
     "end_time": "2024-04-16T21:24:01.549298700Z",
     "start_time": "2024-04-16T21:24:01.521309200Z"
    }
   },
   "cell_type": "code",
   "source": [
    "df_no_target = df.drop(columns=['Class'])"
   ],
   "id": "3ccaff1d6ec196a4",
   "outputs": [],
   "execution_count": 18
  },
  {
   "metadata": {},
   "cell_type": "markdown",
   "source": [
    "# Agglomerative Clustering"
   ],
   "id": "1cd333cfb1bd9632"
  },
  {
   "metadata": {
    "ExecuteTime": {
     "end_time": "2024-04-16T21:24:01.582620500Z",
     "start_time": "2024-04-16T21:24:01.531360Z"
    }
   },
   "cell_type": "code",
   "source": [
    "model = AgglomerativeClustering(n_clusters = 7, affinity = 'precomputed')"
   ],
   "id": "e52a91bd9833d15",
   "outputs": [],
   "execution_count": 19
  },
  {
   "metadata": {
    "ExecuteTime": {
     "end_time": "2024-04-16T21:24:01.688792900Z",
     "start_time": "2024-04-16T21:24:01.539116100Z"
    }
   },
   "cell_type": "code",
   "source": [
    "target = df[['Class']]\n",
    "le = LabelEncoder()\n",
    "\n",
    "labeled_target = target.apply(le.fit_transform)\n",
    "\n",
    "labels = pd.DataFrame()\n",
    "labels['target'] = labeled_target.values.reshape(1, -1).tolist()[0]\n"
   ],
   "id": "8099d258b0f812ab",
   "outputs": [],
   "execution_count": 20
  },
  {
   "metadata": {},
   "cell_type": "markdown",
   "source": [
    "## Trying three different kinds of linkages for agglomerative clustering"
   ],
   "id": "57bd08d18d65a647"
  },
  {
   "metadata": {},
   "cell_type": "markdown",
   "source": [
    "### Single Linkage"
   ],
   "id": "9be0a9bfefe162c7"
  },
  {
   "metadata": {
    "ExecuteTime": {
     "end_time": "2024-04-16T21:24:01.857603800Z",
     "start_time": "2024-04-16T21:24:01.801324900Z"
    }
   },
   "cell_type": "code",
   "source": [
    "model_single_linkage = AgglomerativeClustering(n_clusters = 7, linkage= 'single', metric = 'precomputed')\n",
    "clusters_single_linkage = model_single_linkage.fit_predict(gower_matrix)"
   ],
   "id": "b52113a733fda248",
   "outputs": [
    {
     "ename": "NameError",
     "evalue": "name 'gower_matrix' is not defined",
     "output_type": "error",
     "traceback": [
      "\u001B[1;31m---------------------------------------------------------------------------\u001B[0m",
      "\u001B[1;31mNameError\u001B[0m                                 Traceback (most recent call last)",
      "Cell \u001B[1;32mIn[21], line 2\u001B[0m\n\u001B[0;32m      1\u001B[0m model_single_linkage \u001B[38;5;241m=\u001B[39m AgglomerativeClustering(n_clusters \u001B[38;5;241m=\u001B[39m \u001B[38;5;241m7\u001B[39m, linkage\u001B[38;5;241m=\u001B[39m \u001B[38;5;124m'\u001B[39m\u001B[38;5;124msingle\u001B[39m\u001B[38;5;124m'\u001B[39m, metric \u001B[38;5;241m=\u001B[39m \u001B[38;5;124m'\u001B[39m\u001B[38;5;124mprecomputed\u001B[39m\u001B[38;5;124m'\u001B[39m)\n\u001B[1;32m----> 2\u001B[0m clusters_single_linkage \u001B[38;5;241m=\u001B[39m model_single_linkage\u001B[38;5;241m.\u001B[39mfit_predict(gower_matrix)\n",
      "\u001B[1;31mNameError\u001B[0m: name 'gower_matrix' is not defined"
     ]
    }
   ],
   "execution_count": 21
  },
  {
   "metadata": {
    "ExecuteTime": {
     "end_time": "2024-04-16T21:24:03.590409300Z",
     "start_time": "2024-04-16T21:24:03.573299200Z"
    }
   },
   "cell_type": "code",
   "source": [
    "labels['single_linkage_predictions'] = clusters_single_linkage"
   ],
   "id": "41cd7917cfbcb06b",
   "outputs": [
    {
     "ename": "NameError",
     "evalue": "name 'clusters_single_linkage' is not defined",
     "output_type": "error",
     "traceback": [
      "\u001B[1;31m---------------------------------------------------------------------------\u001B[0m",
      "\u001B[1;31mNameError\u001B[0m                                 Traceback (most recent call last)",
      "Cell \u001B[1;32mIn[22], line 1\u001B[0m\n\u001B[1;32m----> 1\u001B[0m labels[\u001B[38;5;124m'\u001B[39m\u001B[38;5;124msingle_linkage_predictions\u001B[39m\u001B[38;5;124m'\u001B[39m] \u001B[38;5;241m=\u001B[39m clusters_single_linkage\n",
      "\u001B[1;31mNameError\u001B[0m: name 'clusters_single_linkage' is not defined"
     ]
    }
   ],
   "execution_count": 22
  },
  {
   "metadata": {
    "ExecuteTime": {
     "end_time": "2024-04-16T21:24:04.363720200Z",
     "start_time": "2024-04-16T21:24:04.318099100Z"
    }
   },
   "cell_type": "code",
   "source": [
    "sri = rand_score(labeled_target.values.reshape(1, -1)[0], clusters_single_linkage)\n",
    "print(f'Rand Index: {sri}')"
   ],
   "id": "590194ca1b2b02f7",
   "outputs": [
    {
     "ename": "NameError",
     "evalue": "name 'clusters_single_linkage' is not defined",
     "output_type": "error",
     "traceback": [
      "\u001B[1;31m---------------------------------------------------------------------------\u001B[0m",
      "\u001B[1;31mNameError\u001B[0m                                 Traceback (most recent call last)",
      "Cell \u001B[1;32mIn[23], line 1\u001B[0m\n\u001B[1;32m----> 1\u001B[0m sri \u001B[38;5;241m=\u001B[39m rand_score(labeled_target\u001B[38;5;241m.\u001B[39mvalues\u001B[38;5;241m.\u001B[39mreshape(\u001B[38;5;241m1\u001B[39m, \u001B[38;5;241m-\u001B[39m\u001B[38;5;241m1\u001B[39m)[\u001B[38;5;241m0\u001B[39m], clusters_single_linkage)\n\u001B[0;32m      2\u001B[0m \u001B[38;5;28mprint\u001B[39m(\u001B[38;5;124mf\u001B[39m\u001B[38;5;124m'\u001B[39m\u001B[38;5;124mRand Index: \u001B[39m\u001B[38;5;132;01m{\u001B[39;00msri\u001B[38;5;132;01m}\u001B[39;00m\u001B[38;5;124m'\u001B[39m)\n",
      "\u001B[1;31mNameError\u001B[0m: name 'clusters_single_linkage' is not defined"
     ]
    }
   ],
   "execution_count": 23
  },
  {
   "metadata": {
    "ExecuteTime": {
     "end_time": "2024-04-16T21:24:04.994174300Z",
     "start_time": "2024-04-16T21:24:04.914401700Z"
    }
   },
   "cell_type": "code",
   "source": [
    "labels[['single_linkage_predictions']].value_counts().plot.pie(autopct='%1.0f%%', pctdistance=0.7, labeldistance=1.1)"
   ],
   "id": "98c54a27902a85c9",
   "outputs": [
    {
     "ename": "KeyError",
     "evalue": "\"None of [Index(['single_linkage_predictions'], dtype='object')] are in the [columns]\"",
     "output_type": "error",
     "traceback": [
      "\u001B[1;31m---------------------------------------------------------------------------\u001B[0m",
      "\u001B[1;31mKeyError\u001B[0m                                  Traceback (most recent call last)",
      "Cell \u001B[1;32mIn[24], line 1\u001B[0m\n\u001B[1;32m----> 1\u001B[0m labels[[\u001B[38;5;124m'\u001B[39m\u001B[38;5;124msingle_linkage_predictions\u001B[39m\u001B[38;5;124m'\u001B[39m]]\u001B[38;5;241m.\u001B[39mvalue_counts()\u001B[38;5;241m.\u001B[39mplot\u001B[38;5;241m.\u001B[39mpie(autopct\u001B[38;5;241m=\u001B[39m\u001B[38;5;124m'\u001B[39m\u001B[38;5;132;01m%1.0f\u001B[39;00m\u001B[38;5;132;01m%%\u001B[39;00m\u001B[38;5;124m'\u001B[39m, pctdistance\u001B[38;5;241m=\u001B[39m\u001B[38;5;241m0.7\u001B[39m, labeldistance\u001B[38;5;241m=\u001B[39m\u001B[38;5;241m1.1\u001B[39m)\n",
      "File \u001B[1;32mC:\\Tools\\conda\\Lib\\site-packages\\pandas\\core\\frame.py:3767\u001B[0m, in \u001B[0;36mDataFrame.__getitem__\u001B[1;34m(self, key)\u001B[0m\n\u001B[0;32m   3765\u001B[0m     \u001B[38;5;28;01mif\u001B[39;00m is_iterator(key):\n\u001B[0;32m   3766\u001B[0m         key \u001B[38;5;241m=\u001B[39m \u001B[38;5;28mlist\u001B[39m(key)\n\u001B[1;32m-> 3767\u001B[0m     indexer \u001B[38;5;241m=\u001B[39m \u001B[38;5;28mself\u001B[39m\u001B[38;5;241m.\u001B[39mcolumns\u001B[38;5;241m.\u001B[39m_get_indexer_strict(key, \u001B[38;5;124m\"\u001B[39m\u001B[38;5;124mcolumns\u001B[39m\u001B[38;5;124m\"\u001B[39m)[\u001B[38;5;241m1\u001B[39m]\n\u001B[0;32m   3769\u001B[0m \u001B[38;5;66;03m# take() does not accept boolean indexers\u001B[39;00m\n\u001B[0;32m   3770\u001B[0m \u001B[38;5;28;01mif\u001B[39;00m \u001B[38;5;28mgetattr\u001B[39m(indexer, \u001B[38;5;124m\"\u001B[39m\u001B[38;5;124mdtype\u001B[39m\u001B[38;5;124m\"\u001B[39m, \u001B[38;5;28;01mNone\u001B[39;00m) \u001B[38;5;241m==\u001B[39m \u001B[38;5;28mbool\u001B[39m:\n",
      "File \u001B[1;32mC:\\Tools\\conda\\Lib\\site-packages\\pandas\\core\\indexes\\base.py:5877\u001B[0m, in \u001B[0;36mIndex._get_indexer_strict\u001B[1;34m(self, key, axis_name)\u001B[0m\n\u001B[0;32m   5874\u001B[0m \u001B[38;5;28;01melse\u001B[39;00m:\n\u001B[0;32m   5875\u001B[0m     keyarr, indexer, new_indexer \u001B[38;5;241m=\u001B[39m \u001B[38;5;28mself\u001B[39m\u001B[38;5;241m.\u001B[39m_reindex_non_unique(keyarr)\n\u001B[1;32m-> 5877\u001B[0m \u001B[38;5;28mself\u001B[39m\u001B[38;5;241m.\u001B[39m_raise_if_missing(keyarr, indexer, axis_name)\n\u001B[0;32m   5879\u001B[0m keyarr \u001B[38;5;241m=\u001B[39m \u001B[38;5;28mself\u001B[39m\u001B[38;5;241m.\u001B[39mtake(indexer)\n\u001B[0;32m   5880\u001B[0m \u001B[38;5;28;01mif\u001B[39;00m \u001B[38;5;28misinstance\u001B[39m(key, Index):\n\u001B[0;32m   5881\u001B[0m     \u001B[38;5;66;03m# GH 42790 - Preserve name from an Index\u001B[39;00m\n",
      "File \u001B[1;32mC:\\Tools\\conda\\Lib\\site-packages\\pandas\\core\\indexes\\base.py:5938\u001B[0m, in \u001B[0;36mIndex._raise_if_missing\u001B[1;34m(self, key, indexer, axis_name)\u001B[0m\n\u001B[0;32m   5936\u001B[0m     \u001B[38;5;28;01mif\u001B[39;00m use_interval_msg:\n\u001B[0;32m   5937\u001B[0m         key \u001B[38;5;241m=\u001B[39m \u001B[38;5;28mlist\u001B[39m(key)\n\u001B[1;32m-> 5938\u001B[0m     \u001B[38;5;28;01mraise\u001B[39;00m \u001B[38;5;167;01mKeyError\u001B[39;00m(\u001B[38;5;124mf\u001B[39m\u001B[38;5;124m\"\u001B[39m\u001B[38;5;124mNone of [\u001B[39m\u001B[38;5;132;01m{\u001B[39;00mkey\u001B[38;5;132;01m}\u001B[39;00m\u001B[38;5;124m] are in the [\u001B[39m\u001B[38;5;132;01m{\u001B[39;00maxis_name\u001B[38;5;132;01m}\u001B[39;00m\u001B[38;5;124m]\u001B[39m\u001B[38;5;124m\"\u001B[39m)\n\u001B[0;32m   5940\u001B[0m not_found \u001B[38;5;241m=\u001B[39m \u001B[38;5;28mlist\u001B[39m(ensure_index(key)[missing_mask\u001B[38;5;241m.\u001B[39mnonzero()[\u001B[38;5;241m0\u001B[39m]]\u001B[38;5;241m.\u001B[39munique())\n\u001B[0;32m   5941\u001B[0m \u001B[38;5;28;01mraise\u001B[39;00m \u001B[38;5;167;01mKeyError\u001B[39;00m(\u001B[38;5;124mf\u001B[39m\u001B[38;5;124m\"\u001B[39m\u001B[38;5;132;01m{\u001B[39;00mnot_found\u001B[38;5;132;01m}\u001B[39;00m\u001B[38;5;124m not in index\u001B[39m\u001B[38;5;124m\"\u001B[39m)\n",
      "\u001B[1;31mKeyError\u001B[0m: \"None of [Index(['single_linkage_predictions'], dtype='object')] are in the [columns]\""
     ]
    }
   ],
   "execution_count": 24
  },
  {
   "metadata": {},
   "cell_type": "markdown",
   "source": [],
   "id": "85988e69f153c79"
  },
  {
   "metadata": {},
   "cell_type": "markdown",
   "source": [
    "This shows that all the data has fallen under one cluster. This is not a good representation of the data"
   ],
   "id": "97ab74923a128574"
  },
  {
   "metadata": {},
   "cell_type": "markdown",
   "source": [
    "## Average Clustering"
   ],
   "id": "9873e7f6feb195c8"
  },
  {
   "metadata": {},
   "cell_type": "markdown",
   "source": [],
   "id": "71807a6487708514"
  },
  {
   "metadata": {
    "ExecuteTime": {
     "end_time": "2024-04-16T21:24:07.890409600Z",
     "start_time": "2024-04-16T21:24:07.841780700Z"
    }
   },
   "cell_type": "code",
   "source": [
    "model_average_linkage = AgglomerativeClustering(n_clusters = 7, linkage = 'average', metric = 'precomputed')\n",
    "clusters_average_linkage = model_average_linkage.fit_predict(gower_matrix)"
   ],
   "id": "28404e26461b3d8e",
   "outputs": [
    {
     "ename": "NameError",
     "evalue": "name 'gower_matrix' is not defined",
     "output_type": "error",
     "traceback": [
      "\u001B[1;31m---------------------------------------------------------------------------\u001B[0m",
      "\u001B[1;31mNameError\u001B[0m                                 Traceback (most recent call last)",
      "Cell \u001B[1;32mIn[25], line 2\u001B[0m\n\u001B[0;32m      1\u001B[0m model_average_linkage \u001B[38;5;241m=\u001B[39m AgglomerativeClustering(n_clusters \u001B[38;5;241m=\u001B[39m \u001B[38;5;241m7\u001B[39m, linkage \u001B[38;5;241m=\u001B[39m \u001B[38;5;124m'\u001B[39m\u001B[38;5;124maverage\u001B[39m\u001B[38;5;124m'\u001B[39m, metric \u001B[38;5;241m=\u001B[39m \u001B[38;5;124m'\u001B[39m\u001B[38;5;124mprecomputed\u001B[39m\u001B[38;5;124m'\u001B[39m)\n\u001B[1;32m----> 2\u001B[0m clusters_average_linkage \u001B[38;5;241m=\u001B[39m model_average_linkage\u001B[38;5;241m.\u001B[39mfit_predict(gower_matrix)\n",
      "\u001B[1;31mNameError\u001B[0m: name 'gower_matrix' is not defined"
     ]
    }
   ],
   "execution_count": 25
  },
  {
   "metadata": {
    "ExecuteTime": {
     "end_time": "2024-04-16T21:24:08.133485200Z",
     "start_time": "2024-04-16T21:24:08.099535300Z"
    }
   },
   "cell_type": "code",
   "source": [
    "labels['average_linkage_predictions'] = clusters_average_linkage"
   ],
   "id": "d694df466797af05",
   "outputs": [
    {
     "ename": "NameError",
     "evalue": "name 'clusters_average_linkage' is not defined",
     "output_type": "error",
     "traceback": [
      "\u001B[1;31m---------------------------------------------------------------------------\u001B[0m",
      "\u001B[1;31mNameError\u001B[0m                                 Traceback (most recent call last)",
      "Cell \u001B[1;32mIn[26], line 1\u001B[0m\n\u001B[1;32m----> 1\u001B[0m labels[\u001B[38;5;124m'\u001B[39m\u001B[38;5;124maverage_linkage_predictions\u001B[39m\u001B[38;5;124m'\u001B[39m] \u001B[38;5;241m=\u001B[39m clusters_average_linkage\n",
      "\u001B[1;31mNameError\u001B[0m: name 'clusters_average_linkage' is not defined"
     ]
    }
   ],
   "execution_count": 26
  },
  {
   "metadata": {
    "ExecuteTime": {
     "end_time": "2024-04-16T21:24:08.384658100Z",
     "start_time": "2024-04-16T21:24:08.313499500Z"
    }
   },
   "cell_type": "code",
   "source": [
    "ari = rand_score(labeled_target.values.reshape(1, -1)[0], clusters_average_linkage)\n",
    "print(f'Rand Index: {ari}')"
   ],
   "id": "52dc961845deb3b2",
   "outputs": [
    {
     "ename": "NameError",
     "evalue": "name 'clusters_average_linkage' is not defined",
     "output_type": "error",
     "traceback": [
      "\u001B[1;31m---------------------------------------------------------------------------\u001B[0m",
      "\u001B[1;31mNameError\u001B[0m                                 Traceback (most recent call last)",
      "Cell \u001B[1;32mIn[27], line 1\u001B[0m\n\u001B[1;32m----> 1\u001B[0m ari \u001B[38;5;241m=\u001B[39m rand_score(labeled_target\u001B[38;5;241m.\u001B[39mvalues\u001B[38;5;241m.\u001B[39mreshape(\u001B[38;5;241m1\u001B[39m, \u001B[38;5;241m-\u001B[39m\u001B[38;5;241m1\u001B[39m)[\u001B[38;5;241m0\u001B[39m], clusters_average_linkage)\n\u001B[0;32m      2\u001B[0m \u001B[38;5;28mprint\u001B[39m(\u001B[38;5;124mf\u001B[39m\u001B[38;5;124m'\u001B[39m\u001B[38;5;124mRand Index: \u001B[39m\u001B[38;5;132;01m{\u001B[39;00mari\u001B[38;5;132;01m}\u001B[39;00m\u001B[38;5;124m'\u001B[39m)\n",
      "\u001B[1;31mNameError\u001B[0m: name 'clusters_average_linkage' is not defined"
     ]
    }
   ],
   "execution_count": 27
  },
  {
   "metadata": {
    "ExecuteTime": {
     "end_time": "2024-04-16T21:24:08.713934600Z",
     "start_time": "2024-04-16T21:24:08.575328700Z"
    }
   },
   "cell_type": "code",
   "source": [
    "labels[['average_linkage_predictions']].value_counts().plot.pie(autopct='%1.0f%%', pctdistance=0.7, labeldistance=1.1)"
   ],
   "id": "cdb8a3cc55452d67",
   "outputs": [
    {
     "ename": "KeyError",
     "evalue": "\"None of [Index(['average_linkage_predictions'], dtype='object')] are in the [columns]\"",
     "output_type": "error",
     "traceback": [
      "\u001B[1;31m---------------------------------------------------------------------------\u001B[0m",
      "\u001B[1;31mKeyError\u001B[0m                                  Traceback (most recent call last)",
      "Cell \u001B[1;32mIn[28], line 1\u001B[0m\n\u001B[1;32m----> 1\u001B[0m labels[[\u001B[38;5;124m'\u001B[39m\u001B[38;5;124maverage_linkage_predictions\u001B[39m\u001B[38;5;124m'\u001B[39m]]\u001B[38;5;241m.\u001B[39mvalue_counts()\u001B[38;5;241m.\u001B[39mplot\u001B[38;5;241m.\u001B[39mpie(autopct\u001B[38;5;241m=\u001B[39m\u001B[38;5;124m'\u001B[39m\u001B[38;5;132;01m%1.0f\u001B[39;00m\u001B[38;5;132;01m%%\u001B[39;00m\u001B[38;5;124m'\u001B[39m, pctdistance\u001B[38;5;241m=\u001B[39m\u001B[38;5;241m0.7\u001B[39m, labeldistance\u001B[38;5;241m=\u001B[39m\u001B[38;5;241m1.1\u001B[39m)\n",
      "File \u001B[1;32mC:\\Tools\\conda\\Lib\\site-packages\\pandas\\core\\frame.py:3767\u001B[0m, in \u001B[0;36mDataFrame.__getitem__\u001B[1;34m(self, key)\u001B[0m\n\u001B[0;32m   3765\u001B[0m     \u001B[38;5;28;01mif\u001B[39;00m is_iterator(key):\n\u001B[0;32m   3766\u001B[0m         key \u001B[38;5;241m=\u001B[39m \u001B[38;5;28mlist\u001B[39m(key)\n\u001B[1;32m-> 3767\u001B[0m     indexer \u001B[38;5;241m=\u001B[39m \u001B[38;5;28mself\u001B[39m\u001B[38;5;241m.\u001B[39mcolumns\u001B[38;5;241m.\u001B[39m_get_indexer_strict(key, \u001B[38;5;124m\"\u001B[39m\u001B[38;5;124mcolumns\u001B[39m\u001B[38;5;124m\"\u001B[39m)[\u001B[38;5;241m1\u001B[39m]\n\u001B[0;32m   3769\u001B[0m \u001B[38;5;66;03m# take() does not accept boolean indexers\u001B[39;00m\n\u001B[0;32m   3770\u001B[0m \u001B[38;5;28;01mif\u001B[39;00m \u001B[38;5;28mgetattr\u001B[39m(indexer, \u001B[38;5;124m\"\u001B[39m\u001B[38;5;124mdtype\u001B[39m\u001B[38;5;124m\"\u001B[39m, \u001B[38;5;28;01mNone\u001B[39;00m) \u001B[38;5;241m==\u001B[39m \u001B[38;5;28mbool\u001B[39m:\n",
      "File \u001B[1;32mC:\\Tools\\conda\\Lib\\site-packages\\pandas\\core\\indexes\\base.py:5877\u001B[0m, in \u001B[0;36mIndex._get_indexer_strict\u001B[1;34m(self, key, axis_name)\u001B[0m\n\u001B[0;32m   5874\u001B[0m \u001B[38;5;28;01melse\u001B[39;00m:\n\u001B[0;32m   5875\u001B[0m     keyarr, indexer, new_indexer \u001B[38;5;241m=\u001B[39m \u001B[38;5;28mself\u001B[39m\u001B[38;5;241m.\u001B[39m_reindex_non_unique(keyarr)\n\u001B[1;32m-> 5877\u001B[0m \u001B[38;5;28mself\u001B[39m\u001B[38;5;241m.\u001B[39m_raise_if_missing(keyarr, indexer, axis_name)\n\u001B[0;32m   5879\u001B[0m keyarr \u001B[38;5;241m=\u001B[39m \u001B[38;5;28mself\u001B[39m\u001B[38;5;241m.\u001B[39mtake(indexer)\n\u001B[0;32m   5880\u001B[0m \u001B[38;5;28;01mif\u001B[39;00m \u001B[38;5;28misinstance\u001B[39m(key, Index):\n\u001B[0;32m   5881\u001B[0m     \u001B[38;5;66;03m# GH 42790 - Preserve name from an Index\u001B[39;00m\n",
      "File \u001B[1;32mC:\\Tools\\conda\\Lib\\site-packages\\pandas\\core\\indexes\\base.py:5938\u001B[0m, in \u001B[0;36mIndex._raise_if_missing\u001B[1;34m(self, key, indexer, axis_name)\u001B[0m\n\u001B[0;32m   5936\u001B[0m     \u001B[38;5;28;01mif\u001B[39;00m use_interval_msg:\n\u001B[0;32m   5937\u001B[0m         key \u001B[38;5;241m=\u001B[39m \u001B[38;5;28mlist\u001B[39m(key)\n\u001B[1;32m-> 5938\u001B[0m     \u001B[38;5;28;01mraise\u001B[39;00m \u001B[38;5;167;01mKeyError\u001B[39;00m(\u001B[38;5;124mf\u001B[39m\u001B[38;5;124m\"\u001B[39m\u001B[38;5;124mNone of [\u001B[39m\u001B[38;5;132;01m{\u001B[39;00mkey\u001B[38;5;132;01m}\u001B[39;00m\u001B[38;5;124m] are in the [\u001B[39m\u001B[38;5;132;01m{\u001B[39;00maxis_name\u001B[38;5;132;01m}\u001B[39;00m\u001B[38;5;124m]\u001B[39m\u001B[38;5;124m\"\u001B[39m)\n\u001B[0;32m   5940\u001B[0m not_found \u001B[38;5;241m=\u001B[39m \u001B[38;5;28mlist\u001B[39m(ensure_index(key)[missing_mask\u001B[38;5;241m.\u001B[39mnonzero()[\u001B[38;5;241m0\u001B[39m]]\u001B[38;5;241m.\u001B[39munique())\n\u001B[0;32m   5941\u001B[0m \u001B[38;5;28;01mraise\u001B[39;00m \u001B[38;5;167;01mKeyError\u001B[39;00m(\u001B[38;5;124mf\u001B[39m\u001B[38;5;124m\"\u001B[39m\u001B[38;5;132;01m{\u001B[39;00mnot_found\u001B[38;5;132;01m}\u001B[39;00m\u001B[38;5;124m not in index\u001B[39m\u001B[38;5;124m\"\u001B[39m)\n",
      "\u001B[1;31mKeyError\u001B[0m: \"None of [Index(['average_linkage_predictions'], dtype='object')] are in the [columns]\""
     ]
    }
   ],
   "execution_count": 28
  },
  {
   "metadata": {},
   "cell_type": "markdown",
   "source": [
    "The number of classes representing each type of data is diversifying but still the classes are being represented well."
   ],
   "id": "a3e3bf47e576fa49"
  },
  {
   "metadata": {},
   "cell_type": "markdown",
   "source": [
    "## Complete Linkage"
   ],
   "id": "162b405bff67ff47"
  },
  {
   "metadata": {
    "ExecuteTime": {
     "end_time": "2024-04-16T21:24:09.023076200Z",
     "start_time": "2024-04-16T21:24:08.944706100Z"
    }
   },
   "cell_type": "code",
   "source": [
    "model_complete_linkage = AgglomerativeClustering(n_clusters=7, linkage = 'complete', metric= 'precomputed')\n",
    "clusters_complete_linkage = model_complete_linkage.fit_predict(gower_matrix)"
   ],
   "id": "68b8a1c01c29031d",
   "outputs": [
    {
     "ename": "NameError",
     "evalue": "name 'gower_matrix' is not defined",
     "output_type": "error",
     "traceback": [
      "\u001B[1;31m---------------------------------------------------------------------------\u001B[0m",
      "\u001B[1;31mNameError\u001B[0m                                 Traceback (most recent call last)",
      "Cell \u001B[1;32mIn[29], line 2\u001B[0m\n\u001B[0;32m      1\u001B[0m model_complete_linkage \u001B[38;5;241m=\u001B[39m AgglomerativeClustering(n_clusters\u001B[38;5;241m=\u001B[39m\u001B[38;5;241m7\u001B[39m, linkage \u001B[38;5;241m=\u001B[39m \u001B[38;5;124m'\u001B[39m\u001B[38;5;124mcomplete\u001B[39m\u001B[38;5;124m'\u001B[39m, metric\u001B[38;5;241m=\u001B[39m \u001B[38;5;124m'\u001B[39m\u001B[38;5;124mprecomputed\u001B[39m\u001B[38;5;124m'\u001B[39m)\n\u001B[1;32m----> 2\u001B[0m clusters_complete_linkage \u001B[38;5;241m=\u001B[39m model_complete_linkage\u001B[38;5;241m.\u001B[39mfit_predict(gower_matrix)\n",
      "\u001B[1;31mNameError\u001B[0m: name 'gower_matrix' is not defined"
     ]
    }
   ],
   "execution_count": 29
  },
  {
   "metadata": {
    "ExecuteTime": {
     "end_time": "2024-04-16T21:24:09.259415Z",
     "start_time": "2024-04-16T21:24:09.169787400Z"
    }
   },
   "cell_type": "code",
   "source": [
    "labels['complete_linkage_predictions'] = clusters_complete_linkage"
   ],
   "id": "7bfca81a4be80b92",
   "outputs": [
    {
     "ename": "NameError",
     "evalue": "name 'clusters_complete_linkage' is not defined",
     "output_type": "error",
     "traceback": [
      "\u001B[1;31m---------------------------------------------------------------------------\u001B[0m",
      "\u001B[1;31mNameError\u001B[0m                                 Traceback (most recent call last)",
      "Cell \u001B[1;32mIn[30], line 1\u001B[0m\n\u001B[1;32m----> 1\u001B[0m labels[\u001B[38;5;124m'\u001B[39m\u001B[38;5;124mcomplete_linkage_predictions\u001B[39m\u001B[38;5;124m'\u001B[39m] \u001B[38;5;241m=\u001B[39m clusters_complete_linkage\n",
      "\u001B[1;31mNameError\u001B[0m: name 'clusters_complete_linkage' is not defined"
     ]
    }
   ],
   "execution_count": 30
  },
  {
   "metadata": {
    "ExecuteTime": {
     "end_time": "2024-04-16T21:24:09.541953400Z",
     "start_time": "2024-04-16T21:24:09.427956700Z"
    }
   },
   "cell_type": "code",
   "source": [
    "cri = rand_score(labeled_target.values.reshape(1, -1)[0], clusters_complete_linkage)\n",
    "print(f'Rand Index: {cri}')"
   ],
   "id": "3babd1d382a54655",
   "outputs": [
    {
     "ename": "NameError",
     "evalue": "name 'clusters_complete_linkage' is not defined",
     "output_type": "error",
     "traceback": [
      "\u001B[1;31m---------------------------------------------------------------------------\u001B[0m",
      "\u001B[1;31mNameError\u001B[0m                                 Traceback (most recent call last)",
      "Cell \u001B[1;32mIn[31], line 1\u001B[0m\n\u001B[1;32m----> 1\u001B[0m cri \u001B[38;5;241m=\u001B[39m rand_score(labeled_target\u001B[38;5;241m.\u001B[39mvalues\u001B[38;5;241m.\u001B[39mreshape(\u001B[38;5;241m1\u001B[39m, \u001B[38;5;241m-\u001B[39m\u001B[38;5;241m1\u001B[39m)[\u001B[38;5;241m0\u001B[39m], clusters_complete_linkage)\n\u001B[0;32m      2\u001B[0m \u001B[38;5;28mprint\u001B[39m(\u001B[38;5;124mf\u001B[39m\u001B[38;5;124m'\u001B[39m\u001B[38;5;124mRand Index: \u001B[39m\u001B[38;5;132;01m{\u001B[39;00mcri\u001B[38;5;132;01m}\u001B[39;00m\u001B[38;5;124m'\u001B[39m)\n",
      "\u001B[1;31mNameError\u001B[0m: name 'clusters_complete_linkage' is not defined"
     ]
    }
   ],
   "execution_count": 31
  },
  {
   "metadata": {
    "ExecuteTime": {
     "end_time": "2024-04-16T21:24:09.763425600Z",
     "start_time": "2024-04-16T21:24:09.562419500Z"
    }
   },
   "cell_type": "code",
   "source": [
    "labels[['complete_linkage_predictions']].value_counts().plot.pie(autopct='%1.0f%%', pctdistance=0.7, labeldistance=1.1)"
   ],
   "id": "22dfe540143f1c0b",
   "outputs": [
    {
     "ename": "KeyError",
     "evalue": "\"None of [Index(['complete_linkage_predictions'], dtype='object')] are in the [columns]\"",
     "output_type": "error",
     "traceback": [
      "\u001B[1;31m---------------------------------------------------------------------------\u001B[0m",
      "\u001B[1;31mKeyError\u001B[0m                                  Traceback (most recent call last)",
      "Cell \u001B[1;32mIn[32], line 1\u001B[0m\n\u001B[1;32m----> 1\u001B[0m labels[[\u001B[38;5;124m'\u001B[39m\u001B[38;5;124mcomplete_linkage_predictions\u001B[39m\u001B[38;5;124m'\u001B[39m]]\u001B[38;5;241m.\u001B[39mvalue_counts()\u001B[38;5;241m.\u001B[39mplot\u001B[38;5;241m.\u001B[39mpie(autopct\u001B[38;5;241m=\u001B[39m\u001B[38;5;124m'\u001B[39m\u001B[38;5;132;01m%1.0f\u001B[39;00m\u001B[38;5;132;01m%%\u001B[39;00m\u001B[38;5;124m'\u001B[39m, pctdistance\u001B[38;5;241m=\u001B[39m\u001B[38;5;241m0.7\u001B[39m, labeldistance\u001B[38;5;241m=\u001B[39m\u001B[38;5;241m1.1\u001B[39m)\n",
      "File \u001B[1;32mC:\\Tools\\conda\\Lib\\site-packages\\pandas\\core\\frame.py:3767\u001B[0m, in \u001B[0;36mDataFrame.__getitem__\u001B[1;34m(self, key)\u001B[0m\n\u001B[0;32m   3765\u001B[0m     \u001B[38;5;28;01mif\u001B[39;00m is_iterator(key):\n\u001B[0;32m   3766\u001B[0m         key \u001B[38;5;241m=\u001B[39m \u001B[38;5;28mlist\u001B[39m(key)\n\u001B[1;32m-> 3767\u001B[0m     indexer \u001B[38;5;241m=\u001B[39m \u001B[38;5;28mself\u001B[39m\u001B[38;5;241m.\u001B[39mcolumns\u001B[38;5;241m.\u001B[39m_get_indexer_strict(key, \u001B[38;5;124m\"\u001B[39m\u001B[38;5;124mcolumns\u001B[39m\u001B[38;5;124m\"\u001B[39m)[\u001B[38;5;241m1\u001B[39m]\n\u001B[0;32m   3769\u001B[0m \u001B[38;5;66;03m# take() does not accept boolean indexers\u001B[39;00m\n\u001B[0;32m   3770\u001B[0m \u001B[38;5;28;01mif\u001B[39;00m \u001B[38;5;28mgetattr\u001B[39m(indexer, \u001B[38;5;124m\"\u001B[39m\u001B[38;5;124mdtype\u001B[39m\u001B[38;5;124m\"\u001B[39m, \u001B[38;5;28;01mNone\u001B[39;00m) \u001B[38;5;241m==\u001B[39m \u001B[38;5;28mbool\u001B[39m:\n",
      "File \u001B[1;32mC:\\Tools\\conda\\Lib\\site-packages\\pandas\\core\\indexes\\base.py:5877\u001B[0m, in \u001B[0;36mIndex._get_indexer_strict\u001B[1;34m(self, key, axis_name)\u001B[0m\n\u001B[0;32m   5874\u001B[0m \u001B[38;5;28;01melse\u001B[39;00m:\n\u001B[0;32m   5875\u001B[0m     keyarr, indexer, new_indexer \u001B[38;5;241m=\u001B[39m \u001B[38;5;28mself\u001B[39m\u001B[38;5;241m.\u001B[39m_reindex_non_unique(keyarr)\n\u001B[1;32m-> 5877\u001B[0m \u001B[38;5;28mself\u001B[39m\u001B[38;5;241m.\u001B[39m_raise_if_missing(keyarr, indexer, axis_name)\n\u001B[0;32m   5879\u001B[0m keyarr \u001B[38;5;241m=\u001B[39m \u001B[38;5;28mself\u001B[39m\u001B[38;5;241m.\u001B[39mtake(indexer)\n\u001B[0;32m   5880\u001B[0m \u001B[38;5;28;01mif\u001B[39;00m \u001B[38;5;28misinstance\u001B[39m(key, Index):\n\u001B[0;32m   5881\u001B[0m     \u001B[38;5;66;03m# GH 42790 - Preserve name from an Index\u001B[39;00m\n",
      "File \u001B[1;32mC:\\Tools\\conda\\Lib\\site-packages\\pandas\\core\\indexes\\base.py:5938\u001B[0m, in \u001B[0;36mIndex._raise_if_missing\u001B[1;34m(self, key, indexer, axis_name)\u001B[0m\n\u001B[0;32m   5936\u001B[0m     \u001B[38;5;28;01mif\u001B[39;00m use_interval_msg:\n\u001B[0;32m   5937\u001B[0m         key \u001B[38;5;241m=\u001B[39m \u001B[38;5;28mlist\u001B[39m(key)\n\u001B[1;32m-> 5938\u001B[0m     \u001B[38;5;28;01mraise\u001B[39;00m \u001B[38;5;167;01mKeyError\u001B[39;00m(\u001B[38;5;124mf\u001B[39m\u001B[38;5;124m\"\u001B[39m\u001B[38;5;124mNone of [\u001B[39m\u001B[38;5;132;01m{\u001B[39;00mkey\u001B[38;5;132;01m}\u001B[39;00m\u001B[38;5;124m] are in the [\u001B[39m\u001B[38;5;132;01m{\u001B[39;00maxis_name\u001B[38;5;132;01m}\u001B[39;00m\u001B[38;5;124m]\u001B[39m\u001B[38;5;124m\"\u001B[39m)\n\u001B[0;32m   5940\u001B[0m not_found \u001B[38;5;241m=\u001B[39m \u001B[38;5;28mlist\u001B[39m(ensure_index(key)[missing_mask\u001B[38;5;241m.\u001B[39mnonzero()[\u001B[38;5;241m0\u001B[39m]]\u001B[38;5;241m.\u001B[39munique())\n\u001B[0;32m   5941\u001B[0m \u001B[38;5;28;01mraise\u001B[39;00m \u001B[38;5;167;01mKeyError\u001B[39;00m(\u001B[38;5;124mf\u001B[39m\u001B[38;5;124m\"\u001B[39m\u001B[38;5;132;01m{\u001B[39;00mnot_found\u001B[38;5;132;01m}\u001B[39;00m\u001B[38;5;124m not in index\u001B[39m\u001B[38;5;124m\"\u001B[39m)\n",
      "\u001B[1;31mKeyError\u001B[0m: \"None of [Index(['complete_linkage_predictions'], dtype='object')] are in the [columns]\""
     ]
    }
   ],
   "execution_count": 32
  },
  {
   "metadata": {
    "ExecuteTime": {
     "end_time": "2024-04-16T21:24:11.111710Z",
     "start_time": "2024-04-16T21:24:09.843902800Z"
    }
   },
   "cell_type": "code",
   "source": [
    "labels.value_counts([\"target\", \"complete_linkage_predictions\"])"
   ],
   "id": "26b362b2570f8351",
   "outputs": [
    {
     "ename": "KeyError",
     "evalue": "'complete_linkage_predictions'",
     "output_type": "error",
     "traceback": [
      "\u001B[1;31m---------------------------------------------------------------------------\u001B[0m",
      "\u001B[1;31mKeyError\u001B[0m                                  Traceback (most recent call last)",
      "Cell \u001B[1;32mIn[33], line 1\u001B[0m\n\u001B[1;32m----> 1\u001B[0m labels\u001B[38;5;241m.\u001B[39mvalue_counts([\u001B[38;5;124m\"\u001B[39m\u001B[38;5;124mtarget\u001B[39m\u001B[38;5;124m\"\u001B[39m, \u001B[38;5;124m\"\u001B[39m\u001B[38;5;124mcomplete_linkage_predictions\u001B[39m\u001B[38;5;124m\"\u001B[39m])\n",
      "File \u001B[1;32mC:\\Tools\\conda\\Lib\\site-packages\\pandas\\core\\frame.py:7082\u001B[0m, in \u001B[0;36mDataFrame.value_counts\u001B[1;34m(self, subset, normalize, sort, ascending, dropna)\u001B[0m\n\u001B[0;32m   7079\u001B[0m     subset \u001B[38;5;241m=\u001B[39m \u001B[38;5;28mself\u001B[39m\u001B[38;5;241m.\u001B[39mcolumns\u001B[38;5;241m.\u001B[39mtolist()\n\u001B[0;32m   7081\u001B[0m name \u001B[38;5;241m=\u001B[39m \u001B[38;5;124m\"\u001B[39m\u001B[38;5;124mproportion\u001B[39m\u001B[38;5;124m\"\u001B[39m \u001B[38;5;28;01mif\u001B[39;00m normalize \u001B[38;5;28;01melse\u001B[39;00m \u001B[38;5;124m\"\u001B[39m\u001B[38;5;124mcount\u001B[39m\u001B[38;5;124m\"\u001B[39m\n\u001B[1;32m-> 7082\u001B[0m counts \u001B[38;5;241m=\u001B[39m \u001B[38;5;28mself\u001B[39m\u001B[38;5;241m.\u001B[39mgroupby(subset, dropna\u001B[38;5;241m=\u001B[39mdropna)\u001B[38;5;241m.\u001B[39mgrouper\u001B[38;5;241m.\u001B[39msize()\n\u001B[0;32m   7083\u001B[0m counts\u001B[38;5;241m.\u001B[39mname \u001B[38;5;241m=\u001B[39m name\n\u001B[0;32m   7085\u001B[0m \u001B[38;5;28;01mif\u001B[39;00m sort:\n",
      "File \u001B[1;32mC:\\Tools\\conda\\Lib\\site-packages\\pandas\\core\\frame.py:8252\u001B[0m, in \u001B[0;36mDataFrame.groupby\u001B[1;34m(self, by, axis, level, as_index, sort, group_keys, observed, dropna)\u001B[0m\n\u001B[0;32m   8249\u001B[0m     \u001B[38;5;28;01mraise\u001B[39;00m \u001B[38;5;167;01mTypeError\u001B[39;00m(\u001B[38;5;124m\"\u001B[39m\u001B[38;5;124mYou have to supply one of \u001B[39m\u001B[38;5;124m'\u001B[39m\u001B[38;5;124mby\u001B[39m\u001B[38;5;124m'\u001B[39m\u001B[38;5;124m and \u001B[39m\u001B[38;5;124m'\u001B[39m\u001B[38;5;124mlevel\u001B[39m\u001B[38;5;124m'\u001B[39m\u001B[38;5;124m\"\u001B[39m)\n\u001B[0;32m   8250\u001B[0m axis \u001B[38;5;241m=\u001B[39m \u001B[38;5;28mself\u001B[39m\u001B[38;5;241m.\u001B[39m_get_axis_number(axis)\n\u001B[1;32m-> 8252\u001B[0m \u001B[38;5;28;01mreturn\u001B[39;00m DataFrameGroupBy(\n\u001B[0;32m   8253\u001B[0m     obj\u001B[38;5;241m=\u001B[39m\u001B[38;5;28mself\u001B[39m,\n\u001B[0;32m   8254\u001B[0m     keys\u001B[38;5;241m=\u001B[39mby,\n\u001B[0;32m   8255\u001B[0m     axis\u001B[38;5;241m=\u001B[39maxis,\n\u001B[0;32m   8256\u001B[0m     level\u001B[38;5;241m=\u001B[39mlevel,\n\u001B[0;32m   8257\u001B[0m     as_index\u001B[38;5;241m=\u001B[39mas_index,\n\u001B[0;32m   8258\u001B[0m     sort\u001B[38;5;241m=\u001B[39msort,\n\u001B[0;32m   8259\u001B[0m     group_keys\u001B[38;5;241m=\u001B[39mgroup_keys,\n\u001B[0;32m   8260\u001B[0m     observed\u001B[38;5;241m=\u001B[39mobserved,\n\u001B[0;32m   8261\u001B[0m     dropna\u001B[38;5;241m=\u001B[39mdropna,\n\u001B[0;32m   8262\u001B[0m )\n",
      "File \u001B[1;32mC:\\Tools\\conda\\Lib\\site-packages\\pandas\\core\\groupby\\groupby.py:931\u001B[0m, in \u001B[0;36mGroupBy.__init__\u001B[1;34m(self, obj, keys, axis, level, grouper, exclusions, selection, as_index, sort, group_keys, observed, dropna)\u001B[0m\n\u001B[0;32m    928\u001B[0m \u001B[38;5;28mself\u001B[39m\u001B[38;5;241m.\u001B[39mdropna \u001B[38;5;241m=\u001B[39m dropna\n\u001B[0;32m    930\u001B[0m \u001B[38;5;28;01mif\u001B[39;00m grouper \u001B[38;5;129;01mis\u001B[39;00m \u001B[38;5;28;01mNone\u001B[39;00m:\n\u001B[1;32m--> 931\u001B[0m     grouper, exclusions, obj \u001B[38;5;241m=\u001B[39m get_grouper(\n\u001B[0;32m    932\u001B[0m         obj,\n\u001B[0;32m    933\u001B[0m         keys,\n\u001B[0;32m    934\u001B[0m         axis\u001B[38;5;241m=\u001B[39maxis,\n\u001B[0;32m    935\u001B[0m         level\u001B[38;5;241m=\u001B[39mlevel,\n\u001B[0;32m    936\u001B[0m         sort\u001B[38;5;241m=\u001B[39msort,\n\u001B[0;32m    937\u001B[0m         observed\u001B[38;5;241m=\u001B[39mobserved,\n\u001B[0;32m    938\u001B[0m         dropna\u001B[38;5;241m=\u001B[39m\u001B[38;5;28mself\u001B[39m\u001B[38;5;241m.\u001B[39mdropna,\n\u001B[0;32m    939\u001B[0m     )\n\u001B[0;32m    941\u001B[0m \u001B[38;5;28mself\u001B[39m\u001B[38;5;241m.\u001B[39mobj \u001B[38;5;241m=\u001B[39m obj\n\u001B[0;32m    942\u001B[0m \u001B[38;5;28mself\u001B[39m\u001B[38;5;241m.\u001B[39maxis \u001B[38;5;241m=\u001B[39m obj\u001B[38;5;241m.\u001B[39m_get_axis_number(axis)\n",
      "File \u001B[1;32mC:\\Tools\\conda\\Lib\\site-packages\\pandas\\core\\groupby\\grouper.py:985\u001B[0m, in \u001B[0;36mget_grouper\u001B[1;34m(obj, key, axis, level, sort, observed, validate, dropna)\u001B[0m\n\u001B[0;32m    983\u001B[0m         in_axis, level, gpr \u001B[38;5;241m=\u001B[39m \u001B[38;5;28;01mFalse\u001B[39;00m, gpr, \u001B[38;5;28;01mNone\u001B[39;00m\n\u001B[0;32m    984\u001B[0m     \u001B[38;5;28;01melse\u001B[39;00m:\n\u001B[1;32m--> 985\u001B[0m         \u001B[38;5;28;01mraise\u001B[39;00m \u001B[38;5;167;01mKeyError\u001B[39;00m(gpr)\n\u001B[0;32m    986\u001B[0m \u001B[38;5;28;01melif\u001B[39;00m \u001B[38;5;28misinstance\u001B[39m(gpr, Grouper) \u001B[38;5;129;01mand\u001B[39;00m gpr\u001B[38;5;241m.\u001B[39mkey \u001B[38;5;129;01mis\u001B[39;00m \u001B[38;5;129;01mnot\u001B[39;00m \u001B[38;5;28;01mNone\u001B[39;00m:\n\u001B[0;32m    987\u001B[0m     \u001B[38;5;66;03m# Add key to exclusions\u001B[39;00m\n\u001B[0;32m    988\u001B[0m     exclusions\u001B[38;5;241m.\u001B[39madd(gpr\u001B[38;5;241m.\u001B[39mkey)\n",
      "\u001B[1;31mKeyError\u001B[0m: 'complete_linkage_predictions'"
     ]
    }
   ],
   "execution_count": 33
  },
  {
   "metadata": {
    "ExecuteTime": {
     "end_time": "2024-04-16T21:24:11.143922Z",
     "start_time": "2024-04-16T21:24:11.122036400Z"
    }
   },
   "cell_type": "code",
   "source": [
    "labels['aligned_clusters'] = labels['complete_linkage_predictions'].apply(lambda x: int(not x))"
   ],
   "id": "42ad63a634e3d1d",
   "outputs": [],
   "execution_count": null
  },
  {
   "metadata": {
    "ExecuteTime": {
     "start_time": "2024-04-16T21:24:11.128974Z"
    }
   },
   "cell_type": "code",
   "source": [
    "cf_matrix = confusion_matrix(labeled_target.values, labels[[\"aligned_clusters\"]].values)\n",
    "cf_labels = ['True Neg','False Pos','False Neg','True Pos']\n",
    "fig, ax = plt.subplots(1, 1)\n",
    "sns.heatmap(cf_matrix/np.sum(cf_matrix), annot=cf_labels, fmt='', cmap='Blues')\n",
    "ax.set_ylabel('Target Labels')\n",
    "ax.set_xlabel('Predicted Labels')"
   ],
   "id": "1e360320940cdc8f",
   "outputs": [],
   "execution_count": null
  },
  {
   "metadata": {},
   "cell_type": "markdown",
   "source": [
    "# Classification"
   ],
   "id": "a72487dd6f5ee943"
  },
  {
   "metadata": {
    "ExecuteTime": {
     "end_time": "2024-04-16T21:24:20.284750Z",
     "start_time": "2024-04-16T21:24:20.237802500Z"
    }
   },
   "cell_type": "code",
   "source": [
    "df_target = df[['Class']]\n",
    "df_no_target.head()"
   ],
   "id": "9c32dadf28a043e2",
   "outputs": [
    {
     "data": {
      "text/plain": "   BallAcceleration      Time  DistanceWall  DistanceCeil  DistanceBall  \\\n0          0.005129  0.000000      0.012304      0.498266      0.031512   \n1          0.010021  0.010311      0.012290      0.498266      0.024175   \n2          0.000000  0.012889      0.012290      0.498266      0.024959   \n3          0.031069  0.023200      0.012311      0.498266      0.015971   \n4          0.018512  0.046400      0.012387      0.498271      0.016252   \n\n   PlayerSpeed  BallSpeed  goal move  \n0     0.453337   0.300277     0    3  \n1     0.540209   0.309974     0   22  \n2     0.540209   0.312201     0   18  \n3     0.501078   0.342262     0    2  \n4     0.543875   0.360175     0    3  ",
      "text/html": "<div>\n<style scoped>\n    .dataframe tbody tr th:only-of-type {\n        vertical-align: middle;\n    }\n\n    .dataframe tbody tr th {\n        vertical-align: top;\n    }\n\n    .dataframe thead th {\n        text-align: right;\n    }\n</style>\n<table border=\"1\" class=\"dataframe\">\n  <thead>\n    <tr style=\"text-align: right;\">\n      <th></th>\n      <th>BallAcceleration</th>\n      <th>Time</th>\n      <th>DistanceWall</th>\n      <th>DistanceCeil</th>\n      <th>DistanceBall</th>\n      <th>PlayerSpeed</th>\n      <th>BallSpeed</th>\n      <th>goal</th>\n      <th>move</th>\n    </tr>\n  </thead>\n  <tbody>\n    <tr>\n      <th>0</th>\n      <td>0.005129</td>\n      <td>0.000000</td>\n      <td>0.012304</td>\n      <td>0.498266</td>\n      <td>0.031512</td>\n      <td>0.453337</td>\n      <td>0.300277</td>\n      <td>0</td>\n      <td>3</td>\n    </tr>\n    <tr>\n      <th>1</th>\n      <td>0.010021</td>\n      <td>0.010311</td>\n      <td>0.012290</td>\n      <td>0.498266</td>\n      <td>0.024175</td>\n      <td>0.540209</td>\n      <td>0.309974</td>\n      <td>0</td>\n      <td>22</td>\n    </tr>\n    <tr>\n      <th>2</th>\n      <td>0.000000</td>\n      <td>0.012889</td>\n      <td>0.012290</td>\n      <td>0.498266</td>\n      <td>0.024959</td>\n      <td>0.540209</td>\n      <td>0.312201</td>\n      <td>0</td>\n      <td>18</td>\n    </tr>\n    <tr>\n      <th>3</th>\n      <td>0.031069</td>\n      <td>0.023200</td>\n      <td>0.012311</td>\n      <td>0.498266</td>\n      <td>0.015971</td>\n      <td>0.501078</td>\n      <td>0.342262</td>\n      <td>0</td>\n      <td>2</td>\n    </tr>\n    <tr>\n      <th>4</th>\n      <td>0.018512</td>\n      <td>0.046400</td>\n      <td>0.012387</td>\n      <td>0.498271</td>\n      <td>0.016252</td>\n      <td>0.543875</td>\n      <td>0.360175</td>\n      <td>0</td>\n      <td>3</td>\n    </tr>\n  </tbody>\n</table>\n</div>"
     },
     "execution_count": 36,
     "metadata": {},
     "output_type": "execute_result"
    }
   ],
   "execution_count": 36
  },
  {
   "metadata": {
    "ExecuteTime": {
     "end_time": "2024-04-16T21:24:22.029398300Z",
     "start_time": "2024-04-16T21:24:21.962539500Z"
    }
   },
   "cell_type": "code",
   "source": [
    "# train test split data 80%-20%\n",
    "\n",
    "X = df_no_target\n",
    "y = df['Class']"
   ],
   "id": "74ca964fc61faa46",
   "outputs": [],
   "execution_count": 37
  },
  {
   "metadata": {
    "ExecuteTime": {
     "end_time": "2024-04-16T22:00:09.889518300Z",
     "start_time": "2024-04-16T22:00:09.807124400Z"
    }
   },
   "cell_type": "code",
   "source": [
    "X_train, X_test, y_train, y_test = train_test_split(X, y, test_size=0.2, random_state=0)"
   ],
   "id": "647ec06cd2f3a937",
   "outputs": [],
   "execution_count": 181
  },
  {
   "metadata": {},
   "cell_type": "markdown",
   "source": [
    "## Decision Tree Classifier"
   ],
   "id": "51438693f4a0a2ad"
  },
  {
   "metadata": {
    "ExecuteTime": {
     "end_time": "2024-04-16T22:00:11.709543800Z",
     "start_time": "2024-04-16T22:00:11.668455200Z"
    }
   },
   "cell_type": "code",
   "source": [
    "param_grid = {\n",
    "    'criterion':[\"gini\",\"entropy\"],\n",
    "    'max_depth': [1000],\n",
    "    'min_samples_leaf': [1, 2, 3, 4, 5],\n",
    "    'min_samples_split': [1, 2, 3,4, 5]\n",
    "}"
   ],
   "id": "5266a27cf5cae0b3",
   "outputs": [],
   "execution_count": 182
  },
  {
   "metadata": {
    "ExecuteTime": {
     "end_time": "2024-04-16T22:00:38.431762500Z",
     "start_time": "2024-04-16T22:00:15.304390900Z"
    }
   },
   "cell_type": "code",
   "source": [
    "dtree = DecisionTreeClassifier()\n",
    "grid_search = GridSearchCV(dtree, param_grid, cv = 5)\n",
    "grid_search.fit(X_train, y_train)"
   ],
   "id": "3c2d9b5fe184bf20",
   "outputs": [
    {
     "name": "stderr",
     "output_type": "stream",
     "text": [
      "C:\\Tools\\conda\\Lib\\site-packages\\sklearn\\model_selection\\_validation.py:425: FitFailedWarning: \n",
      "50 fits failed out of a total of 250.\n",
      "The score on these train-test partitions for these parameters will be set to nan.\n",
      "If these failures are not expected, you can try to debug them by setting error_score='raise'.\n",
      "\n",
      "Below are more details about the failures:\n",
      "--------------------------------------------------------------------------------\n",
      "50 fits failed with the following error:\n",
      "Traceback (most recent call last):\n",
      "  File \"C:\\Tools\\conda\\Lib\\site-packages\\sklearn\\model_selection\\_validation.py\", line 732, in _fit_and_score\n",
      "    estimator.fit(X_train, y_train, **fit_params)\n",
      "  File \"C:\\Tools\\conda\\Lib\\site-packages\\sklearn\\base.py\", line 1144, in wrapper\n",
      "    estimator._validate_params()\n",
      "  File \"C:\\Tools\\conda\\Lib\\site-packages\\sklearn\\base.py\", line 637, in _validate_params\n",
      "    validate_parameter_constraints(\n",
      "  File \"C:\\Tools\\conda\\Lib\\site-packages\\sklearn\\utils\\_param_validation.py\", line 95, in validate_parameter_constraints\n",
      "    raise InvalidParameterError(\n",
      "sklearn.utils._param_validation.InvalidParameterError: The 'min_samples_split' parameter of DecisionTreeClassifier must be an int in the range [2, inf) or a float in the range (0.0, 1.0]. Got 1 instead.\n",
      "\n",
      "  warnings.warn(some_fits_failed_message, FitFailedWarning)\n",
      "C:\\Tools\\conda\\Lib\\site-packages\\sklearn\\model_selection\\_search.py:976: UserWarning: One or more of the test scores are non-finite: [       nan 0.6929083  0.68565141 0.68601455 0.68474578        nan\n",
      " 0.67512953 0.67639732 0.67766708 0.67712475        nan 0.67640308\n",
      " 0.67404307 0.67604142 0.67676507        nan 0.67114535 0.6715075\n",
      " 0.67060006 0.67350206        nan 0.67277233 0.67277282 0.67095925\n",
      " 0.67204654        nan 0.70052604 0.69871428 0.69834966 0.69435873\n",
      "        nan 0.69200168 0.68601554 0.68728233 0.68093255        nan\n",
      " 0.68347322 0.68818862 0.68528695 0.68437885        nan 0.68057254\n",
      " 0.68021022 0.68057352 0.6796674         nan 0.68202444 0.68075567\n",
      " 0.68021055 0.68329404]\n",
      "  warnings.warn(\n"
     ]
    },
    {
     "data": {
      "text/plain": "GridSearchCV(cv=5, estimator=DecisionTreeClassifier(),\n             param_grid={'criterion': ['gini', 'entropy'], 'max_depth': [1000],\n                         'min_samples_leaf': [1, 2, 3, 4, 5],\n                         'min_samples_split': [1, 2, 3, 4, 5]})",
      "text/html": "<style>#sk-container-id-6 {color: black;}#sk-container-id-6 pre{padding: 0;}#sk-container-id-6 div.sk-toggleable {background-color: white;}#sk-container-id-6 label.sk-toggleable__label {cursor: pointer;display: block;width: 100%;margin-bottom: 0;padding: 0.3em;box-sizing: border-box;text-align: center;}#sk-container-id-6 label.sk-toggleable__label-arrow:before {content: \"▸\";float: left;margin-right: 0.25em;color: #696969;}#sk-container-id-6 label.sk-toggleable__label-arrow:hover:before {color: black;}#sk-container-id-6 div.sk-estimator:hover label.sk-toggleable__label-arrow:before {color: black;}#sk-container-id-6 div.sk-toggleable__content {max-height: 0;max-width: 0;overflow: hidden;text-align: left;background-color: #f0f8ff;}#sk-container-id-6 div.sk-toggleable__content pre {margin: 0.2em;color: black;border-radius: 0.25em;background-color: #f0f8ff;}#sk-container-id-6 input.sk-toggleable__control:checked~div.sk-toggleable__content {max-height: 200px;max-width: 100%;overflow: auto;}#sk-container-id-6 input.sk-toggleable__control:checked~label.sk-toggleable__label-arrow:before {content: \"▾\";}#sk-container-id-6 div.sk-estimator input.sk-toggleable__control:checked~label.sk-toggleable__label {background-color: #d4ebff;}#sk-container-id-6 div.sk-label input.sk-toggleable__control:checked~label.sk-toggleable__label {background-color: #d4ebff;}#sk-container-id-6 input.sk-hidden--visually {border: 0;clip: rect(1px 1px 1px 1px);clip: rect(1px, 1px, 1px, 1px);height: 1px;margin: -1px;overflow: hidden;padding: 0;position: absolute;width: 1px;}#sk-container-id-6 div.sk-estimator {font-family: monospace;background-color: #f0f8ff;border: 1px dotted black;border-radius: 0.25em;box-sizing: border-box;margin-bottom: 0.5em;}#sk-container-id-6 div.sk-estimator:hover {background-color: #d4ebff;}#sk-container-id-6 div.sk-parallel-item::after {content: \"\";width: 100%;border-bottom: 1px solid gray;flex-grow: 1;}#sk-container-id-6 div.sk-label:hover label.sk-toggleable__label {background-color: #d4ebff;}#sk-container-id-6 div.sk-serial::before {content: \"\";position: absolute;border-left: 1px solid gray;box-sizing: border-box;top: 0;bottom: 0;left: 50%;z-index: 0;}#sk-container-id-6 div.sk-serial {display: flex;flex-direction: column;align-items: center;background-color: white;padding-right: 0.2em;padding-left: 0.2em;position: relative;}#sk-container-id-6 div.sk-item {position: relative;z-index: 1;}#sk-container-id-6 div.sk-parallel {display: flex;align-items: stretch;justify-content: center;background-color: white;position: relative;}#sk-container-id-6 div.sk-item::before, #sk-container-id-6 div.sk-parallel-item::before {content: \"\";position: absolute;border-left: 1px solid gray;box-sizing: border-box;top: 0;bottom: 0;left: 50%;z-index: -1;}#sk-container-id-6 div.sk-parallel-item {display: flex;flex-direction: column;z-index: 1;position: relative;background-color: white;}#sk-container-id-6 div.sk-parallel-item:first-child::after {align-self: flex-end;width: 50%;}#sk-container-id-6 div.sk-parallel-item:last-child::after {align-self: flex-start;width: 50%;}#sk-container-id-6 div.sk-parallel-item:only-child::after {width: 0;}#sk-container-id-6 div.sk-dashed-wrapped {border: 1px dashed gray;margin: 0 0.4em 0.5em 0.4em;box-sizing: border-box;padding-bottom: 0.4em;background-color: white;}#sk-container-id-6 div.sk-label label {font-family: monospace;font-weight: bold;display: inline-block;line-height: 1.2em;}#sk-container-id-6 div.sk-label-container {text-align: center;}#sk-container-id-6 div.sk-container {/* jupyter's `normalize.less` sets `[hidden] { display: none; }` but bootstrap.min.css set `[hidden] { display: none !important; }` so we also need the `!important` here to be able to override the default hidden behavior on the sphinx rendered scikit-learn.org. See: https://github.com/scikit-learn/scikit-learn/issues/21755 */display: inline-block !important;position: relative;}#sk-container-id-6 div.sk-text-repr-fallback {display: none;}</style><div id=\"sk-container-id-6\" class=\"sk-top-container\"><div class=\"sk-text-repr-fallback\"><pre>GridSearchCV(cv=5, estimator=DecisionTreeClassifier(),\n             param_grid={&#x27;criterion&#x27;: [&#x27;gini&#x27;, &#x27;entropy&#x27;], &#x27;max_depth&#x27;: [1000],\n                         &#x27;min_samples_leaf&#x27;: [1, 2, 3, 4, 5],\n                         &#x27;min_samples_split&#x27;: [1, 2, 3, 4, 5]})</pre><b>In a Jupyter environment, please rerun this cell to show the HTML representation or trust the notebook. <br />On GitHub, the HTML representation is unable to render, please try loading this page with nbviewer.org.</b></div><div class=\"sk-container\" hidden><div class=\"sk-item sk-dashed-wrapped\"><div class=\"sk-label-container\"><div class=\"sk-label sk-toggleable\"><input class=\"sk-toggleable__control sk-hidden--visually\" id=\"sk-estimator-id-16\" type=\"checkbox\" ><label for=\"sk-estimator-id-16\" class=\"sk-toggleable__label sk-toggleable__label-arrow\">GridSearchCV</label><div class=\"sk-toggleable__content\"><pre>GridSearchCV(cv=5, estimator=DecisionTreeClassifier(),\n             param_grid={&#x27;criterion&#x27;: [&#x27;gini&#x27;, &#x27;entropy&#x27;], &#x27;max_depth&#x27;: [1000],\n                         &#x27;min_samples_leaf&#x27;: [1, 2, 3, 4, 5],\n                         &#x27;min_samples_split&#x27;: [1, 2, 3, 4, 5]})</pre></div></div></div><div class=\"sk-parallel\"><div class=\"sk-parallel-item\"><div class=\"sk-item\"><div class=\"sk-label-container\"><div class=\"sk-label sk-toggleable\"><input class=\"sk-toggleable__control sk-hidden--visually\" id=\"sk-estimator-id-17\" type=\"checkbox\" ><label for=\"sk-estimator-id-17\" class=\"sk-toggleable__label sk-toggleable__label-arrow\">estimator: DecisionTreeClassifier</label><div class=\"sk-toggleable__content\"><pre>DecisionTreeClassifier()</pre></div></div></div><div class=\"sk-serial\"><div class=\"sk-item\"><div class=\"sk-estimator sk-toggleable\"><input class=\"sk-toggleable__control sk-hidden--visually\" id=\"sk-estimator-id-18\" type=\"checkbox\" ><label for=\"sk-estimator-id-18\" class=\"sk-toggleable__label sk-toggleable__label-arrow\">DecisionTreeClassifier</label><div class=\"sk-toggleable__content\"><pre>DecisionTreeClassifier()</pre></div></div></div></div></div></div></div></div></div></div>"
     },
     "execution_count": 183,
     "metadata": {},
     "output_type": "execute_result"
    }
   ],
   "execution_count": 183
  },
  {
   "metadata": {
    "ExecuteTime": {
     "end_time": "2024-04-16T22:00:38.461302100Z",
     "start_time": "2024-04-16T22:00:38.433958800Z"
    }
   },
   "cell_type": "code",
   "source": [
    "print(grid_search.best_params_)"
   ],
   "id": "728dee1d8e7e476d",
   "outputs": [
    {
     "name": "stdout",
     "output_type": "stream",
     "text": [
      "{'criterion': 'entropy', 'max_depth': 1000, 'min_samples_leaf': 1, 'min_samples_split': 2}\n"
     ]
    }
   ],
   "execution_count": 184
  },
  {
   "metadata": {
    "ExecuteTime": {
     "end_time": "2024-04-16T22:00:41.033940100Z",
     "start_time": "2024-04-16T22:00:40.864878400Z"
    }
   },
   "cell_type": "code",
   "source": [
    "dtree = DecisionTreeClassifier(max_depth = 1000).fit(X_train, y_train)\n",
    "# dtree = DecisionTreeClassifier(max_depth = 1000).fit(X_train, y_train)\n",
    "\n",
    "dtree_prediction = dtree.predict(X_test)"
   ],
   "id": "5b1feb7e1c2e6a47",
   "outputs": [],
   "execution_count": 191
  },
  {
   "cell_type": "code",
   "execution_count": 192,
   "outputs": [],
   "source": [
    "# from sklearn import tree\n",
    "# classes = ['noise', 'ceiling shot', 'power shot', 'waving dash', 'air dribble', 'front flick', 'musty flick']\n",
    "# fig = plt.figure(figsize=(25,20))\n",
    "# _ = tree.plot_tree(dtree,\n",
    "#                    feature_names=X.columns.tolist(),\n",
    "#                    class_names= classes,\n",
    "#                    filled=True)"
   ],
   "metadata": {
    "collapsed": false,
    "ExecuteTime": {
     "end_time": "2024-04-16T22:00:41.593929700Z",
     "start_time": "2024-04-16T22:00:41.559020300Z"
    }
   },
   "id": "a2336deb7622e56c"
  },
  {
   "metadata": {
    "ExecuteTime": {
     "end_time": "2024-04-16T22:00:42.241004200Z",
     "start_time": "2024-04-16T22:00:42.214982800Z"
    }
   },
   "cell_type": "code",
   "source": [
    "cm = confusion_matrix(y_test, dtree_prediction)"
   ],
   "id": "f5f036876c16b025",
   "outputs": [],
   "execution_count": 193
  },
  {
   "metadata": {
    "ExecuteTime": {
     "end_time": "2024-04-16T22:00:42.512019100Z",
     "start_time": "2024-04-16T22:00:42.456325Z"
    }
   },
   "cell_type": "code",
   "source": [
    "cm_graph = metrics.ConfusionMatrixDisplay(confusion_matrix = cm)"
   ],
   "id": "436ea7b13ff847bd",
   "outputs": [],
   "execution_count": 194
  },
  {
   "metadata": {
    "ExecuteTime": {
     "end_time": "2024-04-16T22:00:43.395803400Z",
     "start_time": "2024-04-16T22:00:42.837529100Z"
    }
   },
   "cell_type": "code",
   "source": [
    "cm_graph.plot()\n",
    "plt.show()"
   ],
   "id": "139c79755757b45d",
   "outputs": [
    {
     "data": {
      "text/plain": "<Figure size 640x480 with 2 Axes>",
      "image/png": "[encoded data removed]"
     },
     "metadata": {},
     "output_type": "display_data"
    }
   ],
   "execution_count": 195
  },
  {
   "metadata": {
    "ExecuteTime": {
     "end_time": "2024-04-16T22:00:44.102362200Z",
     "start_time": "2024-04-16T22:00:44.041160900Z"
    }
   },
   "cell_type": "code",
   "source": [
    "print(classification_report(y_test, dtree_prediction))"
   ],
   "id": "814fbcf925750f76",
   "outputs": [
    {
     "name": "stdout",
     "output_type": "stream",
     "text": [
      "              precision    recall  f1-score   support\n",
      "\n",
      "          -1       0.57      0.61      0.59       213\n",
      "           1       0.80      0.75      0.77       209\n",
      "           2       0.79      0.75      0.77       221\n",
      "           3       0.85      0.81      0.83        96\n",
      "           5       0.83      0.78      0.80       327\n",
      "           6       0.58      0.61      0.59       173\n",
      "           7       0.51      0.59      0.55       140\n",
      "\n",
      "    accuracy                           0.71      1379\n",
      "   macro avg       0.70      0.70      0.70      1379\n",
      "weighted avg       0.71      0.71      0.71      1379\n"
     ]
    }
   ],
   "execution_count": 196
  },
  {
   "metadata": {},
   "cell_type": "markdown",
   "source": [
    "## Random Forest Classifier"
   ],
   "id": "32a2a821bceae36f"
  },
  {
   "metadata": {
    "ExecuteTime": {
     "end_time": "2024-04-16T22:01:05.977890300Z",
     "start_time": "2024-04-16T22:01:01.141145100Z"
    }
   },
   "cell_type": "code",
   "source": [
    "forest = RandomForestClassifier(max_depth = 1000, random_state = 0).fit(X_train, y_train)\n",
    "forest_prediction = forest.predict(X_test) "
   ],
   "id": "d7c0010ff27cb3b4",
   "outputs": [],
   "execution_count": 198
  },
  {
   "metadata": {
    "ExecuteTime": {
     "end_time": "2024-04-16T22:01:08.833840800Z",
     "start_time": "2024-04-16T22:01:08.792648100Z"
    }
   },
   "cell_type": "code",
   "source": [
    "cm = confusion_matrix(y_test, forest_prediction)"
   ],
   "id": "e11338361c2e5574",
   "outputs": [],
   "execution_count": 199
  },
  {
   "metadata": {
    "ExecuteTime": {
     "end_time": "2024-04-16T22:01:10.065337600Z",
     "start_time": "2024-04-16T22:01:09.457158500Z"
    }
   },
   "cell_type": "code",
   "source": [
    "cm_graph = metrics.ConfusionMatrixDisplay(confusion_matrix = cm)\n",
    "cm_graph.plot()\n",
    "plt.show()"
   ],
   "id": "11dd271fe8422cef",
   "outputs": [
    {
     "data": {
      "text/plain": "<Figure size 640x480 with 2 Axes>",
      "image/png": "[encoded data removed]"
     },
     "metadata": {},
     "output_type": "display_data"
    }
   ],
   "execution_count": 200
  },
  {
   "metadata": {
    "ExecuteTime": {
     "end_time": "2024-04-16T22:01:35.156251800Z",
     "start_time": "2024-04-16T22:01:34.996396400Z"
    }
   },
   "cell_type": "code",
   "source": [
    "print(classification_report(y_test, forest_prediction))"
   ],
   "id": "62f851055b40ef88",
   "outputs": [
    {
     "name": "stdout",
     "output_type": "stream",
     "text": [
      "              precision    recall  f1-score   support\n",
      "\n",
      "          -1       0.83      0.56      0.67       213\n",
      "           1       0.83      0.87      0.85       209\n",
      "           2       0.82      0.92      0.87       221\n",
      "           3       0.96      0.85      0.91        96\n",
      "           5       0.88      0.90      0.89       327\n",
      "           6       0.64      0.80      0.71       173\n",
      "           7       0.65      0.61      0.63       140\n",
      "\n",
      "    accuracy                           0.80      1379\n",
      "   macro avg       0.80      0.79      0.79      1379\n",
      "weighted avg       0.81      0.80      0.80      1379\n"
     ]
    }
   ],
   "execution_count": 201
  },
  {
   "cell_type": "code",
   "execution_count": null,
   "outputs": [],
   "source": [],
   "metadata": {
    "collapsed": false
   },
   "id": "ace17186f6e82ef8"
  },
  {
   "cell_type": "markdown",
   "source": [
    "## Support Vector Machine (SVM)"
   ],
   "metadata": {
    "collapsed": false
   },
   "id": "59332839943d8bb2"
  },
  {
   "cell_type": "markdown",
   "source": [
    "### Support Vector Classification (SVC)"
   ],
   "metadata": {
    "collapsed": false
   },
   "id": "41bc58906a96eedb"
  },
  {
   "cell_type": "code",
   "execution_count": 204,
   "outputs": [],
   "source": [
    "svc = SVC(kernel = 'rbf', gamma = 0.5, C = 1.0)\n",
    "svc.fit(X_train, y_train)\n",
    "svc_predictions = svc.predict(X_test)"
   ],
   "metadata": {
    "collapsed": false,
    "ExecuteTime": {
     "end_time": "2024-04-16T23:00:08.448819700Z",
     "start_time": "2024-04-16T23:00:02.942862800Z"
    }
   },
   "id": "8f5c0a8727cc1067"
  },
  {
   "cell_type": "code",
   "execution_count": 205,
   "outputs": [
    {
     "data": {
      "text/plain": "<Figure size 640x480 with 2 Axes>",
      "image/png": "[encoded data removed]"
     },
     "metadata": {},
     "output_type": "display_data"
    }
   ],
   "source": [
    "cm = confusion_matrix(y_test, svc_predictions)\n",
    "cm_graph = metrics.ConfusionMatrixDisplay(confusion_matrix = cm)\n",
    "cm_graph.plot()\n",
    "plt.show()"
   ],
   "metadata": {
    "collapsed": false,
    "ExecuteTime": {
     "end_time": "2024-04-16T23:01:36.133621200Z",
     "start_time": "2024-04-16T23:01:35.486968600Z"
    }
   },
   "id": "91c419ca5106e9fd"
  },
  {
   "cell_type": "markdown",
   "source": [
    "### Nu-Support Vector Classification (NuSVC)"
   ],
   "metadata": {
    "collapsed": false
   },
   "id": "c9c4dbc6bcec16fb"
  },
  {
   "cell_type": "markdown",
   "source": [
    "### Linear Support Vector Classification"
   ],
   "metadata": {
    "collapsed": false
   },
   "id": "9ebfdcf98b3b250e"
  },
  {
   "cell_type": "code",
   "execution_count": null,
   "outputs": [],
   "source": [],
   "metadata": {
    "collapsed": false
   },
   "id": "b361c866951ad1f4"
  }
 ],
 "metadata": {
  "kernelspec": {
   "display_name": "Python 3",
   "language": "python",
   "name": "python3"
  },
  "language_info": {
   "codemirror_mode": {
    "name": "ipython",
    "version": 2
   },
   "file_extension": ".py",
   "mimetype": "text/x-python",
   "name": "python",
   "nbconvert_exporter": "python",
   "pygments_lexer": "ipython2",
   "version": "2.7.6"
  }
 },
 "nbformat": 4,
 "nbformat_minor": 5
}
