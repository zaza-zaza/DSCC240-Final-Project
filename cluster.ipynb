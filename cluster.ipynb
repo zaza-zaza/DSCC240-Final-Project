{
 "cells": [
  {
   "cell_type": "code",
   "id": "initial_id",
   "metadata": {
    "collapsed": true,
    "ExecuteTime": {
     "end_time": "2024-04-16T20:25:09.408877Z",
     "start_time": "2024-04-16T20:24:58.707435Z"
    }
   },
   "source": [
    "!pip install gower\n",
    "!pip install xgboost"
   ],
   "outputs": [
    {
     "name": "stdout",
     "output_type": "stream",
     "text": [
      "Requirement already satisfied: gower in c:\\users\\zaza\\tools\\lib\\site-packages (0.1.2)\n",
      "Requirement already satisfied: numpy in c:\\users\\zaza\\tools\\lib\\site-packages (from gower) (1.24.3)\n",
      "Requirement already satisfied: scipy in c:\\users\\zaza\\tools\\lib\\site-packages (from gower) (1.11.1)\n",
      "Requirement already satisfied: xgboost in c:\\users\\zaza\\tools\\lib\\site-packages (2.0.3)\n",
      "Requirement already satisfied: numpy in c:\\users\\zaza\\tools\\lib\\site-packages (from xgboost) (1.24.3)\n",
      "Requirement already satisfied: scipy in c:\\users\\zaza\\tools\\lib\\site-packages (from xgboost) (1.11.1)\n"
     ]
    }
   ],
   "execution_count": 299
  },
  {
   "metadata": {
    "ExecuteTime": {
     "end_time": "2024-04-16T20:25:09.413807Z",
     "start_time": "2024-04-16T20:25:09.409386Z"
    }
   },
   "cell_type": "code",
   "source": [
    "import pandas as pd\n",
    "import numpy as np\n",
    "# visual\n",
    "import matplotlib.pyplot as plt\n",
    "import seaborn as sns\n",
    "# distance\n",
    "import gower\n",
    "# sklearn\n",
    "from sklearn.cluster import AgglomerativeClustering\n",
    "from sklearn.preprocessing import LabelEncoder, MaxAbsScaler\n",
    "from sklearn.metrics import confusion_matrix, rand_score, accuracy_score\n",
    "from sklearn.model_selection import train_test_split\n",
    "from sklearn.tree import DecisionTreeClassifier\n",
    "from sklearn.ensemble import RandomForestClassifier\n",
    "from sklearn import metrics\n",
    "from sklearn.model_selection import GridSearchCV"
   ],
   "id": "32b576af27778499",
   "outputs": [],
   "execution_count": 300
  },
  {
   "metadata": {},
   "cell_type": "markdown",
   "source": "## Import Data",
   "id": "cd5c1ce27e37fca6"
  },
  {
   "metadata": {
    "ExecuteTime": {
     "end_time": "2024-04-16T20:25:09.433433Z",
     "start_time": "2024-04-16T20:25:09.414803Z"
    }
   },
   "cell_type": "code",
   "source": [
    "lst_str_cols = ['move']\n",
    "dict_dtypes = {x: 'str' for x in lst_str_cols}\n",
    "data = pd.read_csv('preprocessed_encoded_rocket_league_skillshots.csv', dtype=dict_dtypes)\n",
    "df = pd.DataFrame(data = data)\n",
    "df = df.drop(['Unnamed: 0'], axis = 1)"
   ],
   "id": "32eaef7cceed912a",
   "outputs": [],
   "execution_count": 301
  },
  {
   "metadata": {
    "ExecuteTime": {
     "end_time": "2024-04-16T20:25:09.443912Z",
     "start_time": "2024-04-16T20:25:09.435434Z"
    }
   },
   "cell_type": "code",
   "source": "df.head()",
   "id": "616735dbef6a8135",
   "outputs": [
    {
     "data": {
      "text/plain": [
       "   BallAcceleration      Time  DistanceWall  DistanceCeil  DistanceBall  \\\n",
       "0          0.005129  0.000000      0.012304      0.498266      0.031512   \n",
       "1          0.010021  0.010311      0.012290      0.498266      0.024175   \n",
       "2          0.000000  0.012889      0.012290      0.498266      0.024959   \n",
       "3          0.031069  0.023200      0.012311      0.498266      0.015971   \n",
       "4          0.018512  0.046400      0.012387      0.498271      0.016252   \n",
       "\n",
       "   PlayerSpeed  BallSpeed  goal  Class move  \n",
       "0     0.453337   0.300277     0      6    3  \n",
       "1     0.540209   0.309974     0      6   22  \n",
       "2     0.540209   0.312201     0      6   18  \n",
       "3     0.501078   0.342262     0      6    2  \n",
       "4     0.543875   0.360175     0      6    3  "
      ],
      "text/html": [
       "<div>\n",
       "<style scoped>\n",
       "    .dataframe tbody tr th:only-of-type {\n",
       "        vertical-align: middle;\n",
       "    }\n",
       "\n",
       "    .dataframe tbody tr th {\n",
       "        vertical-align: top;\n",
       "    }\n",
       "\n",
       "    .dataframe thead th {\n",
       "        text-align: right;\n",
       "    }\n",
       "</style>\n",
       "<table border=\"1\" class=\"dataframe\">\n",
       "  <thead>\n",
       "    <tr style=\"text-align: right;\">\n",
       "      <th></th>\n",
       "      <th>BallAcceleration</th>\n",
       "      <th>Time</th>\n",
       "      <th>DistanceWall</th>\n",
       "      <th>DistanceCeil</th>\n",
       "      <th>DistanceBall</th>\n",
       "      <th>PlayerSpeed</th>\n",
       "      <th>BallSpeed</th>\n",
       "      <th>goal</th>\n",
       "      <th>Class</th>\n",
       "      <th>move</th>\n",
       "    </tr>\n",
       "  </thead>\n",
       "  <tbody>\n",
       "    <tr>\n",
       "      <th>0</th>\n",
       "      <td>0.005129</td>\n",
       "      <td>0.000000</td>\n",
       "      <td>0.012304</td>\n",
       "      <td>0.498266</td>\n",
       "      <td>0.031512</td>\n",
       "      <td>0.453337</td>\n",
       "      <td>0.300277</td>\n",
       "      <td>0</td>\n",
       "      <td>6</td>\n",
       "      <td>3</td>\n",
       "    </tr>\n",
       "    <tr>\n",
       "      <th>1</th>\n",
       "      <td>0.010021</td>\n",
       "      <td>0.010311</td>\n",
       "      <td>0.012290</td>\n",
       "      <td>0.498266</td>\n",
       "      <td>0.024175</td>\n",
       "      <td>0.540209</td>\n",
       "      <td>0.309974</td>\n",
       "      <td>0</td>\n",
       "      <td>6</td>\n",
       "      <td>22</td>\n",
       "    </tr>\n",
       "    <tr>\n",
       "      <th>2</th>\n",
       "      <td>0.000000</td>\n",
       "      <td>0.012889</td>\n",
       "      <td>0.012290</td>\n",
       "      <td>0.498266</td>\n",
       "      <td>0.024959</td>\n",
       "      <td>0.540209</td>\n",
       "      <td>0.312201</td>\n",
       "      <td>0</td>\n",
       "      <td>6</td>\n",
       "      <td>18</td>\n",
       "    </tr>\n",
       "    <tr>\n",
       "      <th>3</th>\n",
       "      <td>0.031069</td>\n",
       "      <td>0.023200</td>\n",
       "      <td>0.012311</td>\n",
       "      <td>0.498266</td>\n",
       "      <td>0.015971</td>\n",
       "      <td>0.501078</td>\n",
       "      <td>0.342262</td>\n",
       "      <td>0</td>\n",
       "      <td>6</td>\n",
       "      <td>2</td>\n",
       "    </tr>\n",
       "    <tr>\n",
       "      <th>4</th>\n",
       "      <td>0.018512</td>\n",
       "      <td>0.046400</td>\n",
       "      <td>0.012387</td>\n",
       "      <td>0.498271</td>\n",
       "      <td>0.016252</td>\n",
       "      <td>0.543875</td>\n",
       "      <td>0.360175</td>\n",
       "      <td>0</td>\n",
       "      <td>6</td>\n",
       "      <td>3</td>\n",
       "    </tr>\n",
       "  </tbody>\n",
       "</table>\n",
       "</div>"
      ]
     },
     "execution_count": 302,
     "metadata": {},
     "output_type": "execute_result"
    }
   ],
   "execution_count": 302
  },
  {
   "metadata": {
    "ExecuteTime": {
     "end_time": "2024-04-16T20:25:09.449979Z",
     "start_time": "2024-04-16T20:25:09.444914Z"
    }
   },
   "cell_type": "code",
   "source": "df['move'].dtypes",
   "id": "b3f3e0667630d07c",
   "outputs": [
    {
     "data": {
      "text/plain": [
       "dtype('O')"
      ]
     },
     "execution_count": 303,
     "metadata": {},
     "output_type": "execute_result"
    }
   ],
   "execution_count": 303
  },
  {
   "metadata": {
    "ExecuteTime": {
     "end_time": "2024-04-16T20:25:09.632474Z",
     "start_time": "2024-04-16T20:25:09.450981Z"
    }
   },
   "cell_type": "code",
   "source": [
    "# Plotting the histogram of the frequency of each class including -1\n",
    "plt.figure(figsize=(10, 6))\n",
    "df['Class'].value_counts().sort_index().plot(kind='bar', color='skyblue')\n",
    "plt.title('Frequency of Each Class')\n",
    "plt.xlabel('Class')\n",
    "plt.ylabel('Frequency')\n",
    "plt.xticks(rotation=0)  # Keep the class labels horizontal for better readability\n",
    "plt.grid(axis='y', linestyle='--', alpha=0.7)\n",
    "plt.show()\n"
   ],
   "id": "f8a4b6a337a1f4d7",
   "outputs": [
    {
     "data": {
      "text/plain": [
       "<Figure size 1000x600 with 1 Axes>"
      ],
      "image/png": "[encoded data removed]"
     },
     "metadata": {},
     "output_type": "display_data"
    }
   ],
   "execution_count": 304
  },
  {
   "metadata": {
    "ExecuteTime": {
     "end_time": "2024-04-16T20:25:09.637082Z",
     "start_time": "2024-04-16T20:25:09.633476Z"
    }
   },
   "cell_type": "code",
   "source": "df_no_target = df.drop(columns=['Class'])",
   "id": "3ccaff1d6ec196a4",
   "outputs": [],
   "execution_count": 305
  },
  {
   "metadata": {},
   "cell_type": "markdown",
   "source": "# Agglomerative Clustering",
   "id": "1cd333cfb1bd9632"
  },
  {
   "metadata": {
    "ExecuteTime": {
     "end_time": "2024-04-16T20:25:09.645423Z",
     "start_time": "2024-04-16T20:25:09.638085Z"
    }
   },
   "cell_type": "code",
   "source": "model = AgglomerativeClustering(n_clusters = 7, affinity = 'precomputed')",
   "id": "e52a91bd9833d15",
   "outputs": [],
   "execution_count": 306
  },
  {
   "metadata": {
    "ExecuteTime": {
     "end_time": "2024-04-16T20:25:09.658348Z",
     "start_time": "2024-04-16T20:25:09.646425Z"
    }
   },
   "cell_type": "code",
   "source": [
    "target = df[['Class']]\n",
    "le = LabelEncoder()\n",
    "\n",
    "labeled_target = target.apply(le.fit_transform)\n",
    "\n",
    "labels = pd.DataFrame()\n",
    "labels['target'] = labeled_target.values.reshape(1, -1).tolist()[0]\n"
   ],
   "id": "8099d258b0f812ab",
   "outputs": [],
   "execution_count": 307
  },
  {
   "metadata": {},
   "cell_type": "markdown",
   "source": "## Trying three different kinds of linkages for agglomerative clustering",
   "id": "57bd08d18d65a647"
  },
  {
   "metadata": {},
   "cell_type": "markdown",
   "source": "### Single Linkage",
   "id": "9be0a9bfefe162c7"
  },
  {
   "metadata": {
    "ExecuteTime": {
     "end_time": "2024-04-16T20:25:10.572530Z",
     "start_time": "2024-04-16T20:25:09.659349Z"
    }
   },
   "cell_type": "code",
   "source": [
    "model_single_linkage = AgglomerativeClustering(n_clusters = 7, linkage= 'single', metric = 'precomputed')\n",
    "clusters_single_linkage = model_single_linkage.fit_predict(gower_matrix)"
   ],
   "id": "b52113a733fda248",
   "outputs": [],
   "execution_count": 308
  },
  {
   "metadata": {
    "ExecuteTime": {
     "end_time": "2024-04-16T20:25:10.577279Z",
     "start_time": "2024-04-16T20:25:10.573532Z"
    }
   },
   "cell_type": "code",
   "source": "labels['single_linkage_predictions'] = clusters_single_linkage",
   "id": "41cd7917cfbcb06b",
   "outputs": [],
   "execution_count": 309
  },
  {
   "metadata": {
    "ExecuteTime": {
     "end_time": "2024-04-16T20:25:10.586479Z",
     "start_time": "2024-04-16T20:25:10.577279Z"
    }
   },
   "cell_type": "code",
   "source": [
    "sri = rand_score(labeled_target.values.reshape(1, -1)[0], clusters_single_linkage)\n",
    "print(f'Rand Index: {sri}')"
   ],
   "id": "590194ca1b2b02f7",
   "outputs": [
    {
     "name": "stdout",
     "output_type": "stream",
     "text": [
      "Rand Index: 0.16067922925197964\n"
     ]
    }
   ],
   "execution_count": 310
  },
  {
   "metadata": {
    "ExecuteTime": {
     "end_time": "2024-04-16T20:25:10.700192Z",
     "start_time": "2024-04-16T20:25:10.587482Z"
    }
   },
   "cell_type": "code",
   "source": "labels[['single_linkage_predictions']].value_counts().plot.pie(autopct='%1.0f%%', pctdistance=0.7, labeldistance=1.1)",
   "id": "98c54a27902a85c9",
   "outputs": [
    {
     "data": {
      "text/plain": [
       "<Axes: ylabel='count'>"
      ]
     },
     "execution_count": 311,
     "metadata": {},
     "output_type": "execute_result"
    },
    {
     "data": {
      "text/plain": [
       "<Figure size 640x480 with 1 Axes>"
      ],
      "image/png": "[encoded data removed]"
     },
     "metadata": {},
     "output_type": "display_data"
    }
   ],
   "execution_count": 311
  },
  {
   "metadata": {},
   "cell_type": "markdown",
   "source": "",
   "id": "85988e69f153c79"
  },
  {
   "metadata": {},
   "cell_type": "markdown",
   "source": "This shows that all the data has fallen under one cluster. This is not a good representation of the data",
   "id": "97ab74923a128574"
  },
  {
   "metadata": {},
   "cell_type": "markdown",
   "source": "## Average Clustering",
   "id": "9873e7f6feb195c8"
  },
  {
   "metadata": {},
   "cell_type": "markdown",
   "source": "",
   "id": "71807a6487708514"
  },
  {
   "metadata": {
    "ExecuteTime": {
     "end_time": "2024-04-16T20:25:14.345817Z",
     "start_time": "2024-04-16T20:25:13.076871Z"
    }
   },
   "cell_type": "code",
   "source": [
    "model_average_linkage = AgglomerativeClustering(n_clusters = 7, linkage = 'average', metric = 'precomputed')\n",
    "clusters_average_linkage = model_average_linkage.fit_predict(gower_matrix)"
   ],
   "id": "28404e26461b3d8e",
   "outputs": [],
   "execution_count": 312
  },
  {
   "metadata": {
    "ExecuteTime": {
     "end_time": "2024-04-16T20:25:14.350338Z",
     "start_time": "2024-04-16T20:25:14.346819Z"
    }
   },
   "cell_type": "code",
   "source": "labels['average_linkage_predictions'] = clusters_average_linkage",
   "id": "d694df466797af05",
   "outputs": [],
   "execution_count": 313
  },
  {
   "metadata": {
    "ExecuteTime": {
     "end_time": "2024-04-16T20:25:14.361039Z",
     "start_time": "2024-04-16T20:25:14.350338Z"
    }
   },
   "cell_type": "code",
   "source": [
    "ari = rand_score(labeled_target.values.reshape(1, -1)[0], clusters_average_linkage)\n",
    "print(f'Rand Index: {ari}')"
   ],
   "id": "52dc961845deb3b2",
   "outputs": [
    {
     "name": "stdout",
     "output_type": "stream",
     "text": [
      "Rand Index: 0.3907561765398743\n"
     ]
    }
   ],
   "execution_count": 314
  },
  {
   "metadata": {
    "ExecuteTime": {
     "end_time": "2024-04-16T20:25:14.552079Z",
     "start_time": "2024-04-16T20:25:14.443071Z"
    }
   },
   "cell_type": "code",
   "source": "labels[['average_linkage_predictions']].value_counts().plot.pie(autopct='%1.0f%%', pctdistance=0.7, labeldistance=1.1)",
   "id": "cdb8a3cc55452d67",
   "outputs": [
    {
     "data": {
      "text/plain": [
       "<Axes: ylabel='count'>"
      ]
     },
     "execution_count": 315,
     "metadata": {},
     "output_type": "execute_result"
    },
    {
     "data": {
      "text/plain": [
       "<Figure size 640x480 with 1 Axes>"
      ],
      "image/png": "[encoded data removed]"
     },
     "metadata": {},
     "output_type": "display_data"
    }
   ],
   "execution_count": 315
  },
  {
   "metadata": {},
   "cell_type": "markdown",
   "source": "The number of classes representing each type of data is diversifying but still the classes are being represented well.",
   "id": "a3e3bf47e576fa49"
  },
  {
   "metadata": {},
   "cell_type": "markdown",
   "source": "## Complete Linkage",
   "id": "162b405bff67ff47"
  },
  {
   "metadata": {
    "ExecuteTime": {
     "end_time": "2024-04-16T20:25:17.636154Z",
     "start_time": "2024-04-16T20:25:16.324371Z"
    }
   },
   "cell_type": "code",
   "source": [
    "model_complete_linkage = AgglomerativeClustering(n_clusters=7, linkage = 'complete', metric= 'precomputed')\n",
    "clusters_complete_linkage = model_complete_linkage.fit_predict(gower_matrix)"
   ],
   "id": "68b8a1c01c29031d",
   "outputs": [],
   "execution_count": 316
  },
  {
   "metadata": {
    "ExecuteTime": {
     "end_time": "2024-04-16T20:25:17.641920Z",
     "start_time": "2024-04-16T20:25:17.638156Z"
    }
   },
   "cell_type": "code",
   "source": "labels['complete_linkage_predictions'] = clusters_complete_linkage",
   "id": "7bfca81a4be80b92",
   "outputs": [],
   "execution_count": 317
  },
  {
   "metadata": {
    "ExecuteTime": {
     "end_time": "2024-04-16T20:25:17.654389Z",
     "start_time": "2024-04-16T20:25:17.642921Z"
    }
   },
   "cell_type": "code",
   "source": [
    "cri = rand_score(labeled_target.values.reshape(1, -1)[0], clusters_complete_linkage)\n",
    "print(f'Rand Index: {cri}')"
   ],
   "id": "3babd1d382a54655",
   "outputs": [
    {
     "name": "stdout",
     "output_type": "stream",
     "text": [
      "Rand Index: 0.649255933092303\n"
     ]
    }
   ],
   "execution_count": 318
  },
  {
   "metadata": {
    "ExecuteTime": {
     "end_time": "2024-04-16T20:25:18.138057Z",
     "start_time": "2024-04-16T20:25:18.039948Z"
    }
   },
   "cell_type": "code",
   "source": "labels[['complete_linkage_predictions']].value_counts().plot.pie(autopct='%1.0f%%', pctdistance=0.7, labeldistance=1.1)",
   "id": "22dfe540143f1c0b",
   "outputs": [
    {
     "data": {
      "text/plain": [
       "<Axes: ylabel='count'>"
      ]
     },
     "execution_count": 319,
     "metadata": {},
     "output_type": "execute_result"
    },
    {
     "data": {
      "text/plain": [
       "<Figure size 640x480 with 1 Axes>"
      ],
      "image/png": "[encoded data removed]"
     },
     "metadata": {},
     "output_type": "display_data"
    }
   ],
   "execution_count": 319
  },
  {
   "metadata": {
    "ExecuteTime": {
     "end_time": "2024-04-16T20:25:18.998958Z",
     "start_time": "2024-04-16T20:25:18.991911Z"
    }
   },
   "cell_type": "code",
   "source": "labels.value_counts([\"target\", \"complete_linkage_predictions\"])",
   "id": "26b362b2570f8351",
   "outputs": [
    {
     "data": {
      "text/plain": [
       "target  complete_linkage_predictions\n",
       "4       5                               674\n",
       "2       5                               655\n",
       "5       5                               522\n",
       "1       5                               485\n",
       "0       5                               400\n",
       "4       3                               387\n",
       "6       5                               362\n",
       "4       2                               223\n",
       "2       0                               202\n",
       "1       2                               183\n",
       "4       0                               179\n",
       "1       0                               171\n",
       "0       0                               168\n",
       "3       5                               153\n",
       "0       2                               153\n",
       "2       2                               144\n",
       "4       4                               126\n",
       "5       2                               126\n",
       "        0                               126\n",
       "3       0                               124\n",
       "2       4                               115\n",
       "5       4                               110\n",
       "0       1                               104\n",
       "6       2                               102\n",
       "0       3                               100\n",
       "6       3                                93\n",
       "0       4                                86\n",
       "3       2                                83\n",
       "1       3                                74\n",
       "6       0                                71\n",
       "        4                                71\n",
       "1       4                                70\n",
       "3       4                                55\n",
       "2       3                                51\n",
       "5       3                                35\n",
       "3       6                                33\n",
       "1       6                                22\n",
       "5       6                                13\n",
       "3       3                                12\n",
       "4       6                                12\n",
       "0       6                                12\n",
       "2       6                                 3\n",
       "6       6                                 2\n",
       "Name: count, dtype: int64"
      ]
     },
     "execution_count": 320,
     "metadata": {},
     "output_type": "execute_result"
    }
   ],
   "execution_count": 320
  },
  {
   "metadata": {
    "ExecuteTime": {
     "end_time": "2024-04-16T20:25:20.079181Z",
     "start_time": "2024-04-16T20:25:20.072479Z"
    }
   },
   "cell_type": "code",
   "source": "labels['aligned_clusters'] = labels['complete_linkage_predictions'].apply(lambda x: int(not x))",
   "id": "42ad63a634e3d1d",
   "outputs": [],
   "execution_count": 321
  },
  {
   "metadata": {
    "ExecuteTime": {
     "end_time": "2024-04-16T20:25:21.007879Z",
     "start_time": "2024-04-16T20:25:20.805433Z"
    }
   },
   "cell_type": "code",
   "source": [
    "cf_matrix = confusion_matrix(labeled_target.values, labels[[\"aligned_clusters\"]].values)\n",
    "cf_labels = ['True Neg','False Pos','False Neg','True Pos']\n",
    "fig, ax = plt.subplots(1, 1)\n",
    "sns.heatmap(cf_matrix/np.sum(cf_matrix), annot=cf_labels, fmt='', cmap='Blues')\n",
    "ax.set_ylabel('Target Labels')\n",
    "ax.set_xlabel('Predicted Labels')"
   ],
   "id": "1e360320940cdc8f",
   "outputs": [
    {
     "ename": "ValueError",
     "evalue": "`data` and `annot` must have same shape.",
     "output_type": "error",
     "traceback": [
      "\u001B[1;31m---------------------------------------------------------------------------\u001B[0m",
      "\u001B[1;31mValueError\u001B[0m                                Traceback (most recent call last)",
      "Cell \u001B[1;32mIn[322], line 4\u001B[0m\n\u001B[0;32m      2\u001B[0m cf_labels \u001B[38;5;241m=\u001B[39m [\u001B[38;5;124m'\u001B[39m\u001B[38;5;124mTrue Neg\u001B[39m\u001B[38;5;124m'\u001B[39m,\u001B[38;5;124m'\u001B[39m\u001B[38;5;124mFalse Pos\u001B[39m\u001B[38;5;124m'\u001B[39m,\u001B[38;5;124m'\u001B[39m\u001B[38;5;124mFalse Neg\u001B[39m\u001B[38;5;124m'\u001B[39m,\u001B[38;5;124m'\u001B[39m\u001B[38;5;124mTrue Pos\u001B[39m\u001B[38;5;124m'\u001B[39m]\n\u001B[0;32m      3\u001B[0m fig, ax \u001B[38;5;241m=\u001B[39m plt\u001B[38;5;241m.\u001B[39msubplots(\u001B[38;5;241m1\u001B[39m, \u001B[38;5;241m1\u001B[39m)\n\u001B[1;32m----> 4\u001B[0m sns\u001B[38;5;241m.\u001B[39mheatmap(cf_matrix\u001B[38;5;241m/\u001B[39mnp\u001B[38;5;241m.\u001B[39msum(cf_matrix), annot\u001B[38;5;241m=\u001B[39mcf_labels, fmt\u001B[38;5;241m=\u001B[39m\u001B[38;5;124m'\u001B[39m\u001B[38;5;124m'\u001B[39m, cmap\u001B[38;5;241m=\u001B[39m\u001B[38;5;124m'\u001B[39m\u001B[38;5;124mBlues\u001B[39m\u001B[38;5;124m'\u001B[39m)\n\u001B[0;32m      5\u001B[0m ax\u001B[38;5;241m.\u001B[39mset_ylabel(\u001B[38;5;124m'\u001B[39m\u001B[38;5;124mTarget Labels\u001B[39m\u001B[38;5;124m'\u001B[39m)\n\u001B[0;32m      6\u001B[0m ax\u001B[38;5;241m.\u001B[39mset_xlabel(\u001B[38;5;124m'\u001B[39m\u001B[38;5;124mPredicted Labels\u001B[39m\u001B[38;5;124m'\u001B[39m)\n",
      "File \u001B[1;32m~\\Tools\\Lib\\site-packages\\seaborn\\matrix.py:446\u001B[0m, in \u001B[0;36mheatmap\u001B[1;34m(data, vmin, vmax, cmap, center, robust, annot, fmt, annot_kws, linewidths, linecolor, cbar, cbar_kws, cbar_ax, square, xticklabels, yticklabels, mask, ax, **kwargs)\u001B[0m\n\u001B[0;32m    365\u001B[0m \u001B[38;5;250m\u001B[39m\u001B[38;5;124;03m\"\"\"Plot rectangular data as a color-encoded matrix.\u001B[39;00m\n\u001B[0;32m    366\u001B[0m \n\u001B[0;32m    367\u001B[0m \u001B[38;5;124;03mThis is an Axes-level function and will draw the heatmap into the\u001B[39;00m\n\u001B[1;32m   (...)\u001B[0m\n\u001B[0;32m    443\u001B[0m \n\u001B[0;32m    444\u001B[0m \u001B[38;5;124;03m\"\"\"\u001B[39;00m\n\u001B[0;32m    445\u001B[0m \u001B[38;5;66;03m# Initialize the plotter object\u001B[39;00m\n\u001B[1;32m--> 446\u001B[0m plotter \u001B[38;5;241m=\u001B[39m _HeatMapper(data, vmin, vmax, cmap, center, robust, annot, fmt,\n\u001B[0;32m    447\u001B[0m                       annot_kws, cbar, cbar_kws, xticklabels,\n\u001B[0;32m    448\u001B[0m                       yticklabels, mask)\n\u001B[0;32m    450\u001B[0m \u001B[38;5;66;03m# Add the pcolormesh kwargs here\u001B[39;00m\n\u001B[0;32m    451\u001B[0m kwargs[\u001B[38;5;124m\"\u001B[39m\u001B[38;5;124mlinewidths\u001B[39m\u001B[38;5;124m\"\u001B[39m] \u001B[38;5;241m=\u001B[39m linewidths\n",
      "File \u001B[1;32m~\\Tools\\Lib\\site-packages\\seaborn\\matrix.py:177\u001B[0m, in \u001B[0;36m_HeatMapper.__init__\u001B[1;34m(self, data, vmin, vmax, cmap, center, robust, annot, fmt, annot_kws, cbar, cbar_kws, xticklabels, yticklabels, mask)\u001B[0m\n\u001B[0;32m    175\u001B[0m         \u001B[38;5;28;01mif\u001B[39;00m annot_data\u001B[38;5;241m.\u001B[39mshape \u001B[38;5;241m!=\u001B[39m plot_data\u001B[38;5;241m.\u001B[39mshape:\n\u001B[0;32m    176\u001B[0m             err \u001B[38;5;241m=\u001B[39m \u001B[38;5;124m\"\u001B[39m\u001B[38;5;124m`data` and `annot` must have same shape.\u001B[39m\u001B[38;5;124m\"\u001B[39m\n\u001B[1;32m--> 177\u001B[0m             \u001B[38;5;28;01mraise\u001B[39;00m \u001B[38;5;167;01mValueError\u001B[39;00m(err)\n\u001B[0;32m    178\u001B[0m     annot \u001B[38;5;241m=\u001B[39m \u001B[38;5;28;01mTrue\u001B[39;00m\n\u001B[0;32m    180\u001B[0m \u001B[38;5;66;03m# Save other attributes to the object\u001B[39;00m\n",
      "\u001B[1;31mValueError\u001B[0m: `data` and `annot` must have same shape."
     ]
    },
    {
     "data": {
      "text/plain": [
       "<Figure size 640x480 with 1 Axes>"
      ],
      "image/png": "[encoded data removed]"
     },
     "metadata": {},
     "output_type": "display_data"
    }
   ],
   "execution_count": 322
  },
  {
   "metadata": {},
   "cell_type": "markdown",
   "source": "# Classification",
   "id": "a72487dd6f5ee943"
  },
  {
   "metadata": {
    "ExecuteTime": {
     "end_time": "2024-04-16T20:25:22.198112Z",
     "start_time": "2024-04-16T20:25:22.189241Z"
    }
   },
   "cell_type": "code",
   "source": [
    "df_target = df[['Class']]\n",
    "df_no_target.head()"
   ],
   "id": "9c32dadf28a043e2",
   "outputs": [
    {
     "data": {
      "text/plain": [
       "   BallAcceleration      Time  DistanceWall  DistanceCeil  DistanceBall  \\\n",
       "0          0.005129  0.000000      0.012304      0.498266      0.031512   \n",
       "1          0.010021  0.010311      0.012290      0.498266      0.024175   \n",
       "2          0.000000  0.012889      0.012290      0.498266      0.024959   \n",
       "3          0.031069  0.023200      0.012311      0.498266      0.015971   \n",
       "4          0.018512  0.046400      0.012387      0.498271      0.016252   \n",
       "\n",
       "   PlayerSpeed  BallSpeed  goal move  \n",
       "0     0.453337   0.300277     0    3  \n",
       "1     0.540209   0.309974     0   22  \n",
       "2     0.540209   0.312201     0   18  \n",
       "3     0.501078   0.342262     0    2  \n",
       "4     0.543875   0.360175     0    3  "
      ],
      "text/html": [
       "<div>\n",
       "<style scoped>\n",
       "    .dataframe tbody tr th:only-of-type {\n",
       "        vertical-align: middle;\n",
       "    }\n",
       "\n",
       "    .dataframe tbody tr th {\n",
       "        vertical-align: top;\n",
       "    }\n",
       "\n",
       "    .dataframe thead th {\n",
       "        text-align: right;\n",
       "    }\n",
       "</style>\n",
       "<table border=\"1\" class=\"dataframe\">\n",
       "  <thead>\n",
       "    <tr style=\"text-align: right;\">\n",
       "      <th></th>\n",
       "      <th>BallAcceleration</th>\n",
       "      <th>Time</th>\n",
       "      <th>DistanceWall</th>\n",
       "      <th>DistanceCeil</th>\n",
       "      <th>DistanceBall</th>\n",
       "      <th>PlayerSpeed</th>\n",
       "      <th>BallSpeed</th>\n",
       "      <th>goal</th>\n",
       "      <th>move</th>\n",
       "    </tr>\n",
       "  </thead>\n",
       "  <tbody>\n",
       "    <tr>\n",
       "      <th>0</th>\n",
       "      <td>0.005129</td>\n",
       "      <td>0.000000</td>\n",
       "      <td>0.012304</td>\n",
       "      <td>0.498266</td>\n",
       "      <td>0.031512</td>\n",
       "      <td>0.453337</td>\n",
       "      <td>0.300277</td>\n",
       "      <td>0</td>\n",
       "      <td>3</td>\n",
       "    </tr>\n",
       "    <tr>\n",
       "      <th>1</th>\n",
       "      <td>0.010021</td>\n",
       "      <td>0.010311</td>\n",
       "      <td>0.012290</td>\n",
       "      <td>0.498266</td>\n",
       "      <td>0.024175</td>\n",
       "      <td>0.540209</td>\n",
       "      <td>0.309974</td>\n",
       "      <td>0</td>\n",
       "      <td>22</td>\n",
       "    </tr>\n",
       "    <tr>\n",
       "      <th>2</th>\n",
       "      <td>0.000000</td>\n",
       "      <td>0.012889</td>\n",
       "      <td>0.012290</td>\n",
       "      <td>0.498266</td>\n",
       "      <td>0.024959</td>\n",
       "      <td>0.540209</td>\n",
       "      <td>0.312201</td>\n",
       "      <td>0</td>\n",
       "      <td>18</td>\n",
       "    </tr>\n",
       "    <tr>\n",
       "      <th>3</th>\n",
       "      <td>0.031069</td>\n",
       "      <td>0.023200</td>\n",
       "      <td>0.012311</td>\n",
       "      <td>0.498266</td>\n",
       "      <td>0.015971</td>\n",
       "      <td>0.501078</td>\n",
       "      <td>0.342262</td>\n",
       "      <td>0</td>\n",
       "      <td>2</td>\n",
       "    </tr>\n",
       "    <tr>\n",
       "      <th>4</th>\n",
       "      <td>0.018512</td>\n",
       "      <td>0.046400</td>\n",
       "      <td>0.012387</td>\n",
       "      <td>0.498271</td>\n",
       "      <td>0.016252</td>\n",
       "      <td>0.543875</td>\n",
       "      <td>0.360175</td>\n",
       "      <td>0</td>\n",
       "      <td>3</td>\n",
       "    </tr>\n",
       "  </tbody>\n",
       "</table>\n",
       "</div>"
      ]
     },
     "execution_count": 323,
     "metadata": {},
     "output_type": "execute_result"
    }
   ],
   "execution_count": 323
  },
  {
   "metadata": {
    "ExecuteTime": {
     "end_time": "2024-04-16T20:25:24.163799Z",
     "start_time": "2024-04-16T20:25:24.160552Z"
    }
   },
   "cell_type": "code",
   "source": [
    "# train test split data 80%-20%\n",
    "\n",
    "X = df_no_target\n",
    "y = df['Class']"
   ],
   "id": "74ca964fc61faa46",
   "outputs": [],
   "execution_count": 324
  },
  {
   "metadata": {
    "ExecuteTime": {
     "end_time": "2024-04-16T20:25:25.368101Z",
     "start_time": "2024-04-16T20:25:25.363077Z"
    }
   },
   "cell_type": "code",
   "source": "X_train, X_test, y_train, y_test = train_test_split(X, y, test_size=0.2, random_state=0)",
   "id": "647ec06cd2f3a937",
   "outputs": [],
   "execution_count": 325
  },
  {
   "metadata": {},
   "cell_type": "markdown",
   "source": "## Decision Tree Classifier",
   "id": "51438693f4a0a2ad"
  },
  {
   "metadata": {
    "ExecuteTime": {
     "end_time": "2024-04-16T20:38:54.795377Z",
     "start_time": "2024-04-16T20:38:54.792073Z"
    }
   },
   "cell_type": "code",
   "source": [
    "param_grid = {'criterion':[\"gini\",\"entropy\"],\n",
    "              'max_depth': [100, 200, 300, 400, 500],\n",
    "              'min_samples_leaf': [1, 2, 3, 4, 5],\n",
    "              'min_samples_split': [1, 2, 3,4, 5]}"
   ],
   "id": "5266a27cf5cae0b3",
   "outputs": [],
   "execution_count": 385
  },
  {
   "metadata": {
    "ExecuteTime": {
     "end_time": "2024-04-16T20:40:19.144548Z",
     "start_time": "2024-04-16T20:38:55.707691Z"
    }
   },
   "cell_type": "code",
   "source": [
    "dtree = DecisionTreeClassifier()\n",
    "grid_search = GridSearchCV(dtree, param_grid, cv = 5)\n",
    "grid_search.fit(X_train, y_train)"
   ],
   "id": "3c2d9b5fe184bf20",
   "outputs": [
    {
     "name": "stderr",
     "output_type": "stream",
     "text": [
      "C:\\Users\\Zaza\\Tools\\Lib\\site-packages\\sklearn\\model_selection\\_validation.py:425: FitFailedWarning: \n",
      "250 fits failed out of a total of 1250.\n",
      "The score on these train-test partitions for these parameters will be set to nan.\n",
      "If these failures are not expected, you can try to debug them by setting error_score='raise'.\n",
      "\n",
      "Below are more details about the failures:\n",
      "--------------------------------------------------------------------------------\n",
      "250 fits failed with the following error:\n",
      "Traceback (most recent call last):\n",
      "  File \"C:\\Users\\Zaza\\Tools\\Lib\\site-packages\\sklearn\\model_selection\\_validation.py\", line 732, in _fit_and_score\n",
      "    estimator.fit(X_train, y_train, **fit_params)\n",
      "  File \"C:\\Users\\Zaza\\Tools\\Lib\\site-packages\\sklearn\\base.py\", line 1144, in wrapper\n",
      "    estimator._validate_params()\n",
      "  File \"C:\\Users\\Zaza\\Tools\\Lib\\site-packages\\sklearn\\base.py\", line 637, in _validate_params\n",
      "    validate_parameter_constraints(\n",
      "  File \"C:\\Users\\Zaza\\Tools\\Lib\\site-packages\\sklearn\\utils\\_param_validation.py\", line 95, in validate_parameter_constraints\n",
      "    raise InvalidParameterError(\n",
      "sklearn.utils._param_validation.InvalidParameterError: The 'min_samples_split' parameter of DecisionTreeClassifier must be an int in the range [2, inf) or a float in the range (0.0, 1.0]. Got 1 instead.\n",
      "\n",
      "  warnings.warn(some_fits_failed_message, FitFailedWarning)\n",
      "C:\\Users\\Zaza\\Tools\\Lib\\site-packages\\sklearn\\model_selection\\_search.py:976: UserWarning: One or more of the test scores are non-finite: [       nan 0.68855489 0.68547173 0.68510826 0.6874653         nan\n",
      " 0.67132009 0.67204621 0.6765793  0.6733163         nan 0.67440621\n",
      " 0.67640209 0.67368141 0.68021186        nan 0.67096189 0.66824269\n",
      " 0.67078089 0.67205115        nan 0.67349861 0.66823792 0.6724105\n",
      " 0.67059529        nan 0.69145656 0.68583059 0.68601455 0.68492743\n",
      "        nan 0.67132009 0.67385829 0.67404011 0.67422209        nan\n",
      " 0.67495101 0.67857847 0.67585927 0.6760406         nan 0.67205197\n",
      " 0.66860517 0.67187097 0.66896733        nan 0.67114091 0.67349844\n",
      " 0.67349894 0.67222918        nan 0.69145689 0.68365487 0.68420131\n",
      " 0.68365668        nan 0.67567202 0.67313415 0.67313284 0.676035\n",
      "        nan 0.67694738 0.67404373 0.67585894 0.67640226        nan\n",
      " 0.66896881 0.67060121 0.67241412 0.6707827         nan 0.67295464\n",
      " 0.67059661 0.66823874 0.67204687        nan 0.68855588 0.68746761\n",
      " 0.67948509 0.68456478        nan 0.67313497 0.67295151 0.67041282\n",
      " 0.67186554        nan 0.67785301 0.67640193 0.67839764 0.6780345\n",
      "        nan 0.67005626 0.67241379 0.6696941  0.67350256        nan\n",
      " 0.67168504 0.66968917 0.67186538 0.67186587        nan 0.69617361\n",
      " 0.68438115 0.68510628 0.68728546        nan 0.67585598 0.67821335\n",
      " 0.67639699 0.67748724        nan 0.67767317 0.67259331 0.67585878\n",
      " 0.67894243        nan 0.66842434 0.67440967 0.67114469 0.67241462\n",
      "        nan 0.66878255 0.6713219  0.6707776  0.6713224         nan\n",
      " 0.70306621 0.6990761  0.69653576 0.69072946        nan 0.6878263\n",
      " 0.6856519  0.68673836 0.68311074        nan 0.68564845 0.68419967\n",
      " 0.68837011 0.68528596        nan 0.67930261 0.67857748 0.6818441\n",
      " 0.67912129        nan 0.68075468 0.6829327  0.67984658 0.68093765\n",
      "        nan 0.69998075 0.69980173 0.69889429 0.69218005        nan\n",
      " 0.689643   0.6881906  0.68692166 0.6818418         nan 0.68691903\n",
      " 0.68456083 0.68546762 0.68601241        nan 0.6825694  0.68111651\n",
      " 0.68129832 0.68383801        nan 0.6802112  0.68129915 0.68093584\n",
      " 0.68093617        nan 0.70397201 0.69998207 0.69871214 0.69399263\n",
      "        nan 0.68946036 0.68565404 0.6874658  0.68528827        nan\n",
      " 0.68691853 0.68583059 0.68528613 0.68909557        nan 0.68148047\n",
      " 0.67948492 0.68129783 0.68002939        nan 0.68184361 0.68383866\n",
      " 0.68129898 0.67894095        nan 0.70179514 0.69454153 0.70179596\n",
      " 0.6903678         nan 0.68492875 0.68383834 0.68619439 0.68292958\n",
      "        nan 0.68383488 0.6845605  0.68710134 0.68274595        nan\n",
      " 0.68129767 0.67875913 0.67767086 0.67930294        nan 0.67948492\n",
      " 0.6796669  0.68075501 0.67948492        nan 0.7023396  0.6998014\n",
      " 0.69707858 0.69417592        nan 0.68528794 0.6881906  0.68746464\n",
      " 0.67984724        nan 0.68601208 0.68818895 0.684561   0.68601093\n",
      "        nan 0.68256907 0.67912326 0.68002955 0.68202395        nan\n",
      " 0.68238873 0.67984708 0.68311337 0.67984823]\n",
      "  warnings.warn(\n"
     ]
    },
    {
     "data": {
      "text/plain": [
       "GridSearchCV(cv=5, estimator=DecisionTreeClassifier(),\n",
       "             param_grid={'criterion': ['gini', 'entropy'],\n",
       "                         'max_depth': [100, 200, 300, 400, 500],\n",
       "                         'min_samples_leaf': [1, 2, 3, 4, 5],\n",
       "                         'min_samples_split': [1, 2, 3, 4, 5]})"
      ],
      "text/html": [
       "<style>#sk-container-id-4 {color: black;}#sk-container-id-4 pre{padding: 0;}#sk-container-id-4 div.sk-toggleable {background-color: white;}#sk-container-id-4 label.sk-toggleable__label {cursor: pointer;display: block;width: 100%;margin-bottom: 0;padding: 0.3em;box-sizing: border-box;text-align: center;}#sk-container-id-4 label.sk-toggleable__label-arrow:before {content: \"▸\";float: left;margin-right: 0.25em;color: #696969;}#sk-container-id-4 label.sk-toggleable__label-arrow:hover:before {color: black;}#sk-container-id-4 div.sk-estimator:hover label.sk-toggleable__label-arrow:before {color: black;}#sk-container-id-4 div.sk-toggleable__content {max-height: 0;max-width: 0;overflow: hidden;text-align: left;background-color: #f0f8ff;}#sk-container-id-4 div.sk-toggleable__content pre {margin: 0.2em;color: black;border-radius: 0.25em;background-color: #f0f8ff;}#sk-container-id-4 input.sk-toggleable__control:checked~div.sk-toggleable__content {max-height: 200px;max-width: 100%;overflow: auto;}#sk-container-id-4 input.sk-toggleable__control:checked~label.sk-toggleable__label-arrow:before {content: \"▾\";}#sk-container-id-4 div.sk-estimator input.sk-toggleable__control:checked~label.sk-toggleable__label {background-color: #d4ebff;}#sk-container-id-4 div.sk-label input.sk-toggleable__control:checked~label.sk-toggleable__label {background-color: #d4ebff;}#sk-container-id-4 input.sk-hidden--visually {border: 0;clip: rect(1px 1px 1px 1px);clip: rect(1px, 1px, 1px, 1px);height: 1px;margin: -1px;overflow: hidden;padding: 0;position: absolute;width: 1px;}#sk-container-id-4 div.sk-estimator {font-family: monospace;background-color: #f0f8ff;border: 1px dotted black;border-radius: 0.25em;box-sizing: border-box;margin-bottom: 0.5em;}#sk-container-id-4 div.sk-estimator:hover {background-color: #d4ebff;}#sk-container-id-4 div.sk-parallel-item::after {content: \"\";width: 100%;border-bottom: 1px solid gray;flex-grow: 1;}#sk-container-id-4 div.sk-label:hover label.sk-toggleable__label {background-color: #d4ebff;}#sk-container-id-4 div.sk-serial::before {content: \"\";position: absolute;border-left: 1px solid gray;box-sizing: border-box;top: 0;bottom: 0;left: 50%;z-index: 0;}#sk-container-id-4 div.sk-serial {display: flex;flex-direction: column;align-items: center;background-color: white;padding-right: 0.2em;padding-left: 0.2em;position: relative;}#sk-container-id-4 div.sk-item {position: relative;z-index: 1;}#sk-container-id-4 div.sk-parallel {display: flex;align-items: stretch;justify-content: center;background-color: white;position: relative;}#sk-container-id-4 div.sk-item::before, #sk-container-id-4 div.sk-parallel-item::before {content: \"\";position: absolute;border-left: 1px solid gray;box-sizing: border-box;top: 0;bottom: 0;left: 50%;z-index: -1;}#sk-container-id-4 div.sk-parallel-item {display: flex;flex-direction: column;z-index: 1;position: relative;background-color: white;}#sk-container-id-4 div.sk-parallel-item:first-child::after {align-self: flex-end;width: 50%;}#sk-container-id-4 div.sk-parallel-item:last-child::after {align-self: flex-start;width: 50%;}#sk-container-id-4 div.sk-parallel-item:only-child::after {width: 0;}#sk-container-id-4 div.sk-dashed-wrapped {border: 1px dashed gray;margin: 0 0.4em 0.5em 0.4em;box-sizing: border-box;padding-bottom: 0.4em;background-color: white;}#sk-container-id-4 div.sk-label label {font-family: monospace;font-weight: bold;display: inline-block;line-height: 1.2em;}#sk-container-id-4 div.sk-label-container {text-align: center;}#sk-container-id-4 div.sk-container {/* jupyter's `normalize.less` sets `[hidden] { display: none; }` but bootstrap.min.css set `[hidden] { display: none !important; }` so we also need the `!important` here to be able to override the default hidden behavior on the sphinx rendered scikit-learn.org. See: https://github.com/scikit-learn/scikit-learn/issues/21755 */display: inline-block !important;position: relative;}#sk-container-id-4 div.sk-text-repr-fallback {display: none;}</style><div id=\"sk-container-id-4\" class=\"sk-top-container\"><div class=\"sk-text-repr-fallback\"><pre>GridSearchCV(cv=5, estimator=DecisionTreeClassifier(),\n",
       "             param_grid={&#x27;criterion&#x27;: [&#x27;gini&#x27;, &#x27;entropy&#x27;],\n",
       "                         &#x27;max_depth&#x27;: [100, 200, 300, 400, 500],\n",
       "                         &#x27;min_samples_leaf&#x27;: [1, 2, 3, 4, 5],\n",
       "                         &#x27;min_samples_split&#x27;: [1, 2, 3, 4, 5]})</pre><b>In a Jupyter environment, please rerun this cell to show the HTML representation or trust the notebook. <br />On GitHub, the HTML representation is unable to render, please try loading this page with nbviewer.org.</b></div><div class=\"sk-container\" hidden><div class=\"sk-item sk-dashed-wrapped\"><div class=\"sk-label-container\"><div class=\"sk-label sk-toggleable\"><input class=\"sk-toggleable__control sk-hidden--visually\" id=\"sk-estimator-id-10\" type=\"checkbox\" ><label for=\"sk-estimator-id-10\" class=\"sk-toggleable__label sk-toggleable__label-arrow\">GridSearchCV</label><div class=\"sk-toggleable__content\"><pre>GridSearchCV(cv=5, estimator=DecisionTreeClassifier(),\n",
       "             param_grid={&#x27;criterion&#x27;: [&#x27;gini&#x27;, &#x27;entropy&#x27;],\n",
       "                         &#x27;max_depth&#x27;: [100, 200, 300, 400, 500],\n",
       "                         &#x27;min_samples_leaf&#x27;: [1, 2, 3, 4, 5],\n",
       "                         &#x27;min_samples_split&#x27;: [1, 2, 3, 4, 5]})</pre></div></div></div><div class=\"sk-parallel\"><div class=\"sk-parallel-item\"><div class=\"sk-item\"><div class=\"sk-label-container\"><div class=\"sk-label sk-toggleable\"><input class=\"sk-toggleable__control sk-hidden--visually\" id=\"sk-estimator-id-11\" type=\"checkbox\" ><label for=\"sk-estimator-id-11\" class=\"sk-toggleable__label sk-toggleable__label-arrow\">estimator: DecisionTreeClassifier</label><div class=\"sk-toggleable__content\"><pre>DecisionTreeClassifier()</pre></div></div></div><div class=\"sk-serial\"><div class=\"sk-item\"><div class=\"sk-estimator sk-toggleable\"><input class=\"sk-toggleable__control sk-hidden--visually\" id=\"sk-estimator-id-12\" type=\"checkbox\" ><label for=\"sk-estimator-id-12\" class=\"sk-toggleable__label sk-toggleable__label-arrow\">DecisionTreeClassifier</label><div class=\"sk-toggleable__content\"><pre>DecisionTreeClassifier()</pre></div></div></div></div></div></div></div></div></div></div>"
      ]
     },
     "execution_count": 386,
     "metadata": {},
     "output_type": "execute_result"
    }
   ],
   "execution_count": 386
  },
  {
   "metadata": {
    "ExecuteTime": {
     "end_time": "2024-04-16T20:40:24.526654Z",
     "start_time": "2024-04-16T20:40:24.523218Z"
    }
   },
   "cell_type": "code",
   "source": "print(grid_search.best_params_)",
   "id": "728dee1d8e7e476d",
   "outputs": [
    {
     "name": "stdout",
     "output_type": "stream",
     "text": [
      "{'criterion': 'entropy', 'max_depth': 300, 'min_samples_leaf': 1, 'min_samples_split': 2}\n"
     ]
    }
   ],
   "execution_count": 387
  },
  {
   "metadata": {
    "ExecuteTime": {
     "end_time": "2024-04-16T20:40:37.494822Z",
     "start_time": "2024-04-16T20:40:37.396712Z"
    }
   },
   "cell_type": "code",
   "source": [
    "dtree = DecisionTreeClassifier(max_depth = 300, min_samples_leaf = 1, min_samples_split= 2).fit(X_train, y_train)\n",
    "dtree_prediction = dtree.predict(X_test)"
   ],
   "id": "5b1feb7e1c2e6a47",
   "outputs": [],
   "execution_count": 388
  },
  {
   "metadata": {
    "ExecuteTime": {
     "end_time": "2024-04-16T20:40:38.360468Z",
     "start_time": "2024-04-16T20:40:38.356227Z"
    }
   },
   "cell_type": "code",
   "source": "cm = confusion_matrix(y_test, dtree_prediction)",
   "id": "f5f036876c16b025",
   "outputs": [],
   "execution_count": 389
  },
  {
   "metadata": {
    "ExecuteTime": {
     "end_time": "2024-04-16T20:40:38.919344Z",
     "start_time": "2024-04-16T20:40:38.915748Z"
    }
   },
   "cell_type": "code",
   "source": "cm_graph = metrics.ConfusionMatrixDisplay(confusion_matrix = cm)",
   "id": "436ea7b13ff847bd",
   "outputs": [],
   "execution_count": 390
  },
  {
   "metadata": {
    "ExecuteTime": {
     "end_time": "2024-04-16T20:40:40.033253Z",
     "start_time": "2024-04-16T20:40:39.804650Z"
    }
   },
   "cell_type": "code",
   "source": [
    "cm_graph.plot()\n",
    "plt.show()"
   ],
   "id": "139c79755757b45d",
   "outputs": [
    {
     "data": {
      "text/plain": [
       "<Figure size 640x480 with 2 Axes>"
      ],
      "image/png": "[encoded data removed]"
     },
     "metadata": {},
     "output_type": "display_data"
    }
   ],
   "execution_count": 391
  },
  {
   "metadata": {
    "ExecuteTime": {
     "end_time": "2024-04-16T20:40:41.493021Z",
     "start_time": "2024-04-16T20:40:41.489299Z"
    }
   },
   "cell_type": "code",
   "source": [
    "accuracy = metrics.accuracy_score(y_test, dtree_prediction)\n",
    "print(accuracy)"
   ],
   "id": "685acd90872970c",
   "outputs": [
    {
     "name": "stdout",
     "output_type": "stream",
     "text": [
      "0.7077592458303118\n"
     ]
    }
   ],
   "execution_count": 392
  },
  {
   "metadata": {
    "ExecuteTime": {
     "end_time": "2024-04-16T20:40:42.786120Z",
     "start_time": "2024-04-16T20:40:42.779309Z"
    }
   },
   "cell_type": "code",
   "source": [
    "precision = metrics.precision_score(y_test, dtree_prediction, average='micro')\n",
    "print(precision)"
   ],
   "id": "814fbcf925750f76",
   "outputs": [
    {
     "name": "stdout",
     "output_type": "stream",
     "text": [
      "0.7077592458303118\n"
     ]
    }
   ],
   "execution_count": 393
  },
  {
   "metadata": {
    "ExecuteTime": {
     "end_time": "2024-04-16T20:40:44.210541Z",
     "start_time": "2024-04-16T20:40:44.204939Z"
    }
   },
   "cell_type": "code",
   "source": [
    "sensitivity_recall = metrics.recall_score(y_test, dtree_prediction, average='weighted')\n",
    "print(sensitivity_recall)"
   ],
   "id": "656a0bee05f177d0",
   "outputs": [
    {
     "name": "stdout",
     "output_type": "stream",
     "text": [
      "0.7077592458303118\n"
     ]
    }
   ],
   "execution_count": 394
  },
  {
   "metadata": {},
   "cell_type": "markdown",
   "source": "## Random Forest Classifier",
   "id": "32a2a821bceae36f"
  },
  {
   "metadata": {
    "ExecuteTime": {
     "end_time": "2024-04-16T20:32:04.363808Z",
     "start_time": "2024-04-16T20:32:01.774847Z"
    }
   },
   "cell_type": "code",
   "source": [
    "forest = RandomForestClassifier(max_depth = 100, random_state = 0).fit(X_train, y_train)\n",
    "forest_prediction = forest.predict(X_test) "
   ],
   "id": "d7c0010ff27cb3b4",
   "outputs": [],
   "execution_count": 371
  },
  {
   "metadata": {
    "ExecuteTime": {
     "end_time": "2024-04-16T20:32:04.369246Z",
     "start_time": "2024-04-16T20:32:04.364809Z"
    }
   },
   "cell_type": "code",
   "source": "cm = confusion_matrix(y_test, forest_prediction)",
   "id": "e11338361c2e5574",
   "outputs": [],
   "execution_count": 372
  },
  {
   "metadata": {
    "ExecuteTime": {
     "end_time": "2024-04-16T20:32:05.262273Z",
     "start_time": "2024-04-16T20:32:05.033364Z"
    }
   },
   "cell_type": "code",
   "source": [
    "cm_graph = metrics.ConfusionMatrixDisplay(confusion_matrix = cm)\n",
    "cm_graph.plot()\n",
    "plt.show()"
   ],
   "id": "11dd271fe8422cef",
   "outputs": [
    {
     "data": {
      "text/plain": [
       "<Figure size 640x480 with 2 Axes>"
      ],
      "image/png": "[encoded data removed]"
     },
     "metadata": {},
     "output_type": "display_data"
    }
   ],
   "execution_count": 373
  },
  {
   "metadata": {
    "ExecuteTime": {
     "end_time": "2024-04-16T20:32:06.219135Z",
     "start_time": "2024-04-16T20:32:06.210789Z"
    }
   },
   "cell_type": "code",
   "source": [
    "accuracy = metrics.accuracy_score(y_test, forest_prediction)\n",
    "print(accuracy)\n",
    "precision = metrics.precision_score(y_test, forest_prediction, average = 'micro')\n",
    "print(precision)\n",
    "sensitivity_recall = metrics.recall_score(y_test, forest_prediction, average='micro')\n",
    "print(sensitivity_recall)"
   ],
   "id": "62f851055b40ef88",
   "outputs": [
    {
     "name": "stdout",
     "output_type": "stream",
     "text": [
      "0.8020304568527918\n",
      "0.8020304568527918\n",
      "0.8020304568527918\n"
     ]
    }
   ],
   "execution_count": 374
  },
  {
   "metadata": {},
   "cell_type": "code",
   "outputs": [],
   "execution_count": null,
   "source": "",
   "id": "153a4a36e9b432cf"
  }
 ],
 "metadata": {
  "kernelspec": {
   "display_name": "Python 3",
   "language": "python",
   "name": "python3"
  },
  "language_info": {
   "codemirror_mode": {
    "name": "ipython",
    "version": 2
   },
   "file_extension": ".py",
   "mimetype": "text/x-python",
   "name": "python",
   "nbconvert_exporter": "python",
   "pygments_lexer": "ipython2",
   "version": "2.7.6"
  }
 },
 "nbformat": 4,
 "nbformat_minor": 5
}
