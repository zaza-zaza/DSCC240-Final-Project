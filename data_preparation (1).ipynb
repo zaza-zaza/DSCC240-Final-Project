{
 "cells": [
  {
   "cell_type": "code",
   "execution_count": 351,
   "metadata": {
    "ExecuteTime": {
     "end_time": "2024-04-21T21:25:27.911272Z",
     "start_time": "2024-04-21T21:25:27.908335Z"
    },
    "collapsed": true
   },
   "outputs": [],
   "source": [
    "import pandas as pd\n",
    "import numpy as np\n",
    "import matplotlib.pyplot as plt\n",
    "from sklearn.preprocessing import MinMaxScaler"
   ]
  },
  {
   "cell_type": "code",
   "execution_count": 319,
   "metadata": {
    "ExecuteTime": {
     "end_time": "2024-04-21T20:40:22.012234Z",
     "start_time": "2024-04-21T20:40:22.007124Z"
    }
   },
   "outputs": [],
   "source": [
    "def load_data(file_path):\n",
    "    with open(file_path, 'r') as file:\n",
    "        lines = file.readlines()\n",
    "\n",
    "    data = []\n",
    "    current_class = None\n",
    "\n",
    "    # Columns from the first line (removing the last two characters \\n and space at the end)\n",
    "    columns = lines[0].strip().split()\n",
    "    columns.append('Class')  # Adding the 'Class' column for labels\n",
    "\n",
    "    # Parse each line\n",
    "    for line in lines[1:]:  # Start from the second line to skip header\n",
    "        stripped_line = line.strip()\n",
    "        if stripped_line.lstrip('-').isdigit():  # This is a class label, handles negative numbers\n",
    "            current_class = int(stripped_line)\n",
    "        else:\n",
    "            # This is a data line, split by spaces and convert to float\n",
    "            data_values = list(map(float, stripped_line.split()))\n",
    "            data_values.append(current_class)  # Append the current class\n",
    "            data.append(data_values)\n",
    "\n",
    "    # Create DataFrame\n",
    "    df = pd.DataFrame(data, columns=columns)\n",
    "    return df\n"
   ]
  },
  {
   "cell_type": "code",
   "execution_count": 320,
   "metadata": {
    "ExecuteTime": {
     "end_time": "2024-04-21T20:40:22.133008Z",
     "start_time": "2024-04-21T20:40:22.065643Z"
    }
   },
   "outputs": [],
   "source": [
    "# Load and label the data including -1 correctly\n",
    "df = load_data('rocket_league_skillshots.data')"
   ]
  },
  {
   "cell_type": "code",
   "execution_count": 321,
   "metadata": {
    "ExecuteTime": {
     "end_time": "2024-04-21T20:40:22.138589Z",
     "start_time": "2024-04-21T20:40:22.134567Z"
    }
   },
   "outputs": [
    {
     "data": {
      "text/plain": [
       "array([ 6, -1,  1,  7,  2,  5,  3])"
      ]
     },
     "execution_count": 321,
     "metadata": {},
     "output_type": "execute_result"
    }
   ],
   "source": [
    "df[\"Class\"].unique()"
   ]
  },
  {
   "cell_type": "code",
   "execution_count": 322,
   "metadata": {
    "ExecuteTime": {
     "end_time": "2024-04-21T20:40:22.191594Z",
     "start_time": "2024-04-21T20:40:22.166736Z"
    }
   },
   "outputs": [
    {
     "data": {
      "text/html": [
       "<div>\n",
       "<style scoped>\n",
       "    .dataframe tbody tr th:only-of-type {\n",
       "        vertical-align: middle;\n",
       "    }\n",
       "\n",
       "    .dataframe tbody tr th {\n",
       "        vertical-align: top;\n",
       "    }\n",
       "\n",
       "    .dataframe thead th {\n",
       "        text-align: right;\n",
       "    }\n",
       "</style>\n",
       "<table border=\"1\" class=\"dataframe\">\n",
       "  <thead>\n",
       "    <tr style=\"text-align: right;\">\n",
       "      <th></th>\n",
       "      <th>BallAcceleration</th>\n",
       "      <th>Time</th>\n",
       "      <th>DistanceWall</th>\n",
       "      <th>DistanceCeil</th>\n",
       "      <th>DistanceBall</th>\n",
       "      <th>PlayerSpeed</th>\n",
       "      <th>BallSpeed</th>\n",
       "      <th>up</th>\n",
       "      <th>accelerate</th>\n",
       "      <th>slow</th>\n",
       "      <th>goal</th>\n",
       "      <th>left</th>\n",
       "      <th>boost</th>\n",
       "      <th>camera</th>\n",
       "      <th>down</th>\n",
       "      <th>right</th>\n",
       "      <th>slide</th>\n",
       "      <th>jump</th>\n",
       "      <th>Class</th>\n",
       "    </tr>\n",
       "  </thead>\n",
       "  <tbody>\n",
       "    <tr>\n",
       "      <th>0</th>\n",
       "      <td>1636.798772</td>\n",
       "      <td>0.000000</td>\n",
       "      <td>3498.01</td>\n",
       "      <td>2012.98</td>\n",
       "      <td>299.668270</td>\n",
       "      <td>104267.426232</td>\n",
       "      <td>99035.849338</td>\n",
       "      <td>0.0</td>\n",
       "      <td>0.0</td>\n",
       "      <td>0.0</td>\n",
       "      <td>0.0</td>\n",
       "      <td>0.0</td>\n",
       "      <td>0.0</td>\n",
       "      <td>0.0</td>\n",
       "      <td>0.0</td>\n",
       "      <td>1.0</td>\n",
       "      <td>0.0</td>\n",
       "      <td>1.0</td>\n",
       "      <td>6</td>\n",
       "    </tr>\n",
       "    <tr>\n",
       "      <th>1</th>\n",
       "      <td>3198.029397</td>\n",
       "      <td>0.138893</td>\n",
       "      <td>3494.08</td>\n",
       "      <td>2012.98</td>\n",
       "      <td>229.896780</td>\n",
       "      <td>124248.031988</td>\n",
       "      <td>102233.878734</td>\n",
       "      <td>0.0</td>\n",
       "      <td>0.0</td>\n",
       "      <td>0.0</td>\n",
       "      <td>0.0</td>\n",
       "      <td>0.0</td>\n",
       "      <td>1.0</td>\n",
       "      <td>0.0</td>\n",
       "      <td>0.0</td>\n",
       "      <td>1.0</td>\n",
       "      <td>0.0</td>\n",
       "      <td>1.0</td>\n",
       "      <td>6</td>\n",
       "    </tr>\n",
       "    <tr>\n",
       "      <th>2</th>\n",
       "      <td>0.000000</td>\n",
       "      <td>0.173617</td>\n",
       "      <td>3494.08</td>\n",
       "      <td>2012.98</td>\n",
       "      <td>237.350599</td>\n",
       "      <td>124248.031988</td>\n",
       "      <td>102968.358990</td>\n",
       "      <td>0.0</td>\n",
       "      <td>0.0</td>\n",
       "      <td>0.0</td>\n",
       "      <td>0.0</td>\n",
       "      <td>0.0</td>\n",
       "      <td>1.0</td>\n",
       "      <td>0.0</td>\n",
       "      <td>0.0</td>\n",
       "      <td>0.0</td>\n",
       "      <td>0.0</td>\n",
       "      <td>0.0</td>\n",
       "      <td>6</td>\n",
       "    </tr>\n",
       "    <tr>\n",
       "      <th>3</th>\n",
       "      <td>9914.766242</td>\n",
       "      <td>0.312510</td>\n",
       "      <td>3500.08</td>\n",
       "      <td>2012.98</td>\n",
       "      <td>151.880921</td>\n",
       "      <td>115248.016009</td>\n",
       "      <td>112883.125231</td>\n",
       "      <td>0.0</td>\n",
       "      <td>0.0</td>\n",
       "      <td>0.0</td>\n",
       "      <td>0.0</td>\n",
       "      <td>0.0</td>\n",
       "      <td>0.0</td>\n",
       "      <td>0.0</td>\n",
       "      <td>0.0</td>\n",
       "      <td>1.0</td>\n",
       "      <td>0.0</td>\n",
       "      <td>0.0</td>\n",
       "      <td>6</td>\n",
       "    </tr>\n",
       "    <tr>\n",
       "      <th>4</th>\n",
       "      <td>5907.747166</td>\n",
       "      <td>0.625019</td>\n",
       "      <td>3521.65</td>\n",
       "      <td>2013.00</td>\n",
       "      <td>154.556104</td>\n",
       "      <td>125091.256173</td>\n",
       "      <td>118790.872398</td>\n",
       "      <td>0.0</td>\n",
       "      <td>0.0</td>\n",
       "      <td>0.0</td>\n",
       "      <td>0.0</td>\n",
       "      <td>0.0</td>\n",
       "      <td>0.0</td>\n",
       "      <td>0.0</td>\n",
       "      <td>0.0</td>\n",
       "      <td>1.0</td>\n",
       "      <td>0.0</td>\n",
       "      <td>1.0</td>\n",
       "      <td>6</td>\n",
       "    </tr>\n",
       "  </tbody>\n",
       "</table>\n",
       "</div>"
      ],
      "text/plain": [
       "   BallAcceleration      Time  DistanceWall  DistanceCeil  DistanceBall  \\\n",
       "0       1636.798772  0.000000       3498.01       2012.98    299.668270   \n",
       "1       3198.029397  0.138893       3494.08       2012.98    229.896780   \n",
       "2          0.000000  0.173617       3494.08       2012.98    237.350599   \n",
       "3       9914.766242  0.312510       3500.08       2012.98    151.880921   \n",
       "4       5907.747166  0.625019       3521.65       2013.00    154.556104   \n",
       "\n",
       "     PlayerSpeed      BallSpeed   up  accelerate  slow  goal  left  boost  \\\n",
       "0  104267.426232   99035.849338  0.0         0.0   0.0   0.0   0.0    0.0   \n",
       "1  124248.031988  102233.878734  0.0         0.0   0.0   0.0   0.0    1.0   \n",
       "2  124248.031988  102968.358990  0.0         0.0   0.0   0.0   0.0    1.0   \n",
       "3  115248.016009  112883.125231  0.0         0.0   0.0   0.0   0.0    0.0   \n",
       "4  125091.256173  118790.872398  0.0         0.0   0.0   0.0   0.0    0.0   \n",
       "\n",
       "   camera  down  right  slide  jump  Class  \n",
       "0     0.0   0.0    1.0    0.0   1.0      6  \n",
       "1     0.0   0.0    1.0    0.0   1.0      6  \n",
       "2     0.0   0.0    0.0    0.0   0.0      6  \n",
       "3     0.0   0.0    1.0    0.0   0.0      6  \n",
       "4     0.0   0.0    1.0    0.0   1.0      6  "
      ]
     },
     "execution_count": 322,
     "metadata": {},
     "output_type": "execute_result"
    }
   ],
   "source": [
    "df.head()"
   ]
  },
  {
   "cell_type": "code",
   "execution_count": 323,
   "metadata": {
    "ExecuteTime": {
     "end_time": "2024-04-21T20:40:22.225673Z",
     "start_time": "2024-04-21T20:40:22.220694Z"
    }
   },
   "outputs": [
    {
     "data": {
      "text/plain": [
       "BallAcceleration    float64\n",
       "Time                float64\n",
       "DistanceWall        float64\n",
       "DistanceCeil        float64\n",
       "DistanceBall        float64\n",
       "PlayerSpeed         float64\n",
       "BallSpeed           float64\n",
       "up                  float64\n",
       "accelerate          float64\n",
       "slow                float64\n",
       "goal                float64\n",
       "left                float64\n",
       "boost               float64\n",
       "camera              float64\n",
       "down                float64\n",
       "right               float64\n",
       "slide               float64\n",
       "jump                float64\n",
       "Class                 int64\n",
       "dtype: object"
      ]
     },
     "execution_count": 323,
     "metadata": {},
     "output_type": "execute_result"
    }
   ],
   "source": [
    "df.dtypes"
   ]
  },
  {
   "cell_type": "code",
   "execution_count": 324,
   "metadata": {
    "ExecuteTime": {
     "end_time": "2024-04-21T20:40:22.308986Z",
     "start_time": "2024-04-21T20:40:22.254814Z"
    }
   },
   "outputs": [],
   "source": [
    "indices_to_convert = [7,8, 9, 10, 11, 12, 13, 14, 15, 16, 17]  # Corresponding to columns 'A', 'C', 'E'\n",
    "\n",
    "# Converting specified columns to string using indices\n",
    "for index in indices_to_convert:\n",
    "    column_name = df.columns[index]\n",
    "    df[column_name] = df[column_name].astype(str)\n",
    "        "
   ]
  },
  {
   "cell_type": "code",
   "execution_count": 325,
   "metadata": {
    "ExecuteTime": {
     "end_time": "2024-04-21T20:40:22.356298Z",
     "start_time": "2024-04-21T20:40:22.331511Z"
    }
   },
   "outputs": [
    {
     "data": {
      "text/html": [
       "<div>\n",
       "<style scoped>\n",
       "    .dataframe tbody tr th:only-of-type {\n",
       "        vertical-align: middle;\n",
       "    }\n",
       "\n",
       "    .dataframe tbody tr th {\n",
       "        vertical-align: top;\n",
       "    }\n",
       "\n",
       "    .dataframe thead th {\n",
       "        text-align: right;\n",
       "    }\n",
       "</style>\n",
       "<table border=\"1\" class=\"dataframe\">\n",
       "  <thead>\n",
       "    <tr style=\"text-align: right;\">\n",
       "      <th></th>\n",
       "      <th>BallAcceleration</th>\n",
       "      <th>Time</th>\n",
       "      <th>DistanceWall</th>\n",
       "      <th>DistanceCeil</th>\n",
       "      <th>DistanceBall</th>\n",
       "      <th>PlayerSpeed</th>\n",
       "      <th>BallSpeed</th>\n",
       "      <th>up</th>\n",
       "      <th>accelerate</th>\n",
       "      <th>slow</th>\n",
       "      <th>goal</th>\n",
       "      <th>left</th>\n",
       "      <th>boost</th>\n",
       "      <th>camera</th>\n",
       "      <th>down</th>\n",
       "      <th>right</th>\n",
       "      <th>slide</th>\n",
       "      <th>jump</th>\n",
       "      <th>Class</th>\n",
       "    </tr>\n",
       "  </thead>\n",
       "  <tbody>\n",
       "    <tr>\n",
       "      <th>0</th>\n",
       "      <td>1636.798772</td>\n",
       "      <td>0.000000</td>\n",
       "      <td>3498.01</td>\n",
       "      <td>2012.98</td>\n",
       "      <td>299.668270</td>\n",
       "      <td>104267.426232</td>\n",
       "      <td>99035.849338</td>\n",
       "      <td>0.0</td>\n",
       "      <td>0.0</td>\n",
       "      <td>0.0</td>\n",
       "      <td>0.0</td>\n",
       "      <td>0.0</td>\n",
       "      <td>0.0</td>\n",
       "      <td>0.0</td>\n",
       "      <td>0.0</td>\n",
       "      <td>1.0</td>\n",
       "      <td>0.0</td>\n",
       "      <td>1.0</td>\n",
       "      <td>6</td>\n",
       "    </tr>\n",
       "    <tr>\n",
       "      <th>1</th>\n",
       "      <td>3198.029397</td>\n",
       "      <td>0.138893</td>\n",
       "      <td>3494.08</td>\n",
       "      <td>2012.98</td>\n",
       "      <td>229.896780</td>\n",
       "      <td>124248.031988</td>\n",
       "      <td>102233.878734</td>\n",
       "      <td>0.0</td>\n",
       "      <td>0.0</td>\n",
       "      <td>0.0</td>\n",
       "      <td>0.0</td>\n",
       "      <td>0.0</td>\n",
       "      <td>1.0</td>\n",
       "      <td>0.0</td>\n",
       "      <td>0.0</td>\n",
       "      <td>1.0</td>\n",
       "      <td>0.0</td>\n",
       "      <td>1.0</td>\n",
       "      <td>6</td>\n",
       "    </tr>\n",
       "    <tr>\n",
       "      <th>2</th>\n",
       "      <td>0.000000</td>\n",
       "      <td>0.173617</td>\n",
       "      <td>3494.08</td>\n",
       "      <td>2012.98</td>\n",
       "      <td>237.350599</td>\n",
       "      <td>124248.031988</td>\n",
       "      <td>102968.358990</td>\n",
       "      <td>0.0</td>\n",
       "      <td>0.0</td>\n",
       "      <td>0.0</td>\n",
       "      <td>0.0</td>\n",
       "      <td>0.0</td>\n",
       "      <td>1.0</td>\n",
       "      <td>0.0</td>\n",
       "      <td>0.0</td>\n",
       "      <td>0.0</td>\n",
       "      <td>0.0</td>\n",
       "      <td>0.0</td>\n",
       "      <td>6</td>\n",
       "    </tr>\n",
       "    <tr>\n",
       "      <th>3</th>\n",
       "      <td>9914.766242</td>\n",
       "      <td>0.312510</td>\n",
       "      <td>3500.08</td>\n",
       "      <td>2012.98</td>\n",
       "      <td>151.880921</td>\n",
       "      <td>115248.016009</td>\n",
       "      <td>112883.125231</td>\n",
       "      <td>0.0</td>\n",
       "      <td>0.0</td>\n",
       "      <td>0.0</td>\n",
       "      <td>0.0</td>\n",
       "      <td>0.0</td>\n",
       "      <td>0.0</td>\n",
       "      <td>0.0</td>\n",
       "      <td>0.0</td>\n",
       "      <td>1.0</td>\n",
       "      <td>0.0</td>\n",
       "      <td>0.0</td>\n",
       "      <td>6</td>\n",
       "    </tr>\n",
       "    <tr>\n",
       "      <th>4</th>\n",
       "      <td>5907.747166</td>\n",
       "      <td>0.625019</td>\n",
       "      <td>3521.65</td>\n",
       "      <td>2013.00</td>\n",
       "      <td>154.556104</td>\n",
       "      <td>125091.256173</td>\n",
       "      <td>118790.872398</td>\n",
       "      <td>0.0</td>\n",
       "      <td>0.0</td>\n",
       "      <td>0.0</td>\n",
       "      <td>0.0</td>\n",
       "      <td>0.0</td>\n",
       "      <td>0.0</td>\n",
       "      <td>0.0</td>\n",
       "      <td>0.0</td>\n",
       "      <td>1.0</td>\n",
       "      <td>0.0</td>\n",
       "      <td>1.0</td>\n",
       "      <td>6</td>\n",
       "    </tr>\n",
       "  </tbody>\n",
       "</table>\n",
       "</div>"
      ],
      "text/plain": [
       "   BallAcceleration      Time  DistanceWall  DistanceCeil  DistanceBall  \\\n",
       "0       1636.798772  0.000000       3498.01       2012.98    299.668270   \n",
       "1       3198.029397  0.138893       3494.08       2012.98    229.896780   \n",
       "2          0.000000  0.173617       3494.08       2012.98    237.350599   \n",
       "3       9914.766242  0.312510       3500.08       2012.98    151.880921   \n",
       "4       5907.747166  0.625019       3521.65       2013.00    154.556104   \n",
       "\n",
       "     PlayerSpeed      BallSpeed   up accelerate slow goal left boost camera  \\\n",
       "0  104267.426232   99035.849338  0.0        0.0  0.0  0.0  0.0   0.0    0.0   \n",
       "1  124248.031988  102233.878734  0.0        0.0  0.0  0.0  0.0   1.0    0.0   \n",
       "2  124248.031988  102968.358990  0.0        0.0  0.0  0.0  0.0   1.0    0.0   \n",
       "3  115248.016009  112883.125231  0.0        0.0  0.0  0.0  0.0   0.0    0.0   \n",
       "4  125091.256173  118790.872398  0.0        0.0  0.0  0.0  0.0   0.0    0.0   \n",
       "\n",
       "  down right slide jump  Class  \n",
       "0  0.0   1.0   0.0  1.0      6  \n",
       "1  0.0   1.0   0.0  1.0      6  \n",
       "2  0.0   0.0   0.0  0.0      6  \n",
       "3  0.0   1.0   0.0  0.0      6  \n",
       "4  0.0   1.0   0.0  1.0      6  "
      ]
     },
     "execution_count": 325,
     "metadata": {},
     "output_type": "execute_result"
    }
   ],
   "source": [
    "df.head()"
   ]
  },
  {
   "cell_type": "code",
   "execution_count": 326,
   "metadata": {
    "ExecuteTime": {
     "end_time": "2024-04-21T20:40:22.393056Z",
     "start_time": "2024-04-21T20:40:22.368367Z"
    }
   },
   "outputs": [
    {
     "data": {
      "text/html": [
       "<div>\n",
       "<style scoped>\n",
       "    .dataframe tbody tr th:only-of-type {\n",
       "        vertical-align: middle;\n",
       "    }\n",
       "\n",
       "    .dataframe tbody tr th {\n",
       "        vertical-align: top;\n",
       "    }\n",
       "\n",
       "    .dataframe thead th {\n",
       "        text-align: right;\n",
       "    }\n",
       "</style>\n",
       "<table border=\"1\" class=\"dataframe\">\n",
       "  <thead>\n",
       "    <tr style=\"text-align: right;\">\n",
       "      <th></th>\n",
       "      <th>BallAcceleration</th>\n",
       "      <th>Time</th>\n",
       "      <th>DistanceWall</th>\n",
       "      <th>DistanceCeil</th>\n",
       "      <th>DistanceBall</th>\n",
       "      <th>PlayerSpeed</th>\n",
       "      <th>BallSpeed</th>\n",
       "      <th>up</th>\n",
       "      <th>accelerate</th>\n",
       "      <th>slow</th>\n",
       "      <th>goal</th>\n",
       "      <th>left</th>\n",
       "      <th>boost</th>\n",
       "      <th>camera</th>\n",
       "      <th>down</th>\n",
       "      <th>right</th>\n",
       "      <th>slide</th>\n",
       "      <th>jump</th>\n",
       "      <th>Class</th>\n",
       "    </tr>\n",
       "  </thead>\n",
       "  <tbody>\n",
       "    <tr>\n",
       "      <th>0</th>\n",
       "      <td>1636.798772</td>\n",
       "      <td>0.000000</td>\n",
       "      <td>3498.01</td>\n",
       "      <td>2012.98</td>\n",
       "      <td>299.668270</td>\n",
       "      <td>104267.426232</td>\n",
       "      <td>99035.849338</td>\n",
       "      <td>0.0</td>\n",
       "      <td>0.0</td>\n",
       "      <td>0.0</td>\n",
       "      <td>0.0</td>\n",
       "      <td>0.0</td>\n",
       "      <td>0.0</td>\n",
       "      <td>0.0</td>\n",
       "      <td>0.0</td>\n",
       "      <td>1.0</td>\n",
       "      <td>0.0</td>\n",
       "      <td>1.0</td>\n",
       "      <td>6</td>\n",
       "    </tr>\n",
       "    <tr>\n",
       "      <th>1</th>\n",
       "      <td>3198.029397</td>\n",
       "      <td>0.138893</td>\n",
       "      <td>3494.08</td>\n",
       "      <td>2012.98</td>\n",
       "      <td>229.896780</td>\n",
       "      <td>124248.031988</td>\n",
       "      <td>102233.878734</td>\n",
       "      <td>0.0</td>\n",
       "      <td>0.0</td>\n",
       "      <td>0.0</td>\n",
       "      <td>0.0</td>\n",
       "      <td>0.0</td>\n",
       "      <td>1.0</td>\n",
       "      <td>0.0</td>\n",
       "      <td>0.0</td>\n",
       "      <td>1.0</td>\n",
       "      <td>0.0</td>\n",
       "      <td>1.0</td>\n",
       "      <td>6</td>\n",
       "    </tr>\n",
       "    <tr>\n",
       "      <th>2</th>\n",
       "      <td>0.000000</td>\n",
       "      <td>0.173617</td>\n",
       "      <td>3494.08</td>\n",
       "      <td>2012.98</td>\n",
       "      <td>237.350599</td>\n",
       "      <td>124248.031988</td>\n",
       "      <td>102968.358990</td>\n",
       "      <td>0.0</td>\n",
       "      <td>0.0</td>\n",
       "      <td>0.0</td>\n",
       "      <td>0.0</td>\n",
       "      <td>0.0</td>\n",
       "      <td>1.0</td>\n",
       "      <td>0.0</td>\n",
       "      <td>0.0</td>\n",
       "      <td>0.0</td>\n",
       "      <td>0.0</td>\n",
       "      <td>0.0</td>\n",
       "      <td>6</td>\n",
       "    </tr>\n",
       "    <tr>\n",
       "      <th>3</th>\n",
       "      <td>9914.766242</td>\n",
       "      <td>0.312510</td>\n",
       "      <td>3500.08</td>\n",
       "      <td>2012.98</td>\n",
       "      <td>151.880921</td>\n",
       "      <td>115248.016009</td>\n",
       "      <td>112883.125231</td>\n",
       "      <td>0.0</td>\n",
       "      <td>0.0</td>\n",
       "      <td>0.0</td>\n",
       "      <td>0.0</td>\n",
       "      <td>0.0</td>\n",
       "      <td>0.0</td>\n",
       "      <td>0.0</td>\n",
       "      <td>0.0</td>\n",
       "      <td>1.0</td>\n",
       "      <td>0.0</td>\n",
       "      <td>0.0</td>\n",
       "      <td>6</td>\n",
       "    </tr>\n",
       "    <tr>\n",
       "      <th>4</th>\n",
       "      <td>5907.747166</td>\n",
       "      <td>0.625019</td>\n",
       "      <td>3521.65</td>\n",
       "      <td>2013.00</td>\n",
       "      <td>154.556104</td>\n",
       "      <td>125091.256173</td>\n",
       "      <td>118790.872398</td>\n",
       "      <td>0.0</td>\n",
       "      <td>0.0</td>\n",
       "      <td>0.0</td>\n",
       "      <td>0.0</td>\n",
       "      <td>0.0</td>\n",
       "      <td>0.0</td>\n",
       "      <td>0.0</td>\n",
       "      <td>0.0</td>\n",
       "      <td>1.0</td>\n",
       "      <td>0.0</td>\n",
       "      <td>1.0</td>\n",
       "      <td>6</td>\n",
       "    </tr>\n",
       "  </tbody>\n",
       "</table>\n",
       "</div>"
      ],
      "text/plain": [
       "   BallAcceleration      Time  DistanceWall  DistanceCeil  DistanceBall  \\\n",
       "0       1636.798772  0.000000       3498.01       2012.98    299.668270   \n",
       "1       3198.029397  0.138893       3494.08       2012.98    229.896780   \n",
       "2          0.000000  0.173617       3494.08       2012.98    237.350599   \n",
       "3       9914.766242  0.312510       3500.08       2012.98    151.880921   \n",
       "4       5907.747166  0.625019       3521.65       2013.00    154.556104   \n",
       "\n",
       "     PlayerSpeed      BallSpeed   up accelerate slow goal left boost camera  \\\n",
       "0  104267.426232   99035.849338  0.0        0.0  0.0  0.0  0.0   0.0    0.0   \n",
       "1  124248.031988  102233.878734  0.0        0.0  0.0  0.0  0.0   1.0    0.0   \n",
       "2  124248.031988  102968.358990  0.0        0.0  0.0  0.0  0.0   1.0    0.0   \n",
       "3  115248.016009  112883.125231  0.0        0.0  0.0  0.0  0.0   0.0    0.0   \n",
       "4  125091.256173  118790.872398  0.0        0.0  0.0  0.0  0.0   0.0    0.0   \n",
       "\n",
       "  down right slide jump  Class  \n",
       "0  0.0   1.0   0.0  1.0      6  \n",
       "1  0.0   1.0   0.0  1.0      6  \n",
       "2  0.0   0.0   0.0  0.0      6  \n",
       "3  0.0   1.0   0.0  0.0      6  \n",
       "4  0.0   1.0   0.0  1.0      6  "
      ]
     },
     "execution_count": 326,
     "metadata": {},
     "output_type": "execute_result"
    }
   ],
   "source": [
    "df.head()"
   ]
  },
  {
   "cell_type": "code",
   "execution_count": 327,
   "metadata": {
    "ExecuteTime": {
     "end_time": "2024-04-21T20:40:22.532143Z",
     "start_time": "2024-04-21T20:40:22.503804Z"
    }
   },
   "outputs": [],
   "source": [
    "indices_to_convert = np.arange(7,18, 1) \n",
    "\n",
    "\n",
    "def convert_float(x):\n",
    "    if x == '0.0':\n",
    "        return '0'\n",
    "    elif x == '1.0':\n",
    "        return '1'\n",
    "    # Convert other numbers to strings with their decimal part\n",
    "\n",
    "# Apply the function to specified columns using indices\n",
    "df.iloc[:, indices_to_convert] = df.iloc[:, indices_to_convert].applymap(convert_float)"
   ]
  },
  {
   "cell_type": "code",
   "execution_count": 328,
   "metadata": {
    "ExecuteTime": {
     "end_time": "2024-04-21T20:40:22.560809Z",
     "start_time": "2024-04-21T20:40:22.536560Z"
    }
   },
   "outputs": [
    {
     "data": {
      "text/html": [
       "<div>\n",
       "<style scoped>\n",
       "    .dataframe tbody tr th:only-of-type {\n",
       "        vertical-align: middle;\n",
       "    }\n",
       "\n",
       "    .dataframe tbody tr th {\n",
       "        vertical-align: top;\n",
       "    }\n",
       "\n",
       "    .dataframe thead th {\n",
       "        text-align: right;\n",
       "    }\n",
       "</style>\n",
       "<table border=\"1\" class=\"dataframe\">\n",
       "  <thead>\n",
       "    <tr style=\"text-align: right;\">\n",
       "      <th></th>\n",
       "      <th>BallAcceleration</th>\n",
       "      <th>Time</th>\n",
       "      <th>DistanceWall</th>\n",
       "      <th>DistanceCeil</th>\n",
       "      <th>DistanceBall</th>\n",
       "      <th>PlayerSpeed</th>\n",
       "      <th>BallSpeed</th>\n",
       "      <th>up</th>\n",
       "      <th>accelerate</th>\n",
       "      <th>slow</th>\n",
       "      <th>goal</th>\n",
       "      <th>left</th>\n",
       "      <th>boost</th>\n",
       "      <th>camera</th>\n",
       "      <th>down</th>\n",
       "      <th>right</th>\n",
       "      <th>slide</th>\n",
       "      <th>jump</th>\n",
       "      <th>Class</th>\n",
       "    </tr>\n",
       "  </thead>\n",
       "  <tbody>\n",
       "    <tr>\n",
       "      <th>0</th>\n",
       "      <td>1636.798772</td>\n",
       "      <td>0.000000</td>\n",
       "      <td>3498.01</td>\n",
       "      <td>2012.98</td>\n",
       "      <td>299.668270</td>\n",
       "      <td>104267.426232</td>\n",
       "      <td>99035.849338</td>\n",
       "      <td>0</td>\n",
       "      <td>0</td>\n",
       "      <td>0</td>\n",
       "      <td>0</td>\n",
       "      <td>0</td>\n",
       "      <td>0</td>\n",
       "      <td>0</td>\n",
       "      <td>0</td>\n",
       "      <td>1</td>\n",
       "      <td>0</td>\n",
       "      <td>1</td>\n",
       "      <td>6</td>\n",
       "    </tr>\n",
       "    <tr>\n",
       "      <th>1</th>\n",
       "      <td>3198.029397</td>\n",
       "      <td>0.138893</td>\n",
       "      <td>3494.08</td>\n",
       "      <td>2012.98</td>\n",
       "      <td>229.896780</td>\n",
       "      <td>124248.031988</td>\n",
       "      <td>102233.878734</td>\n",
       "      <td>0</td>\n",
       "      <td>0</td>\n",
       "      <td>0</td>\n",
       "      <td>0</td>\n",
       "      <td>0</td>\n",
       "      <td>1</td>\n",
       "      <td>0</td>\n",
       "      <td>0</td>\n",
       "      <td>1</td>\n",
       "      <td>0</td>\n",
       "      <td>1</td>\n",
       "      <td>6</td>\n",
       "    </tr>\n",
       "    <tr>\n",
       "      <th>2</th>\n",
       "      <td>0.000000</td>\n",
       "      <td>0.173617</td>\n",
       "      <td>3494.08</td>\n",
       "      <td>2012.98</td>\n",
       "      <td>237.350599</td>\n",
       "      <td>124248.031988</td>\n",
       "      <td>102968.358990</td>\n",
       "      <td>0</td>\n",
       "      <td>0</td>\n",
       "      <td>0</td>\n",
       "      <td>0</td>\n",
       "      <td>0</td>\n",
       "      <td>1</td>\n",
       "      <td>0</td>\n",
       "      <td>0</td>\n",
       "      <td>0</td>\n",
       "      <td>0</td>\n",
       "      <td>0</td>\n",
       "      <td>6</td>\n",
       "    </tr>\n",
       "    <tr>\n",
       "      <th>3</th>\n",
       "      <td>9914.766242</td>\n",
       "      <td>0.312510</td>\n",
       "      <td>3500.08</td>\n",
       "      <td>2012.98</td>\n",
       "      <td>151.880921</td>\n",
       "      <td>115248.016009</td>\n",
       "      <td>112883.125231</td>\n",
       "      <td>0</td>\n",
       "      <td>0</td>\n",
       "      <td>0</td>\n",
       "      <td>0</td>\n",
       "      <td>0</td>\n",
       "      <td>0</td>\n",
       "      <td>0</td>\n",
       "      <td>0</td>\n",
       "      <td>1</td>\n",
       "      <td>0</td>\n",
       "      <td>0</td>\n",
       "      <td>6</td>\n",
       "    </tr>\n",
       "    <tr>\n",
       "      <th>4</th>\n",
       "      <td>5907.747166</td>\n",
       "      <td>0.625019</td>\n",
       "      <td>3521.65</td>\n",
       "      <td>2013.00</td>\n",
       "      <td>154.556104</td>\n",
       "      <td>125091.256173</td>\n",
       "      <td>118790.872398</td>\n",
       "      <td>0</td>\n",
       "      <td>0</td>\n",
       "      <td>0</td>\n",
       "      <td>0</td>\n",
       "      <td>0</td>\n",
       "      <td>0</td>\n",
       "      <td>0</td>\n",
       "      <td>0</td>\n",
       "      <td>1</td>\n",
       "      <td>0</td>\n",
       "      <td>1</td>\n",
       "      <td>6</td>\n",
       "    </tr>\n",
       "  </tbody>\n",
       "</table>\n",
       "</div>"
      ],
      "text/plain": [
       "   BallAcceleration      Time  DistanceWall  DistanceCeil  DistanceBall  \\\n",
       "0       1636.798772  0.000000       3498.01       2012.98    299.668270   \n",
       "1       3198.029397  0.138893       3494.08       2012.98    229.896780   \n",
       "2          0.000000  0.173617       3494.08       2012.98    237.350599   \n",
       "3       9914.766242  0.312510       3500.08       2012.98    151.880921   \n",
       "4       5907.747166  0.625019       3521.65       2013.00    154.556104   \n",
       "\n",
       "     PlayerSpeed      BallSpeed up accelerate slow goal left boost camera  \\\n",
       "0  104267.426232   99035.849338  0          0    0    0    0     0      0   \n",
       "1  124248.031988  102233.878734  0          0    0    0    0     1      0   \n",
       "2  124248.031988  102968.358990  0          0    0    0    0     1      0   \n",
       "3  115248.016009  112883.125231  0          0    0    0    0     0      0   \n",
       "4  125091.256173  118790.872398  0          0    0    0    0     0      0   \n",
       "\n",
       "  down right slide jump  Class  \n",
       "0    0     1     0    1      6  \n",
       "1    0     1     0    1      6  \n",
       "2    0     0     0    0      6  \n",
       "3    0     1     0    0      6  \n",
       "4    0     1     0    1      6  "
      ]
     },
     "execution_count": 328,
     "metadata": {},
     "output_type": "execute_result"
    }
   ],
   "source": [
    "df.head()"
   ]
  },
  {
   "cell_type": "code",
   "execution_count": 329,
   "metadata": {
    "ExecuteTime": {
     "end_time": "2024-04-21T20:40:22.655669Z",
     "start_time": "2024-04-21T20:40:22.643437Z"
    }
   },
   "outputs": [
    {
     "data": {
      "text/plain": [
       "dtype('O')"
      ]
     },
     "execution_count": 329,
     "metadata": {},
     "output_type": "execute_result"
    }
   ],
   "source": [
    "\n",
    "df['Class'] = df['Class'].astype(str)\n",
    "df['Class'].dtype"
   ]
  },
  {
   "cell_type": "code",
   "execution_count": 330,
   "metadata": {
    "ExecuteTime": {
     "end_time": "2024-04-21T20:40:22.860055Z",
     "start_time": "2024-04-21T20:40:22.850566Z"
    }
   },
   "outputs": [],
   "source": [
    "df['Class'].replace('-1', 'Noise', inplace=True)\n",
    "df['Class'].replace('1', 'Ceiling Shot', inplace=True)\n",
    "df['Class'].replace('2', 'Power Shot', inplace=True)\n",
    "df['Class'].replace('3', 'Waving Dash', inplace=True)\n",
    "df['Class'].replace('5', 'Air Dribble', inplace=True)\n",
    "df['Class'].replace('6', 'Front Flick', inplace=True)\n",
    "df['Class'].replace('7', 'Musty Flick', inplace=True)"
   ]
  },
  {
   "cell_type": "code",
   "execution_count": 331,
   "metadata": {
    "ExecuteTime": {
     "end_time": "2024-04-21T20:40:23.033915Z",
     "start_time": "2024-04-21T20:40:23.008502Z"
    }
   },
   "outputs": [
    {
     "data": {
      "text/html": [
       "<div>\n",
       "<style scoped>\n",
       "    .dataframe tbody tr th:only-of-type {\n",
       "        vertical-align: middle;\n",
       "    }\n",
       "\n",
       "    .dataframe tbody tr th {\n",
       "        vertical-align: top;\n",
       "    }\n",
       "\n",
       "    .dataframe thead th {\n",
       "        text-align: right;\n",
       "    }\n",
       "</style>\n",
       "<table border=\"1\" class=\"dataframe\">\n",
       "  <thead>\n",
       "    <tr style=\"text-align: right;\">\n",
       "      <th></th>\n",
       "      <th>BallAcceleration</th>\n",
       "      <th>Time</th>\n",
       "      <th>DistanceWall</th>\n",
       "      <th>DistanceCeil</th>\n",
       "      <th>DistanceBall</th>\n",
       "      <th>PlayerSpeed</th>\n",
       "      <th>BallSpeed</th>\n",
       "      <th>up</th>\n",
       "      <th>accelerate</th>\n",
       "      <th>slow</th>\n",
       "      <th>goal</th>\n",
       "      <th>left</th>\n",
       "      <th>boost</th>\n",
       "      <th>camera</th>\n",
       "      <th>down</th>\n",
       "      <th>right</th>\n",
       "      <th>slide</th>\n",
       "      <th>jump</th>\n",
       "      <th>Class</th>\n",
       "    </tr>\n",
       "  </thead>\n",
       "  <tbody>\n",
       "    <tr>\n",
       "      <th>0</th>\n",
       "      <td>1636.798772</td>\n",
       "      <td>0.000000</td>\n",
       "      <td>3498.01</td>\n",
       "      <td>2012.98</td>\n",
       "      <td>299.668270</td>\n",
       "      <td>104267.426232</td>\n",
       "      <td>99035.849338</td>\n",
       "      <td>0</td>\n",
       "      <td>0</td>\n",
       "      <td>0</td>\n",
       "      <td>0</td>\n",
       "      <td>0</td>\n",
       "      <td>0</td>\n",
       "      <td>0</td>\n",
       "      <td>0</td>\n",
       "      <td>1</td>\n",
       "      <td>0</td>\n",
       "      <td>1</td>\n",
       "      <td>Front Flick</td>\n",
       "    </tr>\n",
       "    <tr>\n",
       "      <th>1</th>\n",
       "      <td>3198.029397</td>\n",
       "      <td>0.138893</td>\n",
       "      <td>3494.08</td>\n",
       "      <td>2012.98</td>\n",
       "      <td>229.896780</td>\n",
       "      <td>124248.031988</td>\n",
       "      <td>102233.878734</td>\n",
       "      <td>0</td>\n",
       "      <td>0</td>\n",
       "      <td>0</td>\n",
       "      <td>0</td>\n",
       "      <td>0</td>\n",
       "      <td>1</td>\n",
       "      <td>0</td>\n",
       "      <td>0</td>\n",
       "      <td>1</td>\n",
       "      <td>0</td>\n",
       "      <td>1</td>\n",
       "      <td>Front Flick</td>\n",
       "    </tr>\n",
       "    <tr>\n",
       "      <th>2</th>\n",
       "      <td>0.000000</td>\n",
       "      <td>0.173617</td>\n",
       "      <td>3494.08</td>\n",
       "      <td>2012.98</td>\n",
       "      <td>237.350599</td>\n",
       "      <td>124248.031988</td>\n",
       "      <td>102968.358990</td>\n",
       "      <td>0</td>\n",
       "      <td>0</td>\n",
       "      <td>0</td>\n",
       "      <td>0</td>\n",
       "      <td>0</td>\n",
       "      <td>1</td>\n",
       "      <td>0</td>\n",
       "      <td>0</td>\n",
       "      <td>0</td>\n",
       "      <td>0</td>\n",
       "      <td>0</td>\n",
       "      <td>Front Flick</td>\n",
       "    </tr>\n",
       "    <tr>\n",
       "      <th>3</th>\n",
       "      <td>9914.766242</td>\n",
       "      <td>0.312510</td>\n",
       "      <td>3500.08</td>\n",
       "      <td>2012.98</td>\n",
       "      <td>151.880921</td>\n",
       "      <td>115248.016009</td>\n",
       "      <td>112883.125231</td>\n",
       "      <td>0</td>\n",
       "      <td>0</td>\n",
       "      <td>0</td>\n",
       "      <td>0</td>\n",
       "      <td>0</td>\n",
       "      <td>0</td>\n",
       "      <td>0</td>\n",
       "      <td>0</td>\n",
       "      <td>1</td>\n",
       "      <td>0</td>\n",
       "      <td>0</td>\n",
       "      <td>Front Flick</td>\n",
       "    </tr>\n",
       "    <tr>\n",
       "      <th>4</th>\n",
       "      <td>5907.747166</td>\n",
       "      <td>0.625019</td>\n",
       "      <td>3521.65</td>\n",
       "      <td>2013.00</td>\n",
       "      <td>154.556104</td>\n",
       "      <td>125091.256173</td>\n",
       "      <td>118790.872398</td>\n",
       "      <td>0</td>\n",
       "      <td>0</td>\n",
       "      <td>0</td>\n",
       "      <td>0</td>\n",
       "      <td>0</td>\n",
       "      <td>0</td>\n",
       "      <td>0</td>\n",
       "      <td>0</td>\n",
       "      <td>1</td>\n",
       "      <td>0</td>\n",
       "      <td>1</td>\n",
       "      <td>Front Flick</td>\n",
       "    </tr>\n",
       "  </tbody>\n",
       "</table>\n",
       "</div>"
      ],
      "text/plain": [
       "   BallAcceleration      Time  DistanceWall  DistanceCeil  DistanceBall  \\\n",
       "0       1636.798772  0.000000       3498.01       2012.98    299.668270   \n",
       "1       3198.029397  0.138893       3494.08       2012.98    229.896780   \n",
       "2          0.000000  0.173617       3494.08       2012.98    237.350599   \n",
       "3       9914.766242  0.312510       3500.08       2012.98    151.880921   \n",
       "4       5907.747166  0.625019       3521.65       2013.00    154.556104   \n",
       "\n",
       "     PlayerSpeed      BallSpeed up accelerate slow goal left boost camera  \\\n",
       "0  104267.426232   99035.849338  0          0    0    0    0     0      0   \n",
       "1  124248.031988  102233.878734  0          0    0    0    0     1      0   \n",
       "2  124248.031988  102968.358990  0          0    0    0    0     1      0   \n",
       "3  115248.016009  112883.125231  0          0    0    0    0     0      0   \n",
       "4  125091.256173  118790.872398  0          0    0    0    0     0      0   \n",
       "\n",
       "  down right slide jump        Class  \n",
       "0    0     1     0    1  Front Flick  \n",
       "1    0     1     0    1  Front Flick  \n",
       "2    0     0     0    0  Front Flick  \n",
       "3    0     1     0    0  Front Flick  \n",
       "4    0     1     0    1  Front Flick  "
      ]
     },
     "execution_count": 331,
     "metadata": {},
     "output_type": "execute_result"
    }
   ],
   "source": [
    "df.head()"
   ]
  },
  {
   "cell_type": "code",
   "execution_count": 332,
   "metadata": {
    "ExecuteTime": {
     "end_time": "2024-04-21T20:40:23.043655Z",
     "start_time": "2024-04-21T20:40:23.038721Z"
    }
   },
   "outputs": [
    {
     "data": {
      "text/plain": [
       "array(['Front Flick', 'Noise', 'Ceiling Shot', 'Musty Flick',\n",
       "       'Power Shot', 'Air Dribble', 'Waving Dash'], dtype=object)"
      ]
     },
     "execution_count": 332,
     "metadata": {},
     "output_type": "execute_result"
    }
   ],
   "source": [
    "df['Class'].unique()"
   ]
  },
  {
   "cell_type": "markdown",
   "metadata": {},
   "source": [
    "## Merging inputs into one column"
   ]
  },
  {
   "cell_type": "code",
   "execution_count": 333,
   "metadata": {
    "ExecuteTime": {
     "end_time": "2024-04-21T20:40:23.212258Z",
     "start_time": "2024-04-21T20:40:23.182896Z"
    }
   },
   "outputs": [
    {
     "data": {
      "text/html": [
       "<div>\n",
       "<style scoped>\n",
       "    .dataframe tbody tr th:only-of-type {\n",
       "        vertical-align: middle;\n",
       "    }\n",
       "\n",
       "    .dataframe tbody tr th {\n",
       "        vertical-align: top;\n",
       "    }\n",
       "\n",
       "    .dataframe thead th {\n",
       "        text-align: right;\n",
       "    }\n",
       "</style>\n",
       "<table border=\"1\" class=\"dataframe\">\n",
       "  <thead>\n",
       "    <tr style=\"text-align: right;\">\n",
       "      <th></th>\n",
       "      <th>BallAcceleration</th>\n",
       "      <th>Time</th>\n",
       "      <th>DistanceWall</th>\n",
       "      <th>DistanceCeil</th>\n",
       "      <th>DistanceBall</th>\n",
       "      <th>PlayerSpeed</th>\n",
       "      <th>BallSpeed</th>\n",
       "      <th>goal</th>\n",
       "      <th>Class</th>\n",
       "      <th>move</th>\n",
       "    </tr>\n",
       "  </thead>\n",
       "  <tbody>\n",
       "    <tr>\n",
       "      <th>0</th>\n",
       "      <td>1636.798772</td>\n",
       "      <td>0.000000</td>\n",
       "      <td>3498.01</td>\n",
       "      <td>2012.98</td>\n",
       "      <td>299.668270</td>\n",
       "      <td>104267.426232</td>\n",
       "      <td>99035.849338</td>\n",
       "      <td>0</td>\n",
       "      <td>Front Flick</td>\n",
       "      <td>0000000101</td>\n",
       "    </tr>\n",
       "    <tr>\n",
       "      <th>1</th>\n",
       "      <td>3198.029397</td>\n",
       "      <td>0.138893</td>\n",
       "      <td>3494.08</td>\n",
       "      <td>2012.98</td>\n",
       "      <td>229.896780</td>\n",
       "      <td>124248.031988</td>\n",
       "      <td>102233.878734</td>\n",
       "      <td>0</td>\n",
       "      <td>Front Flick</td>\n",
       "      <td>0000100101</td>\n",
       "    </tr>\n",
       "    <tr>\n",
       "      <th>2</th>\n",
       "      <td>0.000000</td>\n",
       "      <td>0.173617</td>\n",
       "      <td>3494.08</td>\n",
       "      <td>2012.98</td>\n",
       "      <td>237.350599</td>\n",
       "      <td>124248.031988</td>\n",
       "      <td>102968.358990</td>\n",
       "      <td>0</td>\n",
       "      <td>Front Flick</td>\n",
       "      <td>0000100000</td>\n",
       "    </tr>\n",
       "    <tr>\n",
       "      <th>3</th>\n",
       "      <td>9914.766242</td>\n",
       "      <td>0.312510</td>\n",
       "      <td>3500.08</td>\n",
       "      <td>2012.98</td>\n",
       "      <td>151.880921</td>\n",
       "      <td>115248.016009</td>\n",
       "      <td>112883.125231</td>\n",
       "      <td>0</td>\n",
       "      <td>Front Flick</td>\n",
       "      <td>0000000100</td>\n",
       "    </tr>\n",
       "    <tr>\n",
       "      <th>4</th>\n",
       "      <td>5907.747166</td>\n",
       "      <td>0.625019</td>\n",
       "      <td>3521.65</td>\n",
       "      <td>2013.00</td>\n",
       "      <td>154.556104</td>\n",
       "      <td>125091.256173</td>\n",
       "      <td>118790.872398</td>\n",
       "      <td>0</td>\n",
       "      <td>Front Flick</td>\n",
       "      <td>0000000101</td>\n",
       "    </tr>\n",
       "  </tbody>\n",
       "</table>\n",
       "</div>"
      ],
      "text/plain": [
       "   BallAcceleration      Time  DistanceWall  DistanceCeil  DistanceBall  \\\n",
       "0       1636.798772  0.000000       3498.01       2012.98    299.668270   \n",
       "1       3198.029397  0.138893       3494.08       2012.98    229.896780   \n",
       "2          0.000000  0.173617       3494.08       2012.98    237.350599   \n",
       "3       9914.766242  0.312510       3500.08       2012.98    151.880921   \n",
       "4       5907.747166  0.625019       3521.65       2013.00    154.556104   \n",
       "\n",
       "     PlayerSpeed      BallSpeed goal        Class        move  \n",
       "0  104267.426232   99035.849338    0  Front Flick  0000000101  \n",
       "1  124248.031988  102233.878734    0  Front Flick  0000100101  \n",
       "2  124248.031988  102968.358990    0  Front Flick  0000100000  \n",
       "3  115248.016009  112883.125231    0  Front Flick  0000000100  \n",
       "4  125091.256173  118790.872398    0  Front Flick  0000000101  "
      ]
     },
     "execution_count": 333,
     "metadata": {},
     "output_type": "execute_result"
    }
   ],
   "source": [
    "df['move'] = df['up']+df['accelerate']+df['slow']+df['left']+df['boost']+df['camera']+df['down']+df['right']+df['slide']+df['jump']\n",
    "df.head(5)\n",
    "\n",
    "df = df.drop(['up', 'accelerate','slow', 'left','boost','camera','down', 'right','slide', 'jump'], axis = 1)\n",
    "df.head(5)"
   ]
  },
  {
   "cell_type": "code",
   "execution_count": 334,
   "metadata": {
    "ExecuteTime": {
     "end_time": "2024-04-21T20:40:23.315133Z",
     "start_time": "2024-04-21T20:40:23.224355Z"
    }
   },
   "outputs": [],
   "source": [
    "df.to_csv('rocket_league_skillshots_raw.csv')"
   ]
  },
  {
   "cell_type": "code",
   "execution_count": 335,
   "metadata": {
    "ExecuteTime": {
     "end_time": "2024-04-21T20:40:23.321120Z",
     "start_time": "2024-04-21T20:40:23.316786Z"
    }
   },
   "outputs": [
    {
     "data": {
      "text/plain": [
       "array(['Front Flick', 'Noise', 'Ceiling Shot', 'Musty Flick',\n",
       "       'Power Shot', 'Air Dribble', 'Waving Dash'], dtype=object)"
      ]
     },
     "execution_count": 335,
     "metadata": {},
     "output_type": "execute_result"
    }
   ],
   "source": [
    "df['Class'].unique()"
   ]
  },
  {
   "cell_type": "markdown",
   "metadata": {},
   "source": [
    "## Normalize the numerical data"
   ]
  },
  {
   "cell_type": "code",
   "execution_count": 336,
   "metadata": {
    "ExecuteTime": {
     "end_time": "2024-04-21T20:40:23.355519Z",
     "start_time": "2024-04-21T20:40:23.322624Z"
    }
   },
   "outputs": [
    {
     "data": {
      "text/html": [
       "<div>\n",
       "<style scoped>\n",
       "    .dataframe tbody tr th:only-of-type {\n",
       "        vertical-align: middle;\n",
       "    }\n",
       "\n",
       "    .dataframe tbody tr th {\n",
       "        vertical-align: top;\n",
       "    }\n",
       "\n",
       "    .dataframe thead th {\n",
       "        text-align: right;\n",
       "    }\n",
       "</style>\n",
       "<table border=\"1\" class=\"dataframe\">\n",
       "  <thead>\n",
       "    <tr style=\"text-align: right;\">\n",
       "      <th></th>\n",
       "      <th>BallAcceleration</th>\n",
       "      <th>Time</th>\n",
       "      <th>DistanceWall</th>\n",
       "      <th>DistanceCeil</th>\n",
       "      <th>DistanceBall</th>\n",
       "      <th>PlayerSpeed</th>\n",
       "      <th>BallSpeed</th>\n",
       "      <th>goal</th>\n",
       "      <th>Class</th>\n",
       "      <th>move</th>\n",
       "    </tr>\n",
       "  </thead>\n",
       "  <tbody>\n",
       "    <tr>\n",
       "      <th>0</th>\n",
       "      <td>0.522863</td>\n",
       "      <td>0.000000</td>\n",
       "      <td>0.012304</td>\n",
       "      <td>0.498257</td>\n",
       "      <td>0.025869</td>\n",
       "      <td>0.453272</td>\n",
       "      <td>0.300277</td>\n",
       "      <td>0</td>\n",
       "      <td>Front Flick</td>\n",
       "      <td>0000000101</td>\n",
       "    </tr>\n",
       "    <tr>\n",
       "      <th>1</th>\n",
       "      <td>0.525408</td>\n",
       "      <td>0.010311</td>\n",
       "      <td>0.012290</td>\n",
       "      <td>0.498257</td>\n",
       "      <td>0.018490</td>\n",
       "      <td>0.540155</td>\n",
       "      <td>0.309974</td>\n",
       "      <td>0</td>\n",
       "      <td>Front Flick</td>\n",
       "      <td>0000100101</td>\n",
       "    </tr>\n",
       "    <tr>\n",
       "      <th>2</th>\n",
       "      <td>0.520195</td>\n",
       "      <td>0.012889</td>\n",
       "      <td>0.012290</td>\n",
       "      <td>0.498257</td>\n",
       "      <td>0.019278</td>\n",
       "      <td>0.540155</td>\n",
       "      <td>0.312201</td>\n",
       "      <td>0</td>\n",
       "      <td>Front Flick</td>\n",
       "      <td>0000100000</td>\n",
       "    </tr>\n",
       "    <tr>\n",
       "      <th>3</th>\n",
       "      <td>0.536357</td>\n",
       "      <td>0.023200</td>\n",
       "      <td>0.012311</td>\n",
       "      <td>0.498257</td>\n",
       "      <td>0.010238</td>\n",
       "      <td>0.501020</td>\n",
       "      <td>0.342262</td>\n",
       "      <td>0</td>\n",
       "      <td>Front Flick</td>\n",
       "      <td>0000000100</td>\n",
       "    </tr>\n",
       "    <tr>\n",
       "      <th>4</th>\n",
       "      <td>0.529825</td>\n",
       "      <td>0.046400</td>\n",
       "      <td>0.012387</td>\n",
       "      <td>0.498262</td>\n",
       "      <td>0.010521</td>\n",
       "      <td>0.543821</td>\n",
       "      <td>0.360175</td>\n",
       "      <td>0</td>\n",
       "      <td>Front Flick</td>\n",
       "      <td>0000000101</td>\n",
       "    </tr>\n",
       "  </tbody>\n",
       "</table>\n",
       "</div>"
      ],
      "text/plain": [
       "   BallAcceleration      Time  DistanceWall  DistanceCeil  DistanceBall  \\\n",
       "0          0.522863  0.000000      0.012304      0.498257      0.025869   \n",
       "1          0.525408  0.010311      0.012290      0.498257      0.018490   \n",
       "2          0.520195  0.012889      0.012290      0.498257      0.019278   \n",
       "3          0.536357  0.023200      0.012311      0.498257      0.010238   \n",
       "4          0.529825  0.046400      0.012387      0.498262      0.010521   \n",
       "\n",
       "   PlayerSpeed  BallSpeed goal        Class        move  \n",
       "0     0.453272   0.300277    0  Front Flick  0000000101  \n",
       "1     0.540155   0.309974    0  Front Flick  0000100101  \n",
       "2     0.540155   0.312201    0  Front Flick  0000100000  \n",
       "3     0.501020   0.342262    0  Front Flick  0000000100  \n",
       "4     0.543821   0.360175    0  Front Flick  0000000101  "
      ]
     },
     "execution_count": 336,
     "metadata": {},
     "output_type": "execute_result"
    }
   ],
   "source": [
    "scaler = MinMaxScaler()\n",
    "float_columns = df.select_dtypes(include=['float']).columns\n",
    "df[float_columns] = scaler.fit_transform(df[float_columns])\n",
    "\n",
    "df.head(5)"
   ]
  },
  {
   "cell_type": "code",
   "execution_count": 337,
   "metadata": {
    "ExecuteTime": {
     "end_time": "2024-04-21T20:40:23.425567Z",
     "start_time": "2024-04-21T20:40:23.420821Z"
    }
   },
   "outputs": [
    {
     "data": {
      "text/plain": [
       "BallAcceleration    float64\n",
       "Time                float64\n",
       "DistanceWall        float64\n",
       "DistanceCeil        float64\n",
       "DistanceBall        float64\n",
       "PlayerSpeed         float64\n",
       "BallSpeed           float64\n",
       "goal                 object\n",
       "Class                object\n",
       "move                 object\n",
       "dtype: object"
      ]
     },
     "execution_count": 337,
     "metadata": {},
     "output_type": "execute_result"
    }
   ],
   "source": [
    "df.dtypes"
   ]
  },
  {
   "cell_type": "code",
   "execution_count": 338,
   "metadata": {
    "ExecuteTime": {
     "end_time": "2024-04-21T20:40:23.631979Z",
     "start_time": "2024-04-21T20:40:23.530413Z"
    }
   },
   "outputs": [],
   "source": [
    "df.to_csv('preprocessed_rocket_league_skillshots.csv')"
   ]
  },
  {
   "cell_type": "markdown",
   "metadata": {},
   "source": [
    "## Label Encoding the moves"
   ]
  },
  {
   "cell_type": "code",
   "execution_count": 339,
   "metadata": {
    "ExecuteTime": {
     "end_time": "2024-04-21T20:40:23.713914Z",
     "start_time": "2024-04-21T20:40:23.707798Z"
    }
   },
   "outputs": [],
   "source": [
    "from sklearn.preprocessing import LabelEncoder\n",
    "\n",
    "le = LabelEncoder()\n",
    "df['move'] = le.fit_transform(df['move'])\n",
    "# df['Class'] = le.fit_transform(df['Class'])"
   ]
  },
  {
   "cell_type": "code",
   "execution_count": 340,
   "metadata": {
    "ExecuteTime": {
     "end_time": "2024-04-21T20:40:23.782766Z",
     "start_time": "2024-04-21T20:40:23.767403Z"
    }
   },
   "outputs": [
    {
     "data": {
      "text/html": [
       "<div>\n",
       "<style scoped>\n",
       "    .dataframe tbody tr th:only-of-type {\n",
       "        vertical-align: middle;\n",
       "    }\n",
       "\n",
       "    .dataframe tbody tr th {\n",
       "        vertical-align: top;\n",
       "    }\n",
       "\n",
       "    .dataframe thead th {\n",
       "        text-align: right;\n",
       "    }\n",
       "</style>\n",
       "<table border=\"1\" class=\"dataframe\">\n",
       "  <thead>\n",
       "    <tr style=\"text-align: right;\">\n",
       "      <th></th>\n",
       "      <th>BallAcceleration</th>\n",
       "      <th>Time</th>\n",
       "      <th>DistanceWall</th>\n",
       "      <th>DistanceCeil</th>\n",
       "      <th>DistanceBall</th>\n",
       "      <th>PlayerSpeed</th>\n",
       "      <th>BallSpeed</th>\n",
       "      <th>goal</th>\n",
       "      <th>Class</th>\n",
       "      <th>move</th>\n",
       "    </tr>\n",
       "  </thead>\n",
       "  <tbody>\n",
       "    <tr>\n",
       "      <th>0</th>\n",
       "      <td>0.522863</td>\n",
       "      <td>0.000000</td>\n",
       "      <td>0.012304</td>\n",
       "      <td>0.498257</td>\n",
       "      <td>0.025869</td>\n",
       "      <td>0.453272</td>\n",
       "      <td>0.300277</td>\n",
       "      <td>0</td>\n",
       "      <td>Front Flick</td>\n",
       "      <td>3</td>\n",
       "    </tr>\n",
       "    <tr>\n",
       "      <th>1</th>\n",
       "      <td>0.525408</td>\n",
       "      <td>0.010311</td>\n",
       "      <td>0.012290</td>\n",
       "      <td>0.498257</td>\n",
       "      <td>0.018490</td>\n",
       "      <td>0.540155</td>\n",
       "      <td>0.309974</td>\n",
       "      <td>0</td>\n",
       "      <td>Front Flick</td>\n",
       "      <td>22</td>\n",
       "    </tr>\n",
       "    <tr>\n",
       "      <th>2</th>\n",
       "      <td>0.520195</td>\n",
       "      <td>0.012889</td>\n",
       "      <td>0.012290</td>\n",
       "      <td>0.498257</td>\n",
       "      <td>0.019278</td>\n",
       "      <td>0.540155</td>\n",
       "      <td>0.312201</td>\n",
       "      <td>0</td>\n",
       "      <td>Front Flick</td>\n",
       "      <td>18</td>\n",
       "    </tr>\n",
       "    <tr>\n",
       "      <th>3</th>\n",
       "      <td>0.536357</td>\n",
       "      <td>0.023200</td>\n",
       "      <td>0.012311</td>\n",
       "      <td>0.498257</td>\n",
       "      <td>0.010238</td>\n",
       "      <td>0.501020</td>\n",
       "      <td>0.342262</td>\n",
       "      <td>0</td>\n",
       "      <td>Front Flick</td>\n",
       "      <td>2</td>\n",
       "    </tr>\n",
       "    <tr>\n",
       "      <th>4</th>\n",
       "      <td>0.529825</td>\n",
       "      <td>0.046400</td>\n",
       "      <td>0.012387</td>\n",
       "      <td>0.498262</td>\n",
       "      <td>0.010521</td>\n",
       "      <td>0.543821</td>\n",
       "      <td>0.360175</td>\n",
       "      <td>0</td>\n",
       "      <td>Front Flick</td>\n",
       "      <td>3</td>\n",
       "    </tr>\n",
       "  </tbody>\n",
       "</table>\n",
       "</div>"
      ],
      "text/plain": [
       "   BallAcceleration      Time  DistanceWall  DistanceCeil  DistanceBall  \\\n",
       "0          0.522863  0.000000      0.012304      0.498257      0.025869   \n",
       "1          0.525408  0.010311      0.012290      0.498257      0.018490   \n",
       "2          0.520195  0.012889      0.012290      0.498257      0.019278   \n",
       "3          0.536357  0.023200      0.012311      0.498257      0.010238   \n",
       "4          0.529825  0.046400      0.012387      0.498262      0.010521   \n",
       "\n",
       "   PlayerSpeed  BallSpeed goal        Class  move  \n",
       "0     0.453272   0.300277    0  Front Flick     3  \n",
       "1     0.540155   0.309974    0  Front Flick    22  \n",
       "2     0.540155   0.312201    0  Front Flick    18  \n",
       "3     0.501020   0.342262    0  Front Flick     2  \n",
       "4     0.543821   0.360175    0  Front Flick     3  "
      ]
     },
     "execution_count": 340,
     "metadata": {},
     "output_type": "execute_result"
    }
   ],
   "source": [
    "df.head()"
   ]
  },
  {
   "cell_type": "code",
   "execution_count": 341,
   "metadata": {
    "ExecuteTime": {
     "end_time": "2024-04-21T20:40:23.838886Z",
     "start_time": "2024-04-21T20:40:23.834379Z"
    }
   },
   "outputs": [
    {
     "data": {
      "text/plain": [
       "dtype('int64')"
      ]
     },
     "execution_count": 341,
     "metadata": {},
     "output_type": "execute_result"
    }
   ],
   "source": [
    "df['move'] = df[\"move\"].astype(\"int\")\n",
    "df['move'].dtypes"
   ]
  },
  {
   "cell_type": "code",
   "execution_count": 342,
   "metadata": {
    "ExecuteTime": {
     "end_time": "2024-04-21T20:40:24.035144Z",
     "start_time": "2024-04-21T20:40:23.933332Z"
    }
   },
   "outputs": [],
   "source": [
    "df.to_csv('preprocessed_encoded_rocket_league_skillshots.csv')"
   ]
  },
  {
   "cell_type": "code",
   "execution_count": 343,
   "metadata": {
    "ExecuteTime": {
     "end_time": "2024-04-21T20:40:24.041745Z",
     "start_time": "2024-04-21T20:40:24.036728Z"
    }
   },
   "outputs": [
    {
     "data": {
      "text/plain": [
       "BallAcceleration    float64\n",
       "Time                float64\n",
       "DistanceWall        float64\n",
       "DistanceCeil        float64\n",
       "DistanceBall        float64\n",
       "PlayerSpeed         float64\n",
       "BallSpeed           float64\n",
       "goal                 object\n",
       "Class                object\n",
       "move                  int64\n",
       "dtype: object"
      ]
     },
     "execution_count": 343,
     "metadata": {},
     "output_type": "execute_result"
    }
   ],
   "source": [
    "df.dtypes"
   ]
  },
  {
   "cell_type": "code",
   "execution_count": 344,
   "metadata": {
    "ExecuteTime": {
     "end_time": "2024-04-21T20:40:24.146688Z",
     "start_time": "2024-04-21T20:40:24.043194Z"
    }
   },
   "outputs": [],
   "source": [
    "df_dirty = df.copy()\n",
    "df_dirty.to_csv('data_noise.csv')"
   ]
  },
  {
   "cell_type": "code",
   "execution_count": 345,
   "metadata": {
    "ExecuteTime": {
     "end_time": "2024-04-21T20:40:24.154572Z",
     "start_time": "2024-04-21T20:40:24.148308Z"
    }
   },
   "outputs": [],
   "source": [
    "df_clean = df.copy()\n",
    "df_clean = df_clean.drop(df[df['Class'] == 'Noise'].index)\n"
   ]
  },
  {
   "cell_type": "code",
   "execution_count": 346,
   "metadata": {
    "ExecuteTime": {
     "end_time": "2024-04-21T20:40:24.173798Z",
     "start_time": "2024-04-21T20:40:24.156097Z"
    }
   },
   "outputs": [
    {
     "data": {
      "text/html": [
       "<div>\n",
       "<style scoped>\n",
       "    .dataframe tbody tr th:only-of-type {\n",
       "        vertical-align: middle;\n",
       "    }\n",
       "\n",
       "    .dataframe tbody tr th {\n",
       "        vertical-align: top;\n",
       "    }\n",
       "\n",
       "    .dataframe thead th {\n",
       "        text-align: right;\n",
       "    }\n",
       "</style>\n",
       "<table border=\"1\" class=\"dataframe\">\n",
       "  <thead>\n",
       "    <tr style=\"text-align: right;\">\n",
       "      <th></th>\n",
       "      <th>BallAcceleration</th>\n",
       "      <th>Time</th>\n",
       "      <th>DistanceWall</th>\n",
       "      <th>DistanceCeil</th>\n",
       "      <th>DistanceBall</th>\n",
       "      <th>PlayerSpeed</th>\n",
       "      <th>BallSpeed</th>\n",
       "      <th>goal</th>\n",
       "      <th>Class</th>\n",
       "      <th>move</th>\n",
       "    </tr>\n",
       "  </thead>\n",
       "  <tbody>\n",
       "    <tr>\n",
       "      <th>0</th>\n",
       "      <td>0.522863</td>\n",
       "      <td>0.000000</td>\n",
       "      <td>0.012304</td>\n",
       "      <td>0.498257</td>\n",
       "      <td>0.025869</td>\n",
       "      <td>0.453272</td>\n",
       "      <td>0.300277</td>\n",
       "      <td>0</td>\n",
       "      <td>Front Flick</td>\n",
       "      <td>3</td>\n",
       "    </tr>\n",
       "    <tr>\n",
       "      <th>1</th>\n",
       "      <td>0.525408</td>\n",
       "      <td>0.010311</td>\n",
       "      <td>0.012290</td>\n",
       "      <td>0.498257</td>\n",
       "      <td>0.018490</td>\n",
       "      <td>0.540155</td>\n",
       "      <td>0.309974</td>\n",
       "      <td>0</td>\n",
       "      <td>Front Flick</td>\n",
       "      <td>22</td>\n",
       "    </tr>\n",
       "    <tr>\n",
       "      <th>2</th>\n",
       "      <td>0.520195</td>\n",
       "      <td>0.012889</td>\n",
       "      <td>0.012290</td>\n",
       "      <td>0.498257</td>\n",
       "      <td>0.019278</td>\n",
       "      <td>0.540155</td>\n",
       "      <td>0.312201</td>\n",
       "      <td>0</td>\n",
       "      <td>Front Flick</td>\n",
       "      <td>18</td>\n",
       "    </tr>\n",
       "    <tr>\n",
       "      <th>3</th>\n",
       "      <td>0.536357</td>\n",
       "      <td>0.023200</td>\n",
       "      <td>0.012311</td>\n",
       "      <td>0.498257</td>\n",
       "      <td>0.010238</td>\n",
       "      <td>0.501020</td>\n",
       "      <td>0.342262</td>\n",
       "      <td>0</td>\n",
       "      <td>Front Flick</td>\n",
       "      <td>2</td>\n",
       "    </tr>\n",
       "    <tr>\n",
       "      <th>4</th>\n",
       "      <td>0.529825</td>\n",
       "      <td>0.046400</td>\n",
       "      <td>0.012387</td>\n",
       "      <td>0.498262</td>\n",
       "      <td>0.010521</td>\n",
       "      <td>0.543821</td>\n",
       "      <td>0.360175</td>\n",
       "      <td>0</td>\n",
       "      <td>Front Flick</td>\n",
       "      <td>3</td>\n",
       "    </tr>\n",
       "  </tbody>\n",
       "</table>\n",
       "</div>"
      ],
      "text/plain": [
       "   BallAcceleration      Time  DistanceWall  DistanceCeil  DistanceBall  \\\n",
       "0          0.522863  0.000000      0.012304      0.498257      0.025869   \n",
       "1          0.525408  0.010311      0.012290      0.498257      0.018490   \n",
       "2          0.520195  0.012889      0.012290      0.498257      0.019278   \n",
       "3          0.536357  0.023200      0.012311      0.498257      0.010238   \n",
       "4          0.529825  0.046400      0.012387      0.498262      0.010521   \n",
       "\n",
       "   PlayerSpeed  BallSpeed goal        Class  move  \n",
       "0     0.453272   0.300277    0  Front Flick     3  \n",
       "1     0.540155   0.309974    0  Front Flick    22  \n",
       "2     0.540155   0.312201    0  Front Flick    18  \n",
       "3     0.501020   0.342262    0  Front Flick     2  \n",
       "4     0.543821   0.360175    0  Front Flick     3  "
      ]
     },
     "execution_count": 346,
     "metadata": {},
     "output_type": "execute_result"
    }
   ],
   "source": [
    "df_clean.head()"
   ]
  },
  {
   "cell_type": "code",
   "execution_count": 347,
   "metadata": {
    "ExecuteTime": {
     "end_time": "2024-04-21T20:40:24.260803Z",
     "start_time": "2024-04-21T20:40:24.175270Z"
    }
   },
   "outputs": [],
   "source": [
    "df_clean.to_csv('data_clean.csv')"
   ]
  },
  {
   "cell_type": "code",
   "execution_count": 350,
   "metadata": {
    "ExecuteTime": {
     "end_time": "2024-04-21T20:41:08.961567Z",
     "start_time": "2024-04-21T20:41:08.956910Z"
    }
   },
   "outputs": [
    {
     "data": {
      "text/plain": [
       "array(['Front Flick', 'Ceiling Shot', 'Musty Flick', 'Power Shot',\n",
       "       'Air Dribble', 'Waving Dash'], dtype=object)"
      ]
     },
     "execution_count": 350,
     "metadata": {},
     "output_type": "execute_result"
    }
   ],
   "source": [
    "df_clean['Class'].unique()"
   ]
  },
  {
   "cell_type": "code",
   "execution_count": 378,
   "metadata": {
    "ExecuteTime": {
     "end_time": "2024-04-21T21:39:19.829996Z",
     "start_time": "2024-04-21T21:39:19.025149Z"
    }
   },
   "outputs": [
    {
     "data": {
      "image/png": "[encoded data removed]",
      "text/plain": [
       "<Figure size 720x720 with 1 Axes>"
      ]
     },
     "metadata": {},
     "output_type": "display_data"
    }
   ],
   "source": [
    "fig, ax = plt.subplots(figsize = (10,10))\n",
    "fig.tight_layout()\n",
    "df['Class'].value_counts()[:18].plot(kind='barh', ax = ax)\n",
    "ax.set_title('Class Distribution', fontsize = 20)\n",
    "ax.set_xlabel('Frequency', fontsize = 15)\n",
    "plt.savefig('images/class_distribution.png', bbox_inches='tight')\n",
    "plt.show()"
   ]
  },
  {
   "cell_type": "code",
   "execution_count": null,
   "metadata": {},
   "outputs": [],
   "source": []
  }
 ],
 "metadata": {
  "kernelspec": {
   "display_name": "Python 3 (3.6.5)",
   "language": "python",
   "name": "python3"
  },
  "language_info": {
   "codemirror_mode": {
    "name": "ipython",
    "version": 3
   },
   "file_extension": ".py",
   "mimetype": "text/x-python",
   "name": "python",
   "nbconvert_exporter": "python",
   "pygments_lexer": "ipython3",
   "version": "3.6.5"
  },
  "toc": {
   "base_numbering": 1,
   "nav_menu": {},
   "number_sections": true,
   "sideBar": true,
   "skip_h1_title": false,
   "title_cell": "Table of Contents",
   "title_sidebar": "Contents",
   "toc_cell": false,
   "toc_position": {},
   "toc_section_display": true,
   "toc_window_display": false
  }
 },
 "nbformat": 4,
 "nbformat_minor": 5
}
