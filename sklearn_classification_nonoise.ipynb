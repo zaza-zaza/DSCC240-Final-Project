{
 "cells": [
  {
   "cell_type": "code",
   "execution_count": 2,
   "id": "c77667fde903240b",
   "metadata": {
    "ExecuteTime": {
     "end_time": "2024-04-18T02:08:47.876519Z",
     "start_time": "2024-04-18T02:08:43.211107Z"
    }
   },
   "outputs": [
    {
     "name": "stdout",
     "output_type": "stream",
     "text": [
      "Defaulting to user installation because normal site-packages is not writeable\n",
      "Requirement already satisfied: gower in /gpfs/fs1/home/zgarson/.local/lib/python3.6/site-packages (0.1.2)\n",
      "Requirement already satisfied: numpy in /gpfs/fs1/sfw2/python3/3.6.5/lib/python3.6/site-packages (from gower) (1.18.4)\n",
      "Requirement already satisfied: scipy in /gpfs/fs1/sfw2/python3/3.6.5/lib/python3.6/site-packages (from gower) (1.5.4)\n",
      "Defaulting to user installation because normal site-packages is not writeable\n",
      "Requirement already satisfied: xgboost in /gpfs/fs1/home/zgarson/.local/lib/python3.6/site-packages (1.5.2)\n",
      "Requirement already satisfied: scipy in /gpfs/fs1/sfw2/python3/3.6.5/lib/python3.6/site-packages (from xgboost) (1.5.4)\n",
      "Requirement already satisfied: numpy in /gpfs/fs1/sfw2/python3/3.6.5/lib/python3.6/site-packages (from xgboost) (1.18.4)\n"
     ]
    }
   ],
   "source": [
    "!pip install gower\n",
    "!pip install xgboost"
   ]
  },
  {
   "cell_type": "code",
   "execution_count": 3,
   "id": "1e9ffa7ab04f329d",
   "metadata": {
    "ExecuteTime": {
     "end_time": "2024-04-18T02:08:47.884375Z",
     "start_time": "2024-04-18T02:08:47.878641Z"
    }
   },
   "outputs": [],
   "source": [
    "import pandas as pd\n",
    "import numpy as np\n",
    "# visual\n",
    "import matplotlib.pyplot as plt\n",
    "import seaborn as sns\n",
    "\n",
    "# sklearn\n",
    "from sklearn.metrics import confusion_matrix, rand_score, accuracy_score\n",
    "from sklearn.model_selection import train_test_split\n",
    "from sklearn.tree import DecisionTreeClassifier\n",
    "from sklearn.ensemble import RandomForestClassifier\n",
    "from sklearn.naive_bayes import CategoricalNB, GaussianNB, MultinomialNB\n",
    "from sklearn import metrics\n",
    "from sklearn.model_selection import GridSearchCV\n",
    "from sklearn.experimental import enable_halving_search_cv\n",
    "from sklearn.model_selection import HalvingGridSearchCV\n",
    "from sklearn.metrics import classification_report\n",
    "from sklearn.svm import SVC\n",
    "from sklearn.svm import NuSVC\n",
    "\n"
   ]
  },
  {
   "cell_type": "markdown",
   "id": "3ad4ec7874222512",
   "metadata": {},
   "source": [
    "## Import Data"
   ]
  },
  {
   "cell_type": "code",
   "execution_count": 4,
   "id": "525d269f340d2476",
   "metadata": {
    "ExecuteTime": {
     "end_time": "2024-04-18T02:23:27.782462Z",
     "start_time": "2024-04-18T02:23:27.763011Z"
    }
   },
   "outputs": [],
   "source": [
    "lst_str_cols = ['move']\n",
    "dict_dtypes = {x: 'str' for x in lst_str_cols}\n",
    "data = pd.read_csv('preprocessed_encoded_rocket_league_skillshots.csv', dtype=dict_dtypes)\n",
    "df = pd.DataFrame(data = data)\n",
    "df = df.drop(['Unnamed: 0'], axis = 1)"
   ]
  },
  {
   "cell_type": "code",
   "execution_count": 5,
   "id": "f3751b39c6552dec",
   "metadata": {
    "ExecuteTime": {
     "end_time": "2024-04-18T02:23:38.739115Z",
     "start_time": "2024-04-18T02:23:38.724589Z"
    }
   },
   "outputs": [
    {
     "data": {
      "text/html": [
       "<div>\n",
       "<style scoped>\n",
       "    .dataframe tbody tr th:only-of-type {\n",
       "        vertical-align: middle;\n",
       "    }\n",
       "\n",
       "    .dataframe tbody tr th {\n",
       "        vertical-align: top;\n",
       "    }\n",
       "\n",
       "    .dataframe thead th {\n",
       "        text-align: right;\n",
       "    }\n",
       "</style>\n",
       "<table border=\"1\" class=\"dataframe\">\n",
       "  <thead>\n",
       "    <tr style=\"text-align: right;\">\n",
       "      <th></th>\n",
       "      <th>BallAcceleration</th>\n",
       "      <th>Time</th>\n",
       "      <th>DistanceWall</th>\n",
       "      <th>DistanceCeil</th>\n",
       "      <th>DistanceBall</th>\n",
       "      <th>PlayerSpeed</th>\n",
       "      <th>BallSpeed</th>\n",
       "      <th>goal</th>\n",
       "      <th>Class</th>\n",
       "      <th>move</th>\n",
       "    </tr>\n",
       "  </thead>\n",
       "  <tbody>\n",
       "    <tr>\n",
       "      <th>0</th>\n",
       "      <td>0.522863</td>\n",
       "      <td>0.000000</td>\n",
       "      <td>0.012304</td>\n",
       "      <td>0.498257</td>\n",
       "      <td>0.025869</td>\n",
       "      <td>0.453272</td>\n",
       "      <td>0.300277</td>\n",
       "      <td>0</td>\n",
       "      <td>5</td>\n",
       "      <td>3</td>\n",
       "    </tr>\n",
       "    <tr>\n",
       "      <th>1</th>\n",
       "      <td>0.525408</td>\n",
       "      <td>0.010311</td>\n",
       "      <td>0.012290</td>\n",
       "      <td>0.498257</td>\n",
       "      <td>0.018490</td>\n",
       "      <td>0.540155</td>\n",
       "      <td>0.309974</td>\n",
       "      <td>0</td>\n",
       "      <td>5</td>\n",
       "      <td>22</td>\n",
       "    </tr>\n",
       "    <tr>\n",
       "      <th>2</th>\n",
       "      <td>0.520195</td>\n",
       "      <td>0.012889</td>\n",
       "      <td>0.012290</td>\n",
       "      <td>0.498257</td>\n",
       "      <td>0.019278</td>\n",
       "      <td>0.540155</td>\n",
       "      <td>0.312201</td>\n",
       "      <td>0</td>\n",
       "      <td>5</td>\n",
       "      <td>18</td>\n",
       "    </tr>\n",
       "    <tr>\n",
       "      <th>3</th>\n",
       "      <td>0.536357</td>\n",
       "      <td>0.023200</td>\n",
       "      <td>0.012311</td>\n",
       "      <td>0.498257</td>\n",
       "      <td>0.010238</td>\n",
       "      <td>0.501020</td>\n",
       "      <td>0.342262</td>\n",
       "      <td>0</td>\n",
       "      <td>5</td>\n",
       "      <td>2</td>\n",
       "    </tr>\n",
       "    <tr>\n",
       "      <th>4</th>\n",
       "      <td>0.529825</td>\n",
       "      <td>0.046400</td>\n",
       "      <td>0.012387</td>\n",
       "      <td>0.498262</td>\n",
       "      <td>0.010521</td>\n",
       "      <td>0.543821</td>\n",
       "      <td>0.360175</td>\n",
       "      <td>0</td>\n",
       "      <td>5</td>\n",
       "      <td>3</td>\n",
       "    </tr>\n",
       "  </tbody>\n",
       "</table>\n",
       "</div>"
      ],
      "text/plain": [
       "   BallAcceleration      Time  DistanceWall  DistanceCeil  DistanceBall  \\\n",
       "0          0.522863  0.000000      0.012304      0.498257      0.025869   \n",
       "1          0.525408  0.010311      0.012290      0.498257      0.018490   \n",
       "2          0.520195  0.012889      0.012290      0.498257      0.019278   \n",
       "3          0.536357  0.023200      0.012311      0.498257      0.010238   \n",
       "4          0.529825  0.046400      0.012387      0.498262      0.010521   \n",
       "\n",
       "   PlayerSpeed  BallSpeed  goal  Class move  \n",
       "0     0.453272   0.300277     0      5    3  \n",
       "1     0.540155   0.309974     0      5   22  \n",
       "2     0.540155   0.312201     0      5   18  \n",
       "3     0.501020   0.342262     0      5    2  \n",
       "4     0.543821   0.360175     0      5    3  "
      ]
     },
     "execution_count": 5,
     "metadata": {},
     "output_type": "execute_result"
    }
   ],
   "source": [
    "df.head()"
   ]
  },
  {
   "cell_type": "code",
   "execution_count": 6,
   "id": "6ed24f67cc8d660d",
   "metadata": {
    "ExecuteTime": {
     "end_time": "2024-04-18T02:23:39.740028Z",
     "start_time": "2024-04-18T02:23:39.733458Z"
    }
   },
   "outputs": [
    {
     "data": {
      "text/plain": [
       "dtype('int64')"
      ]
     },
     "execution_count": 6,
     "metadata": {},
     "output_type": "execute_result"
    }
   ],
   "source": [
    "df['move'] = df[\"move\"].astype(\"int\")\n",
    "df['move'].dtypes"
   ]
  },
  {
   "cell_type": "markdown",
   "id": "710d6038749e1534",
   "metadata": {},
   "source": [
    "## Removing Non-Goals"
   ]
  },
  {
   "cell_type": "code",
   "execution_count": 7,
   "id": "44bd1a08381c06fa",
   "metadata": {},
   "outputs": [
    {
     "data": {
      "text/html": [
       "<div>\n",
       "<style scoped>\n",
       "    .dataframe tbody tr th:only-of-type {\n",
       "        vertical-align: middle;\n",
       "    }\n",
       "\n",
       "    .dataframe tbody tr th {\n",
       "        vertical-align: top;\n",
       "    }\n",
       "\n",
       "    .dataframe thead th {\n",
       "        text-align: right;\n",
       "    }\n",
       "</style>\n",
       "<table border=\"1\" class=\"dataframe\">\n",
       "  <thead>\n",
       "    <tr style=\"text-align: right;\">\n",
       "      <th></th>\n",
       "      <th>BallAcceleration</th>\n",
       "      <th>Time</th>\n",
       "      <th>DistanceWall</th>\n",
       "      <th>DistanceCeil</th>\n",
       "      <th>DistanceBall</th>\n",
       "      <th>PlayerSpeed</th>\n",
       "      <th>BallSpeed</th>\n",
       "      <th>goal</th>\n",
       "      <th>Class</th>\n",
       "      <th>move</th>\n",
       "    </tr>\n",
       "  </thead>\n",
       "  <tbody>\n",
       "    <tr>\n",
       "      <th>20</th>\n",
       "      <td>0.520195</td>\n",
       "      <td>0.203651</td>\n",
       "      <td>0.013472</td>\n",
       "      <td>0.498299</td>\n",
       "      <td>0.010406</td>\n",
       "      <td>0.750275</td>\n",
       "      <td>0.492016</td>\n",
       "      <td>1</td>\n",
       "      <td>5</td>\n",
       "      <td>1</td>\n",
       "    </tr>\n",
       "    <tr>\n",
       "      <th>21</th>\n",
       "      <td>0.519537</td>\n",
       "      <td>0.208807</td>\n",
       "      <td>0.013510</td>\n",
       "      <td>0.498287</td>\n",
       "      <td>0.009438</td>\n",
       "      <td>0.727229</td>\n",
       "      <td>0.490791</td>\n",
       "      <td>1</td>\n",
       "      <td>5</td>\n",
       "      <td>0</td>\n",
       "    </tr>\n",
       "    <tr>\n",
       "      <th>44</th>\n",
       "      <td>0.520195</td>\n",
       "      <td>0.131499</td>\n",
       "      <td>0.001859</td>\n",
       "      <td>0.018411</td>\n",
       "      <td>0.119652</td>\n",
       "      <td>0.613734</td>\n",
       "      <td>0.321966</td>\n",
       "      <td>1</td>\n",
       "      <td>0</td>\n",
       "      <td>22</td>\n",
       "    </tr>\n",
       "    <tr>\n",
       "      <th>49</th>\n",
       "      <td>0.521101</td>\n",
       "      <td>0.180489</td>\n",
       "      <td>0.004550</td>\n",
       "      <td>0.109651</td>\n",
       "      <td>0.074178</td>\n",
       "      <td>0.840177</td>\n",
       "      <td>0.331451</td>\n",
       "      <td>1</td>\n",
       "      <td>0</td>\n",
       "      <td>21</td>\n",
       "    </tr>\n",
       "    <tr>\n",
       "      <th>58</th>\n",
       "      <td>0.527317</td>\n",
       "      <td>0.273304</td>\n",
       "      <td>0.009553</td>\n",
       "      <td>0.489997</td>\n",
       "      <td>0.055364</td>\n",
       "      <td>0.458214</td>\n",
       "      <td>0.459393</td>\n",
       "      <td>1</td>\n",
       "      <td>0</td>\n",
       "      <td>4</td>\n",
       "    </tr>\n",
       "  </tbody>\n",
       "</table>\n",
       "</div>"
      ],
      "text/plain": [
       "    BallAcceleration      Time  DistanceWall  DistanceCeil  DistanceBall  \\\n",
       "20          0.520195  0.203651      0.013472      0.498299      0.010406   \n",
       "21          0.519537  0.208807      0.013510      0.498287      0.009438   \n",
       "44          0.520195  0.131499      0.001859      0.018411      0.119652   \n",
       "49          0.521101  0.180489      0.004550      0.109651      0.074178   \n",
       "58          0.527317  0.273304      0.009553      0.489997      0.055364   \n",
       "\n",
       "    PlayerSpeed  BallSpeed  goal  Class  move  \n",
       "20     0.750275   0.492016     1      5     1  \n",
       "21     0.727229   0.490791     1      5     0  \n",
       "44     0.613734   0.321966     1      0    22  \n",
       "49     0.840177   0.331451     1      0    21  \n",
       "58     0.458214   0.459393     1      0     4  "
      ]
     },
     "execution_count": 7,
     "metadata": {},
     "output_type": "execute_result"
    }
   ],
   "source": [
    "df = df.drop(df[df['goal'] == 0].index)\n",
    "df.head()"
   ]
  },
  {
   "cell_type": "code",
   "execution_count": 8,
   "id": "508553fbce57f733",
   "metadata": {},
   "outputs": [],
   "source": [
    "df = df.drop(['goal'], axis = 1)"
   ]
  },
  {
   "cell_type": "code",
   "execution_count": 9,
   "id": "b3ec6763b8a71cef",
   "metadata": {},
   "outputs": [
    {
     "data": {
      "text/html": [
       "<div>\n",
       "<style scoped>\n",
       "    .dataframe tbody tr th:only-of-type {\n",
       "        vertical-align: middle;\n",
       "    }\n",
       "\n",
       "    .dataframe tbody tr th {\n",
       "        vertical-align: top;\n",
       "    }\n",
       "\n",
       "    .dataframe thead th {\n",
       "        text-align: right;\n",
       "    }\n",
       "</style>\n",
       "<table border=\"1\" class=\"dataframe\">\n",
       "  <thead>\n",
       "    <tr style=\"text-align: right;\">\n",
       "      <th></th>\n",
       "      <th>BallAcceleration</th>\n",
       "      <th>Time</th>\n",
       "      <th>DistanceWall</th>\n",
       "      <th>DistanceCeil</th>\n",
       "      <th>DistanceBall</th>\n",
       "      <th>PlayerSpeed</th>\n",
       "      <th>BallSpeed</th>\n",
       "      <th>Class</th>\n",
       "      <th>move</th>\n",
       "    </tr>\n",
       "  </thead>\n",
       "  <tbody>\n",
       "    <tr>\n",
       "      <th>20</th>\n",
       "      <td>0.520195</td>\n",
       "      <td>0.203651</td>\n",
       "      <td>0.013472</td>\n",
       "      <td>0.498299</td>\n",
       "      <td>0.010406</td>\n",
       "      <td>0.750275</td>\n",
       "      <td>0.492016</td>\n",
       "      <td>5</td>\n",
       "      <td>1</td>\n",
       "    </tr>\n",
       "    <tr>\n",
       "      <th>21</th>\n",
       "      <td>0.519537</td>\n",
       "      <td>0.208807</td>\n",
       "      <td>0.013510</td>\n",
       "      <td>0.498287</td>\n",
       "      <td>0.009438</td>\n",
       "      <td>0.727229</td>\n",
       "      <td>0.490791</td>\n",
       "      <td>5</td>\n",
       "      <td>0</td>\n",
       "    </tr>\n",
       "    <tr>\n",
       "      <th>44</th>\n",
       "      <td>0.520195</td>\n",
       "      <td>0.131499</td>\n",
       "      <td>0.001859</td>\n",
       "      <td>0.018411</td>\n",
       "      <td>0.119652</td>\n",
       "      <td>0.613734</td>\n",
       "      <td>0.321966</td>\n",
       "      <td>0</td>\n",
       "      <td>22</td>\n",
       "    </tr>\n",
       "    <tr>\n",
       "      <th>49</th>\n",
       "      <td>0.521101</td>\n",
       "      <td>0.180489</td>\n",
       "      <td>0.004550</td>\n",
       "      <td>0.109651</td>\n",
       "      <td>0.074178</td>\n",
       "      <td>0.840177</td>\n",
       "      <td>0.331451</td>\n",
       "      <td>0</td>\n",
       "      <td>21</td>\n",
       "    </tr>\n",
       "    <tr>\n",
       "      <th>58</th>\n",
       "      <td>0.527317</td>\n",
       "      <td>0.273304</td>\n",
       "      <td>0.009553</td>\n",
       "      <td>0.489997</td>\n",
       "      <td>0.055364</td>\n",
       "      <td>0.458214</td>\n",
       "      <td>0.459393</td>\n",
       "      <td>0</td>\n",
       "      <td>4</td>\n",
       "    </tr>\n",
       "  </tbody>\n",
       "</table>\n",
       "</div>"
      ],
      "text/plain": [
       "    BallAcceleration      Time  DistanceWall  DistanceCeil  DistanceBall  \\\n",
       "20          0.520195  0.203651      0.013472      0.498299      0.010406   \n",
       "21          0.519537  0.208807      0.013510      0.498287      0.009438   \n",
       "44          0.520195  0.131499      0.001859      0.018411      0.119652   \n",
       "49          0.521101  0.180489      0.004550      0.109651      0.074178   \n",
       "58          0.527317  0.273304      0.009553      0.489997      0.055364   \n",
       "\n",
       "    PlayerSpeed  BallSpeed  Class  move  \n",
       "20     0.750275   0.492016      5     1  \n",
       "21     0.727229   0.490791      5     0  \n",
       "44     0.613734   0.321966      0    22  \n",
       "49     0.840177   0.331451      0    21  \n",
       "58     0.458214   0.459393      0     4  "
      ]
     },
     "execution_count": 9,
     "metadata": {},
     "output_type": "execute_result"
    }
   ],
   "source": [
    "df.head()"
   ]
  },
  {
   "cell_type": "code",
   "execution_count": 10,
   "id": "5e4a27b59f2390fb",
   "metadata": {
    "ExecuteTime": {
     "end_time": "2024-04-18T02:23:42.341863Z",
     "start_time": "2024-04-18T02:23:42.038939Z"
    }
   },
   "outputs": [
    {
     "data": {
      "image/png": "[encoded data removed]",
      "text/plain": [
       "<Figure size 720x432 with 1 Axes>"
      ]
     },
     "metadata": {},
     "output_type": "display_data"
    }
   ],
   "source": [
    "# Plotting the histogram of the frequency of each class including -1\n",
    "plt.figure(figsize=(10, 6))\n",
    "df['Class'].value_counts().sort_index().plot(kind='bar', color='skyblue')\n",
    "plt.title('Frequency of Each Class')\n",
    "plt.xlabel('Class')\n",
    "plt.ylabel('Frequency')\n",
    "plt.xticks(rotation=0)  # Keep the class labels horizontal for better readability\n",
    "plt.grid(axis='y', linestyle='--', alpha=0.7)\n",
    "plt.show()\n"
   ]
  },
  {
   "cell_type": "code",
   "execution_count": 11,
   "id": "e90ce3a5d5215aea",
   "metadata": {
    "ExecuteTime": {
     "end_time": "2024-04-18T02:23:43.878733Z",
     "start_time": "2024-04-18T02:23:43.874998Z"
    }
   },
   "outputs": [],
   "source": [
    "df_no_target = df.drop(columns=['Class'])"
   ]
  },
  {
   "cell_type": "markdown",
   "id": "ae966c3ff3bac3fb",
   "metadata": {},
   "source": [
    "# Classification with outliers"
   ]
  },
  {
   "cell_type": "code",
   "execution_count": 12,
   "id": "82138a99703281b1",
   "metadata": {
    "ExecuteTime": {
     "end_time": "2024-04-18T02:23:45.257483Z",
     "start_time": "2024-04-18T02:23:45.242640Z"
    }
   },
   "outputs": [
    {
     "data": {
      "text/html": [
       "<div>\n",
       "<style scoped>\n",
       "    .dataframe tbody tr th:only-of-type {\n",
       "        vertical-align: middle;\n",
       "    }\n",
       "\n",
       "    .dataframe tbody tr th {\n",
       "        vertical-align: top;\n",
       "    }\n",
       "\n",
       "    .dataframe thead th {\n",
       "        text-align: right;\n",
       "    }\n",
       "</style>\n",
       "<table border=\"1\" class=\"dataframe\">\n",
       "  <thead>\n",
       "    <tr style=\"text-align: right;\">\n",
       "      <th></th>\n",
       "      <th>BallAcceleration</th>\n",
       "      <th>Time</th>\n",
       "      <th>DistanceWall</th>\n",
       "      <th>DistanceCeil</th>\n",
       "      <th>DistanceBall</th>\n",
       "      <th>PlayerSpeed</th>\n",
       "      <th>BallSpeed</th>\n",
       "      <th>move</th>\n",
       "    </tr>\n",
       "  </thead>\n",
       "  <tbody>\n",
       "    <tr>\n",
       "      <th>20</th>\n",
       "      <td>0.520195</td>\n",
       "      <td>0.203651</td>\n",
       "      <td>0.013472</td>\n",
       "      <td>0.498299</td>\n",
       "      <td>0.010406</td>\n",
       "      <td>0.750275</td>\n",
       "      <td>0.492016</td>\n",
       "      <td>1</td>\n",
       "    </tr>\n",
       "    <tr>\n",
       "      <th>21</th>\n",
       "      <td>0.519537</td>\n",
       "      <td>0.208807</td>\n",
       "      <td>0.013510</td>\n",
       "      <td>0.498287</td>\n",
       "      <td>0.009438</td>\n",
       "      <td>0.727229</td>\n",
       "      <td>0.490791</td>\n",
       "      <td>0</td>\n",
       "    </tr>\n",
       "    <tr>\n",
       "      <th>44</th>\n",
       "      <td>0.520195</td>\n",
       "      <td>0.131499</td>\n",
       "      <td>0.001859</td>\n",
       "      <td>0.018411</td>\n",
       "      <td>0.119652</td>\n",
       "      <td>0.613734</td>\n",
       "      <td>0.321966</td>\n",
       "      <td>22</td>\n",
       "    </tr>\n",
       "    <tr>\n",
       "      <th>49</th>\n",
       "      <td>0.521101</td>\n",
       "      <td>0.180489</td>\n",
       "      <td>0.004550</td>\n",
       "      <td>0.109651</td>\n",
       "      <td>0.074178</td>\n",
       "      <td>0.840177</td>\n",
       "      <td>0.331451</td>\n",
       "      <td>21</td>\n",
       "    </tr>\n",
       "    <tr>\n",
       "      <th>58</th>\n",
       "      <td>0.527317</td>\n",
       "      <td>0.273304</td>\n",
       "      <td>0.009553</td>\n",
       "      <td>0.489997</td>\n",
       "      <td>0.055364</td>\n",
       "      <td>0.458214</td>\n",
       "      <td>0.459393</td>\n",
       "      <td>4</td>\n",
       "    </tr>\n",
       "  </tbody>\n",
       "</table>\n",
       "</div>"
      ],
      "text/plain": [
       "    BallAcceleration      Time  DistanceWall  DistanceCeil  DistanceBall  \\\n",
       "20          0.520195  0.203651      0.013472      0.498299      0.010406   \n",
       "21          0.519537  0.208807      0.013510      0.498287      0.009438   \n",
       "44          0.520195  0.131499      0.001859      0.018411      0.119652   \n",
       "49          0.521101  0.180489      0.004550      0.109651      0.074178   \n",
       "58          0.527317  0.273304      0.009553      0.489997      0.055364   \n",
       "\n",
       "    PlayerSpeed  BallSpeed  move  \n",
       "20     0.750275   0.492016     1  \n",
       "21     0.727229   0.490791     0  \n",
       "44     0.613734   0.321966    22  \n",
       "49     0.840177   0.331451    21  \n",
       "58     0.458214   0.459393     4  "
      ]
     },
     "execution_count": 12,
     "metadata": {},
     "output_type": "execute_result"
    }
   ],
   "source": [
    "df_target = df[['Class']]\n",
    "df_no_target.head()"
   ]
  },
  {
   "cell_type": "code",
   "execution_count": 13,
   "id": "36d9a6ba46a8e992",
   "metadata": {
    "ExecuteTime": {
     "end_time": "2024-04-18T02:23:46.738263Z",
     "start_time": "2024-04-18T02:23:46.735614Z"
    }
   },
   "outputs": [],
   "source": [
    "# train test split data 80%-20%\n",
    "\n",
    "X = df_no_target\n",
    "y = df['Class']"
   ]
  },
  {
   "cell_type": "code",
   "execution_count": 14,
   "id": "f1aa30971feb2abe",
   "metadata": {
    "ExecuteTime": {
     "end_time": "2024-04-18T02:23:48.063866Z",
     "start_time": "2024-04-18T02:23:48.057750Z"
    }
   },
   "outputs": [],
   "source": [
    "X_train, X_test, y_train, y_test = train_test_split(X, y, test_size=0.2, random_state=0)"
   ]
  },
  {
   "cell_type": "markdown",
   "id": "583aeab80fdec2b5",
   "metadata": {},
   "source": [
    "## Decision Tree Classifier"
   ]
  },
  {
   "cell_type": "markdown",
   "id": "d78c077513891083",
   "metadata": {},
   "source": [
    "### Testing parameters for DTC"
   ]
  },
  {
   "cell_type": "code",
   "execution_count": 15,
   "id": "12176c86494f5cbd",
   "metadata": {
    "ExecuteTime": {
     "end_time": "2024-04-18T02:23:57.889239Z",
     "start_time": "2024-04-18T02:23:49.919020Z"
    }
   },
   "outputs": [
    {
     "name": "stdout",
     "output_type": "stream",
     "text": [
      "Fitting 3 folds for each of 432 candidates, totalling 1296 fits\n"
     ]
    },
    {
     "data": {
      "text/plain": [
       "GridSearchCV(cv=3, error_score='raise', estimator=DecisionTreeClassifier(),\n",
       "             n_jobs=-1,\n",
       "             param_grid={'criterion': ['gini', 'entropy'],\n",
       "                         'max_depth': [1, 10, 100, 300, 500, 1000],\n",
       "                         'min_samples_leaf': [1, 10, 100, 300, 500, 1000],\n",
       "                         'min_samples_split': [1.0, 10, 100, 300, 500, 1000]},\n",
       "             verbose=3)"
      ]
     },
     "execution_count": 15,
     "metadata": {},
     "output_type": "execute_result"
    }
   ],
   "source": [
    "param_grid = {\n",
    "    'criterion': ['gini', 'entropy'],\n",
    "    'max_depth': [1, 10, 100, 300, 500, 1000],\n",
    "    'min_samples_split': [1.0, 10, 100, 300, 500, 1000],\n",
    "    'min_samples_leaf': [1, 10, 100, 300, 500, 1000]\n",
    "}\n",
    "\n",
    "grid = GridSearchCV(DecisionTreeClassifier(), param_grid, refit = True, verbose = 3, cv=3, n_jobs = -1, error_score='raise')\n",
    "\n",
    "# fitting the model for grid search \n",
    "grid.fit(X_train, y_train)"
   ]
  },
  {
   "cell_type": "code",
   "execution_count": 16,
   "id": "f12ae7d006af73fb",
   "metadata": {
    "ExecuteTime": {
     "end_time": "2024-04-18T02:24:14.682623Z",
     "start_time": "2024-04-18T02:24:14.656048Z"
    }
   },
   "outputs": [
    {
     "data": {
      "text/html": [
       "<div>\n",
       "<style scoped>\n",
       "    .dataframe tbody tr th:only-of-type {\n",
       "        vertical-align: middle;\n",
       "    }\n",
       "\n",
       "    .dataframe tbody tr th {\n",
       "        vertical-align: top;\n",
       "    }\n",
       "\n",
       "    .dataframe thead th {\n",
       "        text-align: right;\n",
       "    }\n",
       "</style>\n",
       "<table border=\"1\" class=\"dataframe\">\n",
       "  <thead>\n",
       "    <tr style=\"text-align: right;\">\n",
       "      <th></th>\n",
       "      <th>mean_fit_time</th>\n",
       "      <th>std_fit_time</th>\n",
       "      <th>mean_score_time</th>\n",
       "      <th>std_score_time</th>\n",
       "      <th>param_criterion</th>\n",
       "      <th>param_max_depth</th>\n",
       "      <th>param_min_samples_leaf</th>\n",
       "      <th>param_min_samples_split</th>\n",
       "      <th>params</th>\n",
       "      <th>split0_test_score</th>\n",
       "      <th>split1_test_score</th>\n",
       "      <th>split2_test_score</th>\n",
       "      <th>mean_test_score</th>\n",
       "      <th>std_test_score</th>\n",
       "      <th>rank_test_score</th>\n",
       "    </tr>\n",
       "  </thead>\n",
       "  <tbody>\n",
       "    <tr>\n",
       "      <th>4</th>\n",
       "      <td>0.005311</td>\n",
       "      <td>0.000053</td>\n",
       "      <td>0.003044</td>\n",
       "      <td>0.000046</td>\n",
       "      <td>gini</td>\n",
       "      <td>1</td>\n",
       "      <td>1</td>\n",
       "      <td>500</td>\n",
       "      <td>{'criterion': 'gini', 'max_depth': 1, 'min_sam...</td>\n",
       "      <td>0.471366</td>\n",
       "      <td>0.473451</td>\n",
       "      <td>0.473451</td>\n",
       "      <td>0.472756</td>\n",
       "      <td>0.000983</td>\n",
       "      <td>145</td>\n",
       "    </tr>\n",
       "    <tr>\n",
       "      <th>5</th>\n",
       "      <td>0.004293</td>\n",
       "      <td>0.000456</td>\n",
       "      <td>0.002832</td>\n",
       "      <td>0.000073</td>\n",
       "      <td>gini</td>\n",
       "      <td>1</td>\n",
       "      <td>1</td>\n",
       "      <td>1000</td>\n",
       "      <td>{'criterion': 'gini', 'max_depth': 1, 'min_sam...</td>\n",
       "      <td>0.471366</td>\n",
       "      <td>0.473451</td>\n",
       "      <td>0.473451</td>\n",
       "      <td>0.472756</td>\n",
       "      <td>0.000983</td>\n",
       "      <td>145</td>\n",
       "    </tr>\n",
       "    <tr>\n",
       "      <th>10</th>\n",
       "      <td>0.003935</td>\n",
       "      <td>0.000178</td>\n",
       "      <td>0.002752</td>\n",
       "      <td>0.000028</td>\n",
       "      <td>gini</td>\n",
       "      <td>1</td>\n",
       "      <td>10</td>\n",
       "      <td>500</td>\n",
       "      <td>{'criterion': 'gini', 'max_depth': 1, 'min_sam...</td>\n",
       "      <td>0.471366</td>\n",
       "      <td>0.473451</td>\n",
       "      <td>0.473451</td>\n",
       "      <td>0.472756</td>\n",
       "      <td>0.000983</td>\n",
       "      <td>145</td>\n",
       "    </tr>\n",
       "    <tr>\n",
       "      <th>11</th>\n",
       "      <td>0.003838</td>\n",
       "      <td>0.000011</td>\n",
       "      <td>0.002750</td>\n",
       "      <td>0.000008</td>\n",
       "      <td>gini</td>\n",
       "      <td>1</td>\n",
       "      <td>10</td>\n",
       "      <td>1000</td>\n",
       "      <td>{'criterion': 'gini', 'max_depth': 1, 'min_sam...</td>\n",
       "      <td>0.471366</td>\n",
       "      <td>0.473451</td>\n",
       "      <td>0.473451</td>\n",
       "      <td>0.472756</td>\n",
       "      <td>0.000983</td>\n",
       "      <td>145</td>\n",
       "    </tr>\n",
       "    <tr>\n",
       "      <th>16</th>\n",
       "      <td>0.003753</td>\n",
       "      <td>0.000020</td>\n",
       "      <td>0.002689</td>\n",
       "      <td>0.000009</td>\n",
       "      <td>gini</td>\n",
       "      <td>1</td>\n",
       "      <td>100</td>\n",
       "      <td>500</td>\n",
       "      <td>{'criterion': 'gini', 'max_depth': 1, 'min_sam...</td>\n",
       "      <td>0.471366</td>\n",
       "      <td>0.473451</td>\n",
       "      <td>0.473451</td>\n",
       "      <td>0.472756</td>\n",
       "      <td>0.000983</td>\n",
       "      <td>145</td>\n",
       "    </tr>\n",
       "  </tbody>\n",
       "</table>\n",
       "</div>"
      ],
      "text/plain": [
       "    mean_fit_time  std_fit_time  mean_score_time  std_score_time  \\\n",
       "4        0.005311      0.000053         0.003044        0.000046   \n",
       "5        0.004293      0.000456         0.002832        0.000073   \n",
       "10       0.003935      0.000178         0.002752        0.000028   \n",
       "11       0.003838      0.000011         0.002750        0.000008   \n",
       "16       0.003753      0.000020         0.002689        0.000009   \n",
       "\n",
       "   param_criterion param_max_depth param_min_samples_leaf  \\\n",
       "4             gini               1                      1   \n",
       "5             gini               1                      1   \n",
       "10            gini               1                     10   \n",
       "11            gini               1                     10   \n",
       "16            gini               1                    100   \n",
       "\n",
       "   param_min_samples_split                                             params  \\\n",
       "4                      500  {'criterion': 'gini', 'max_depth': 1, 'min_sam...   \n",
       "5                     1000  {'criterion': 'gini', 'max_depth': 1, 'min_sam...   \n",
       "10                     500  {'criterion': 'gini', 'max_depth': 1, 'min_sam...   \n",
       "11                    1000  {'criterion': 'gini', 'max_depth': 1, 'min_sam...   \n",
       "16                     500  {'criterion': 'gini', 'max_depth': 1, 'min_sam...   \n",
       "\n",
       "    split0_test_score  split1_test_score  split2_test_score  mean_test_score  \\\n",
       "4            0.471366           0.473451           0.473451         0.472756   \n",
       "5            0.471366           0.473451           0.473451         0.472756   \n",
       "10           0.471366           0.473451           0.473451         0.472756   \n",
       "11           0.471366           0.473451           0.473451         0.472756   \n",
       "16           0.471366           0.473451           0.473451         0.472756   \n",
       "\n",
       "    std_test_score  rank_test_score  \n",
       "4         0.000983              145  \n",
       "5         0.000983              145  \n",
       "10        0.000983              145  \n",
       "11        0.000983              145  \n",
       "16        0.000983              145  "
      ]
     },
     "execution_count": 16,
     "metadata": {},
     "output_type": "execute_result"
    }
   ],
   "source": [
    "df_grid_dt = pd.DataFrame(grid.cv_results_)\n",
    "df_grid_dt.nlargest(5, ['rank_test_score'])"
   ]
  },
  {
   "cell_type": "code",
   "execution_count": 17,
   "id": "7ca1a360858bed0a",
   "metadata": {
    "ExecuteTime": {
     "end_time": "2024-04-18T02:24:16.074308Z",
     "start_time": "2024-04-18T02:24:16.070842Z"
    }
   },
   "outputs": [
    {
     "name": "stdout",
     "output_type": "stream",
     "text": [
      "{'criterion': 'entropy', 'max_depth': 500, 'min_samples_leaf': 1, 'min_samples_split': 10}\n",
      "DecisionTreeClassifier(criterion='entropy', max_depth=500, min_samples_split=10)\n"
     ]
    }
   ],
   "source": [
    "print(grid.best_params_)\n",
    "print(grid.best_estimator_)"
   ]
  },
  {
   "cell_type": "code",
   "execution_count": 18,
   "id": "24138ff5fe6332ac",
   "metadata": {
    "ExecuteTime": {
     "end_time": "2024-04-18T02:24:20.669827Z",
     "start_time": "2024-04-18T02:24:20.651929Z"
    }
   },
   "outputs": [
    {
     "name": "stdout",
     "output_type": "stream",
     "text": [
      "              precision    recall  f1-score   support\n",
      "\n",
      "           0       0.26      0.28      0.27        18\n",
      "           1       0.67      0.76      0.71        21\n",
      "           2       0.75      0.86      0.80        14\n",
      "           3       0.90      0.82      0.86        11\n",
      "           4       0.87      0.83      0.85        78\n",
      "           5       0.88      0.70      0.78        10\n",
      "           6       0.67      0.67      0.67        18\n",
      "\n",
      "    accuracy                           0.74       170\n",
      "   macro avg       0.71      0.70      0.70       170\n",
      "weighted avg       0.75      0.74      0.74       170\n",
      "\n"
     ]
    }
   ],
   "source": [
    "grid_predictions = grid.predict(X_test)\n",
    "print(classification_report(y_test, grid_predictions))"
   ]
  },
  {
   "cell_type": "code",
   "execution_count": 19,
   "id": "9484a040dfbbc1cf",
   "metadata": {
    "ExecuteTime": {
     "end_time": "2024-04-18T02:24:24.655037Z",
     "start_time": "2024-04-18T02:24:24.649731Z"
    }
   },
   "outputs": [],
   "source": [
    "cm = confusion_matrix(y_test, grid_predictions)"
   ]
  },
  {
   "cell_type": "code",
   "execution_count": 20,
   "id": "2e4b67b45574cbb1",
   "metadata": {
    "ExecuteTime": {
     "end_time": "2024-04-18T02:24:25.523837Z",
     "start_time": "2024-04-18T02:24:25.520677Z"
    }
   },
   "outputs": [],
   "source": [
    "cm_graph = metrics.ConfusionMatrixDisplay(confusion_matrix = cm)"
   ]
  },
  {
   "cell_type": "code",
   "execution_count": 21,
   "id": "e12c8a71948578f3",
   "metadata": {
    "ExecuteTime": {
     "end_time": "2024-04-18T02:24:27.346539Z",
     "start_time": "2024-04-18T02:24:26.413374Z"
    }
   },
   "outputs": [
    {
     "data": {
      "image/png": "[encoded data removed]",
      "text/plain": [
       "<Figure size 432x288 with 2 Axes>"
      ]
     },
     "metadata": {},
     "output_type": "display_data"
    }
   ],
   "source": [
    "cm_graph.plot()\n",
    "plt.show()"
   ]
  },
  {
   "cell_type": "markdown",
   "id": "a673e896c67504f5",
   "metadata": {},
   "source": [
    "## Random Forest Classifier"
   ]
  },
  {
   "cell_type": "markdown",
   "id": "9cf4ed3a4f730c9d",
   "metadata": {},
   "source": [
    "### Testing parameters"
   ]
  },
  {
   "cell_type": "code",
   "execution_count": 22,
   "id": "595ef3644d9685f5",
   "metadata": {
    "ExecuteTime": {
     "end_time": "2024-04-18T02:24:35.233141Z",
     "start_time": "2024-04-18T02:24:35.229036Z"
    }
   },
   "outputs": [],
   "source": [
    "### Testing parameters for RFC\n",
    "param_grid = {\n",
    "    'criterion': ['gini', 'entropy'],\n",
    "    'max_depth': [1, 10, 100, 1000],\n",
    "    'min_samples_split': [1.0, 10, 100, 1000],\n",
    "    'min_samples_leaf': [1, 10, 100, 1000]\n",
    "}"
   ]
  },
  {
   "cell_type": "code",
   "execution_count": 23,
   "id": "e02287820bb7301e",
   "metadata": {
    "ExecuteTime": {
     "end_time": "2024-04-18T02:24:55.237695Z",
     "start_time": "2024-04-18T02:24:36.391611Z"
    }
   },
   "outputs": [
    {
     "name": "stdout",
     "output_type": "stream",
     "text": [
      "n_iterations: 3\n",
      "n_required_iterations: 5\n",
      "n_possible_iterations: 3\n",
      "min_resources_: 42\n",
      "max_resources_: 679\n",
      "aggressive_elimination: False\n",
      "factor: 3\n",
      "----------\n",
      "iter: 0\n",
      "n_candidates: 128\n",
      "n_resources: 42\n",
      "Fitting 3 folds for each of 128 candidates, totalling 384 fits\n",
      "----------\n",
      "iter: 1\n",
      "n_candidates: 43\n",
      "n_resources: 126\n",
      "Fitting 3 folds for each of 43 candidates, totalling 129 fits\n",
      "----------\n",
      "iter: 2\n",
      "n_candidates: 15\n",
      "n_resources: 378\n",
      "Fitting 3 folds for each of 15 candidates, totalling 45 fits\n",
      "CPU times: user 2.7 s, sys: 75 ms, total: 2.77 s\n",
      "Wall time: 8.67 s\n"
     ]
    },
    {
     "data": {
      "text/plain": [
       "HalvingGridSearchCV(cv=3, error_score='raise',\n",
       "                    estimator=RandomForestClassifier(), n_jobs=-1,\n",
       "                    param_grid={'criterion': ['gini', 'entropy'],\n",
       "                                'max_depth': [1, 10, 100, 1000],\n",
       "                                'min_samples_leaf': [1, 10, 100, 1000],\n",
       "                                'min_samples_split': [1.0, 10, 100, 1000]},\n",
       "                    refit=<function _refit_callable at 0x2b6837b26bf8>,\n",
       "                    scoring='accuracy', verbose=3)"
      ]
     },
     "execution_count": 23,
     "metadata": {},
     "output_type": "execute_result"
    }
   ],
   "source": [
    "grid = HalvingGridSearchCV(RandomForestClassifier(), param_grid, refit=True, verbose=3, cv=3, n_jobs=-1, scoring='accuracy', error_score='raise')\n",
    "%time grid.fit(X_train, y_train)"
   ]
  },
  {
   "cell_type": "code",
   "execution_count": 24,
   "id": "966a502d3358f19d",
   "metadata": {
    "ExecuteTime": {
     "end_time": "2024-04-18T02:25:19.581454Z",
     "start_time": "2024-04-18T02:25:19.555611Z"
    }
   },
   "outputs": [
    {
     "data": {
      "text/html": [
       "<div>\n",
       "<style scoped>\n",
       "    .dataframe tbody tr th:only-of-type {\n",
       "        vertical-align: middle;\n",
       "    }\n",
       "\n",
       "    .dataframe tbody tr th {\n",
       "        vertical-align: top;\n",
       "    }\n",
       "\n",
       "    .dataframe thead th {\n",
       "        text-align: right;\n",
       "    }\n",
       "</style>\n",
       "<table border=\"1\" class=\"dataframe\">\n",
       "  <thead>\n",
       "    <tr style=\"text-align: right;\">\n",
       "      <th></th>\n",
       "      <th>iter</th>\n",
       "      <th>n_resources</th>\n",
       "      <th>mean_fit_time</th>\n",
       "      <th>std_fit_time</th>\n",
       "      <th>mean_score_time</th>\n",
       "      <th>std_score_time</th>\n",
       "      <th>param_criterion</th>\n",
       "      <th>param_max_depth</th>\n",
       "      <th>param_min_samples_leaf</th>\n",
       "      <th>param_min_samples_split</th>\n",
       "      <th>...</th>\n",
       "      <th>split1_test_score</th>\n",
       "      <th>split2_test_score</th>\n",
       "      <th>mean_test_score</th>\n",
       "      <th>std_test_score</th>\n",
       "      <th>rank_test_score</th>\n",
       "      <th>split0_train_score</th>\n",
       "      <th>split1_train_score</th>\n",
       "      <th>split2_train_score</th>\n",
       "      <th>mean_train_score</th>\n",
       "      <th>std_train_score</th>\n",
       "    </tr>\n",
       "  </thead>\n",
       "  <tbody>\n",
       "    <tr>\n",
       "      <th>0</th>\n",
       "      <td>0</td>\n",
       "      <td>42</td>\n",
       "      <td>0.169159</td>\n",
       "      <td>0.001479</td>\n",
       "      <td>0.019037</td>\n",
       "      <td>0.000253</td>\n",
       "      <td>gini</td>\n",
       "      <td>1</td>\n",
       "      <td>1</td>\n",
       "      <td>1</td>\n",
       "      <td>...</td>\n",
       "      <td>0.461538</td>\n",
       "      <td>0.461538</td>\n",
       "      <td>0.379121</td>\n",
       "      <td>0.116556</td>\n",
       "      <td>66</td>\n",
       "      <td>0.703704</td>\n",
       "      <td>0.357143</td>\n",
       "      <td>0.607143</td>\n",
       "      <td>0.555996</td>\n",
       "      <td>0.146032</td>\n",
       "    </tr>\n",
       "    <tr>\n",
       "      <th>2</th>\n",
       "      <td>0</td>\n",
       "      <td>42</td>\n",
       "      <td>0.193464</td>\n",
       "      <td>0.031656</td>\n",
       "      <td>0.019094</td>\n",
       "      <td>0.000259</td>\n",
       "      <td>gini</td>\n",
       "      <td>1</td>\n",
       "      <td>1</td>\n",
       "      <td>100</td>\n",
       "      <td>...</td>\n",
       "      <td>0.461538</td>\n",
       "      <td>0.461538</td>\n",
       "      <td>0.379121</td>\n",
       "      <td>0.116556</td>\n",
       "      <td>66</td>\n",
       "      <td>0.703704</td>\n",
       "      <td>0.357143</td>\n",
       "      <td>0.607143</td>\n",
       "      <td>0.555996</td>\n",
       "      <td>0.146032</td>\n",
       "    </tr>\n",
       "    <tr>\n",
       "      <th>3</th>\n",
       "      <td>0</td>\n",
       "      <td>42</td>\n",
       "      <td>0.184680</td>\n",
       "      <td>0.015994</td>\n",
       "      <td>0.019204</td>\n",
       "      <td>0.000263</td>\n",
       "      <td>gini</td>\n",
       "      <td>1</td>\n",
       "      <td>1</td>\n",
       "      <td>1000</td>\n",
       "      <td>...</td>\n",
       "      <td>0.461538</td>\n",
       "      <td>0.461538</td>\n",
       "      <td>0.379121</td>\n",
       "      <td>0.116556</td>\n",
       "      <td>66</td>\n",
       "      <td>0.703704</td>\n",
       "      <td>0.357143</td>\n",
       "      <td>0.607143</td>\n",
       "      <td>0.555996</td>\n",
       "      <td>0.146032</td>\n",
       "    </tr>\n",
       "    <tr>\n",
       "      <th>4</th>\n",
       "      <td>0</td>\n",
       "      <td>42</td>\n",
       "      <td>0.170624</td>\n",
       "      <td>0.001910</td>\n",
       "      <td>0.018965</td>\n",
       "      <td>0.000254</td>\n",
       "      <td>gini</td>\n",
       "      <td>1</td>\n",
       "      <td>10</td>\n",
       "      <td>1</td>\n",
       "      <td>...</td>\n",
       "      <td>0.461538</td>\n",
       "      <td>0.461538</td>\n",
       "      <td>0.379121</td>\n",
       "      <td>0.116556</td>\n",
       "      <td>66</td>\n",
       "      <td>0.703704</td>\n",
       "      <td>0.357143</td>\n",
       "      <td>0.607143</td>\n",
       "      <td>0.555996</td>\n",
       "      <td>0.146032</td>\n",
       "    </tr>\n",
       "    <tr>\n",
       "      <th>5</th>\n",
       "      <td>0</td>\n",
       "      <td>42</td>\n",
       "      <td>0.167592</td>\n",
       "      <td>0.000305</td>\n",
       "      <td>0.018746</td>\n",
       "      <td>0.000243</td>\n",
       "      <td>gini</td>\n",
       "      <td>1</td>\n",
       "      <td>10</td>\n",
       "      <td>10</td>\n",
       "      <td>...</td>\n",
       "      <td>0.461538</td>\n",
       "      <td>0.461538</td>\n",
       "      <td>0.379121</td>\n",
       "      <td>0.116556</td>\n",
       "      <td>66</td>\n",
       "      <td>0.703704</td>\n",
       "      <td>0.357143</td>\n",
       "      <td>0.607143</td>\n",
       "      <td>0.555996</td>\n",
       "      <td>0.146032</td>\n",
       "    </tr>\n",
       "  </tbody>\n",
       "</table>\n",
       "<p>5 rows × 22 columns</p>\n",
       "</div>"
      ],
      "text/plain": [
       "   iter  n_resources  mean_fit_time  std_fit_time  mean_score_time  \\\n",
       "0     0           42       0.169159      0.001479         0.019037   \n",
       "2     0           42       0.193464      0.031656         0.019094   \n",
       "3     0           42       0.184680      0.015994         0.019204   \n",
       "4     0           42       0.170624      0.001910         0.018965   \n",
       "5     0           42       0.167592      0.000305         0.018746   \n",
       "\n",
       "   std_score_time param_criterion param_max_depth param_min_samples_leaf  \\\n",
       "0        0.000253            gini               1                      1   \n",
       "2        0.000259            gini               1                      1   \n",
       "3        0.000263            gini               1                      1   \n",
       "4        0.000254            gini               1                     10   \n",
       "5        0.000243            gini               1                     10   \n",
       "\n",
       "  param_min_samples_split  ... split1_test_score  split2_test_score  \\\n",
       "0                       1  ...          0.461538           0.461538   \n",
       "2                     100  ...          0.461538           0.461538   \n",
       "3                    1000  ...          0.461538           0.461538   \n",
       "4                       1  ...          0.461538           0.461538   \n",
       "5                      10  ...          0.461538           0.461538   \n",
       "\n",
       "   mean_test_score  std_test_score  rank_test_score  split0_train_score  \\\n",
       "0         0.379121        0.116556               66            0.703704   \n",
       "2         0.379121        0.116556               66            0.703704   \n",
       "3         0.379121        0.116556               66            0.703704   \n",
       "4         0.379121        0.116556               66            0.703704   \n",
       "5         0.379121        0.116556               66            0.703704   \n",
       "\n",
       "   split1_train_score  split2_train_score  mean_train_score  std_train_score  \n",
       "0            0.357143            0.607143          0.555996         0.146032  \n",
       "2            0.357143            0.607143          0.555996         0.146032  \n",
       "3            0.357143            0.607143          0.555996         0.146032  \n",
       "4            0.357143            0.607143          0.555996         0.146032  \n",
       "5            0.357143            0.607143          0.555996         0.146032  \n",
       "\n",
       "[5 rows x 22 columns]"
      ]
     },
     "execution_count": 24,
     "metadata": {},
     "output_type": "execute_result"
    }
   ],
   "source": [
    "df_grid_rf = pd.DataFrame(grid.cv_results_)\n",
    "df_grid_rf.nlargest(5, ['rank_test_score'])"
   ]
  },
  {
   "cell_type": "code",
   "execution_count": 25,
   "id": "2f5e3531f056f02",
   "metadata": {
    "ExecuteTime": {
     "end_time": "2024-04-18T02:25:21.416757Z",
     "start_time": "2024-04-18T02:25:21.412997Z"
    }
   },
   "outputs": [
    {
     "name": "stdout",
     "output_type": "stream",
     "text": [
      "{'criterion': 'entropy', 'max_depth': 1000, 'min_samples_leaf': 1, 'min_samples_split': 10}\n",
      "RandomForestClassifier(criterion='entropy', max_depth=1000,\n",
      "                       min_samples_split=10)\n"
     ]
    }
   ],
   "source": [
    "print(grid.best_params_)\n",
    "print(grid.best_estimator_)"
   ]
  },
  {
   "cell_type": "code",
   "execution_count": 26,
   "id": "b9b7b0bdcb51f0a1",
   "metadata": {
    "ExecuteTime": {
     "end_time": "2024-04-18T02:25:24.122701Z",
     "start_time": "2024-04-18T02:25:24.057558Z"
    }
   },
   "outputs": [
    {
     "name": "stdout",
     "output_type": "stream",
     "text": [
      "              precision    recall  f1-score   support\n",
      "\n",
      "           0       0.37      0.39      0.38        18\n",
      "           1       0.68      0.62      0.65        21\n",
      "           2       0.88      0.50      0.64        14\n",
      "           3       1.00      0.82      0.90        11\n",
      "           4       0.85      0.94      0.89        78\n",
      "           5       0.88      0.70      0.78        10\n",
      "           6       0.71      0.83      0.77        18\n",
      "\n",
      "    accuracy                           0.77       170\n",
      "   macro avg       0.77      0.69      0.71       170\n",
      "weighted avg       0.78      0.77      0.77       170\n",
      "\n"
     ]
    }
   ],
   "source": [
    "grid_predictions = grid.predict(X_test)\n",
    "print(classification_report(y_test, grid_predictions))"
   ]
  },
  {
   "cell_type": "code",
   "execution_count": 27,
   "id": "51be150d6b40f4d0",
   "metadata": {
    "ExecuteTime": {
     "end_time": "2024-04-18T02:25:28.347633Z",
     "start_time": "2024-04-18T02:25:27.403159Z"
    }
   },
   "outputs": [
    {
     "data": {
      "image/png": "[encoded data removed]",
      "text/plain": [
       "<Figure size 432x288 with 2 Axes>"
      ]
     },
     "metadata": {},
     "output_type": "display_data"
    }
   ],
   "source": [
    "cm = confusion_matrix(y_test, grid_predictions)\n",
    "cm_graph = metrics.ConfusionMatrixDisplay(confusion_matrix=cm)\n",
    "cm_graph.plot()\n",
    "plt.show()"
   ]
  },
  {
   "cell_type": "markdown",
   "id": "dda42437eec2a354",
   "metadata": {},
   "source": [
    "## Support Vector Machine (SVM)"
   ]
  },
  {
   "cell_type": "markdown",
   "id": "82346fa2dca19cbe",
   "metadata": {},
   "source": [
    "### Support Vector Classification (SVC)"
   ]
  },
  {
   "cell_type": "code",
   "execution_count": 28,
   "id": "7b849ff78538d290",
   "metadata": {
    "ExecuteTime": {
     "end_time": "2024-04-18T02:25:33.216840Z",
     "start_time": "2024-04-18T02:25:33.213522Z"
    }
   },
   "outputs": [],
   "source": [
    "param_grid = {'C': [0.1, 1, 10, 100, 1000],\n",
    "              'gamma': [1, 0.1, 0.01, 0.001, 0.0001],\n",
    "              'kernel': ['rbf']}"
   ]
  },
  {
   "cell_type": "code",
   "execution_count": 29,
   "id": "6d8b1adfde7b8d48",
   "metadata": {
    "ExecuteTime": {
     "end_time": "2024-04-18T02:25:45.842306Z",
     "start_time": "2024-04-18T02:25:34.185918Z"
    }
   },
   "outputs": [
    {
     "name": "stdout",
     "output_type": "stream",
     "text": [
      "n_iterations: 3\n",
      "n_required_iterations: 3\n",
      "n_possible_iterations: 3\n",
      "min_resources_: 75\n",
      "max_resources_: 679\n",
      "aggressive_elimination: False\n",
      "factor: 3\n",
      "----------\n",
      "iter: 0\n",
      "n_candidates: 25\n",
      "n_resources: 75\n",
      "Fitting 3 folds for each of 25 candidates, totalling 75 fits\n",
      "----------\n",
      "iter: 1\n",
      "n_candidates: 9\n",
      "n_resources: 225\n",
      "Fitting 3 folds for each of 9 candidates, totalling 27 fits\n",
      "----------\n",
      "iter: 2\n",
      "n_candidates: 3\n",
      "n_resources: 675\n",
      "Fitting 3 folds for each of 3 candidates, totalling 9 fits\n",
      "CPU times: user 466 ms, sys: 32.8 ms, total: 499 ms\n",
      "Wall time: 596 ms\n"
     ]
    },
    {
     "data": {
      "text/plain": [
       "HalvingGridSearchCV(cv=3, estimator=SVC(), n_jobs=-1,\n",
       "                    param_grid={'C': [0.1, 1, 10, 100, 1000],\n",
       "                                'gamma': [1, 0.1, 0.01, 0.001, 0.0001],\n",
       "                                'kernel': ['rbf']},\n",
       "                    refit=<function _refit_callable at 0x2b6837b26bf8>,\n",
       "                    scoring='accuracy', verbose=3)"
      ]
     },
     "execution_count": 29,
     "metadata": {},
     "output_type": "execute_result"
    }
   ],
   "source": [
    "grid = HalvingGridSearchCV(SVC(), param_grid, refit=True, verbose=3, cv=3, scoring='accuracy', n_jobs = -1)\n",
    "\n",
    "%time grid.fit(X_train, y_train)"
   ]
  },
  {
   "cell_type": "code",
   "execution_count": 30,
   "id": "48e306505c1c883a",
   "metadata": {
    "ExecuteTime": {
     "end_time": "2024-04-18T02:25:49.514046Z",
     "start_time": "2024-04-18T02:25:49.476277Z"
    }
   },
   "outputs": [
    {
     "data": {
      "text/html": [
       "<div>\n",
       "<style scoped>\n",
       "    .dataframe tbody tr th:only-of-type {\n",
       "        vertical-align: middle;\n",
       "    }\n",
       "\n",
       "    .dataframe tbody tr th {\n",
       "        vertical-align: top;\n",
       "    }\n",
       "\n",
       "    .dataframe thead th {\n",
       "        text-align: right;\n",
       "    }\n",
       "</style>\n",
       "<table border=\"1\" class=\"dataframe\">\n",
       "  <thead>\n",
       "    <tr style=\"text-align: right;\">\n",
       "      <th></th>\n",
       "      <th>iter</th>\n",
       "      <th>n_resources</th>\n",
       "      <th>mean_fit_time</th>\n",
       "      <th>std_fit_time</th>\n",
       "      <th>mean_score_time</th>\n",
       "      <th>std_score_time</th>\n",
       "      <th>param_C</th>\n",
       "      <th>param_gamma</th>\n",
       "      <th>param_kernel</th>\n",
       "      <th>params</th>\n",
       "      <th>...</th>\n",
       "      <th>split1_test_score</th>\n",
       "      <th>split2_test_score</th>\n",
       "      <th>mean_test_score</th>\n",
       "      <th>std_test_score</th>\n",
       "      <th>rank_test_score</th>\n",
       "      <th>split0_train_score</th>\n",
       "      <th>split1_train_score</th>\n",
       "      <th>split2_train_score</th>\n",
       "      <th>mean_train_score</th>\n",
       "      <th>std_train_score</th>\n",
       "    </tr>\n",
       "  </thead>\n",
       "  <tbody>\n",
       "    <tr>\n",
       "      <th>18</th>\n",
       "      <td>0</td>\n",
       "      <td>75</td>\n",
       "      <td>0.004995</td>\n",
       "      <td>0.000185</td>\n",
       "      <td>0.003013</td>\n",
       "      <td>0.000041</td>\n",
       "      <td>100</td>\n",
       "      <td>0.001</td>\n",
       "      <td>rbf</td>\n",
       "      <td>{'C': 100, 'gamma': 0.001, 'kernel': 'rbf'}</td>\n",
       "      <td>...</td>\n",
       "      <td>0.458333</td>\n",
       "      <td>0.375000</td>\n",
       "      <td>0.464444</td>\n",
       "      <td>0.075649</td>\n",
       "      <td>36</td>\n",
       "      <td>0.571429</td>\n",
       "      <td>0.50</td>\n",
       "      <td>0.46</td>\n",
       "      <td>0.510476</td>\n",
       "      <td>0.046090</td>\n",
       "    </tr>\n",
       "    <tr>\n",
       "      <th>23</th>\n",
       "      <td>0</td>\n",
       "      <td>75</td>\n",
       "      <td>0.004982</td>\n",
       "      <td>0.000298</td>\n",
       "      <td>0.002894</td>\n",
       "      <td>0.000100</td>\n",
       "      <td>1000</td>\n",
       "      <td>0.001</td>\n",
       "      <td>rbf</td>\n",
       "      <td>{'C': 1000, 'gamma': 0.001, 'kernel': 'rbf'}</td>\n",
       "      <td>...</td>\n",
       "      <td>0.500000</td>\n",
       "      <td>0.333333</td>\n",
       "      <td>0.464444</td>\n",
       "      <td>0.095891</td>\n",
       "      <td>36</td>\n",
       "      <td>0.632653</td>\n",
       "      <td>0.72</td>\n",
       "      <td>0.70</td>\n",
       "      <td>0.684218</td>\n",
       "      <td>0.037365</td>\n",
       "    </tr>\n",
       "    <tr>\n",
       "      <th>8</th>\n",
       "      <td>0</td>\n",
       "      <td>75</td>\n",
       "      <td>0.004845</td>\n",
       "      <td>0.000171</td>\n",
       "      <td>0.003019</td>\n",
       "      <td>0.000030</td>\n",
       "      <td>1</td>\n",
       "      <td>0.001</td>\n",
       "      <td>rbf</td>\n",
       "      <td>{'C': 1, 'gamma': 0.001, 'kernel': 'rbf'}</td>\n",
       "      <td>...</td>\n",
       "      <td>0.458333</td>\n",
       "      <td>0.416667</td>\n",
       "      <td>0.465000</td>\n",
       "      <td>0.042448</td>\n",
       "      <td>32</td>\n",
       "      <td>0.489796</td>\n",
       "      <td>0.50</td>\n",
       "      <td>0.40</td>\n",
       "      <td>0.463265</td>\n",
       "      <td>0.044929</td>\n",
       "    </tr>\n",
       "    <tr>\n",
       "      <th>13</th>\n",
       "      <td>0</td>\n",
       "      <td>75</td>\n",
       "      <td>0.004641</td>\n",
       "      <td>0.000396</td>\n",
       "      <td>0.002952</td>\n",
       "      <td>0.000033</td>\n",
       "      <td>10</td>\n",
       "      <td>0.001</td>\n",
       "      <td>rbf</td>\n",
       "      <td>{'C': 10, 'gamma': 0.001, 'kernel': 'rbf'}</td>\n",
       "      <td>...</td>\n",
       "      <td>0.458333</td>\n",
       "      <td>0.416667</td>\n",
       "      <td>0.465000</td>\n",
       "      <td>0.042448</td>\n",
       "      <td>32</td>\n",
       "      <td>0.489796</td>\n",
       "      <td>0.50</td>\n",
       "      <td>0.46</td>\n",
       "      <td>0.483265</td>\n",
       "      <td>0.016970</td>\n",
       "    </tr>\n",
       "    <tr>\n",
       "      <th>19</th>\n",
       "      <td>0</td>\n",
       "      <td>75</td>\n",
       "      <td>0.004677</td>\n",
       "      <td>0.000297</td>\n",
       "      <td>0.002995</td>\n",
       "      <td>0.000029</td>\n",
       "      <td>100</td>\n",
       "      <td>0.0001</td>\n",
       "      <td>rbf</td>\n",
       "      <td>{'C': 100, 'gamma': 0.0001, 'kernel': 'rbf'}</td>\n",
       "      <td>...</td>\n",
       "      <td>0.458333</td>\n",
       "      <td>0.416667</td>\n",
       "      <td>0.465000</td>\n",
       "      <td>0.042448</td>\n",
       "      <td>32</td>\n",
       "      <td>0.489796</td>\n",
       "      <td>0.50</td>\n",
       "      <td>0.42</td>\n",
       "      <td>0.469932</td>\n",
       "      <td>0.035552</td>\n",
       "    </tr>\n",
       "  </tbody>\n",
       "</table>\n",
       "<p>5 rows × 21 columns</p>\n",
       "</div>"
      ],
      "text/plain": [
       "    iter  n_resources  mean_fit_time  std_fit_time  mean_score_time  \\\n",
       "18     0           75       0.004995      0.000185         0.003013   \n",
       "23     0           75       0.004982      0.000298         0.002894   \n",
       "8      0           75       0.004845      0.000171         0.003019   \n",
       "13     0           75       0.004641      0.000396         0.002952   \n",
       "19     0           75       0.004677      0.000297         0.002995   \n",
       "\n",
       "    std_score_time param_C param_gamma param_kernel  \\\n",
       "18        0.000041     100       0.001          rbf   \n",
       "23        0.000100    1000       0.001          rbf   \n",
       "8         0.000030       1       0.001          rbf   \n",
       "13        0.000033      10       0.001          rbf   \n",
       "19        0.000029     100      0.0001          rbf   \n",
       "\n",
       "                                          params  ...  split1_test_score  \\\n",
       "18   {'C': 100, 'gamma': 0.001, 'kernel': 'rbf'}  ...           0.458333   \n",
       "23  {'C': 1000, 'gamma': 0.001, 'kernel': 'rbf'}  ...           0.500000   \n",
       "8      {'C': 1, 'gamma': 0.001, 'kernel': 'rbf'}  ...           0.458333   \n",
       "13    {'C': 10, 'gamma': 0.001, 'kernel': 'rbf'}  ...           0.458333   \n",
       "19  {'C': 100, 'gamma': 0.0001, 'kernel': 'rbf'}  ...           0.458333   \n",
       "\n",
       "    split2_test_score  mean_test_score  std_test_score  rank_test_score  \\\n",
       "18           0.375000         0.464444        0.075649               36   \n",
       "23           0.333333         0.464444        0.095891               36   \n",
       "8            0.416667         0.465000        0.042448               32   \n",
       "13           0.416667         0.465000        0.042448               32   \n",
       "19           0.416667         0.465000        0.042448               32   \n",
       "\n",
       "    split0_train_score  split1_train_score  split2_train_score  \\\n",
       "18            0.571429                0.50                0.46   \n",
       "23            0.632653                0.72                0.70   \n",
       "8             0.489796                0.50                0.40   \n",
       "13            0.489796                0.50                0.46   \n",
       "19            0.489796                0.50                0.42   \n",
       "\n",
       "    mean_train_score  std_train_score  \n",
       "18          0.510476         0.046090  \n",
       "23          0.684218         0.037365  \n",
       "8           0.463265         0.044929  \n",
       "13          0.483265         0.016970  \n",
       "19          0.469932         0.035552  \n",
       "\n",
       "[5 rows x 21 columns]"
      ]
     },
     "execution_count": 30,
     "metadata": {},
     "output_type": "execute_result"
    }
   ],
   "source": [
    "df_grid_svc_rbf = pd.DataFrame(grid.cv_results_)\n",
    "df_grid_svc_rbf.nlargest(5, ['rank_test_score'])"
   ]
  },
  {
   "cell_type": "code",
   "execution_count": 31,
   "id": "98b705541649c3ef",
   "metadata": {
    "ExecuteTime": {
     "end_time": "2024-04-18T02:25:54.271416Z",
     "start_time": "2024-04-18T02:25:54.267526Z"
    }
   },
   "outputs": [
    {
     "name": "stdout",
     "output_type": "stream",
     "text": [
      "{'C': 1000, 'gamma': 0.1, 'kernel': 'rbf'}\n",
      "SVC(C=1000, gamma=0.1)\n"
     ]
    }
   ],
   "source": [
    "print(grid.best_params_)\n",
    "print(grid.best_estimator_)"
   ]
  },
  {
   "cell_type": "code",
   "execution_count": 32,
   "id": "281c2dc125d3e487",
   "metadata": {
    "ExecuteTime": {
     "end_time": "2024-04-18T02:26:01.533040Z",
     "start_time": "2024-04-18T02:26:00.875568Z"
    }
   },
   "outputs": [
    {
     "name": "stdout",
     "output_type": "stream",
     "text": [
      "              precision    recall  f1-score   support\n",
      "\n",
      "           0       0.35      0.39      0.37        18\n",
      "           1       0.71      0.57      0.63        21\n",
      "           2       0.46      0.43      0.44        14\n",
      "           3       0.88      0.64      0.74        11\n",
      "           4       0.84      0.92      0.88        78\n",
      "           5       0.62      0.50      0.56        10\n",
      "           6       0.67      0.67      0.67        18\n",
      "\n",
      "    accuracy                           0.71       170\n",
      "   macro avg       0.65      0.59      0.61       170\n",
      "weighted avg       0.71      0.71      0.71       170\n",
      "\n"
     ]
    }
   ],
   "source": [
    "grid_predictions = grid.predict(X_test)\n",
    "print(classification_report(y_test, grid_predictions))"
   ]
  },
  {
   "cell_type": "code",
   "execution_count": 33,
   "id": "40b11ebd2e226e54",
   "metadata": {
    "ExecuteTime": {
     "end_time": "2024-04-18T02:26:10.728714Z",
     "start_time": "2024-04-18T02:26:09.786943Z"
    }
   },
   "outputs": [
    {
     "data": {
      "image/png": "[encoded data removed]",
      "text/plain": [
       "<Figure size 432x288 with 2 Axes>"
      ]
     },
     "metadata": {},
     "output_type": "display_data"
    }
   ],
   "source": [
    "cm = confusion_matrix(y_test, grid_predictions)\n",
    "cm_graph = metrics.ConfusionMatrixDisplay(confusion_matrix = cm)\n",
    "cm_graph.plot()\n",
    "plt.show()"
   ]
  },
  {
   "cell_type": "code",
   "execution_count": 44,
   "id": "5196e0f7052b52c8",
   "metadata": {
    "ExecuteTime": {
     "end_time": "2024-04-18T02:26:13.804015Z",
     "start_time": "2024-04-18T02:26:13.801069Z"
    }
   },
   "outputs": [],
   "source": [
    "param_grid = {'C': [50, 75, 100, 1000],\n",
    "              'gamma': [5, 10, 100, 1000],\n",
    "              'kernel': ['linear', 'rbf'],\n",
    "              'tol' : [0.001, 0.01, 0.1],\n",
    "              'decision_function_shape' : ['ovo', 'ovr']\n",
    "             }"
   ]
  },
  {
   "cell_type": "code",
   "execution_count": null,
   "id": "de5cdc94cfbbdd18",
   "metadata": {
    "ExecuteTime": {
     "end_time": "2024-04-18T02:27:52.462445Z",
     "start_time": "2024-04-18T02:26:19.610659Z"
    }
   },
   "outputs": [
    {
     "name": "stdout",
     "output_type": "stream",
     "text": [
      "n_iterations: 3\n",
      "n_required_iterations: 5\n",
      "n_possible_iterations: 3\n",
      "min_resources_: 42\n",
      "max_resources_: 679\n",
      "aggressive_elimination: False\n",
      "factor: 3\n",
      "----------\n",
      "iter: 0\n",
      "n_candidates: 192\n",
      "n_resources: 42\n",
      "Fitting 3 folds for each of 192 candidates, totalling 576 fits\n",
      "----------\n",
      "iter: 1\n",
      "n_candidates: 64\n",
      "n_resources: 126\n",
      "Fitting 3 folds for each of 64 candidates, totalling 192 fits\n"
     ]
    }
   ],
   "source": [
    "grid = HalvingGridSearchCV(SVC(), param_grid, refit=True, verbose=3, cv=3, scoring='accuracy', n_jobs = -1)\n",
    "\n",
    "%time grid.fit(X_train, y_train)"
   ]
  },
  {
   "cell_type": "code",
   "execution_count": 43,
   "id": "5a999b01694e050c",
   "metadata": {
    "ExecuteTime": {
     "end_time": "2024-04-18T02:28:33.057977Z",
     "start_time": "2024-04-18T02:28:33.024364Z"
    }
   },
   "outputs": [
    {
     "ename": "AttributeError",
     "evalue": "'HalvingGridSearchCV' object has no attribute 'cv_results_'",
     "output_type": "error",
     "traceback": [
      "\u001b[0;31m---------------------------------------------------------------------------\u001b[0m",
      "\u001b[0;31mAttributeError\u001b[0m                            Traceback (most recent call last)",
      "\u001b[0;32m<ipython-input-43-2dea5e65f482>\u001b[0m in \u001b[0;36m<module>\u001b[0;34m()\u001b[0m\n\u001b[0;32m----> 1\u001b[0;31m \u001b[0mdf_grid_svc_linear\u001b[0m \u001b[0;34m=\u001b[0m \u001b[0mpd\u001b[0m\u001b[0;34m.\u001b[0m\u001b[0mDataFrame\u001b[0m\u001b[0;34m(\u001b[0m\u001b[0mgrid\u001b[0m\u001b[0;34m.\u001b[0m\u001b[0mcv_results_\u001b[0m\u001b[0;34m)\u001b[0m\u001b[0;34m\u001b[0m\u001b[0m\n\u001b[0m\u001b[1;32m      2\u001b[0m \u001b[0mdf_grid_svc_linear\u001b[0m\u001b[0;34m.\u001b[0m\u001b[0mnlargest\u001b[0m\u001b[0;34m(\u001b[0m\u001b[0;36m5\u001b[0m\u001b[0;34m,\u001b[0m \u001b[0;34m[\u001b[0m\u001b[0;34m'rank_test_score'\u001b[0m\u001b[0;34m]\u001b[0m\u001b[0;34m)\u001b[0m\u001b[0;34m\u001b[0m\u001b[0m\n",
      "\u001b[0;31mAttributeError\u001b[0m: 'HalvingGridSearchCV' object has no attribute 'cv_results_'"
     ]
    }
   ],
   "source": [
    "df_grid_svc_linear = pd.DataFrame(grid.cv_results_)\n",
    "df_grid_svc_linear.nlargest(5, ['rank_test_score'])"
   ]
  },
  {
   "cell_type": "code",
   "execution_count": 37,
   "id": "bab8b8672aa286b2",
   "metadata": {
    "ExecuteTime": {
     "end_time": "2024-04-18T02:28:33.639678Z",
     "start_time": "2024-04-18T02:28:33.636328Z"
    }
   },
   "outputs": [
    {
     "name": "stdout",
     "output_type": "stream",
     "text": [
      "{'C': 50, 'decision_function_shape': 'ovr', 'gamma': 5, 'kernel': 'linear', 'tol': 0.001}\n",
      "SVC(C=50, gamma=5, kernel='linear')\n"
     ]
    }
   ],
   "source": [
    "print(grid.best_params_)\n",
    "print(grid.best_estimator_)"
   ]
  },
  {
   "cell_type": "code",
   "execution_count": 38,
   "id": "3045aff27e35e7cf",
   "metadata": {
    "ExecuteTime": {
     "end_time": "2024-04-18T02:28:34.465734Z",
     "start_time": "2024-04-18T02:28:34.249806Z"
    }
   },
   "outputs": [
    {
     "name": "stdout",
     "output_type": "stream",
     "text": [
      "              precision    recall  f1-score   support\n",
      "\n",
      "           0       0.22      0.11      0.15        18\n",
      "           1       0.73      0.52      0.61        21\n",
      "           2       0.50      0.29      0.36        14\n",
      "           3       1.00      0.73      0.84        11\n",
      "           4       0.81      0.94      0.87        78\n",
      "           5       1.00      0.10      0.18        10\n",
      "           6       0.44      0.94      0.60        18\n",
      "\n",
      "    accuracy                           0.68       170\n",
      "   macro avg       0.67      0.52      0.52       170\n",
      "weighted avg       0.70      0.68      0.65       170\n",
      "\n"
     ]
    }
   ],
   "source": [
    "grid_predictions = grid.predict(X_test)\n",
    "print(classification_report(y_test, grid_predictions))"
   ]
  },
  {
   "cell_type": "code",
   "execution_count": 39,
   "id": "b38b89ac611178c7",
   "metadata": {
    "ExecuteTime": {
     "end_time": "2024-04-18T02:28:39.854560Z",
     "start_time": "2024-04-18T02:28:38.936085Z"
    }
   },
   "outputs": [
    {
     "data": {
      "image/png": "[encoded data removed]",
      "text/plain": [
       "<Figure size 432x288 with 2 Axes>"
      ]
     },
     "metadata": {},
     "output_type": "display_data"
    }
   ],
   "source": [
    "cm = confusion_matrix(y_test, grid_predictions)\n",
    "cm_graph = metrics.ConfusionMatrixDisplay(confusion_matrix = cm)\n",
    "cm_graph.plot()\n",
    "plt.show()"
   ]
  },
  {
   "cell_type": "markdown",
   "id": "43980e7bf227bcbc",
   "metadata": {},
   "source": [
    "### Nu-Support Vector Classification (NuSVC)"
   ]
  },
  {
   "cell_type": "code",
   "execution_count": 40,
   "id": "9cd5e8a776fc1b92",
   "metadata": {
    "ExecuteTime": {
     "end_time": "2024-04-18T02:28:43.493079Z",
     "start_time": "2024-04-18T02:28:43.489720Z"
    }
   },
   "outputs": [],
   "source": [
    "param_grid = {'nu': [0.1, 0.2, 0.3, 0.4],\n",
    "              'gamma': ['auto', 'scale'],\n",
    "              'kernel': ['rbf']}"
   ]
  },
  {
   "cell_type": "code",
   "execution_count": 41,
   "id": "92e7842da2158663",
   "metadata": {
    "ExecuteTime": {
     "end_time": "2024-04-18T02:28:54.834637Z",
     "start_time": "2024-04-18T02:28:44.249164Z"
    }
   },
   "outputs": [
    {
     "name": "stdout",
     "output_type": "stream",
     "text": [
      "n_iterations: 2\n",
      "n_required_iterations: 2\n",
      "n_possible_iterations: 2\n",
      "min_resources_: 226\n",
      "max_resources_: 679\n",
      "aggressive_elimination: False\n",
      "factor: 3\n",
      "----------\n",
      "iter: 0\n",
      "n_candidates: 8\n",
      "n_resources: 226\n",
      "Fitting 3 folds for each of 8 candidates, totalling 24 fits\n"
     ]
    },
    {
     "name": "stderr",
     "output_type": "stream",
     "text": [
      "/software/python3/3.6.5/lib/python3.6/site-packages/sklearn/model_selection/_search.py:921: UserWarning: One or more of the test scores are non-finite: [0.52              nan        nan        nan 0.31111111        nan\n",
      "        nan        nan]\n",
      "  category=UserWarning\n",
      "/software/python3/3.6.5/lib/python3.6/site-packages/sklearn/model_selection/_search.py:921: UserWarning: One or more of the train scores are non-finite: [0.86666667        nan        nan        nan 0.33333333        nan\n",
      "        nan        nan]\n",
      "  category=UserWarning\n",
      "/software/python3/3.6.5/lib/python3.6/site-packages/sklearn/model_selection/_search.py:921: UserWarning: One or more of the test scores are non-finite: [0.52              nan        nan        nan 0.31111111        nan\n",
      "        nan        nan        nan        nan        nan]\n",
      "  category=UserWarning\n",
      "/software/python3/3.6.5/lib/python3.6/site-packages/sklearn/model_selection/_search.py:921: UserWarning: One or more of the train scores are non-finite: [0.86666667        nan        nan        nan 0.33333333        nan\n",
      "        nan        nan        nan        nan        nan]\n",
      "  category=UserWarning\n"
     ]
    },
    {
     "name": "stdout",
     "output_type": "stream",
     "text": [
      "----------\n",
      "iter: 1\n",
      "n_candidates: 3\n",
      "n_resources: 678\n",
      "Fitting 3 folds for each of 3 candidates, totalling 9 fits\n"
     ]
    },
    {
     "ename": "ValueError",
     "evalue": "specified nu is infeasible",
     "output_type": "error",
     "traceback": [
      "\u001b[0;31m---------------------------------------------------------------------------\u001b[0m",
      "\u001b[0;31mValueError\u001b[0m                                Traceback (most recent call last)",
      "\u001b[0;32m<timed eval>\u001b[0m in \u001b[0;36m<module>\u001b[0;34m()\u001b[0m\n",
      "\u001b[0;32m/software/python3/3.6.5/lib/python3.6/site-packages/sklearn/model_selection/_search_successive_halving.py\u001b[0m in \u001b[0;36mfit\u001b[0;34m(self, X, y, groups, **fit_params)\u001b[0m\n\u001b[1;32m    211\u001b[0m         \u001b[0mself\u001b[0m\u001b[0;34m.\u001b[0m\u001b[0m_n_samples_orig\u001b[0m \u001b[0;34m=\u001b[0m \u001b[0m_num_samples\u001b[0m\u001b[0;34m(\u001b[0m\u001b[0mX\u001b[0m\u001b[0;34m)\u001b[0m\u001b[0;34m\u001b[0m\u001b[0m\n\u001b[1;32m    212\u001b[0m \u001b[0;34m\u001b[0m\u001b[0m\n\u001b[0;32m--> 213\u001b[0;31m         \u001b[0msuper\u001b[0m\u001b[0;34m(\u001b[0m\u001b[0;34m)\u001b[0m\u001b[0;34m.\u001b[0m\u001b[0mfit\u001b[0m\u001b[0;34m(\u001b[0m\u001b[0mX\u001b[0m\u001b[0;34m,\u001b[0m \u001b[0my\u001b[0m\u001b[0;34m=\u001b[0m\u001b[0my\u001b[0m\u001b[0;34m,\u001b[0m \u001b[0mgroups\u001b[0m\u001b[0;34m=\u001b[0m\u001b[0;32mNone\u001b[0m\u001b[0;34m,\u001b[0m \u001b[0;34m**\u001b[0m\u001b[0mfit_params\u001b[0m\u001b[0;34m)\u001b[0m\u001b[0;34m\u001b[0m\u001b[0m\n\u001b[0m\u001b[1;32m    214\u001b[0m \u001b[0;34m\u001b[0m\u001b[0m\n\u001b[1;32m    215\u001b[0m         \u001b[0;31m# Set best_score_: BaseSearchCV does not set it, as refit is a callable\u001b[0m\u001b[0;34m\u001b[0m\u001b[0;34m\u001b[0m\u001b[0m\n",
      "\u001b[0;32m/software/python3/3.6.5/lib/python3.6/site-packages/sklearn/utils/validation.py\u001b[0m in \u001b[0;36minner_f\u001b[0;34m(*args, **kwargs)\u001b[0m\n\u001b[1;32m     61\u001b[0m             \u001b[0mextra_args\u001b[0m \u001b[0;34m=\u001b[0m \u001b[0mlen\u001b[0m\u001b[0;34m(\u001b[0m\u001b[0margs\u001b[0m\u001b[0;34m)\u001b[0m \u001b[0;34m-\u001b[0m \u001b[0mlen\u001b[0m\u001b[0;34m(\u001b[0m\u001b[0mall_args\u001b[0m\u001b[0;34m)\u001b[0m\u001b[0;34m\u001b[0m\u001b[0m\n\u001b[1;32m     62\u001b[0m             \u001b[0;32mif\u001b[0m \u001b[0mextra_args\u001b[0m \u001b[0;34m<=\u001b[0m \u001b[0;36m0\u001b[0m\u001b[0;34m:\u001b[0m\u001b[0;34m\u001b[0m\u001b[0m\n\u001b[0;32m---> 63\u001b[0;31m                 \u001b[0;32mreturn\u001b[0m \u001b[0mf\u001b[0m\u001b[0;34m(\u001b[0m\u001b[0;34m*\u001b[0m\u001b[0margs\u001b[0m\u001b[0;34m,\u001b[0m \u001b[0;34m**\u001b[0m\u001b[0mkwargs\u001b[0m\u001b[0;34m)\u001b[0m\u001b[0;34m\u001b[0m\u001b[0m\n\u001b[0m\u001b[1;32m     64\u001b[0m \u001b[0;34m\u001b[0m\u001b[0m\n\u001b[1;32m     65\u001b[0m             \u001b[0;31m# extra_args > 0\u001b[0m\u001b[0;34m\u001b[0m\u001b[0;34m\u001b[0m\u001b[0m\n",
      "\u001b[0;32m/software/python3/3.6.5/lib/python3.6/site-packages/sklearn/model_selection/_search.py\u001b[0m in \u001b[0;36mfit\u001b[0;34m(self, X, y, groups, **fit_params)\u001b[0m\n\u001b[1;32m    878\u001b[0m             \u001b[0mrefit_start_time\u001b[0m \u001b[0;34m=\u001b[0m \u001b[0mtime\u001b[0m\u001b[0;34m.\u001b[0m\u001b[0mtime\u001b[0m\u001b[0;34m(\u001b[0m\u001b[0;34m)\u001b[0m\u001b[0;34m\u001b[0m\u001b[0m\n\u001b[1;32m    879\u001b[0m             \u001b[0;32mif\u001b[0m \u001b[0my\u001b[0m \u001b[0;32mis\u001b[0m \u001b[0;32mnot\u001b[0m \u001b[0;32mNone\u001b[0m\u001b[0;34m:\u001b[0m\u001b[0;34m\u001b[0m\u001b[0m\n\u001b[0;32m--> 880\u001b[0;31m                 \u001b[0mself\u001b[0m\u001b[0;34m.\u001b[0m\u001b[0mbest_estimator_\u001b[0m\u001b[0;34m.\u001b[0m\u001b[0mfit\u001b[0m\u001b[0;34m(\u001b[0m\u001b[0mX\u001b[0m\u001b[0;34m,\u001b[0m \u001b[0my\u001b[0m\u001b[0;34m,\u001b[0m \u001b[0;34m**\u001b[0m\u001b[0mfit_params\u001b[0m\u001b[0;34m)\u001b[0m\u001b[0;34m\u001b[0m\u001b[0m\n\u001b[0m\u001b[1;32m    881\u001b[0m             \u001b[0;32melse\u001b[0m\u001b[0;34m:\u001b[0m\u001b[0;34m\u001b[0m\u001b[0m\n\u001b[1;32m    882\u001b[0m                 \u001b[0mself\u001b[0m\u001b[0;34m.\u001b[0m\u001b[0mbest_estimator_\u001b[0m\u001b[0;34m.\u001b[0m\u001b[0mfit\u001b[0m\u001b[0;34m(\u001b[0m\u001b[0mX\u001b[0m\u001b[0;34m,\u001b[0m \u001b[0;34m**\u001b[0m\u001b[0mfit_params\u001b[0m\u001b[0;34m)\u001b[0m\u001b[0;34m\u001b[0m\u001b[0m\n",
      "\u001b[0;32m/software/python3/3.6.5/lib/python3.6/site-packages/sklearn/svm/_base.py\u001b[0m in \u001b[0;36mfit\u001b[0;34m(self, X, y, sample_weight)\u001b[0m\n\u001b[1;32m    224\u001b[0m \u001b[0;34m\u001b[0m\u001b[0m\n\u001b[1;32m    225\u001b[0m         \u001b[0mseed\u001b[0m \u001b[0;34m=\u001b[0m \u001b[0mrnd\u001b[0m\u001b[0;34m.\u001b[0m\u001b[0mrandint\u001b[0m\u001b[0;34m(\u001b[0m\u001b[0mnp\u001b[0m\u001b[0;34m.\u001b[0m\u001b[0miinfo\u001b[0m\u001b[0;34m(\u001b[0m\u001b[0;34m'i'\u001b[0m\u001b[0;34m)\u001b[0m\u001b[0;34m.\u001b[0m\u001b[0mmax\u001b[0m\u001b[0;34m)\u001b[0m\u001b[0;34m\u001b[0m\u001b[0m\n\u001b[0;32m--> 226\u001b[0;31m         \u001b[0mfit\u001b[0m\u001b[0;34m(\u001b[0m\u001b[0mX\u001b[0m\u001b[0;34m,\u001b[0m \u001b[0my\u001b[0m\u001b[0;34m,\u001b[0m \u001b[0msample_weight\u001b[0m\u001b[0;34m,\u001b[0m \u001b[0msolver_type\u001b[0m\u001b[0;34m,\u001b[0m \u001b[0mkernel\u001b[0m\u001b[0;34m,\u001b[0m \u001b[0mrandom_seed\u001b[0m\u001b[0;34m=\u001b[0m\u001b[0mseed\u001b[0m\u001b[0;34m)\u001b[0m\u001b[0;34m\u001b[0m\u001b[0m\n\u001b[0m\u001b[1;32m    227\u001b[0m         \u001b[0;31m# see comment on the other call to np.iinfo in this file\u001b[0m\u001b[0;34m\u001b[0m\u001b[0;34m\u001b[0m\u001b[0m\n\u001b[1;32m    228\u001b[0m \u001b[0;34m\u001b[0m\u001b[0m\n",
      "\u001b[0;32m/software/python3/3.6.5/lib/python3.6/site-packages/sklearn/svm/_base.py\u001b[0m in \u001b[0;36m_dense_fit\u001b[0;34m(self, X, y, sample_weight, solver_type, kernel, random_seed)\u001b[0m\n\u001b[1;32m    283\u001b[0m                 \u001b[0mcache_size\u001b[0m\u001b[0;34m=\u001b[0m\u001b[0mself\u001b[0m\u001b[0;34m.\u001b[0m\u001b[0mcache_size\u001b[0m\u001b[0;34m,\u001b[0m \u001b[0mcoef0\u001b[0m\u001b[0;34m=\u001b[0m\u001b[0mself\u001b[0m\u001b[0;34m.\u001b[0m\u001b[0mcoef0\u001b[0m\u001b[0;34m,\u001b[0m\u001b[0;34m\u001b[0m\u001b[0m\n\u001b[1;32m    284\u001b[0m                 \u001b[0mgamma\u001b[0m\u001b[0;34m=\u001b[0m\u001b[0mself\u001b[0m\u001b[0;34m.\u001b[0m\u001b[0m_gamma\u001b[0m\u001b[0;34m,\u001b[0m \u001b[0mepsilon\u001b[0m\u001b[0;34m=\u001b[0m\u001b[0mself\u001b[0m\u001b[0;34m.\u001b[0m\u001b[0mepsilon\u001b[0m\u001b[0;34m,\u001b[0m\u001b[0;34m\u001b[0m\u001b[0m\n\u001b[0;32m--> 285\u001b[0;31m                 max_iter=self.max_iter, random_seed=random_seed)\n\u001b[0m\u001b[1;32m    286\u001b[0m \u001b[0;34m\u001b[0m\u001b[0m\n\u001b[1;32m    287\u001b[0m         \u001b[0mself\u001b[0m\u001b[0;34m.\u001b[0m\u001b[0m_warn_from_fit_status\u001b[0m\u001b[0;34m(\u001b[0m\u001b[0;34m)\u001b[0m\u001b[0;34m\u001b[0m\u001b[0m\n",
      "\u001b[0;32msklearn/svm/_libsvm.pyx\u001b[0m in \u001b[0;36msklearn.svm._libsvm.fit\u001b[0;34m()\u001b[0m\n",
      "\u001b[0;31mValueError\u001b[0m: specified nu is infeasible"
     ]
    }
   ],
   "source": [
    "grid = HalvingGridSearchCV(NuSVC(), param_grid, refit=True, verbose=3, cv=3, n_jobs=-1, scoring='accuracy')\n",
    "\n",
    "# fitting the model for grid search \n",
    "%time grid.fit(X_train, y_train)"
   ]
  },
  {
   "cell_type": "code",
   "execution_count": 42,
   "id": "5c0cb61eef69dfa6",
   "metadata": {
    "ExecuteTime": {
     "end_time": "2024-04-18T02:28:59.251805Z",
     "start_time": "2024-04-18T02:28:59.215810Z"
    }
   },
   "outputs": [
    {
     "ename": "AttributeError",
     "evalue": "'HalvingGridSearchCV' object has no attribute 'cv_results_'",
     "output_type": "error",
     "traceback": [
      "\u001b[0;31m---------------------------------------------------------------------------\u001b[0m",
      "\u001b[0;31mAttributeError\u001b[0m                            Traceback (most recent call last)",
      "\u001b[0;32m<ipython-input-42-f7380bae5ba5>\u001b[0m in \u001b[0;36m<module>\u001b[0;34m()\u001b[0m\n\u001b[0;32m----> 1\u001b[0;31m \u001b[0mdf_grid_nusvc_rbf\u001b[0m \u001b[0;34m=\u001b[0m \u001b[0mpd\u001b[0m\u001b[0;34m.\u001b[0m\u001b[0mDataFrame\u001b[0m\u001b[0;34m(\u001b[0m\u001b[0mgrid\u001b[0m\u001b[0;34m.\u001b[0m\u001b[0mcv_results_\u001b[0m\u001b[0;34m)\u001b[0m\u001b[0;34m\u001b[0m\u001b[0m\n\u001b[0m\u001b[1;32m      2\u001b[0m \u001b[0mdf_grid_nusvc_rbf\u001b[0m\u001b[0;34m.\u001b[0m\u001b[0mnlargest\u001b[0m\u001b[0;34m(\u001b[0m\u001b[0;36m5\u001b[0m\u001b[0;34m,\u001b[0m \u001b[0;34m[\u001b[0m\u001b[0;34m'rank_test_score'\u001b[0m\u001b[0;34m]\u001b[0m\u001b[0;34m)\u001b[0m\u001b[0;34m\u001b[0m\u001b[0m\n",
      "\u001b[0;31mAttributeError\u001b[0m: 'HalvingGridSearchCV' object has no attribute 'cv_results_'"
     ]
    }
   ],
   "source": [
    "df_grid_nusvc_rbf = pd.DataFrame(grid.cv_results_)\n",
    "df_grid_nusvc_rbf.nlargest(5, ['rank_test_score'])"
   ]
  },
  {
   "cell_type": "code",
   "execution_count": null,
   "id": "148107cd3ccd0f6",
   "metadata": {
    "ExecuteTime": {
     "end_time": "2024-04-18T02:29:04.625713Z",
     "start_time": "2024-04-18T02:29:04.622025Z"
    }
   },
   "outputs": [],
   "source": [
    "print(grid.best_params_)\n",
    "print(grid.best_estimator_)"
   ]
  },
  {
   "cell_type": "code",
   "execution_count": null,
   "id": "f1f1f5f9dee0f61c",
   "metadata": {
    "ExecuteTime": {
     "end_time": "2024-04-18T02:29:07.383772Z",
     "start_time": "2024-04-18T02:29:06.552565Z"
    }
   },
   "outputs": [],
   "source": [
    "grid_predictions = grid.predict(X_test)\n",
    "print(classification_report(y_test, grid_predictions))"
   ]
  },
  {
   "cell_type": "code",
   "execution_count": null,
   "id": "7129c359cdb732fb",
   "metadata": {
    "ExecuteTime": {
     "end_time": "2024-04-18T02:29:11.732755Z",
     "start_time": "2024-04-18T02:29:10.810453Z"
    }
   },
   "outputs": [],
   "source": [
    "cm = confusion_matrix(y_test, grid_predictions)\n",
    "cm_graph = metrics.ConfusionMatrixDisplay(confusion_matrix = cm)\n",
    "cm_graph.plot()\n",
    "plt.show()"
   ]
  },
  {
   "cell_type": "markdown",
   "id": "2a987fcea3965fdf",
   "metadata": {},
   "source": [
    "### Naive Bayes Classification"
   ]
  },
  {
   "cell_type": "code",
   "execution_count": null,
   "id": "1a4def3287dbce97",
   "metadata": {
    "ExecuteTime": {
     "end_time": "2024-04-18T02:29:14.268875Z",
     "start_time": "2024-04-18T02:29:14.266193Z"
    }
   },
   "outputs": [],
   "source": [
    "param_grid = {\n",
    "    'alpha' : [1, 10, 100, 1000],\n",
    "}\n",
    "\n",
    "param_grid_gaussian = {\n",
    "    'priors' : [6]\n",
    "}\n",
    "param_grid_multi = {\n",
    "    'alpha' : [.01, 0.1, 1],\n",
    "    'class_prior' : [7]\n",
    "}"
   ]
  },
  {
   "cell_type": "code",
   "execution_count": null,
   "id": "11420efce8df322c",
   "metadata": {},
   "outputs": [],
   "source": [
    "from sklearn.preprocessing import PowerTransformer\n",
    "params_NB = {'var_smoothing': np.logspace(0,-9, num=100)}\n",
    "\n",
    "grid = GridSearchCV(GaussianNB(), \n",
    "                     param_grid=params_NB, \n",
    "                     cv=5,\n",
    "                     verbose=1, \n",
    "                     scoring='accuracy')\n",
    "\n",
    "Data_transformed = PowerTransformer().fit_transform(X_test)\n",
    "\n",
    "grid.fit(X_train, y_train)"
   ]
  },
  {
   "cell_type": "code",
   "execution_count": null,
   "id": "92b849239663233",
   "metadata": {},
   "outputs": [],
   "source": [
    "gauss_nb_prediction = grid.predict(X_test)\n",
    "print(classification_report(y_test, gauss_nb_prediction))"
   ]
  },
  {
   "cell_type": "code",
   "execution_count": null,
   "id": "2a8c28f68748efca",
   "metadata": {},
   "outputs": [],
   "source": [
    "cm = confusion_matrix(y_test, multi_nb_prediction)\n",
    "cm_graph = metrics.ConfusionMatrixDisplay(confusion_matrix = cm)\n",
    "cm_graph.plot()\n",
    "plt.show()"
   ]
  },
  {
   "cell_type": "code",
   "execution_count": null,
   "id": "8567e33235a5c5fd",
   "metadata": {},
   "outputs": [],
   "source": [
    "params_NB = {'alpha': [0.01,0.1, 1, 10], \n",
    "            'fit_prior' : ['True', 'False'],\n",
    "            }\n",
    "\n",
    "grid = GridSearchCV(MultinomialNB(), \n",
    "                     param_grid=params_NB, \n",
    "                     cv=5,\n",
    "                     verbose=1, \n",
    "                     scoring='accuracy')\n",
    "\n",
    "Data_transformed = PowerTransformer().fit_transform(X_test)\n",
    "\n",
    "grid.fit(X_train, y_train)"
   ]
  },
  {
   "cell_type": "code",
   "execution_count": null,
   "id": "2c19e480a78f7b8e",
   "metadata": {},
   "outputs": [],
   "source": []
  },
  {
   "cell_type": "code",
   "execution_count": null,
   "id": "831b82ccc686485a",
   "metadata": {},
   "outputs": [],
   "source": []
  },
  {
   "cell_type": "code",
   "execution_count": null,
   "id": "f0e33787bda708ba",
   "metadata": {
    "ExecuteTime": {
     "end_time": "2024-04-18T02:29:14.945446Z",
     "start_time": "2024-04-18T02:29:14.767785Z"
    }
   },
   "outputs": [],
   "source": [
    "grid = HalvingGridSearchCV(MultinomialNB(), param_grid_multi, verbose = 3, cv = 3, n_jobs = -1, scoring = 'accuracy')\n",
    "%time grid.fit(X_train, y_train)"
   ]
  },
  {
   "cell_type": "code",
   "execution_count": null,
   "id": "fc74815a9c2877a6",
   "metadata": {
    "ExecuteTime": {
     "end_time": "2024-04-18T02:29:23.269862Z",
     "start_time": "2024-04-18T02:29:23.252180Z"
    }
   },
   "outputs": [],
   "source": [
    "grid_predictions = grid.predict(X_test)\n",
    "print(classification_report(y_test, grid_predictions))"
   ]
  },
  {
   "cell_type": "code",
   "execution_count": null,
   "id": "e7ac91f20f7cb5e3",
   "metadata": {
    "ExecuteTime": {
     "end_time": "2024-04-18T02:29:18.606310Z",
     "start_time": "2024-04-18T02:29:18.578108Z"
    }
   },
   "outputs": [],
   "source": [
    "df_grid_nb = pd.DataFrame(grid.cv_results_)\n",
    "df_grid_nb.nlargest(5, ['rank_test_score'])"
   ]
  },
  {
   "cell_type": "code",
   "execution_count": null,
   "id": "21201a0115784a96",
   "metadata": {
    "ExecuteTime": {
     "end_time": "2024-04-18T02:29:22.068674Z",
     "start_time": "2024-04-18T02:29:22.065464Z"
    }
   },
   "outputs": [],
   "source": [
    "print(grid.best_params_)\n",
    "print(grid.best_estimator_)"
   ]
  },
  {
   "cell_type": "code",
   "execution_count": null,
   "id": "a31024dd87af0201",
   "metadata": {
    "ExecuteTime": {
     "end_time": "2024-04-18T02:29:30.290617Z",
     "start_time": "2024-04-18T02:29:29.371596Z"
    }
   },
   "outputs": [],
   "source": [
    "cm = confusion_matrix(y_test, grid_predictions)\n",
    "cm_graph = metrics.ConfusionMatrixDisplay(confusion_matrix = cm)\n",
    "cm_graph.plot()\n",
    "plt.show()"
   ]
  },
  {
   "cell_type": "code",
   "execution_count": null,
   "id": "1261c2453b6da2b2",
   "metadata": {},
   "outputs": [],
   "source": []
  }
 ],
 "metadata": {
  "kernelspec": {
   "display_name": "Python 3 (3.6.5)",
   "language": "python",
   "name": "python3"
  },
  "language_info": {
   "codemirror_mode": {
    "name": "ipython",
    "version": 3
   },
   "file_extension": ".py",
   "mimetype": "text/x-python",
   "name": "python",
   "nbconvert_exporter": "python",
   "pygments_lexer": "ipython3",
   "version": "3.6.5"
  }
 },
 "nbformat": 4,
 "nbformat_minor": 5
}
